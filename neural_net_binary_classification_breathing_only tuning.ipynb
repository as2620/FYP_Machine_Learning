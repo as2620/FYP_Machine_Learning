{
 "cells": [
  {
   "cell_type": "markdown",
   "metadata": {},
   "source": [
    "# Neural Network for Binary Classification of Stress\n",
    "- There will be two classes: Stress and Rest. This is achieved by combining the S1 and S2 class into one class, Stress\n",
    "- The neural network will only use the two signals from the breathing shirt: Chest Coil Signal and Abdomen Coil Signal.\n",
    "- This neural network will use CNN layers, max pooling layers and a dense layer at the end before the output layer.\n",
    "\n",
    "- Class imabalnce addressed by using class weights which improves the recall on the Rest class which sometimes does affectthe recall on the Stress class and therefore accuracy. \n",
    "- Tune hyperparamters: TODO\n",
    "\n",
    "- Could remove S1 class all together? what if people were not too stressed out by trial 1 and it is causing some confusion with the Rest class?\n",
    "- Could also try spectorgrams and 2d CNN \n",
    "- Maybe try adding LSTM layers for memory.\n"
   ]
  },
  {
   "cell_type": "code",
   "execution_count": 28,
   "metadata": {},
   "outputs": [],
   "source": [
    "import pandas as pd\n",
    "import numpy as np\n",
    "import matplotlib.pyplot as plt\n",
    "import optuna\n",
    "import scipy.signal\n",
    "import heartpy as hp\n",
    "from sklearn.model_selection import train_test_split\n",
    "from sklearn.preprocessing import StandardScaler, LabelEncoder\n",
    "from sklearn.utils.class_weight import compute_class_weight\n",
    "from sklearn.model_selection import GroupKFold\n",
    "from sklearn.metrics import confusion_matrix, ConfusionMatrixDisplay\n",
    "from tensorflow.keras.models import Sequential\n",
    "from tensorflow.keras.layers import Conv1D, MaxPooling1D, Flatten, Dense, Dropout\n",
    "from tensorflow.keras.optimizers import Adam\n",
    "from tensorflow.keras.callbacks import ReduceLROnPlateau, EarlyStopping"
   ]
  },
  {
   "cell_type": "code",
   "execution_count": 29,
   "metadata": {},
   "outputs": [],
   "source": [
    "# Compilation Options\n",
    "CLASS_WEIGHTS = True"
   ]
  },
  {
   "cell_type": "code",
   "execution_count": 30,
   "metadata": {},
   "outputs": [
    {
     "name": "stdout",
     "output_type": "stream",
     "text": [
      "NaNs detected after attempting to convert non-numeric values to float. Please check the data.\n",
      "(186614,)\n",
      "(186614,)\n",
      "classification\n",
      "Stress    124762\n",
      "Rest       61852\n",
      "Name: count, dtype: int64\n",
      "['Rest' 'Stress']\n"
     ]
    }
   ],
   "source": [
    "# Specify the path to your CSV file\n",
    "file_path = 'filtered_stress_data.csv'\n",
    "\n",
    "# Read the CSV file into a DataFrame\n",
    "data = pd.read_csv(file_path)\n",
    "\n",
    "# Specify the columns you want to extract\n",
    "columns_to_extract = ['user_id', 'classification', 'chest_coil', 'abdomen_coil']\n",
    "features = ['chest_coil', 'abdomen_coil']\n",
    "\n",
    "# Extract the specified columns\n",
    "extracted_columns = data[columns_to_extract]\n",
    "\n",
    "# Drop any rows with missing data\n",
    "extracted_columns = extracted_columns.dropna()\n",
    "\n",
    "# Check for non-numeric values in each feature and replace them with NaNs\n",
    "for feature in features:\n",
    "    extracted_columns[feature] = pd.to_numeric(extracted_columns[feature], errors='coerce')\n",
    "\n",
    "# Check if there are any NaNs in the dataset after replacing non-numeric values\n",
    "if extracted_columns.isnull().values.any():\n",
    "    print(\"NaNs detected after attempting to convert non-numeric values to float. Please check the data.\")\n",
    "    # Handle NaNs based on your requirements, such as removing rows with NaNs or imputing missing values\n",
    "    # For this example, we will remove rows with NaNs\n",
    "    extracted_columns = extracted_columns.dropna()\n",
    "\n",
    "# Filter data \n",
    "extracted_columns['chest_coil'] = scipy.signal.detrend(extracted_columns['chest_coil'] )\n",
    "extracted_columns['chest_coil']  = hp.filter_signal(extracted_columns['chest_coil'] , cutoff=1, sample_rate=20.0, filtertype='lowpass', return_top=False)\n",
    "\n",
    "extracted_columns['abdomen_coil']  = scipy.signal.detrend(extracted_columns['abdomen_coil'] )\n",
    "extracted_columns['abdomen_coil']  = hp.filter_signal(extracted_columns['abdomen_coil'] , cutoff=1, sample_rate=20.0, filtertype='lowpass', return_top=False)\n",
    "\n",
    "print(extracted_columns[\"abdomen_coil\"].shape)\n",
    "print(extracted_columns[\"chest_coil\"].shape)\n",
    "\n",
    "# Ensure we are using the cleaned data for further processing\n",
    "data = extracted_columns\n",
    "\n",
    "# Combine S1 and S2 classes into one \"Stress\" class\n",
    "data['classification'] = data['classification'].replace({'S1': 'Stress', 'S2': 'Stress'})\n",
    "\n",
    "print(data['classification'].value_counts())\n",
    "print(data['classification'].unique())"
   ]
  },
  {
   "cell_type": "code",
   "execution_count": 31,
   "metadata": {},
   "outputs": [
    {
     "name": "stdout",
     "output_type": "stream",
     "text": [
      "['Rest' 'Stress']\n"
     ]
    }
   ],
   "source": [
    "# Feature Extraction\n",
    "# Extract features and labels\n",
    "X = data[['chest_coil', 'abdomen_coil']].values\n",
    "y = data['classification'].values\n",
    "user_ids = data['user_id'].values\n",
    "\n",
    "# Encode the labels\n",
    "label_encoder = LabelEncoder()\n",
    "y = label_encoder.fit_transform(y)\n",
    "print(label_encoder.classes_)\n",
    "\n",
    "# Normalize the features\n",
    "scaler = StandardScaler()\n",
    "X_scaled = scaler.fit_transform(X)\n",
    "\n",
    "# Reshape data into sequences\n",
    "time_step_length = 100  # Define your sequence length\n",
    "num_samples = len(X_scaled) // time_step_length\n",
    "\n",
    "X_sequences = np.array([X_scaled[i*time_step_length:(i+1)*time_step_length] for i in range(num_samples)])\n",
    "y_sequences = np.array([y[i*time_step_length] for i in range(num_samples)])\n",
    "user_id_sequences = np.array([user_ids[i*time_step_length] for i in range(num_samples)])"
   ]
  },
  {
   "cell_type": "code",
   "execution_count": 32,
   "metadata": {},
   "outputs": [
    {
     "name": "stdout",
     "output_type": "stream",
     "text": [
      "(1478, 100, 2)\n",
      "(388, 100, 2)\n"
     ]
    }
   ],
   "source": [
    "# Split the data into training and testing sets based on user_id to avoid data leakage\n",
    "gkf = GroupKFold(n_splits=5)\n",
    "for train_index, test_index in gkf.split(X_sequences, y_sequences, groups=user_id_sequences):\n",
    "    X_train, X_test = X_sequences[train_index], X_sequences[test_index]\n",
    "    y_train, y_test = y_sequences[train_index], y_sequences[test_index]\n",
    "    break  # Use the first split\n",
    "\n",
    "# Check the shape of the reshaped data\n",
    "print(X_train.shape)  # Should be (num_samples, time_step_length, num_features)\n",
    "print(X_test.shape)"
   ]
  },
  {
   "cell_type": "code",
   "execution_count": 33,
   "metadata": {},
   "outputs": [],
   "source": [
    "# Compute class weights\n",
    "if CLASS_WEIGHTS:\n",
    "    class_weights = compute_class_weight('balanced', classes=np.unique(y_train), y=y_train)\n",
    "    class_weights_dict = dict(enumerate(class_weights))"
   ]
  },
  {
   "cell_type": "code",
   "execution_count": 34,
   "metadata": {},
   "outputs": [],
   "source": [
    "# Define the objective function for Optuna\n",
    "def objective(trial):\n",
    "    learning_rate = trial.suggest_float('learning_rate', 1e-5, 1e-1, log=True)\n",
    "    dropout_rate = trial.suggest_float('dropout_rate', 0.0, 0.5)\n",
    "    num_filters = trial.suggest_int('num_filters', 16, 128, log=True)\n",
    "    num_layers = trial.suggest_int('num_layers', 1, 3)\n",
    "    \n",
    "    model = Sequential()\n",
    "    model.add(Conv1D(num_filters, 3, activation='relu', input_shape=(time_step_length, X_train.shape[2])))\n",
    "    model.add(MaxPooling1D(2))\n",
    "    for _ in range(num_layers - 1):\n",
    "        model.add(Conv1D(num_filters, 3, activation='relu'))\n",
    "        model.add(MaxPooling1D(2))\n",
    "    model.add(Flatten())\n",
    "    model.add(Dense(128, activation='relu'))\n",
    "    model.add(Dropout(dropout_rate))\n",
    "    model.add(Dense(64, activation='relu'))\n",
    "    model.add(Dropout(dropout_rate))\n",
    "    model.add(Dense(1, activation='sigmoid'))\n",
    "\n",
    "    # Compile the model with Adam optimizer and learning rate scheduler\n",
    "    optimizer = Adam(learning_rate=0.001)\n",
    "    model.compile(optimizer=optimizer, loss='binary_crossentropy', metrics=['accuracy'])\n",
    "\n",
    "    # Callbacks for learning rate adjustment and early stopping\n",
    "    lr_reduction = ReduceLROnPlateau(monitor='val_loss', factor=0.5, patience=3, min_lr=1e-6)\n",
    "    early_stopping = EarlyStopping(monitor='val_loss', patience=10, restore_best_weights=True)\n",
    "\n",
    "    if CLASS_WEIGHTS:\n",
    "        # Train the model with class weights\n",
    "        history = model.fit(X_train, y_train, epochs=50, batch_size=32, validation_data=(X_test, y_test),\n",
    "                            class_weight=class_weights_dict, callbacks=[lr_reduction, early_stopping])\n",
    "    else:\n",
    "        # Train the model without class weights \n",
    "        history = model.fit(X_train, y_train, epochs=50, batch_size=32, validation_data=(X_test, y_test),\n",
    "                        callbacks=[lr_reduction, early_stopping])\n",
    "\n",
    "    score = model.evaluate(X_test, y_test, verbose=0)\n",
    "\n",
    "    return score[1]"
   ]
  },
  {
   "cell_type": "code",
   "execution_count": 35,
   "metadata": {},
   "outputs": [
    {
     "name": "stderr",
     "output_type": "stream",
     "text": [
      "[I 2024-05-23 22:45:34,646] A new study created in memory with name: no-name-fec33514-66c3-423f-b173-c29574f0d560\n"
     ]
    },
    {
     "name": "stdout",
     "output_type": "stream",
     "text": [
      "Epoch 1/50\n"
     ]
    },
    {
     "name": "stderr",
     "output_type": "stream",
     "text": [
      "c:\\Python312\\Lib\\site-packages\\keras\\src\\layers\\convolutional\\base_conv.py:107: UserWarning: Do not pass an `input_shape`/`input_dim` argument to a layer. When using Sequential models, prefer using an `Input(shape)` object as the first layer in the model instead.\n",
      "  super().__init__(activity_regularizer=activity_regularizer, **kwargs)\n"
     ]
    },
    {
     "name": "stdout",
     "output_type": "stream",
     "text": [
      "\u001b[1m47/47\u001b[0m \u001b[32m━━━━━━━━━━━━━━━━━━━━\u001b[0m\u001b[37m\u001b[0m \u001b[1m2s\u001b[0m 12ms/step - accuracy: 0.6093 - loss: 0.6776 - val_accuracy: 0.2345 - val_loss: 1.0163 - learning_rate: 0.0010\n",
      "Epoch 2/50\n",
      "\u001b[1m47/47\u001b[0m \u001b[32m━━━━━━━━━━━━━━━━━━━━\u001b[0m\u001b[37m\u001b[0m \u001b[1m0s\u001b[0m 9ms/step - accuracy: 0.6926 - loss: 0.6160 - val_accuracy: 0.1521 - val_loss: 1.3738 - learning_rate: 0.0010\n",
      "Epoch 3/50\n",
      "\u001b[1m47/47\u001b[0m \u001b[32m━━━━━━━━━━━━━━━━━━━━\u001b[0m\u001b[37m\u001b[0m \u001b[1m0s\u001b[0m 10ms/step - accuracy: 0.7204 - loss: 0.5538 - val_accuracy: 0.1727 - val_loss: 1.5843 - learning_rate: 0.0010\n",
      "Epoch 4/50\n",
      "\u001b[1m47/47\u001b[0m \u001b[32m━━━━━━━━━━━━━━━━━━━━\u001b[0m\u001b[37m\u001b[0m \u001b[1m0s\u001b[0m 7ms/step - accuracy: 0.7329 - loss: 0.4724 - val_accuracy: 0.2680 - val_loss: 3.5654 - learning_rate: 0.0010\n",
      "Epoch 5/50\n",
      "\u001b[1m47/47\u001b[0m \u001b[32m━━━━━━━━━━━━━━━━━━━━\u001b[0m\u001b[37m\u001b[0m \u001b[1m0s\u001b[0m 7ms/step - accuracy: 0.7215 - loss: 0.4741 - val_accuracy: 0.2526 - val_loss: 3.2377 - learning_rate: 5.0000e-04\n",
      "Epoch 6/50\n",
      "\u001b[1m47/47\u001b[0m \u001b[32m━━━━━━━━━━━━━━━━━━━━\u001b[0m\u001b[37m\u001b[0m \u001b[1m0s\u001b[0m 8ms/step - accuracy: 0.7670 - loss: 0.4182 - val_accuracy: 0.5052 - val_loss: 4.3152 - learning_rate: 5.0000e-04\n",
      "Epoch 7/50\n",
      "\u001b[1m47/47\u001b[0m \u001b[32m━━━━━━━━━━━━━━━━━━━━\u001b[0m\u001b[37m\u001b[0m \u001b[1m0s\u001b[0m 7ms/step - accuracy: 0.7820 - loss: 0.4034 - val_accuracy: 0.3969 - val_loss: 5.8546 - learning_rate: 5.0000e-04\n",
      "Epoch 8/50\n",
      "\u001b[1m47/47\u001b[0m \u001b[32m━━━━━━━━━━━━━━━━━━━━\u001b[0m\u001b[37m\u001b[0m \u001b[1m0s\u001b[0m 7ms/step - accuracy: 0.8072 - loss: 0.3507 - val_accuracy: 0.4304 - val_loss: 6.0632 - learning_rate: 2.5000e-04\n",
      "Epoch 9/50\n",
      "\u001b[1m47/47\u001b[0m \u001b[32m━━━━━━━━━━━━━━━━━━━━\u001b[0m\u001b[37m\u001b[0m \u001b[1m0s\u001b[0m 7ms/step - accuracy: 0.8065 - loss: 0.3280 - val_accuracy: 0.4433 - val_loss: 6.0128 - learning_rate: 2.5000e-04\n",
      "Epoch 10/50\n",
      "\u001b[1m47/47\u001b[0m \u001b[32m━━━━━━━━━━━━━━━━━━━━\u001b[0m\u001b[37m\u001b[0m \u001b[1m0s\u001b[0m 7ms/step - accuracy: 0.8226 - loss: 0.3045 - val_accuracy: 0.5722 - val_loss: 6.6344 - learning_rate: 2.5000e-04\n",
      "Epoch 11/50\n",
      "\u001b[1m47/47\u001b[0m \u001b[32m━━━━━━━━━━━━━━━━━━━━\u001b[0m\u001b[37m\u001b[0m \u001b[1m0s\u001b[0m 6ms/step - accuracy: 0.8370 - loss: 0.2901 - val_accuracy: 0.5180 - val_loss: 6.8726 - learning_rate: 1.2500e-04\n"
     ]
    },
    {
     "name": "stderr",
     "output_type": "stream",
     "text": [
      "[I 2024-05-23 22:45:40,959] Trial 0 finished with value: 0.2345360815525055 and parameters: {'learning_rate': 0.027522895517384505, 'dropout_rate': 0.39500511414676887, 'num_filters': 85, 'num_layers': 3}. Best is trial 0 with value: 0.2345360815525055.\n"
     ]
    },
    {
     "name": "stdout",
     "output_type": "stream",
     "text": [
      "Epoch 1/50\n",
      "\u001b[1m47/47\u001b[0m \u001b[32m━━━━━━━━━━━━━━━━━━━━\u001b[0m\u001b[37m\u001b[0m \u001b[1m2s\u001b[0m 9ms/step - accuracy: 0.5831 - loss: 0.6719 - val_accuracy: 0.3376 - val_loss: 1.0767 - learning_rate: 0.0010\n",
      "Epoch 2/50\n",
      "\u001b[1m47/47\u001b[0m \u001b[32m━━━━━━━━━━━━━━━━━━━━\u001b[0m\u001b[37m\u001b[0m \u001b[1m0s\u001b[0m 4ms/step - accuracy: 0.6803 - loss: 0.5813 - val_accuracy: 0.2268 - val_loss: 1.4095 - learning_rate: 0.0010\n",
      "Epoch 3/50\n",
      "\u001b[1m47/47\u001b[0m \u001b[32m━━━━━━━━━━━━━━━━━━━━\u001b[0m\u001b[37m\u001b[0m \u001b[1m0s\u001b[0m 4ms/step - accuracy: 0.7122 - loss: 0.5257 - val_accuracy: 0.2216 - val_loss: 1.6798 - learning_rate: 0.0010\n",
      "Epoch 4/50\n",
      "\u001b[1m47/47\u001b[0m \u001b[32m━━━━━━━━━━━━━━━━━━━━\u001b[0m\u001b[37m\u001b[0m \u001b[1m0s\u001b[0m 4ms/step - accuracy: 0.6867 - loss: 0.5176 - val_accuracy: 0.4124 - val_loss: 1.9891 - learning_rate: 0.0010\n",
      "Epoch 5/50\n",
      "\u001b[1m47/47\u001b[0m \u001b[32m━━━━━━━━━━━━━━━━━━━━\u001b[0m\u001b[37m\u001b[0m \u001b[1m0s\u001b[0m 5ms/step - accuracy: 0.7430 - loss: 0.4769 - val_accuracy: 0.4278 - val_loss: 2.4279 - learning_rate: 5.0000e-04\n",
      "Epoch 6/50\n",
      "\u001b[1m47/47\u001b[0m \u001b[32m━━━━━━━━━━━━━━━━━━━━\u001b[0m\u001b[37m\u001b[0m \u001b[1m0s\u001b[0m 5ms/step - accuracy: 0.7679 - loss: 0.4627 - val_accuracy: 0.4665 - val_loss: 2.5430 - learning_rate: 5.0000e-04\n",
      "Epoch 7/50\n",
      "\u001b[1m47/47\u001b[0m \u001b[32m━━━━━━━━━━━━━━━━━━━━\u001b[0m\u001b[37m\u001b[0m \u001b[1m0s\u001b[0m 5ms/step - accuracy: 0.7437 - loss: 0.4612 - val_accuracy: 0.4175 - val_loss: 2.6825 - learning_rate: 5.0000e-04\n",
      "Epoch 8/50\n",
      "\u001b[1m47/47\u001b[0m \u001b[32m━━━━━━━━━━━━━━━━━━━━\u001b[0m\u001b[37m\u001b[0m \u001b[1m0s\u001b[0m 5ms/step - accuracy: 0.7331 - loss: 0.4618 - val_accuracy: 0.3737 - val_loss: 2.7999 - learning_rate: 2.5000e-04\n",
      "Epoch 9/50\n",
      "\u001b[1m47/47\u001b[0m \u001b[32m━━━━━━━━━━━━━━━━━━━━\u001b[0m\u001b[37m\u001b[0m \u001b[1m0s\u001b[0m 6ms/step - accuracy: 0.7467 - loss: 0.4405 - val_accuracy: 0.4536 - val_loss: 2.7992 - learning_rate: 2.5000e-04\n",
      "Epoch 10/50\n",
      "\u001b[1m47/47\u001b[0m \u001b[32m━━━━━━━━━━━━━━━━━━━━\u001b[0m\u001b[37m\u001b[0m \u001b[1m0s\u001b[0m 6ms/step - accuracy: 0.7619 - loss: 0.4358 - val_accuracy: 0.4253 - val_loss: 2.9803 - learning_rate: 2.5000e-04\n",
      "Epoch 11/50\n",
      "\u001b[1m47/47\u001b[0m \u001b[32m━━━━━━━━━━━━━━━━━━━━\u001b[0m\u001b[37m\u001b[0m \u001b[1m0s\u001b[0m 5ms/step - accuracy: 0.7701 - loss: 0.4121 - val_accuracy: 0.4433 - val_loss: 3.0077 - learning_rate: 1.2500e-04\n"
     ]
    },
    {
     "name": "stderr",
     "output_type": "stream",
     "text": [
      "[I 2024-05-23 22:45:45,347] Trial 1 finished with value: 0.33762887120246887 and parameters: {'learning_rate': 0.01311263686098672, 'dropout_rate': 0.18646998867658338, 'num_filters': 41, 'num_layers': 1}. Best is trial 1 with value: 0.33762887120246887.\n"
     ]
    },
    {
     "name": "stdout",
     "output_type": "stream",
     "text": [
      "Epoch 1/50\n",
      "\u001b[1m47/47\u001b[0m \u001b[32m━━━━━━━━━━━━━━━━━━━━\u001b[0m\u001b[37m\u001b[0m \u001b[1m2s\u001b[0m 11ms/step - accuracy: 0.6226 - loss: 0.6918 - val_accuracy: 0.1289 - val_loss: 0.9820 - learning_rate: 0.0010\n",
      "Epoch 2/50\n",
      "\u001b[1m47/47\u001b[0m \u001b[32m━━━━━━━━━━━━━━━━━━━━\u001b[0m\u001b[37m\u001b[0m \u001b[1m1s\u001b[0m 10ms/step - accuracy: 0.6350 - loss: 0.6349 - val_accuracy: 0.2861 - val_loss: 0.9924 - learning_rate: 0.0010\n",
      "Epoch 3/50\n",
      "\u001b[1m47/47\u001b[0m \u001b[32m━━━━━━━━━━━━━━━━━━━━\u001b[0m\u001b[37m\u001b[0m \u001b[1m1s\u001b[0m 11ms/step - accuracy: 0.6993 - loss: 0.5834 - val_accuracy: 0.2655 - val_loss: 0.9934 - learning_rate: 0.0010\n",
      "Epoch 4/50\n",
      "\u001b[1m47/47\u001b[0m \u001b[32m━━━━━━━━━━━━━━━━━━━━\u001b[0m\u001b[37m\u001b[0m \u001b[1m1s\u001b[0m 10ms/step - accuracy: 0.6917 - loss: 0.5720 - val_accuracy: 0.4253 - val_loss: 0.9579 - learning_rate: 0.0010\n",
      "Epoch 5/50\n",
      "\u001b[1m47/47\u001b[0m \u001b[32m━━━━━━━━━━━━━━━━━━━━\u001b[0m\u001b[37m\u001b[0m \u001b[1m0s\u001b[0m 9ms/step - accuracy: 0.7039 - loss: 0.5896 - val_accuracy: 0.3325 - val_loss: 1.2282 - learning_rate: 0.0010\n",
      "Epoch 6/50\n",
      "\u001b[1m47/47\u001b[0m \u001b[32m━━━━━━━━━━━━━━━━━━━━\u001b[0m\u001b[37m\u001b[0m \u001b[1m0s\u001b[0m 9ms/step - accuracy: 0.7176 - loss: 0.5299 - val_accuracy: 0.4665 - val_loss: 1.1854 - learning_rate: 0.0010\n",
      "Epoch 7/50\n",
      "\u001b[1m47/47\u001b[0m \u001b[32m━━━━━━━━━━━━━━━━━━━━\u001b[0m\u001b[37m\u001b[0m \u001b[1m0s\u001b[0m 10ms/step - accuracy: 0.7171 - loss: 0.5153 - val_accuracy: 0.4072 - val_loss: 1.3673 - learning_rate: 0.0010\n",
      "Epoch 8/50\n",
      "\u001b[1m47/47\u001b[0m \u001b[32m━━━━━━━━━━━━━━━━━━━━\u001b[0m\u001b[37m\u001b[0m \u001b[1m1s\u001b[0m 10ms/step - accuracy: 0.7264 - loss: 0.4983 - val_accuracy: 0.4433 - val_loss: 1.6699 - learning_rate: 5.0000e-04\n",
      "Epoch 9/50\n",
      "\u001b[1m47/47\u001b[0m \u001b[32m━━━━━━━━━━━━━━━━━━━━\u001b[0m\u001b[37m\u001b[0m \u001b[1m0s\u001b[0m 10ms/step - accuracy: 0.6899 - loss: 0.4941 - val_accuracy: 0.4433 - val_loss: 1.9752 - learning_rate: 5.0000e-04\n",
      "Epoch 10/50\n",
      "\u001b[1m47/47\u001b[0m \u001b[32m━━━━━━━━━━━━━━━━━━━━\u001b[0m\u001b[37m\u001b[0m \u001b[1m0s\u001b[0m 8ms/step - accuracy: 0.6922 - loss: 0.5003 - val_accuracy: 0.4691 - val_loss: 2.2428 - learning_rate: 5.0000e-04\n",
      "Epoch 11/50\n",
      "\u001b[1m47/47\u001b[0m \u001b[32m━━━━━━━━━━━━━━━━━━━━\u001b[0m\u001b[37m\u001b[0m \u001b[1m0s\u001b[0m 8ms/step - accuracy: 0.7286 - loss: 0.4564 - val_accuracy: 0.4613 - val_loss: 2.2842 - learning_rate: 2.5000e-04\n",
      "Epoch 12/50\n",
      "\u001b[1m47/47\u001b[0m \u001b[32m━━━━━━━━━━━━━━━━━━━━\u001b[0m\u001b[37m\u001b[0m \u001b[1m1s\u001b[0m 11ms/step - accuracy: 0.7197 - loss: 0.4564 - val_accuracy: 0.4407 - val_loss: 2.5427 - learning_rate: 2.5000e-04\n",
      "Epoch 13/50\n",
      "\u001b[1m47/47\u001b[0m \u001b[32m━━━━━━━━━━━━━━━━━━━━\u001b[0m\u001b[37m\u001b[0m \u001b[1m1s\u001b[0m 10ms/step - accuracy: 0.7282 - loss: 0.4933 - val_accuracy: 0.4562 - val_loss: 2.5813 - learning_rate: 2.5000e-04\n",
      "Epoch 14/50\n",
      "\u001b[1m47/47\u001b[0m \u001b[32m━━━━━━━━━━━━━━━━━━━━\u001b[0m\u001b[37m\u001b[0m \u001b[1m0s\u001b[0m 9ms/step - accuracy: 0.7398 - loss: 0.4509 - val_accuracy: 0.4665 - val_loss: 2.5776 - learning_rate: 1.2500e-04\n"
     ]
    },
    {
     "name": "stderr",
     "output_type": "stream",
     "text": [
      "[I 2024-05-23 22:45:53,859] Trial 2 finished with value: 0.42525774240493774 and parameters: {'learning_rate': 0.028765463763429876, 'dropout_rate': 0.4812984469865008, 'num_filters': 65, 'num_layers': 1}. Best is trial 2 with value: 0.42525774240493774.\n"
     ]
    },
    {
     "name": "stdout",
     "output_type": "stream",
     "text": [
      "Epoch 1/50\n",
      "\u001b[1m47/47\u001b[0m \u001b[32m━━━━━━━━━━━━━━━━━━━━\u001b[0m\u001b[37m\u001b[0m \u001b[1m2s\u001b[0m 13ms/step - accuracy: 0.5534 - loss: 0.6843 - val_accuracy: 0.3067 - val_loss: 0.9686 - learning_rate: 0.0010\n",
      "Epoch 2/50\n",
      "\u001b[1m47/47\u001b[0m \u001b[32m━━━━━━━━━━━━━━━━━━━━\u001b[0m\u001b[37m\u001b[0m \u001b[1m1s\u001b[0m 11ms/step - accuracy: 0.7020 - loss: 0.5846 - val_accuracy: 0.4098 - val_loss: 1.0442 - learning_rate: 0.0010\n",
      "Epoch 3/50\n",
      "\u001b[1m47/47\u001b[0m \u001b[32m━━━━━━━━━━━━━━━━━━━━\u001b[0m\u001b[37m\u001b[0m \u001b[1m0s\u001b[0m 5ms/step - accuracy: 0.6890 - loss: 0.5491 - val_accuracy: 0.4046 - val_loss: 1.3901 - learning_rate: 0.0010\n",
      "Epoch 4/50\n",
      "\u001b[1m47/47\u001b[0m \u001b[32m━━━━━━━━━━━━━━━━━━━━\u001b[0m\u001b[37m\u001b[0m \u001b[1m0s\u001b[0m 9ms/step - accuracy: 0.7035 - loss: 0.5170 - val_accuracy: 0.3943 - val_loss: 2.1961 - learning_rate: 0.0010\n",
      "Epoch 5/50\n",
      "\u001b[1m47/47\u001b[0m \u001b[32m━━━━━━━━━━━━━━━━━━━━\u001b[0m\u001b[37m\u001b[0m \u001b[1m0s\u001b[0m 10ms/step - accuracy: 0.7273 - loss: 0.4539 - val_accuracy: 0.3299 - val_loss: 2.7756 - learning_rate: 5.0000e-04\n",
      "Epoch 6/50\n",
      "\u001b[1m47/47\u001b[0m \u001b[32m━━━━━━━━━━━━━━━━━━━━\u001b[0m\u001b[37m\u001b[0m \u001b[1m0s\u001b[0m 10ms/step - accuracy: 0.7124 - loss: 0.4473 - val_accuracy: 0.3376 - val_loss: 3.4648 - learning_rate: 5.0000e-04\n",
      "Epoch 7/50\n",
      "\u001b[1m47/47\u001b[0m \u001b[32m━━━━━━━━━━━━━━━━━━━━\u001b[0m\u001b[37m\u001b[0m \u001b[1m0s\u001b[0m 5ms/step - accuracy: 0.6929 - loss: 0.4576 - val_accuracy: 0.4845 - val_loss: 4.0063 - learning_rate: 5.0000e-04\n",
      "Epoch 8/50\n",
      "\u001b[1m47/47\u001b[0m \u001b[32m━━━━━━━━━━━━━━━━━━━━\u001b[0m\u001b[37m\u001b[0m \u001b[1m0s\u001b[0m 6ms/step - accuracy: 0.7229 - loss: 0.4340 - val_accuracy: 0.2526 - val_loss: 4.4645 - learning_rate: 2.5000e-04\n",
      "Epoch 9/50\n",
      "\u001b[1m47/47\u001b[0m \u001b[32m━━━━━━━━━━━━━━━━━━━━\u001b[0m\u001b[37m\u001b[0m \u001b[1m0s\u001b[0m 5ms/step - accuracy: 0.7131 - loss: 0.4327 - val_accuracy: 0.2294 - val_loss: 4.7803 - learning_rate: 2.5000e-04\n",
      "Epoch 10/50\n",
      "\u001b[1m47/47\u001b[0m \u001b[32m━━━━━━━━━━━━━━━━━━━━\u001b[0m\u001b[37m\u001b[0m \u001b[1m0s\u001b[0m 9ms/step - accuracy: 0.7286 - loss: 0.4188 - val_accuracy: 0.4021 - val_loss: 5.1595 - learning_rate: 2.5000e-04\n",
      "Epoch 11/50\n",
      "\u001b[1m47/47\u001b[0m \u001b[32m━━━━━━━━━━━━━━━━━━━━\u001b[0m\u001b[37m\u001b[0m \u001b[1m0s\u001b[0m 9ms/step - accuracy: 0.7680 - loss: 0.3979 - val_accuracy: 0.2706 - val_loss: 5.3176 - learning_rate: 1.2500e-04\n"
     ]
    },
    {
     "name": "stderr",
     "output_type": "stream",
     "text": [
      "[I 2024-05-23 22:46:00,677] Trial 3 finished with value: 0.30670103430747986 and parameters: {'learning_rate': 0.00011261260808444785, 'dropout_rate': 0.45019595228559467, 'num_filters': 38, 'num_layers': 3}. Best is trial 2 with value: 0.42525774240493774.\n"
     ]
    },
    {
     "name": "stdout",
     "output_type": "stream",
     "text": [
      "Epoch 1/50\n",
      "\u001b[1m47/47\u001b[0m \u001b[32m━━━━━━━━━━━━━━━━━━━━\u001b[0m\u001b[37m\u001b[0m \u001b[1m2s\u001b[0m 12ms/step - accuracy: 0.5966 - loss: 0.6592 - val_accuracy: 0.2474 - val_loss: 0.9620 - learning_rate: 0.0010\n",
      "Epoch 2/50\n",
      "\u001b[1m47/47\u001b[0m \u001b[32m━━━━━━━━━━━━━━━━━━━━\u001b[0m\u001b[37m\u001b[0m \u001b[1m0s\u001b[0m 8ms/step - accuracy: 0.7386 - loss: 0.5597 - val_accuracy: 0.1675 - val_loss: 1.0735 - learning_rate: 0.0010\n",
      "Epoch 3/50\n",
      "\u001b[1m47/47\u001b[0m \u001b[32m━━━━━━━━━━━━━━━━━━━━\u001b[0m\u001b[37m\u001b[0m \u001b[1m0s\u001b[0m 7ms/step - accuracy: 0.7234 - loss: 0.5256 - val_accuracy: 0.2216 - val_loss: 1.1883 - learning_rate: 0.0010\n",
      "Epoch 4/50\n",
      "\u001b[1m47/47\u001b[0m \u001b[32m━━━━━━━━━━━━━━━━━━━━\u001b[0m\u001b[37m\u001b[0m \u001b[1m0s\u001b[0m 9ms/step - accuracy: 0.7126 - loss: 0.5043 - val_accuracy: 0.4716 - val_loss: 1.7285 - learning_rate: 0.0010\n",
      "Epoch 5/50\n",
      "\u001b[1m47/47\u001b[0m \u001b[32m━━━━━━━━━━━━━━━━━━━━\u001b[0m\u001b[37m\u001b[0m \u001b[1m0s\u001b[0m 5ms/step - accuracy: 0.7458 - loss: 0.4731 - val_accuracy: 0.4871 - val_loss: 2.0844 - learning_rate: 5.0000e-04\n",
      "Epoch 6/50\n",
      "\u001b[1m47/47\u001b[0m \u001b[32m━━━━━━━━━━━━━━━━━━━━\u001b[0m\u001b[37m\u001b[0m \u001b[1m0s\u001b[0m 8ms/step - accuracy: 0.7665 - loss: 0.4562 - val_accuracy: 0.4665 - val_loss: 2.2261 - learning_rate: 5.0000e-04\n",
      "Epoch 7/50\n",
      "\u001b[1m47/47\u001b[0m \u001b[32m━━━━━━━━━━━━━━━━━━━━\u001b[0m\u001b[37m\u001b[0m \u001b[1m0s\u001b[0m 10ms/step - accuracy: 0.7860 - loss: 0.4302 - val_accuracy: 0.4433 - val_loss: 2.4812 - learning_rate: 5.0000e-04\n",
      "Epoch 8/50\n",
      "\u001b[1m47/47\u001b[0m \u001b[32m━━━━━━━━━━━━━━━━━━━━\u001b[0m\u001b[37m\u001b[0m \u001b[1m0s\u001b[0m 9ms/step - accuracy: 0.7890 - loss: 0.4206 - val_accuracy: 0.3402 - val_loss: 2.7223 - learning_rate: 2.5000e-04\n",
      "Epoch 9/50\n",
      "\u001b[1m47/47\u001b[0m \u001b[32m━━━━━━━━━━━━━━━━━━━━\u001b[0m\u001b[37m\u001b[0m \u001b[1m0s\u001b[0m 7ms/step - accuracy: 0.8134 - loss: 0.3911 - val_accuracy: 0.3814 - val_loss: 2.8293 - learning_rate: 2.5000e-04\n",
      "Epoch 10/50\n",
      "\u001b[1m47/47\u001b[0m \u001b[32m━━━━━━━━━━━━━━━━━━━━\u001b[0m\u001b[37m\u001b[0m \u001b[1m0s\u001b[0m 8ms/step - accuracy: 0.8042 - loss: 0.3828 - val_accuracy: 0.2706 - val_loss: 3.3935 - learning_rate: 2.5000e-04\n",
      "Epoch 11/50\n",
      "\u001b[1m47/47\u001b[0m \u001b[32m━━━━━━━━━━━━━━━━━━━━\u001b[0m\u001b[37m\u001b[0m \u001b[1m0s\u001b[0m 5ms/step - accuracy: 0.8139 - loss: 0.3495 - val_accuracy: 0.3763 - val_loss: 3.2856 - learning_rate: 1.2500e-04\n"
     ]
    },
    {
     "name": "stderr",
     "output_type": "stream",
     "text": [
      "[I 2024-05-23 22:46:07,136] Trial 4 finished with value: 0.24742268025875092 and parameters: {'learning_rate': 0.03696147487772515, 'dropout_rate': 0.2503039540917944, 'num_filters': 47, 'num_layers': 2}. Best is trial 2 with value: 0.42525774240493774.\n"
     ]
    },
    {
     "name": "stdout",
     "output_type": "stream",
     "text": [
      "Epoch 1/50\n",
      "\u001b[1m47/47\u001b[0m \u001b[32m━━━━━━━━━━━━━━━━━━━━\u001b[0m\u001b[37m\u001b[0m \u001b[1m2s\u001b[0m 10ms/step - accuracy: 0.5379 - loss: 0.6688 - val_accuracy: 0.2139 - val_loss: 1.2924 - learning_rate: 0.0010\n",
      "Epoch 2/50\n",
      "\u001b[1m47/47\u001b[0m \u001b[32m━━━━━━━━━━━━━━━━━━━━\u001b[0m\u001b[37m\u001b[0m \u001b[1m0s\u001b[0m 5ms/step - accuracy: 0.7183 - loss: 0.5661 - val_accuracy: 0.1959 - val_loss: 1.1892 - learning_rate: 0.0010\n",
      "Epoch 3/50\n",
      "\u001b[1m47/47\u001b[0m \u001b[32m━━━━━━━━━━━━━━━━━━━━\u001b[0m\u001b[37m\u001b[0m \u001b[1m0s\u001b[0m 5ms/step - accuracy: 0.7035 - loss: 0.5332 - val_accuracy: 0.1804 - val_loss: 1.9845 - learning_rate: 0.0010\n",
      "Epoch 4/50\n",
      "\u001b[1m47/47\u001b[0m \u001b[32m━━━━━━━━━━━━━━━━━━━━\u001b[0m\u001b[37m\u001b[0m \u001b[1m0s\u001b[0m 5ms/step - accuracy: 0.7091 - loss: 0.5033 - val_accuracy: 0.1985 - val_loss: 1.7690 - learning_rate: 0.0010\n",
      "Epoch 5/50\n",
      "\u001b[1m47/47\u001b[0m \u001b[32m━━━━━━━━━━━━━━━━━━━━\u001b[0m\u001b[37m\u001b[0m \u001b[1m0s\u001b[0m 8ms/step - accuracy: 0.6802 - loss: 0.4838 - val_accuracy: 0.0876 - val_loss: 2.7509 - learning_rate: 0.0010\n",
      "Epoch 6/50\n",
      "\u001b[1m47/47\u001b[0m \u001b[32m━━━━━━━━━━━━━━━━━━━━\u001b[0m\u001b[37m\u001b[0m \u001b[1m0s\u001b[0m 8ms/step - accuracy: 0.7143 - loss: 0.4500 - val_accuracy: 0.5670 - val_loss: 2.5404 - learning_rate: 5.0000e-04\n",
      "Epoch 7/50\n",
      "\u001b[1m47/47\u001b[0m \u001b[32m━━━━━━━━━━━━━━━━━━━━\u001b[0m\u001b[37m\u001b[0m \u001b[1m0s\u001b[0m 9ms/step - accuracy: 0.7401 - loss: 0.4780 - val_accuracy: 0.2423 - val_loss: 3.4842 - learning_rate: 5.0000e-04\n",
      "Epoch 8/50\n",
      "\u001b[1m47/47\u001b[0m \u001b[32m━━━━━━━━━━━━━━━━━━━━\u001b[0m\u001b[37m\u001b[0m \u001b[1m1s\u001b[0m 11ms/step - accuracy: 0.7464 - loss: 0.4019 - val_accuracy: 0.4536 - val_loss: 3.4985 - learning_rate: 5.0000e-04\n",
      "Epoch 9/50\n",
      "\u001b[1m47/47\u001b[0m \u001b[32m━━━━━━━━━━━━━━━━━━━━\u001b[0m\u001b[37m\u001b[0m \u001b[1m1s\u001b[0m 11ms/step - accuracy: 0.7528 - loss: 0.3874 - val_accuracy: 0.3814 - val_loss: 4.2825 - learning_rate: 2.5000e-04\n",
      "Epoch 10/50\n",
      "\u001b[1m47/47\u001b[0m \u001b[32m━━━━━━━━━━━━━━━━━━━━\u001b[0m\u001b[37m\u001b[0m \u001b[1m1s\u001b[0m 10ms/step - accuracy: 0.8052 - loss: 0.3434 - val_accuracy: 0.3299 - val_loss: 4.4281 - learning_rate: 2.5000e-04\n",
      "Epoch 11/50\n",
      "\u001b[1m47/47\u001b[0m \u001b[32m━━━━━━━━━━━━━━━━━━━━\u001b[0m\u001b[37m\u001b[0m \u001b[1m0s\u001b[0m 6ms/step - accuracy: 0.7934 - loss: 0.3602 - val_accuracy: 0.3196 - val_loss: 4.7840 - learning_rate: 2.5000e-04\n",
      "Epoch 12/50\n",
      "\u001b[1m47/47\u001b[0m \u001b[32m━━━━━━━━━━━━━━━━━━━━\u001b[0m\u001b[37m\u001b[0m \u001b[1m0s\u001b[0m 9ms/step - accuracy: 0.8011 - loss: 0.3317 - val_accuracy: 0.3376 - val_loss: 4.8868 - learning_rate: 1.2500e-04\n"
     ]
    },
    {
     "name": "stderr",
     "output_type": "stream",
     "text": [
      "[I 2024-05-23 22:46:14,324] Trial 5 finished with value: 0.19587628543376923 and parameters: {'learning_rate': 7.085816087334675e-05, 'dropout_rate': 0.19084011106669596, 'num_filters': 39, 'num_layers': 3}. Best is trial 2 with value: 0.42525774240493774.\n"
     ]
    },
    {
     "name": "stdout",
     "output_type": "stream",
     "text": [
      "Epoch 1/50\n",
      "\u001b[1m47/47\u001b[0m \u001b[32m━━━━━━━━━━━━━━━━━━━━\u001b[0m\u001b[37m\u001b[0m \u001b[1m2s\u001b[0m 11ms/step - accuracy: 0.6044 - loss: 0.6588 - val_accuracy: 0.2964 - val_loss: 1.0678 - learning_rate: 0.0010\n",
      "Epoch 2/50\n",
      "\u001b[1m47/47\u001b[0m \u001b[32m━━━━━━━━━━━━━━━━━━━━\u001b[0m\u001b[37m\u001b[0m \u001b[1m0s\u001b[0m 8ms/step - accuracy: 0.7088 - loss: 0.5661 - val_accuracy: 0.4794 - val_loss: 1.0168 - learning_rate: 0.0010\n",
      "Epoch 3/50\n",
      "\u001b[1m47/47\u001b[0m \u001b[32m━━━━━━━━━━━━━━━━━━━━\u001b[0m\u001b[37m\u001b[0m \u001b[1m0s\u001b[0m 9ms/step - accuracy: 0.7670 - loss: 0.5043 - val_accuracy: 0.4227 - val_loss: 1.2956 - learning_rate: 0.0010\n",
      "Epoch 4/50\n",
      "\u001b[1m47/47\u001b[0m \u001b[32m━━━━━━━━━━━━━━━━━━━━\u001b[0m\u001b[37m\u001b[0m \u001b[1m0s\u001b[0m 9ms/step - accuracy: 0.7204 - loss: 0.5063 - val_accuracy: 0.4356 - val_loss: 1.6879 - learning_rate: 0.0010\n",
      "Epoch 5/50\n",
      "\u001b[1m47/47\u001b[0m \u001b[32m━━━━━━━━━━━━━━━━━━━━\u001b[0m\u001b[37m\u001b[0m \u001b[1m0s\u001b[0m 8ms/step - accuracy: 0.7289 - loss: 0.4793 - val_accuracy: 0.5206 - val_loss: 2.2494 - learning_rate: 0.0010\n",
      "Epoch 6/50\n",
      "\u001b[1m47/47\u001b[0m \u001b[32m━━━━━━━━━━━━━━━━━━━━\u001b[0m\u001b[37m\u001b[0m \u001b[1m0s\u001b[0m 8ms/step - accuracy: 0.7764 - loss: 0.4573 - val_accuracy: 0.5000 - val_loss: 2.4608 - learning_rate: 5.0000e-04\n",
      "Epoch 7/50\n",
      "\u001b[1m47/47\u001b[0m \u001b[32m━━━━━━━━━━━━━━━━━━━━\u001b[0m\u001b[37m\u001b[0m \u001b[1m0s\u001b[0m 7ms/step - accuracy: 0.7643 - loss: 0.4354 - val_accuracy: 0.3351 - val_loss: 3.1865 - learning_rate: 5.0000e-04\n",
      "Epoch 8/50\n",
      "\u001b[1m47/47\u001b[0m \u001b[32m━━━━━━━━━━━━━━━━━━━━\u001b[0m\u001b[37m\u001b[0m \u001b[1m0s\u001b[0m 8ms/step - accuracy: 0.7815 - loss: 0.4085 - val_accuracy: 0.3557 - val_loss: 3.3884 - learning_rate: 5.0000e-04\n",
      "Epoch 9/50\n",
      "\u001b[1m47/47\u001b[0m \u001b[32m━━━━━━━━━━━━━━━━━━━━\u001b[0m\u001b[37m\u001b[0m \u001b[1m1s\u001b[0m 10ms/step - accuracy: 0.7963 - loss: 0.3912 - val_accuracy: 0.4149 - val_loss: 3.5440 - learning_rate: 2.5000e-04\n",
      "Epoch 10/50\n",
      "\u001b[1m47/47\u001b[0m \u001b[32m━━━━━━━━━━━━━━━━━━━━\u001b[0m\u001b[37m\u001b[0m \u001b[1m0s\u001b[0m 9ms/step - accuracy: 0.8139 - loss: 0.3607 - val_accuracy: 0.3557 - val_loss: 4.0176 - learning_rate: 2.5000e-04\n",
      "Epoch 11/50\n",
      "\u001b[1m47/47\u001b[0m \u001b[32m━━━━━━━━━━━━━━━━━━━━\u001b[0m\u001b[37m\u001b[0m \u001b[1m1s\u001b[0m 10ms/step - accuracy: 0.8027 - loss: 0.3699 - val_accuracy: 0.3041 - val_loss: 3.8520 - learning_rate: 2.5000e-04\n",
      "Epoch 12/50\n",
      "\u001b[1m47/47\u001b[0m \u001b[32m━━━━━━━━━━━━━━━━━━━━\u001b[0m\u001b[37m\u001b[0m \u001b[1m0s\u001b[0m 9ms/step - accuracy: 0.8148 - loss: 0.3449 - val_accuracy: 0.3634 - val_loss: 4.2524 - learning_rate: 1.2500e-04\n"
     ]
    },
    {
     "name": "stderr",
     "output_type": "stream",
     "text": [
      "[I 2024-05-23 22:46:22,034] Trial 6 finished with value: 0.4793814420700073 and parameters: {'learning_rate': 2.4820559279440586e-05, 'dropout_rate': 0.28041929062996757, 'num_filters': 47, 'num_layers': 2}. Best is trial 6 with value: 0.4793814420700073.\n"
     ]
    },
    {
     "name": "stdout",
     "output_type": "stream",
     "text": [
      "Epoch 1/50\n",
      "\u001b[1m47/47\u001b[0m \u001b[32m━━━━━━━━━━━━━━━━━━━━\u001b[0m\u001b[37m\u001b[0m \u001b[1m2s\u001b[0m 11ms/step - accuracy: 0.6760 - loss: 0.6226 - val_accuracy: 0.1907 - val_loss: 1.1303 - learning_rate: 0.0010\n",
      "Epoch 2/50\n",
      "\u001b[1m47/47\u001b[0m \u001b[32m━━━━━━━━━━━━━━━━━━━━\u001b[0m\u001b[37m\u001b[0m \u001b[1m0s\u001b[0m 7ms/step - accuracy: 0.7254 - loss: 0.5386 - val_accuracy: 0.1624 - val_loss: 1.2748 - learning_rate: 0.0010\n",
      "Epoch 3/50\n",
      "\u001b[1m47/47\u001b[0m \u001b[32m━━━━━━━━━━━━━━━━━━━━\u001b[0m\u001b[37m\u001b[0m \u001b[1m0s\u001b[0m 6ms/step - accuracy: 0.7130 - loss: 0.5142 - val_accuracy: 0.2242 - val_loss: 1.2858 - learning_rate: 0.0010\n",
      "Epoch 4/50\n",
      "\u001b[1m47/47\u001b[0m \u001b[32m━━━━━━━━━━━━━━━━━━━━\u001b[0m\u001b[37m\u001b[0m \u001b[1m0s\u001b[0m 7ms/step - accuracy: 0.7747 - loss: 0.4638 - val_accuracy: 0.4562 - val_loss: 1.5116 - learning_rate: 0.0010\n",
      "Epoch 5/50\n",
      "\u001b[1m47/47\u001b[0m \u001b[32m━━━━━━━━━━━━━━━━━━━━\u001b[0m\u001b[37m\u001b[0m \u001b[1m0s\u001b[0m 6ms/step - accuracy: 0.7806 - loss: 0.4457 - val_accuracy: 0.4278 - val_loss: 1.8030 - learning_rate: 5.0000e-04\n",
      "Epoch 6/50\n",
      "\u001b[1m47/47\u001b[0m \u001b[32m━━━━━━━━━━━━━━━━━━━━\u001b[0m\u001b[37m\u001b[0m \u001b[1m0s\u001b[0m 6ms/step - accuracy: 0.7761 - loss: 0.4410 - val_accuracy: 0.5902 - val_loss: 1.8789 - learning_rate: 5.0000e-04\n",
      "Epoch 7/50\n",
      "\u001b[1m47/47\u001b[0m \u001b[32m━━━━━━━━━━━━━━━━━━━━\u001b[0m\u001b[37m\u001b[0m \u001b[1m0s\u001b[0m 7ms/step - accuracy: 0.8147 - loss: 0.3976 - val_accuracy: 0.5387 - val_loss: 2.2638 - learning_rate: 5.0000e-04\n",
      "Epoch 8/50\n",
      "\u001b[1m47/47\u001b[0m \u001b[32m━━━━━━━━━━━━━━━━━━━━\u001b[0m\u001b[37m\u001b[0m \u001b[1m0s\u001b[0m 6ms/step - accuracy: 0.8316 - loss: 0.3751 - val_accuracy: 0.3892 - val_loss: 2.6530 - learning_rate: 2.5000e-04\n",
      "Epoch 9/50\n",
      "\u001b[1m47/47\u001b[0m \u001b[32m━━━━━━━━━━━━━━━━━━━━\u001b[0m\u001b[37m\u001b[0m \u001b[1m0s\u001b[0m 5ms/step - accuracy: 0.8103 - loss: 0.3643 - val_accuracy: 0.4613 - val_loss: 2.5804 - learning_rate: 2.5000e-04\n",
      "Epoch 10/50\n",
      "\u001b[1m47/47\u001b[0m \u001b[32m━━━━━━━━━━━━━━━━━━━━\u001b[0m\u001b[37m\u001b[0m \u001b[1m0s\u001b[0m 6ms/step - accuracy: 0.8131 - loss: 0.3549 - val_accuracy: 0.4021 - val_loss: 2.9074 - learning_rate: 2.5000e-04\n",
      "Epoch 11/50\n",
      "\u001b[1m47/47\u001b[0m \u001b[32m━━━━━━━━━━━━━━━━━━━━\u001b[0m\u001b[37m\u001b[0m \u001b[1m0s\u001b[0m 6ms/step - accuracy: 0.8114 - loss: 0.3352 - val_accuracy: 0.4459 - val_loss: 2.8048 - learning_rate: 1.2500e-04\n"
     ]
    },
    {
     "name": "stderr",
     "output_type": "stream",
     "text": [
      "[I 2024-05-23 22:46:27,619] Trial 7 finished with value: 0.19072164595127106 and parameters: {'learning_rate': 0.006430758371956803, 'dropout_rate': 0.02240914258097404, 'num_filters': 27, 'num_layers': 1}. Best is trial 6 with value: 0.4793814420700073.\n"
     ]
    },
    {
     "name": "stdout",
     "output_type": "stream",
     "text": [
      "Epoch 1/50\n",
      "\u001b[1m47/47\u001b[0m \u001b[32m━━━━━━━━━━━━━━━━━━━━\u001b[0m\u001b[37m\u001b[0m \u001b[1m3s\u001b[0m 17ms/step - accuracy: 0.6095 - loss: 0.6693 - val_accuracy: 0.2036 - val_loss: 1.3980 - learning_rate: 0.0010\n",
      "Epoch 2/50\n",
      "\u001b[1m47/47\u001b[0m \u001b[32m━━━━━━━━━━━━━━━━━━━━\u001b[0m\u001b[37m\u001b[0m \u001b[1m0s\u001b[0m 9ms/step - accuracy: 0.7016 - loss: 0.5743 - val_accuracy: 0.1314 - val_loss: 1.2771 - learning_rate: 0.0010\n",
      "Epoch 3/50\n",
      "\u001b[1m47/47\u001b[0m \u001b[32m━━━━━━━━━━━━━━━━━━━━\u001b[0m\u001b[37m\u001b[0m \u001b[1m0s\u001b[0m 10ms/step - accuracy: 0.7226 - loss: 0.5080 - val_accuracy: 0.1521 - val_loss: 1.9998 - learning_rate: 0.0010\n",
      "Epoch 4/50\n",
      "\u001b[1m47/47\u001b[0m \u001b[32m━━━━━━━━━━━━━━━━━━━━\u001b[0m\u001b[37m\u001b[0m \u001b[1m1s\u001b[0m 13ms/step - accuracy: 0.6911 - loss: 0.4836 - val_accuracy: 0.2655 - val_loss: 1.8930 - learning_rate: 0.0010\n",
      "Epoch 5/50\n",
      "\u001b[1m47/47\u001b[0m \u001b[32m━━━━━━━━━━━━━━━━━━━━\u001b[0m\u001b[37m\u001b[0m \u001b[1m1s\u001b[0m 11ms/step - accuracy: 0.7453 - loss: 0.4420 - val_accuracy: 0.2706 - val_loss: 2.5342 - learning_rate: 0.0010\n",
      "Epoch 6/50\n",
      "\u001b[1m47/47\u001b[0m \u001b[32m━━━━━━━━━━━━━━━━━━━━\u001b[0m\u001b[37m\u001b[0m \u001b[1m0s\u001b[0m 9ms/step - accuracy: 0.7284 - loss: 0.4322 - val_accuracy: 0.2577 - val_loss: 4.0683 - learning_rate: 5.0000e-04\n",
      "Epoch 7/50\n",
      "\u001b[1m47/47\u001b[0m \u001b[32m━━━━━━━━━━━━━━━━━━━━\u001b[0m\u001b[37m\u001b[0m \u001b[1m1s\u001b[0m 13ms/step - accuracy: 0.7588 - loss: 0.4080 - val_accuracy: 0.1598 - val_loss: 4.4846 - learning_rate: 5.0000e-04\n",
      "Epoch 8/50\n",
      "\u001b[1m47/47\u001b[0m \u001b[32m━━━━━━━━━━━━━━━━━━━━\u001b[0m\u001b[37m\u001b[0m \u001b[1m1s\u001b[0m 12ms/step - accuracy: 0.7735 - loss: 0.3550 - val_accuracy: 0.1572 - val_loss: 5.4923 - learning_rate: 5.0000e-04\n",
      "Epoch 9/50\n",
      "\u001b[1m47/47\u001b[0m \u001b[32m━━━━━━━━━━━━━━━━━━━━\u001b[0m\u001b[37m\u001b[0m \u001b[1m0s\u001b[0m 9ms/step - accuracy: 0.8003 - loss: 0.3302 - val_accuracy: 0.3247 - val_loss: 5.0587 - learning_rate: 2.5000e-04\n",
      "Epoch 10/50\n",
      "\u001b[1m47/47\u001b[0m \u001b[32m━━━━━━━━━━━━━━━━━━━━\u001b[0m\u001b[37m\u001b[0m \u001b[1m1s\u001b[0m 11ms/step - accuracy: 0.8163 - loss: 0.3184 - val_accuracy: 0.2345 - val_loss: 6.1057 - learning_rate: 2.5000e-04\n",
      "Epoch 11/50\n",
      "\u001b[1m47/47\u001b[0m \u001b[32m━━━━━━━━━━━━━━━━━━━━\u001b[0m\u001b[37m\u001b[0m \u001b[1m0s\u001b[0m 7ms/step - accuracy: 0.8067 - loss: 0.3099 - val_accuracy: 0.4485 - val_loss: 5.5179 - learning_rate: 2.5000e-04\n",
      "Epoch 12/50\n",
      "\u001b[1m47/47\u001b[0m \u001b[32m━━━━━━━━━━━━━━━━━━━━\u001b[0m\u001b[37m\u001b[0m \u001b[1m1s\u001b[0m 11ms/step - accuracy: 0.7894 - loss: 0.3036 - val_accuracy: 0.4665 - val_loss: 6.2053 - learning_rate: 1.2500e-04\n"
     ]
    },
    {
     "name": "stderr",
     "output_type": "stream",
     "text": [
      "[I 2024-05-23 22:46:36,540] Trial 8 finished with value: 0.13144329190254211 and parameters: {'learning_rate': 0.03457922190445281, 'dropout_rate': 0.34295079576358894, 'num_filters': 72, 'num_layers': 3}. Best is trial 6 with value: 0.4793814420700073.\n"
     ]
    },
    {
     "name": "stdout",
     "output_type": "stream",
     "text": [
      "Epoch 1/50\n",
      "\u001b[1m47/47\u001b[0m \u001b[32m━━━━━━━━━━━━━━━━━━━━\u001b[0m\u001b[37m\u001b[0m \u001b[1m3s\u001b[0m 10ms/step - accuracy: 0.6566 - loss: 0.6403 - val_accuracy: 0.4175 - val_loss: 0.9815 - learning_rate: 0.0010\n",
      "Epoch 2/50\n",
      "\u001b[1m47/47\u001b[0m \u001b[32m━━━━━━━━━━━━━━━━━━━━\u001b[0m\u001b[37m\u001b[0m \u001b[1m0s\u001b[0m 6ms/step - accuracy: 0.6831 - loss: 0.5704 - val_accuracy: 0.4639 - val_loss: 1.0573 - learning_rate: 0.0010\n",
      "Epoch 3/50\n",
      "\u001b[1m47/47\u001b[0m \u001b[32m━━━━━━━━━━━━━━━━━━━━\u001b[0m\u001b[37m\u001b[0m \u001b[1m0s\u001b[0m 5ms/step - accuracy: 0.7061 - loss: 0.5485 - val_accuracy: 0.4665 - val_loss: 1.1034 - learning_rate: 0.0010\n",
      "Epoch 4/50\n",
      "\u001b[1m47/47\u001b[0m \u001b[32m━━━━━━━━━━━━━━━━━━━━\u001b[0m\u001b[37m\u001b[0m \u001b[1m0s\u001b[0m 7ms/step - accuracy: 0.7347 - loss: 0.5079 - val_accuracy: 0.4459 - val_loss: 1.2312 - learning_rate: 0.0010\n",
      "Epoch 5/50\n",
      "\u001b[1m47/47\u001b[0m \u001b[32m━━━━━━━━━━━━━━━━━━━━\u001b[0m\u001b[37m\u001b[0m \u001b[1m0s\u001b[0m 6ms/step - accuracy: 0.7077 - loss: 0.4922 - val_accuracy: 0.4768 - val_loss: 1.4570 - learning_rate: 5.0000e-04\n",
      "Epoch 6/50\n",
      "\u001b[1m47/47\u001b[0m \u001b[32m━━━━━━━━━━━━━━━━━━━━\u001b[0m\u001b[37m\u001b[0m \u001b[1m0s\u001b[0m 6ms/step - accuracy: 0.7661 - loss: 0.4593 - val_accuracy: 0.3711 - val_loss: 1.5876 - learning_rate: 5.0000e-04\n",
      "Epoch 7/50\n",
      "\u001b[1m47/47\u001b[0m \u001b[32m━━━━━━━━━━━━━━━━━━━━\u001b[0m\u001b[37m\u001b[0m \u001b[1m0s\u001b[0m 6ms/step - accuracy: 0.6981 - loss: 0.4693 - val_accuracy: 0.4871 - val_loss: 1.7554 - learning_rate: 5.0000e-04\n",
      "Epoch 8/50\n",
      "\u001b[1m47/47\u001b[0m \u001b[32m━━━━━━━━━━━━━━━━━━━━\u001b[0m\u001b[37m\u001b[0m \u001b[1m0s\u001b[0m 7ms/step - accuracy: 0.7320 - loss: 0.4593 - val_accuracy: 0.4871 - val_loss: 2.0672 - learning_rate: 2.5000e-04\n",
      "Epoch 9/50\n",
      "\u001b[1m47/47\u001b[0m \u001b[32m━━━━━━━━━━━━━━━━━━━━\u001b[0m\u001b[37m\u001b[0m \u001b[1m0s\u001b[0m 6ms/step - accuracy: 0.7516 - loss: 0.4499 - val_accuracy: 0.4923 - val_loss: 1.9915 - learning_rate: 2.5000e-04\n",
      "Epoch 10/50\n",
      "\u001b[1m47/47\u001b[0m \u001b[32m━━━━━━━━━━━━━━━━━━━━\u001b[0m\u001b[37m\u001b[0m \u001b[1m0s\u001b[0m 5ms/step - accuracy: 0.7385 - loss: 0.4448 - val_accuracy: 0.4923 - val_loss: 2.1756 - learning_rate: 2.5000e-04\n",
      "Epoch 11/50\n",
      "\u001b[1m47/47\u001b[0m \u001b[32m━━━━━━━━━━━━━━━━━━━━\u001b[0m\u001b[37m\u001b[0m \u001b[1m0s\u001b[0m 4ms/step - accuracy: 0.7724 - loss: 0.4151 - val_accuracy: 0.4845 - val_loss: 2.2902 - learning_rate: 1.2500e-04\n"
     ]
    },
    {
     "name": "stderr",
     "output_type": "stream",
     "text": [
      "[I 2024-05-23 22:46:43,313] Trial 9 finished with value: 0.4175257682800293 and parameters: {'learning_rate': 0.0001637615752618842, 'dropout_rate': 0.21634830642962893, 'num_filters': 19, 'num_layers': 1}. Best is trial 6 with value: 0.4793814420700073.\n"
     ]
    },
    {
     "name": "stdout",
     "output_type": "stream",
     "text": [
      "Epoch 1/50\n",
      "\u001b[1m47/47\u001b[0m \u001b[32m━━━━━━━━━━━━━━━━━━━━\u001b[0m\u001b[37m\u001b[0m \u001b[1m3s\u001b[0m 18ms/step - accuracy: 0.6098 - loss: 0.6396 - val_accuracy: 0.2242 - val_loss: 1.2000 - learning_rate: 0.0010\n",
      "Epoch 2/50\n",
      "\u001b[1m47/47\u001b[0m \u001b[32m━━━━━━━━━━━━━━━━━━━━\u001b[0m\u001b[37m\u001b[0m \u001b[1m1s\u001b[0m 14ms/step - accuracy: 0.7026 - loss: 0.5442 - val_accuracy: 0.4227 - val_loss: 1.2695 - learning_rate: 0.0010\n",
      "Epoch 3/50\n",
      "\u001b[1m47/47\u001b[0m \u001b[32m━━━━━━━━━━━━━━━━━━━━\u001b[0m\u001b[37m\u001b[0m \u001b[1m1s\u001b[0m 12ms/step - accuracy: 0.7839 - loss: 0.4882 - val_accuracy: 0.3196 - val_loss: 1.8765 - learning_rate: 0.0010\n",
      "Epoch 4/50\n",
      "\u001b[1m47/47\u001b[0m \u001b[32m━━━━━━━━━━━━━━━━━━━━\u001b[0m\u001b[37m\u001b[0m \u001b[1m1s\u001b[0m 13ms/step - accuracy: 0.7108 - loss: 0.4976 - val_accuracy: 0.4536 - val_loss: 2.4256 - learning_rate: 0.0010\n",
      "Epoch 5/50\n",
      "\u001b[1m47/47\u001b[0m \u001b[32m━━━━━━━━━━━━━━━━━━━━\u001b[0m\u001b[37m\u001b[0m \u001b[1m1s\u001b[0m 15ms/step - accuracy: 0.7782 - loss: 0.4445 - val_accuracy: 0.4485 - val_loss: 2.8190 - learning_rate: 5.0000e-04\n",
      "Epoch 6/50\n",
      "\u001b[1m47/47\u001b[0m \u001b[32m━━━━━━━━━━━━━━━━━━━━\u001b[0m\u001b[37m\u001b[0m \u001b[1m1s\u001b[0m 14ms/step - accuracy: 0.8091 - loss: 0.4006 - val_accuracy: 0.3479 - val_loss: 2.6568 - learning_rate: 5.0000e-04\n",
      "Epoch 7/50\n",
      "\u001b[1m47/47\u001b[0m \u001b[32m━━━━━━━━━━━━━━━━━━━━\u001b[0m\u001b[37m\u001b[0m \u001b[1m1s\u001b[0m 16ms/step - accuracy: 0.8134 - loss: 0.3871 - val_accuracy: 0.4098 - val_loss: 3.3273 - learning_rate: 5.0000e-04\n",
      "Epoch 8/50\n",
      "\u001b[1m47/47\u001b[0m \u001b[32m━━━━━━━━━━━━━━━━━━━━\u001b[0m\u001b[37m\u001b[0m \u001b[1m1s\u001b[0m 15ms/step - accuracy: 0.8327 - loss: 0.3492 - val_accuracy: 0.4588 - val_loss: 3.4658 - learning_rate: 2.5000e-04\n",
      "Epoch 9/50\n",
      "\u001b[1m47/47\u001b[0m \u001b[32m━━━━━━━━━━━━━━━━━━━━\u001b[0m\u001b[37m\u001b[0m \u001b[1m1s\u001b[0m 14ms/step - accuracy: 0.8272 - loss: 0.3320 - val_accuracy: 0.3814 - val_loss: 3.7959 - learning_rate: 2.5000e-04\n",
      "Epoch 10/50\n",
      "\u001b[1m47/47\u001b[0m \u001b[32m━━━━━━━━━━━━━━━━━━━━\u001b[0m\u001b[37m\u001b[0m \u001b[1m1s\u001b[0m 16ms/step - accuracy: 0.8443 - loss: 0.3160 - val_accuracy: 0.3222 - val_loss: 3.9211 - learning_rate: 2.5000e-04\n",
      "Epoch 11/50\n",
      "\u001b[1m47/47\u001b[0m \u001b[32m━━━━━━━━━━━━━━━━━━━━\u001b[0m\u001b[37m\u001b[0m \u001b[1m1s\u001b[0m 15ms/step - accuracy: 0.8317 - loss: 0.3181 - val_accuracy: 0.3918 - val_loss: 3.9490 - learning_rate: 1.2500e-04\n"
     ]
    },
    {
     "name": "stderr",
     "output_type": "stream",
     "text": [
      "[I 2024-05-23 22:46:53,523] Trial 10 finished with value: 0.22422680258750916 and parameters: {'learning_rate': 2.1062344346150605e-05, 'dropout_rate': 0.06119591520254075, 'num_filters': 116, 'num_layers': 2}. Best is trial 6 with value: 0.4793814420700073.\n"
     ]
    },
    {
     "name": "stdout",
     "output_type": "stream",
     "text": [
      "Epoch 1/50\n",
      "\u001b[1m47/47\u001b[0m \u001b[32m━━━━━━━━━━━━━━━━━━━━\u001b[0m\u001b[37m\u001b[0m \u001b[1m2s\u001b[0m 12ms/step - accuracy: 0.5755 - loss: 0.6757 - val_accuracy: 0.1907 - val_loss: 1.0187 - learning_rate: 0.0010\n",
      "Epoch 2/50\n",
      "\u001b[1m47/47\u001b[0m \u001b[32m━━━━━━━━━━━━━━━━━━━━\u001b[0m\u001b[37m\u001b[0m \u001b[1m0s\u001b[0m 8ms/step - accuracy: 0.6815 - loss: 0.6041 - val_accuracy: 0.2345 - val_loss: 1.2227 - learning_rate: 0.0010\n",
      "Epoch 3/50\n",
      "\u001b[1m47/47\u001b[0m \u001b[32m━━━━━━━━━━━━━━━━━━━━\u001b[0m\u001b[37m\u001b[0m \u001b[1m0s\u001b[0m 9ms/step - accuracy: 0.7043 - loss: 0.5528 - val_accuracy: 0.2216 - val_loss: 1.3435 - learning_rate: 0.0010\n",
      "Epoch 4/50\n",
      "\u001b[1m47/47\u001b[0m \u001b[32m━━━━━━━━━━━━━━━━━━━━\u001b[0m\u001b[37m\u001b[0m \u001b[1m0s\u001b[0m 8ms/step - accuracy: 0.7021 - loss: 0.5193 - val_accuracy: 0.4381 - val_loss: 1.3292 - learning_rate: 0.0010\n",
      "Epoch 5/50\n",
      "\u001b[1m47/47\u001b[0m \u001b[32m━━━━━━━━━━━━━━━━━━━━\u001b[0m\u001b[37m\u001b[0m \u001b[1m1s\u001b[0m 10ms/step - accuracy: 0.7304 - loss: 0.4997 - val_accuracy: 0.5515 - val_loss: 1.4825 - learning_rate: 5.0000e-04\n",
      "Epoch 6/50\n",
      "\u001b[1m47/47\u001b[0m \u001b[32m━━━━━━━━━━━━━━━━━━━━\u001b[0m\u001b[37m\u001b[0m \u001b[1m0s\u001b[0m 9ms/step - accuracy: 0.7719 - loss: 0.4524 - val_accuracy: 0.4794 - val_loss: 1.7434 - learning_rate: 5.0000e-04\n",
      "Epoch 7/50\n",
      "\u001b[1m47/47\u001b[0m \u001b[32m━━━━━━━━━━━━━━━━━━━━\u001b[0m\u001b[37m\u001b[0m \u001b[1m0s\u001b[0m 7ms/step - accuracy: 0.7419 - loss: 0.4750 - val_accuracy: 0.2552 - val_loss: 2.1573 - learning_rate: 5.0000e-04\n",
      "Epoch 8/50\n",
      "\u001b[1m47/47\u001b[0m \u001b[32m━━━━━━━━━━━━━━━━━━━━\u001b[0m\u001b[37m\u001b[0m \u001b[1m1s\u001b[0m 11ms/step - accuracy: 0.7784 - loss: 0.4379 - val_accuracy: 0.5284 - val_loss: 1.9012 - learning_rate: 2.5000e-04\n",
      "Epoch 9/50\n",
      "\u001b[1m47/47\u001b[0m \u001b[32m━━━━━━━━━━━━━━━━━━━━\u001b[0m\u001b[37m\u001b[0m \u001b[1m1s\u001b[0m 10ms/step - accuracy: 0.7602 - loss: 0.4113 - val_accuracy: 0.3943 - val_loss: 2.2244 - learning_rate: 2.5000e-04\n",
      "Epoch 10/50\n",
      "\u001b[1m47/47\u001b[0m \u001b[32m━━━━━━━━━━━━━━━━━━━━\u001b[0m\u001b[37m\u001b[0m \u001b[1m1s\u001b[0m 11ms/step - accuracy: 0.7818 - loss: 0.4076 - val_accuracy: 0.2268 - val_loss: 2.3663 - learning_rate: 2.5000e-04\n",
      "Epoch 11/50\n",
      "\u001b[1m47/47\u001b[0m \u001b[32m━━━━━━━━━━━━━━━━━━━━\u001b[0m\u001b[37m\u001b[0m \u001b[1m1s\u001b[0m 11ms/step - accuracy: 0.7975 - loss: 0.3794 - val_accuracy: 0.2990 - val_loss: 2.4221 - learning_rate: 1.2500e-04\n"
     ]
    },
    {
     "name": "stderr",
     "output_type": "stream",
     "text": [
      "[I 2024-05-23 22:47:00,815] Trial 11 finished with value: 0.19072164595127106 and parameters: {'learning_rate': 0.0015304496834390013, 'dropout_rate': 0.48688783970939065, 'num_filters': 61, 'num_layers': 2}. Best is trial 6 with value: 0.4793814420700073.\n"
     ]
    },
    {
     "name": "stdout",
     "output_type": "stream",
     "text": [
      "Epoch 1/50\n",
      "\u001b[1m47/47\u001b[0m \u001b[32m━━━━━━━━━━━━━━━━━━━━\u001b[0m\u001b[37m\u001b[0m \u001b[1m2s\u001b[0m 13ms/step - accuracy: 0.5849 - loss: 0.6633 - val_accuracy: 0.3531 - val_loss: 1.1046 - learning_rate: 0.0010\n",
      "Epoch 2/50\n",
      "\u001b[1m47/47\u001b[0m \u001b[32m━━━━━━━━━━━━━━━━━━━━\u001b[0m\u001b[37m\u001b[0m \u001b[1m0s\u001b[0m 8ms/step - accuracy: 0.6872 - loss: 0.5916 - val_accuracy: 0.2165 - val_loss: 1.0873 - learning_rate: 0.0010\n",
      "Epoch 3/50\n",
      "\u001b[1m47/47\u001b[0m \u001b[32m━━━━━━━━━━━━━━━━━━━━\u001b[0m\u001b[37m\u001b[0m \u001b[1m0s\u001b[0m 9ms/step - accuracy: 0.6794 - loss: 0.5880 - val_accuracy: 0.3892 - val_loss: 1.0908 - learning_rate: 0.0010\n",
      "Epoch 4/50\n",
      "\u001b[1m47/47\u001b[0m \u001b[32m━━━━━━━━━━━━━━━━━━━━\u001b[0m\u001b[37m\u001b[0m \u001b[1m1s\u001b[0m 10ms/step - accuracy: 0.7051 - loss: 0.5600 - val_accuracy: 0.1263 - val_loss: 1.0493 - learning_rate: 0.0010\n",
      "Epoch 5/50\n",
      "\u001b[1m47/47\u001b[0m \u001b[32m━━━━━━━━━━━━━━━━━━━━\u001b[0m\u001b[37m\u001b[0m \u001b[1m1s\u001b[0m 11ms/step - accuracy: 0.6848 - loss: 0.5375 - val_accuracy: 0.4098 - val_loss: 1.4105 - learning_rate: 0.0010\n",
      "Epoch 6/50\n",
      "\u001b[1m47/47\u001b[0m \u001b[32m━━━━━━━━━━━━━━━━━━━━\u001b[0m\u001b[37m\u001b[0m \u001b[1m0s\u001b[0m 9ms/step - accuracy: 0.7385 - loss: 0.5025 - val_accuracy: 0.4459 - val_loss: 1.6274 - learning_rate: 0.0010\n",
      "Epoch 7/50\n",
      "\u001b[1m47/47\u001b[0m \u001b[32m━━━━━━━━━━━━━━━━━━━━\u001b[0m\u001b[37m\u001b[0m \u001b[1m0s\u001b[0m 10ms/step - accuracy: 0.6911 - loss: 0.5145 - val_accuracy: 0.4820 - val_loss: 2.1126 - learning_rate: 0.0010\n",
      "Epoch 8/50\n",
      "\u001b[1m47/47\u001b[0m \u001b[32m━━━━━━━━━━━━━━━━━━━━\u001b[0m\u001b[37m\u001b[0m \u001b[1m0s\u001b[0m 9ms/step - accuracy: 0.7157 - loss: 0.4638 - val_accuracy: 0.4948 - val_loss: 2.1249 - learning_rate: 5.0000e-04\n",
      "Epoch 9/50\n",
      "\u001b[1m47/47\u001b[0m \u001b[32m━━━━━━━━━━━━━━━━━━━━\u001b[0m\u001b[37m\u001b[0m \u001b[1m0s\u001b[0m 9ms/step - accuracy: 0.7576 - loss: 0.4302 - val_accuracy: 0.5129 - val_loss: 2.3363 - learning_rate: 5.0000e-04\n",
      "Epoch 10/50\n",
      "\u001b[1m47/47\u001b[0m \u001b[32m━━━━━━━━━━━━━━━━━━━━\u001b[0m\u001b[37m\u001b[0m \u001b[1m0s\u001b[0m 8ms/step - accuracy: 0.7609 - loss: 0.4255 - val_accuracy: 0.4845 - val_loss: 2.3784 - learning_rate: 5.0000e-04\n",
      "Epoch 11/50\n",
      "\u001b[1m47/47\u001b[0m \u001b[32m━━━━━━━━━━━━━━━━━━━━\u001b[0m\u001b[37m\u001b[0m \u001b[1m0s\u001b[0m 7ms/step - accuracy: 0.7500 - loss: 0.4193 - val_accuracy: 0.4974 - val_loss: 2.6612 - learning_rate: 2.5000e-04\n",
      "Epoch 12/50\n",
      "\u001b[1m47/47\u001b[0m \u001b[32m━━━━━━━━━━━━━━━━━━━━\u001b[0m\u001b[37m\u001b[0m \u001b[1m0s\u001b[0m 8ms/step - accuracy: 0.7636 - loss: 0.4186 - val_accuracy: 0.5000 - val_loss: 2.5778 - learning_rate: 2.5000e-04\n",
      "Epoch 13/50\n",
      "\u001b[1m47/47\u001b[0m \u001b[32m━━━━━━━━━━━━━━━━━━━━\u001b[0m\u001b[37m\u001b[0m \u001b[1m0s\u001b[0m 9ms/step - accuracy: 0.7233 - loss: 0.4127 - val_accuracy: 0.5052 - val_loss: 2.7305 - learning_rate: 2.5000e-04\n",
      "Epoch 14/50\n",
      "\u001b[1m47/47\u001b[0m \u001b[32m━━━━━━━━━━━━━━━━━━━━\u001b[0m\u001b[37m\u001b[0m \u001b[1m0s\u001b[0m 8ms/step - accuracy: 0.7492 - loss: 0.4331 - val_accuracy: 0.5077 - val_loss: 2.7684 - learning_rate: 1.2500e-04\n"
     ]
    },
    {
     "name": "stderr",
     "output_type": "stream",
     "text": [
      "[I 2024-05-23 22:47:09,245] Trial 12 finished with value: 0.12628865242004395 and parameters: {'learning_rate': 0.0013973330068700442, 'dropout_rate': 0.31740174329920756, 'num_filters': 58, 'num_layers': 1}. Best is trial 6 with value: 0.4793814420700073.\n"
     ]
    },
    {
     "name": "stdout",
     "output_type": "stream",
     "text": [
      "Epoch 1/50\n",
      "\u001b[1m47/47\u001b[0m \u001b[32m━━━━━━━━━━━━━━━━━━━━\u001b[0m\u001b[37m\u001b[0m \u001b[1m3s\u001b[0m 18ms/step - accuracy: 0.6721 - loss: 0.6201 - val_accuracy: 0.4510 - val_loss: 0.8223 - learning_rate: 0.0010\n",
      "Epoch 2/50\n",
      "\u001b[1m47/47\u001b[0m \u001b[32m━━━━━━━━━━━━━━━━━━━━\u001b[0m\u001b[37m\u001b[0m \u001b[1m1s\u001b[0m 13ms/step - accuracy: 0.7521 - loss: 0.5312 - val_accuracy: 0.5412 - val_loss: 1.1161 - learning_rate: 0.0010\n",
      "Epoch 3/50\n",
      "\u001b[1m47/47\u001b[0m \u001b[32m━━━━━━━━━━━━━━━━━━━━\u001b[0m\u001b[37m\u001b[0m \u001b[1m1s\u001b[0m 13ms/step - accuracy: 0.7070 - loss: 0.5103 - val_accuracy: 0.3763 - val_loss: 2.7419 - learning_rate: 0.0010\n",
      "Epoch 4/50\n",
      "\u001b[1m47/47\u001b[0m \u001b[32m━━━━━━━━━━━━━━━━━━━━\u001b[0m\u001b[37m\u001b[0m \u001b[1m1s\u001b[0m 13ms/step - accuracy: 0.6878 - loss: 0.4640 - val_accuracy: 0.5335 - val_loss: 3.4677 - learning_rate: 0.0010\n",
      "Epoch 5/50\n",
      "\u001b[1m47/47\u001b[0m \u001b[32m━━━━━━━━━━━━━━━━━━━━\u001b[0m\u001b[37m\u001b[0m \u001b[1m1s\u001b[0m 12ms/step - accuracy: 0.7093 - loss: 0.4425 - val_accuracy: 0.4278 - val_loss: 3.9256 - learning_rate: 5.0000e-04\n",
      "Epoch 6/50\n",
      "\u001b[1m47/47\u001b[0m \u001b[32m━━━━━━━━━━━━━━━━━━━━\u001b[0m\u001b[37m\u001b[0m \u001b[1m1s\u001b[0m 14ms/step - accuracy: 0.7686 - loss: 0.3981 - val_accuracy: 0.5129 - val_loss: 4.1554 - learning_rate: 5.0000e-04\n",
      "Epoch 7/50\n",
      "\u001b[1m47/47\u001b[0m \u001b[32m━━━━━━━━━━━━━━━━━━━━\u001b[0m\u001b[37m\u001b[0m \u001b[1m1s\u001b[0m 15ms/step - accuracy: 0.7821 - loss: 0.3808 - val_accuracy: 0.5284 - val_loss: 5.0375 - learning_rate: 5.0000e-04\n",
      "Epoch 8/50\n",
      "\u001b[1m47/47\u001b[0m \u001b[32m━━━━━━━━━━━━━━━━━━━━\u001b[0m\u001b[37m\u001b[0m \u001b[1m1s\u001b[0m 10ms/step - accuracy: 0.8251 - loss: 0.3425 - val_accuracy: 0.4072 - val_loss: 5.1373 - learning_rate: 2.5000e-04\n",
      "Epoch 9/50\n",
      "\u001b[1m47/47\u001b[0m \u001b[32m━━━━━━━━━━━━━━━━━━━━\u001b[0m\u001b[37m\u001b[0m \u001b[1m1s\u001b[0m 15ms/step - accuracy: 0.8106 - loss: 0.3655 - val_accuracy: 0.4253 - val_loss: 6.4625 - learning_rate: 2.5000e-04\n",
      "Epoch 10/50\n",
      "\u001b[1m47/47\u001b[0m \u001b[32m━━━━━━━━━━━━━━━━━━━━\u001b[0m\u001b[37m\u001b[0m \u001b[1m1s\u001b[0m 15ms/step - accuracy: 0.8208 - loss: 0.3244 - val_accuracy: 0.4485 - val_loss: 6.6650 - learning_rate: 2.5000e-04\n",
      "Epoch 11/50\n",
      "\u001b[1m47/47\u001b[0m \u001b[32m━━━━━━━━━━━━━━━━━━━━\u001b[0m\u001b[37m\u001b[0m \u001b[1m1s\u001b[0m 12ms/step - accuracy: 0.8507 - loss: 0.2963 - val_accuracy: 0.4536 - val_loss: 6.3192 - learning_rate: 1.2500e-04\n"
     ]
    },
    {
     "name": "stderr",
     "output_type": "stream",
     "text": [
      "[I 2024-05-23 22:47:18,985] Trial 13 finished with value: 0.4510309398174286 and parameters: {'learning_rate': 1.7617025166978288e-05, 'dropout_rate': 0.11043146783369406, 'num_filters': 105, 'num_layers': 2}. Best is trial 6 with value: 0.4793814420700073.\n"
     ]
    },
    {
     "name": "stdout",
     "output_type": "stream",
     "text": [
      "Epoch 1/50\n",
      "\u001b[1m47/47\u001b[0m \u001b[32m━━━━━━━━━━━━━━━━━━━━\u001b[0m\u001b[37m\u001b[0m \u001b[1m3s\u001b[0m 16ms/step - accuracy: 0.6288 - loss: 0.6357 - val_accuracy: 0.3969 - val_loss: 1.1654 - learning_rate: 0.0010\n",
      "Epoch 2/50\n",
      "\u001b[1m47/47\u001b[0m \u001b[32m━━━━━━━━━━━━━━━━━━━━\u001b[0m\u001b[37m\u001b[0m \u001b[1m1s\u001b[0m 14ms/step - accuracy: 0.7265 - loss: 0.5141 - val_accuracy: 0.4639 - val_loss: 1.4780 - learning_rate: 0.0010\n",
      "Epoch 3/50\n",
      "\u001b[1m47/47\u001b[0m \u001b[32m━━━━━━━━━━━━━━━━━━━━\u001b[0m\u001b[37m\u001b[0m \u001b[1m1s\u001b[0m 16ms/step - accuracy: 0.7284 - loss: 0.4778 - val_accuracy: 0.4227 - val_loss: 2.5093 - learning_rate: 0.0010\n",
      "Epoch 4/50\n",
      "\u001b[1m47/47\u001b[0m \u001b[32m━━━━━━━━━━━━━━━━━━━━\u001b[0m\u001b[37m\u001b[0m \u001b[1m1s\u001b[0m 14ms/step - accuracy: 0.7305 - loss: 0.4708 - val_accuracy: 0.2268 - val_loss: 3.5479 - learning_rate: 0.0010\n",
      "Epoch 5/50\n",
      "\u001b[1m47/47\u001b[0m \u001b[32m━━━━━━━━━━━━━━━━━━━━\u001b[0m\u001b[37m\u001b[0m \u001b[1m1s\u001b[0m 16ms/step - accuracy: 0.7463 - loss: 0.4027 - val_accuracy: 0.3093 - val_loss: 3.7519 - learning_rate: 5.0000e-04\n",
      "Epoch 6/50\n",
      "\u001b[1m47/47\u001b[0m \u001b[32m━━━━━━━━━━━━━━━━━━━━\u001b[0m\u001b[37m\u001b[0m \u001b[1m1s\u001b[0m 16ms/step - accuracy: 0.7903 - loss: 0.3753 - val_accuracy: 0.4639 - val_loss: 4.1926 - learning_rate: 5.0000e-04\n",
      "Epoch 7/50\n",
      "\u001b[1m47/47\u001b[0m \u001b[32m━━━━━━━━━━━━━━━━━━━━\u001b[0m\u001b[37m\u001b[0m \u001b[1m1s\u001b[0m 13ms/step - accuracy: 0.8011 - loss: 0.3608 - val_accuracy: 0.4820 - val_loss: 4.5497 - learning_rate: 5.0000e-04\n",
      "Epoch 8/50\n",
      "\u001b[1m47/47\u001b[0m \u001b[32m━━━━━━━━━━━━━━━━━━━━\u001b[0m\u001b[37m\u001b[0m \u001b[1m1s\u001b[0m 11ms/step - accuracy: 0.8179 - loss: 0.3023 - val_accuracy: 0.3247 - val_loss: 5.4548 - learning_rate: 2.5000e-04\n",
      "Epoch 9/50\n",
      "\u001b[1m47/47\u001b[0m \u001b[32m━━━━━━━━━━━━━━━━━━━━\u001b[0m\u001b[37m\u001b[0m \u001b[1m1s\u001b[0m 17ms/step - accuracy: 0.8406 - loss: 0.2889 - val_accuracy: 0.3582 - val_loss: 5.4154 - learning_rate: 2.5000e-04\n",
      "Epoch 10/50\n",
      "\u001b[1m47/47\u001b[0m \u001b[32m━━━━━━━━━━━━━━━━━━━━\u001b[0m\u001b[37m\u001b[0m \u001b[1m1s\u001b[0m 12ms/step - accuracy: 0.8447 - loss: 0.2745 - val_accuracy: 0.3789 - val_loss: 6.3351 - learning_rate: 2.5000e-04\n",
      "Epoch 11/50\n",
      "\u001b[1m47/47\u001b[0m \u001b[32m━━━━━━━━━━━━━━━━━━━━\u001b[0m\u001b[37m\u001b[0m \u001b[1m1s\u001b[0m 16ms/step - accuracy: 0.8599 - loss: 0.2638 - val_accuracy: 0.3273 - val_loss: 6.1289 - learning_rate: 1.2500e-04\n"
     ]
    },
    {
     "name": "stderr",
     "output_type": "stream",
     "text": [
      "[I 2024-05-23 22:47:29,101] Trial 14 finished with value: 0.3969072103500366 and parameters: {'learning_rate': 1.2211652050761157e-05, 'dropout_rate': 0.10790765033487663, 'num_filters': 124, 'num_layers': 2}. Best is trial 6 with value: 0.4793814420700073.\n"
     ]
    },
    {
     "name": "stdout",
     "output_type": "stream",
     "text": [
      "Epoch 1/50\n",
      "\u001b[1m47/47\u001b[0m \u001b[32m━━━━━━━━━━━━━━━━━━━━\u001b[0m\u001b[37m\u001b[0m \u001b[1m2s\u001b[0m 15ms/step - accuracy: 0.6392 - loss: 0.6384 - val_accuracy: 0.4459 - val_loss: 0.8952 - learning_rate: 0.0010\n",
      "Epoch 2/50\n",
      "\u001b[1m47/47\u001b[0m \u001b[32m━━━━━━━━━━━━━━━━━━━━\u001b[0m\u001b[37m\u001b[0m \u001b[1m1s\u001b[0m 12ms/step - accuracy: 0.6898 - loss: 0.5632 - val_accuracy: 0.4149 - val_loss: 1.2716 - learning_rate: 0.0010\n",
      "Epoch 3/50\n",
      "\u001b[1m47/47\u001b[0m \u001b[32m━━━━━━━━━━━━━━━━━━━━\u001b[0m\u001b[37m\u001b[0m \u001b[1m0s\u001b[0m 10ms/step - accuracy: 0.7327 - loss: 0.5302 - val_accuracy: 0.4253 - val_loss: 1.5108 - learning_rate: 0.0010\n",
      "Epoch 4/50\n",
      "\u001b[1m47/47\u001b[0m \u001b[32m━━━━━━━━━━━━━━━━━━━━\u001b[0m\u001b[37m\u001b[0m \u001b[1m1s\u001b[0m 13ms/step - accuracy: 0.7676 - loss: 0.4816 - val_accuracy: 0.2938 - val_loss: 1.4816 - learning_rate: 0.0010\n",
      "Epoch 5/50\n",
      "\u001b[1m47/47\u001b[0m \u001b[32m━━━━━━━━━━━━━━━━━━━━\u001b[0m\u001b[37m\u001b[0m \u001b[1m1s\u001b[0m 13ms/step - accuracy: 0.7295 - loss: 0.4789 - val_accuracy: 0.3814 - val_loss: 2.2060 - learning_rate: 5.0000e-04\n",
      "Epoch 6/50\n",
      "\u001b[1m47/47\u001b[0m \u001b[32m━━━━━━━━━━━━━━━━━━━━\u001b[0m\u001b[37m\u001b[0m \u001b[1m1s\u001b[0m 13ms/step - accuracy: 0.7864 - loss: 0.4192 - val_accuracy: 0.2577 - val_loss: 2.2598 - learning_rate: 5.0000e-04\n",
      "Epoch 7/50\n",
      "\u001b[1m47/47\u001b[0m \u001b[32m━━━━━━━━━━━━━━━━━━━━\u001b[0m\u001b[37m\u001b[0m \u001b[1m1s\u001b[0m 14ms/step - accuracy: 0.7613 - loss: 0.4098 - val_accuracy: 0.3660 - val_loss: 2.6681 - learning_rate: 5.0000e-04\n",
      "Epoch 8/50\n",
      "\u001b[1m47/47\u001b[0m \u001b[32m━━━━━━━━━━━━━━━━━━━━\u001b[0m\u001b[37m\u001b[0m \u001b[1m1s\u001b[0m 14ms/step - accuracy: 0.8172 - loss: 0.3782 - val_accuracy: 0.3557 - val_loss: 2.9100 - learning_rate: 2.5000e-04\n",
      "Epoch 9/50\n",
      "\u001b[1m47/47\u001b[0m \u001b[32m━━━━━━━━━━━━━━━━━━━━\u001b[0m\u001b[37m\u001b[0m \u001b[1m1s\u001b[0m 13ms/step - accuracy: 0.8000 - loss: 0.3566 - val_accuracy: 0.3557 - val_loss: 3.1003 - learning_rate: 2.5000e-04\n",
      "Epoch 10/50\n",
      "\u001b[1m47/47\u001b[0m \u001b[32m━━━━━━━━━━━━━━━━━━━━\u001b[0m\u001b[37m\u001b[0m \u001b[1m1s\u001b[0m 10ms/step - accuracy: 0.8082 - loss: 0.3207 - val_accuracy: 0.3840 - val_loss: 3.3517 - learning_rate: 2.5000e-04\n",
      "Epoch 11/50\n",
      "\u001b[1m47/47\u001b[0m \u001b[32m━━━━━━━━━━━━━━━━━━━━\u001b[0m\u001b[37m\u001b[0m \u001b[1m1s\u001b[0m 14ms/step - accuracy: 0.8403 - loss: 0.3084 - val_accuracy: 0.4046 - val_loss: 3.7281 - learning_rate: 1.2500e-04\n"
     ]
    },
    {
     "name": "stderr",
     "output_type": "stream",
     "text": [
      "[I 2024-05-23 22:47:38,077] Trial 15 finished with value: 0.4458763003349304 and parameters: {'learning_rate': 0.0003289500946869617, 'dropout_rate': 0.12021306832324602, 'num_filters': 93, 'num_layers': 2}. Best is trial 6 with value: 0.4793814420700073.\n"
     ]
    },
    {
     "name": "stdout",
     "output_type": "stream",
     "text": [
      "Epoch 1/50\n",
      "\u001b[1m47/47\u001b[0m \u001b[32m━━━━━━━━━━━━━━━━━━━━\u001b[0m\u001b[37m\u001b[0m \u001b[1m2s\u001b[0m 12ms/step - accuracy: 0.5153 - loss: 0.6761 - val_accuracy: 0.4253 - val_loss: 0.9236 - learning_rate: 0.0010\n",
      "Epoch 2/50\n",
      "\u001b[1m47/47\u001b[0m \u001b[32m━━━━━━━━━━━━━━━━━━━━\u001b[0m\u001b[37m\u001b[0m \u001b[1m0s\u001b[0m 8ms/step - accuracy: 0.7034 - loss: 0.5918 - val_accuracy: 0.2191 - val_loss: 1.1349 - learning_rate: 0.0010\n",
      "Epoch 3/50\n",
      "\u001b[1m47/47\u001b[0m \u001b[32m━━━━━━━━━━━━━━━━━━━━\u001b[0m\u001b[37m\u001b[0m \u001b[1m0s\u001b[0m 8ms/step - accuracy: 0.7112 - loss: 0.5674 - val_accuracy: 0.2345 - val_loss: 1.1567 - learning_rate: 0.0010\n",
      "Epoch 4/50\n",
      "\u001b[1m47/47\u001b[0m \u001b[32m━━━━━━━━━━━━━━━━━━━━\u001b[0m\u001b[37m\u001b[0m \u001b[1m0s\u001b[0m 5ms/step - accuracy: 0.7350 - loss: 0.5332 - val_accuracy: 0.4820 - val_loss: 1.1144 - learning_rate: 0.0010\n",
      "Epoch 5/50\n",
      "\u001b[1m47/47\u001b[0m \u001b[32m━━━━━━━━━━━━━━━━━━━━\u001b[0m\u001b[37m\u001b[0m \u001b[1m0s\u001b[0m 7ms/step - accuracy: 0.7645 - loss: 0.5217 - val_accuracy: 0.4253 - val_loss: 1.3099 - learning_rate: 5.0000e-04\n",
      "Epoch 6/50\n",
      "\u001b[1m47/47\u001b[0m \u001b[32m━━━━━━━━━━━━━━━━━━━━\u001b[0m\u001b[37m\u001b[0m \u001b[1m0s\u001b[0m 5ms/step - accuracy: 0.7639 - loss: 0.4758 - val_accuracy: 0.4227 - val_loss: 1.4716 - learning_rate: 5.0000e-04\n",
      "Epoch 7/50\n",
      "\u001b[1m47/47\u001b[0m \u001b[32m━━━━━━━━━━━━━━━━━━━━\u001b[0m\u001b[37m\u001b[0m \u001b[1m0s\u001b[0m 5ms/step - accuracy: 0.7070 - loss: 0.4865 - val_accuracy: 0.4820 - val_loss: 1.7617 - learning_rate: 5.0000e-04\n",
      "Epoch 8/50\n",
      "\u001b[1m47/47\u001b[0m \u001b[32m━━━━━━━━━━━━━━━━━━━━\u001b[0m\u001b[37m\u001b[0m \u001b[1m0s\u001b[0m 5ms/step - accuracy: 0.7262 - loss: 0.4706 - val_accuracy: 0.4923 - val_loss: 1.9767 - learning_rate: 2.5000e-04\n",
      "Epoch 9/50\n",
      "\u001b[1m47/47\u001b[0m \u001b[32m━━━━━━━━━━━━━━━━━━━━\u001b[0m\u001b[37m\u001b[0m \u001b[1m0s\u001b[0m 7ms/step - accuracy: 0.7544 - loss: 0.4415 - val_accuracy: 0.5103 - val_loss: 2.0713 - learning_rate: 2.5000e-04\n",
      "Epoch 10/50\n",
      "\u001b[1m47/47\u001b[0m \u001b[32m━━━━━━━━━━━━━━━━━━━━\u001b[0m\u001b[37m\u001b[0m \u001b[1m0s\u001b[0m 7ms/step - accuracy: 0.7621 - loss: 0.4357 - val_accuracy: 0.5052 - val_loss: 2.2782 - learning_rate: 2.5000e-04\n",
      "Epoch 11/50\n",
      "\u001b[1m47/47\u001b[0m \u001b[32m━━━━━━━━━━━━━━━━━━━━\u001b[0m\u001b[37m\u001b[0m \u001b[1m0s\u001b[0m 7ms/step - accuracy: 0.7378 - loss: 0.4553 - val_accuracy: 0.5129 - val_loss: 2.3222 - learning_rate: 1.2500e-04\n"
     ]
    },
    {
     "name": "stderr",
     "output_type": "stream",
     "text": [
      "[I 2024-05-23 22:47:43,976] Trial 16 finished with value: 0.42525774240493774 and parameters: {'learning_rate': 3.1548070999699226e-05, 'dropout_rate': 0.2686058032665705, 'num_filters': 16, 'num_layers': 2}. Best is trial 6 with value: 0.4793814420700073.\n"
     ]
    },
    {
     "name": "stdout",
     "output_type": "stream",
     "text": [
      "Epoch 1/50\n",
      "\u001b[1m47/47\u001b[0m \u001b[32m━━━━━━━━━━━━━━━━━━━━\u001b[0m\u001b[37m\u001b[0m \u001b[1m3s\u001b[0m 12ms/step - accuracy: 0.6299 - loss: 0.6273 - val_accuracy: 0.3041 - val_loss: 0.9346 - learning_rate: 0.0010\n",
      "Epoch 2/50\n",
      "\u001b[1m47/47\u001b[0m \u001b[32m━━━━━━━━━━━━━━━━━━━━\u001b[0m\u001b[37m\u001b[0m \u001b[1m0s\u001b[0m 9ms/step - accuracy: 0.7118 - loss: 0.5383 - val_accuracy: 0.4356 - val_loss: 1.0969 - learning_rate: 0.0010\n",
      "Epoch 3/50\n",
      "\u001b[1m47/47\u001b[0m \u001b[32m━━━━━━━━━━━━━━━━━━━━\u001b[0m\u001b[37m\u001b[0m \u001b[1m0s\u001b[0m 9ms/step - accuracy: 0.7642 - loss: 0.4951 - val_accuracy: 0.5309 - val_loss: 1.5151 - learning_rate: 0.0010\n",
      "Epoch 4/50\n",
      "\u001b[1m47/47\u001b[0m \u001b[32m━━━━━━━━━━━━━━━━━━━━\u001b[0m\u001b[37m\u001b[0m \u001b[1m0s\u001b[0m 6ms/step - accuracy: 0.7440 - loss: 0.4817 - val_accuracy: 0.5464 - val_loss: 2.2545 - learning_rate: 0.0010\n",
      "Epoch 5/50\n",
      "\u001b[1m47/47\u001b[0m \u001b[32m━━━━━━━━━━━━━━━━━━━━\u001b[0m\u001b[37m\u001b[0m \u001b[1m0s\u001b[0m 8ms/step - accuracy: 0.7633 - loss: 0.4503 - val_accuracy: 0.5180 - val_loss: 2.5242 - learning_rate: 5.0000e-04\n",
      "Epoch 6/50\n",
      "\u001b[1m47/47\u001b[0m \u001b[32m━━━━━━━━━━━━━━━━━━━━\u001b[0m\u001b[37m\u001b[0m \u001b[1m0s\u001b[0m 7ms/step - accuracy: 0.7188 - loss: 0.4619 - val_accuracy: 0.5000 - val_loss: 3.2324 - learning_rate: 5.0000e-04\n",
      "Epoch 7/50\n",
      "\u001b[1m47/47\u001b[0m \u001b[32m━━━━━━━━━━━━━━━━━━━━\u001b[0m\u001b[37m\u001b[0m \u001b[1m0s\u001b[0m 5ms/step - accuracy: 0.7692 - loss: 0.4183 - val_accuracy: 0.5180 - val_loss: 3.3078 - learning_rate: 5.0000e-04\n",
      "Epoch 8/50\n",
      "\u001b[1m47/47\u001b[0m \u001b[32m━━━━━━━━━━━━━━━━━━━━\u001b[0m\u001b[37m\u001b[0m \u001b[1m0s\u001b[0m 8ms/step - accuracy: 0.7383 - loss: 0.4195 - val_accuracy: 0.5541 - val_loss: 3.4032 - learning_rate: 2.5000e-04\n",
      "Epoch 9/50\n",
      "\u001b[1m47/47\u001b[0m \u001b[32m━━━━━━━━━━━━━━━━━━━━\u001b[0m\u001b[37m\u001b[0m \u001b[1m0s\u001b[0m 8ms/step - accuracy: 0.7732 - loss: 0.3963 - val_accuracy: 0.5103 - val_loss: 3.8550 - learning_rate: 2.5000e-04\n",
      "Epoch 10/50\n",
      "\u001b[1m47/47\u001b[0m \u001b[32m━━━━━━━━━━━━━━━━━━━━\u001b[0m\u001b[37m\u001b[0m \u001b[1m0s\u001b[0m 6ms/step - accuracy: 0.7793 - loss: 0.3947 - val_accuracy: 0.3634 - val_loss: 4.2067 - learning_rate: 2.5000e-04\n",
      "Epoch 11/50\n",
      "\u001b[1m47/47\u001b[0m \u001b[32m━━━━━━━━━━━━━━━━━━━━\u001b[0m\u001b[37m\u001b[0m \u001b[1m0s\u001b[0m 7ms/step - accuracy: 0.8160 - loss: 0.3583 - val_accuracy: 0.4768 - val_loss: 4.3144 - learning_rate: 1.2500e-04\n"
     ]
    },
    {
     "name": "stderr",
     "output_type": "stream",
     "text": [
      "[I 2024-05-23 22:47:50,890] Trial 17 finished with value: 0.3041236996650696 and parameters: {'learning_rate': 0.00037798214522627037, 'dropout_rate': 0.13427006161490027, 'num_filters': 27, 'num_layers': 2}. Best is trial 6 with value: 0.4793814420700073.\n"
     ]
    },
    {
     "name": "stdout",
     "output_type": "stream",
     "text": [
      "Epoch 1/50\n",
      "\u001b[1m47/47\u001b[0m \u001b[32m━━━━━━━━━━━━━━━━━━━━\u001b[0m\u001b[37m\u001b[0m \u001b[1m2s\u001b[0m 13ms/step - accuracy: 0.6271 - loss: 0.6658 - val_accuracy: 0.1546 - val_loss: 1.1790 - learning_rate: 0.0010\n",
      "Epoch 2/50\n",
      "\u001b[1m47/47\u001b[0m \u001b[32m━━━━━━━━━━━━━━━━━━━━\u001b[0m\u001b[37m\u001b[0m \u001b[1m0s\u001b[0m 5ms/step - accuracy: 0.6664 - loss: 0.5927 - val_accuracy: 0.1907 - val_loss: 1.5149 - learning_rate: 0.0010\n",
      "Epoch 3/50\n",
      "\u001b[1m47/47\u001b[0m \u001b[32m━━━━━━━━━━━━━━━━━━━━\u001b[0m\u001b[37m\u001b[0m \u001b[1m0s\u001b[0m 7ms/step - accuracy: 0.7053 - loss: 0.5230 - val_accuracy: 0.1546 - val_loss: 1.6038 - learning_rate: 0.0010\n",
      "Epoch 4/50\n",
      "\u001b[1m47/47\u001b[0m \u001b[32m━━━━━━━━━━━━━━━━━━━━\u001b[0m\u001b[37m\u001b[0m \u001b[1m0s\u001b[0m 8ms/step - accuracy: 0.7226 - loss: 0.5027 - val_accuracy: 0.2706 - val_loss: 2.3539 - learning_rate: 0.0010\n",
      "Epoch 5/50\n",
      "\u001b[1m47/47\u001b[0m \u001b[32m━━━━━━━━━━━━━━━━━━━━\u001b[0m\u001b[37m\u001b[0m \u001b[1m0s\u001b[0m 6ms/step - accuracy: 0.6667 - loss: 0.4861 - val_accuracy: 0.2706 - val_loss: 2.7879 - learning_rate: 5.0000e-04\n",
      "Epoch 6/50\n",
      "\u001b[1m47/47\u001b[0m \u001b[32m━━━━━━━━━━━━━━━━━━━━\u001b[0m\u001b[37m\u001b[0m \u001b[1m0s\u001b[0m 5ms/step - accuracy: 0.6708 - loss: 0.4805 - val_accuracy: 0.3789 - val_loss: 2.9879 - learning_rate: 5.0000e-04\n",
      "Epoch 7/50\n",
      "\u001b[1m47/47\u001b[0m \u001b[32m━━━━━━━━━━━━━━━━━━━━\u001b[0m\u001b[37m\u001b[0m \u001b[1m0s\u001b[0m 8ms/step - accuracy: 0.7082 - loss: 0.4304 - val_accuracy: 0.4820 - val_loss: 3.2828 - learning_rate: 5.0000e-04\n",
      "Epoch 8/50\n",
      "\u001b[1m47/47\u001b[0m \u001b[32m━━━━━━━━━━━━━━━━━━━━\u001b[0m\u001b[37m\u001b[0m \u001b[1m0s\u001b[0m 6ms/step - accuracy: 0.7216 - loss: 0.4323 - val_accuracy: 0.3814 - val_loss: 3.6255 - learning_rate: 2.5000e-04\n",
      "Epoch 9/50\n",
      "\u001b[1m47/47\u001b[0m \u001b[32m━━━━━━━━━━━━━━━━━━━━\u001b[0m\u001b[37m\u001b[0m \u001b[1m0s\u001b[0m 7ms/step - accuracy: 0.7255 - loss: 0.4194 - val_accuracy: 0.4562 - val_loss: 3.5993 - learning_rate: 2.5000e-04\n",
      "Epoch 10/50\n",
      "\u001b[1m47/47\u001b[0m \u001b[32m━━━━━━━━━━━━━━━━━━━━\u001b[0m\u001b[37m\u001b[0m \u001b[1m0s\u001b[0m 5ms/step - accuracy: 0.7349 - loss: 0.4110 - val_accuracy: 0.4433 - val_loss: 4.1130 - learning_rate: 2.5000e-04\n",
      "Epoch 11/50\n",
      "\u001b[1m47/47\u001b[0m \u001b[32m━━━━━━━━━━━━━━━━━━━━\u001b[0m\u001b[37m\u001b[0m \u001b[1m0s\u001b[0m 6ms/step - accuracy: 0.7410 - loss: 0.4126 - val_accuracy: 0.4485 - val_loss: 4.0794 - learning_rate: 1.2500e-04\n"
     ]
    },
    {
     "name": "stderr",
     "output_type": "stream",
     "text": [
      "[I 2024-05-23 22:47:56,833] Trial 18 finished with value: 0.15463916957378387 and parameters: {'learning_rate': 4.1214210913311686e-05, 'dropout_rate': 0.31000002547556865, 'num_filters': 27, 'num_layers': 2}. Best is trial 6 with value: 0.4793814420700073.\n"
     ]
    },
    {
     "name": "stdout",
     "output_type": "stream",
     "text": [
      "Epoch 1/50\n",
      "\u001b[1m47/47\u001b[0m \u001b[32m━━━━━━━━━━━━━━━━━━━━\u001b[0m\u001b[37m\u001b[0m \u001b[1m3s\u001b[0m 17ms/step - accuracy: 0.6505 - loss: 0.6298 - val_accuracy: 0.2216 - val_loss: 1.0668 - learning_rate: 0.0010\n",
      "Epoch 2/50\n",
      "\u001b[1m47/47\u001b[0m \u001b[32m━━━━━━━━━━━━━━━━━━━━\u001b[0m\u001b[37m\u001b[0m \u001b[1m1s\u001b[0m 13ms/step - accuracy: 0.6930 - loss: 0.5292 - val_accuracy: 0.4768 - val_loss: 1.9239 - learning_rate: 0.0010\n",
      "Epoch 3/50\n",
      "\u001b[1m47/47\u001b[0m \u001b[32m━━━━━━━━━━━━━━━━━━━━\u001b[0m\u001b[37m\u001b[0m \u001b[1m1s\u001b[0m 14ms/step - accuracy: 0.7349 - loss: 0.4950 - val_accuracy: 0.2371 - val_loss: 3.4590 - learning_rate: 0.0010\n",
      "Epoch 4/50\n",
      "\u001b[1m47/47\u001b[0m \u001b[32m━━━━━━━━━━━━━━━━━━━━\u001b[0m\u001b[37m\u001b[0m \u001b[1m1s\u001b[0m 13ms/step - accuracy: 0.7079 - loss: 0.4392 - val_accuracy: 0.4278 - val_loss: 4.3780 - learning_rate: 0.0010\n",
      "Epoch 5/50\n",
      "\u001b[1m47/47\u001b[0m \u001b[32m━━━━━━━━━━━━━━━━━━━━\u001b[0m\u001b[37m\u001b[0m \u001b[1m1s\u001b[0m 15ms/step - accuracy: 0.7669 - loss: 0.3877 - val_accuracy: 0.2938 - val_loss: 5.6977 - learning_rate: 5.0000e-04\n",
      "Epoch 6/50\n",
      "\u001b[1m47/47\u001b[0m \u001b[32m━━━━━━━━━━━━━━━━━━━━\u001b[0m\u001b[37m\u001b[0m \u001b[1m1s\u001b[0m 11ms/step - accuracy: 0.7871 - loss: 0.3632 - val_accuracy: 0.3686 - val_loss: 4.9929 - learning_rate: 5.0000e-04\n",
      "Epoch 7/50\n",
      "\u001b[1m47/47\u001b[0m \u001b[32m━━━━━━━━━━━━━━━━━━━━\u001b[0m\u001b[37m\u001b[0m \u001b[1m1s\u001b[0m 12ms/step - accuracy: 0.8046 - loss: 0.3157 - val_accuracy: 0.3067 - val_loss: 5.9699 - learning_rate: 5.0000e-04\n",
      "Epoch 8/50\n",
      "\u001b[1m47/47\u001b[0m \u001b[32m━━━━━━━━━━━━━━━━━━━━\u001b[0m\u001b[37m\u001b[0m \u001b[1m1s\u001b[0m 16ms/step - accuracy: 0.8155 - loss: 0.2890 - val_accuracy: 0.3067 - val_loss: 6.7747 - learning_rate: 2.5000e-04\n",
      "Epoch 9/50\n",
      "\u001b[1m47/47\u001b[0m \u001b[32m━━━━━━━━━━━━━━━━━━━━\u001b[0m\u001b[37m\u001b[0m \u001b[1m1s\u001b[0m 15ms/step - accuracy: 0.8218 - loss: 0.2904 - val_accuracy: 0.3015 - val_loss: 6.7703 - learning_rate: 2.5000e-04\n",
      "Epoch 10/50\n",
      "\u001b[1m47/47\u001b[0m \u001b[32m━━━━━━━━━━━━━━━━━━━━\u001b[0m\u001b[37m\u001b[0m \u001b[1m1s\u001b[0m 12ms/step - accuracy: 0.8376 - loss: 0.2783 - val_accuracy: 0.3840 - val_loss: 7.9965 - learning_rate: 2.5000e-04\n",
      "Epoch 11/50\n",
      "\u001b[1m47/47\u001b[0m \u001b[32m━━━━━━━━━━━━━━━━━━━━\u001b[0m\u001b[37m\u001b[0m \u001b[1m1s\u001b[0m 15ms/step - accuracy: 0.8571 - loss: 0.2829 - val_accuracy: 0.3918 - val_loss: 8.7561 - learning_rate: 1.2500e-04\n"
     ]
    },
    {
     "name": "stderr",
     "output_type": "stream",
     "text": [
      "[I 2024-05-23 22:48:06,754] Trial 19 finished with value: 0.22164948284626007 and parameters: {'learning_rate': 1.1091388965342988e-05, 'dropout_rate': 0.008176933057748262, 'num_filters': 101, 'num_layers': 3}. Best is trial 6 with value: 0.4793814420700073.\n"
     ]
    },
    {
     "name": "stdout",
     "output_type": "stream",
     "text": [
      "Epoch 1/50\n",
      "\u001b[1m47/47\u001b[0m \u001b[32m━━━━━━━━━━━━━━━━━━━━\u001b[0m\u001b[37m\u001b[0m \u001b[1m2s\u001b[0m 13ms/step - accuracy: 0.6590 - loss: 0.6489 - val_accuracy: 0.4330 - val_loss: 1.0667 - learning_rate: 0.0010\n",
      "Epoch 2/50\n",
      "\u001b[1m47/47\u001b[0m \u001b[32m━━━━━━━━━━━━━━━━━━━━\u001b[0m\u001b[37m\u001b[0m \u001b[1m0s\u001b[0m 7ms/step - accuracy: 0.6944 - loss: 0.5494 - val_accuracy: 0.4588 - val_loss: 1.4370 - learning_rate: 0.0010\n",
      "Epoch 3/50\n",
      "\u001b[1m47/47\u001b[0m \u001b[32m━━━━━━━━━━━━━━━━━━━━\u001b[0m\u001b[37m\u001b[0m \u001b[1m0s\u001b[0m 9ms/step - accuracy: 0.7090 - loss: 0.4957 - val_accuracy: 0.4845 - val_loss: 2.6090 - learning_rate: 0.0010\n",
      "Epoch 4/50\n",
      "\u001b[1m47/47\u001b[0m \u001b[32m━━━━━━━━━━━━━━━━━━━━\u001b[0m\u001b[37m\u001b[0m \u001b[1m0s\u001b[0m 7ms/step - accuracy: 0.7150 - loss: 0.4676 - val_accuracy: 0.4356 - val_loss: 3.2918 - learning_rate: 0.0010\n",
      "Epoch 5/50\n",
      "\u001b[1m47/47\u001b[0m \u001b[32m━━━━━━━━━━━━━━━━━━━━\u001b[0m\u001b[37m\u001b[0m \u001b[1m0s\u001b[0m 8ms/step - accuracy: 0.7407 - loss: 0.4143 - val_accuracy: 0.4923 - val_loss: 4.0476 - learning_rate: 5.0000e-04\n",
      "Epoch 6/50\n",
      "\u001b[1m47/47\u001b[0m \u001b[32m━━━━━━━━━━━━━━━━━━━━\u001b[0m\u001b[37m\u001b[0m \u001b[1m0s\u001b[0m 8ms/step - accuracy: 0.7287 - loss: 0.4137 - val_accuracy: 0.4923 - val_loss: 3.8074 - learning_rate: 5.0000e-04\n",
      "Epoch 7/50\n",
      "\u001b[1m47/47\u001b[0m \u001b[32m━━━━━━━━━━━━━━━━━━━━\u001b[0m\u001b[37m\u001b[0m \u001b[1m0s\u001b[0m 9ms/step - accuracy: 0.7593 - loss: 0.3934 - val_accuracy: 0.5232 - val_loss: 4.1175 - learning_rate: 5.0000e-04\n",
      "Epoch 8/50\n",
      "\u001b[1m47/47\u001b[0m \u001b[32m━━━━━━━━━━━━━━━━━━━━\u001b[0m\u001b[37m\u001b[0m \u001b[1m0s\u001b[0m 9ms/step - accuracy: 0.8185 - loss: 0.3609 - val_accuracy: 0.4716 - val_loss: 4.3585 - learning_rate: 2.5000e-04\n",
      "Epoch 9/50\n",
      "\u001b[1m47/47\u001b[0m \u001b[32m━━━━━━━━━━━━━━━━━━━━\u001b[0m\u001b[37m\u001b[0m \u001b[1m0s\u001b[0m 7ms/step - accuracy: 0.8108 - loss: 0.3637 - val_accuracy: 0.5077 - val_loss: 5.2661 - learning_rate: 2.5000e-04\n",
      "Epoch 10/50\n",
      "\u001b[1m47/47\u001b[0m \u001b[32m━━━━━━━━━━━━━━━━━━━━\u001b[0m\u001b[37m\u001b[0m \u001b[1m0s\u001b[0m 8ms/step - accuracy: 0.8253 - loss: 0.3491 - val_accuracy: 0.4227 - val_loss: 5.0457 - learning_rate: 2.5000e-04\n",
      "Epoch 11/50\n",
      "\u001b[1m47/47\u001b[0m \u001b[32m━━━━━━━━━━━━━━━━━━━━\u001b[0m\u001b[37m\u001b[0m \u001b[1m1s\u001b[0m 10ms/step - accuracy: 0.8494 - loss: 0.3212 - val_accuracy: 0.3582 - val_loss: 5.1802 - learning_rate: 1.2500e-04\n"
     ]
    },
    {
     "name": "stderr",
     "output_type": "stream",
     "text": [
      "[I 2024-05-23 22:48:13,621] Trial 20 finished with value: 0.4329896867275238 and parameters: {'learning_rate': 0.00046893164692144096, 'dropout_rate': 0.14626670609385997, 'num_filters': 50, 'num_layers': 2}. Best is trial 6 with value: 0.4793814420700073.\n"
     ]
    },
    {
     "name": "stdout",
     "output_type": "stream",
     "text": [
      "Epoch 1/50\n",
      "\u001b[1m47/47\u001b[0m \u001b[32m━━━━━━━━━━━━━━━━━━━━\u001b[0m\u001b[37m\u001b[0m \u001b[1m2s\u001b[0m 15ms/step - accuracy: 0.6046 - loss: 0.6454 - val_accuracy: 0.4278 - val_loss: 0.8935 - learning_rate: 0.0010\n",
      "Epoch 2/50\n",
      "\u001b[1m47/47\u001b[0m \u001b[32m━━━━━━━━━━━━━━━━━━━━\u001b[0m\u001b[37m\u001b[0m \u001b[1m1s\u001b[0m 11ms/step - accuracy: 0.7312 - loss: 0.5471 - val_accuracy: 0.4381 - val_loss: 1.0570 - learning_rate: 0.0010\n",
      "Epoch 3/50\n",
      "\u001b[1m47/47\u001b[0m \u001b[32m━━━━━━━━━━━━━━━━━━━━\u001b[0m\u001b[37m\u001b[0m \u001b[1m1s\u001b[0m 14ms/step - accuracy: 0.7537 - loss: 0.5026 - val_accuracy: 0.5567 - val_loss: 1.4354 - learning_rate: 0.0010\n",
      "Epoch 4/50\n",
      "\u001b[1m47/47\u001b[0m \u001b[32m━━━━━━━━━━━━━━━━━━━━\u001b[0m\u001b[37m\u001b[0m \u001b[1m1s\u001b[0m 14ms/step - accuracy: 0.7435 - loss: 0.4586 - val_accuracy: 0.5000 - val_loss: 1.7661 - learning_rate: 0.0010\n",
      "Epoch 5/50\n",
      "\u001b[1m47/47\u001b[0m \u001b[32m━━━━━━━━━━━━━━━━━━━━\u001b[0m\u001b[37m\u001b[0m \u001b[1m1s\u001b[0m 14ms/step - accuracy: 0.7260 - loss: 0.4741 - val_accuracy: 0.4510 - val_loss: 3.5162 - learning_rate: 5.0000e-04\n",
      "Epoch 6/50\n",
      "\u001b[1m47/47\u001b[0m \u001b[32m━━━━━━━━━━━━━━━━━━━━\u001b[0m\u001b[37m\u001b[0m \u001b[1m0s\u001b[0m 9ms/step - accuracy: 0.7532 - loss: 0.4299 - val_accuracy: 0.3969 - val_loss: 4.6354 - learning_rate: 5.0000e-04\n",
      "Epoch 7/50\n",
      "\u001b[1m47/47\u001b[0m \u001b[32m━━━━━━━━━━━━━━━━━━━━\u001b[0m\u001b[37m\u001b[0m \u001b[1m1s\u001b[0m 15ms/step - accuracy: 0.7752 - loss: 0.4027 - val_accuracy: 0.2990 - val_loss: 5.2026 - learning_rate: 5.0000e-04\n",
      "Epoch 8/50\n",
      "\u001b[1m47/47\u001b[0m \u001b[32m━━━━━━━━━━━━━━━━━━━━\u001b[0m\u001b[37m\u001b[0m \u001b[1m1s\u001b[0m 14ms/step - accuracy: 0.7938 - loss: 0.3721 - val_accuracy: 0.3351 - val_loss: 5.1218 - learning_rate: 2.5000e-04\n",
      "Epoch 9/50\n",
      "\u001b[1m47/47\u001b[0m \u001b[32m━━━━━━━━━━━━━━━━━━━━\u001b[0m\u001b[37m\u001b[0m \u001b[1m1s\u001b[0m 13ms/step - accuracy: 0.8022 - loss: 0.3615 - val_accuracy: 0.3892 - val_loss: 5.3657 - learning_rate: 2.5000e-04\n",
      "Epoch 10/50\n",
      "\u001b[1m47/47\u001b[0m \u001b[32m━━━━━━━━━━━━━━━━━━━━\u001b[0m\u001b[37m\u001b[0m \u001b[1m1s\u001b[0m 13ms/step - accuracy: 0.8168 - loss: 0.3331 - val_accuracy: 0.4046 - val_loss: 6.0977 - learning_rate: 2.5000e-04\n",
      "Epoch 11/50\n",
      "\u001b[1m47/47\u001b[0m \u001b[32m━━━━━━━━━━━━━━━━━━━━\u001b[0m\u001b[37m\u001b[0m \u001b[1m1s\u001b[0m 14ms/step - accuracy: 0.8212 - loss: 0.3232 - val_accuracy: 0.4253 - val_loss: 5.8140 - learning_rate: 1.2500e-04\n"
     ]
    },
    {
     "name": "stderr",
     "output_type": "stream",
     "text": [
      "[I 2024-05-23 22:48:23,001] Trial 21 finished with value: 0.42783504724502563 and parameters: {'learning_rate': 0.0002569815347668672, 'dropout_rate': 0.1048552925710913, 'num_filters': 93, 'num_layers': 2}. Best is trial 6 with value: 0.4793814420700073.\n"
     ]
    },
    {
     "name": "stdout",
     "output_type": "stream",
     "text": [
      "Epoch 1/50\n",
      "\u001b[1m47/47\u001b[0m \u001b[32m━━━━━━━━━━━━━━━━━━━━\u001b[0m\u001b[37m\u001b[0m \u001b[1m2s\u001b[0m 14ms/step - accuracy: 0.6177 - loss: 0.6356 - val_accuracy: 0.2268 - val_loss: 0.9843 - learning_rate: 0.0010\n",
      "Epoch 2/50\n",
      "\u001b[1m47/47\u001b[0m \u001b[32m━━━━━━━━━━━━━━━━━━━━\u001b[0m\u001b[37m\u001b[0m \u001b[1m0s\u001b[0m 8ms/step - accuracy: 0.7161 - loss: 0.5427 - val_accuracy: 0.2139 - val_loss: 1.3899 - learning_rate: 0.0010\n",
      "Epoch 3/50\n",
      "\u001b[1m47/47\u001b[0m \u001b[32m━━━━━━━━━━━━━━━━━━━━\u001b[0m\u001b[37m\u001b[0m \u001b[1m1s\u001b[0m 12ms/step - accuracy: 0.6954 - loss: 0.5405 - val_accuracy: 0.2732 - val_loss: 1.6890 - learning_rate: 0.0010\n",
      "Epoch 4/50\n",
      "\u001b[1m47/47\u001b[0m \u001b[32m━━━━━━━━━━━━━━━━━━━━\u001b[0m\u001b[37m\u001b[0m \u001b[1m1s\u001b[0m 12ms/step - accuracy: 0.7276 - loss: 0.4876 - val_accuracy: 0.4381 - val_loss: 2.4362 - learning_rate: 0.0010\n",
      "Epoch 5/50\n",
      "\u001b[1m47/47\u001b[0m \u001b[32m━━━━━━━━━━━━━━━━━━━━\u001b[0m\u001b[37m\u001b[0m \u001b[1m1s\u001b[0m 11ms/step - accuracy: 0.7673 - loss: 0.4526 - val_accuracy: 0.1856 - val_loss: 2.7023 - learning_rate: 5.0000e-04\n",
      "Epoch 6/50\n",
      "\u001b[1m47/47\u001b[0m \u001b[32m━━━━━━━━━━━━━━━━━━━━\u001b[0m\u001b[37m\u001b[0m \u001b[1m0s\u001b[0m 9ms/step - accuracy: 0.7599 - loss: 0.4201 - val_accuracy: 0.4485 - val_loss: 2.9130 - learning_rate: 5.0000e-04\n",
      "Epoch 7/50\n",
      "\u001b[1m47/47\u001b[0m \u001b[32m━━━━━━━━━━━━━━━━━━━━\u001b[0m\u001b[37m\u001b[0m \u001b[1m1s\u001b[0m 12ms/step - accuracy: 0.7668 - loss: 0.4132 - val_accuracy: 0.4639 - val_loss: 3.9047 - learning_rate: 5.0000e-04\n",
      "Epoch 8/50\n",
      "\u001b[1m47/47\u001b[0m \u001b[32m━━━━━━━━━━━━━━━━━━━━\u001b[0m\u001b[37m\u001b[0m \u001b[1m1s\u001b[0m 12ms/step - accuracy: 0.7801 - loss: 0.3781 - val_accuracy: 0.4845 - val_loss: 3.7684 - learning_rate: 2.5000e-04\n",
      "Epoch 9/50\n",
      "\u001b[1m47/47\u001b[0m \u001b[32m━━━━━━━━━━━━━━━━━━━━\u001b[0m\u001b[37m\u001b[0m \u001b[1m1s\u001b[0m 12ms/step - accuracy: 0.8144 - loss: 0.3558 - val_accuracy: 0.4021 - val_loss: 4.2693 - learning_rate: 2.5000e-04\n",
      "Epoch 10/50\n",
      "\u001b[1m47/47\u001b[0m \u001b[32m━━━━━━━━━━━━━━━━━━━━\u001b[0m\u001b[37m\u001b[0m \u001b[1m0s\u001b[0m 9ms/step - accuracy: 0.8001 - loss: 0.3306 - val_accuracy: 0.3299 - val_loss: 4.6102 - learning_rate: 2.5000e-04\n",
      "Epoch 11/50\n",
      "\u001b[1m47/47\u001b[0m \u001b[32m━━━━━━━━━━━━━━━━━━━━\u001b[0m\u001b[37m\u001b[0m \u001b[1m1s\u001b[0m 13ms/step - accuracy: 0.8127 - loss: 0.3220 - val_accuracy: 0.3840 - val_loss: 4.8564 - learning_rate: 1.2500e-04\n"
     ]
    },
    {
     "name": "stderr",
     "output_type": "stream",
     "text": [
      "[I 2024-05-23 22:48:31,421] Trial 22 finished with value: 0.22680412232875824 and parameters: {'learning_rate': 5.967374129395e-05, 'dropout_rate': 0.06112750841314848, 'num_filters': 79, 'num_layers': 2}. Best is trial 6 with value: 0.4793814420700073.\n"
     ]
    },
    {
     "name": "stdout",
     "output_type": "stream",
     "text": [
      "Epoch 1/50\n",
      "\u001b[1m47/47\u001b[0m \u001b[32m━━━━━━━━━━━━━━━━━━━━\u001b[0m\u001b[37m\u001b[0m \u001b[1m3s\u001b[0m 19ms/step - accuracy: 0.6238 - loss: 0.6298 - val_accuracy: 0.4639 - val_loss: 1.2036 - learning_rate: 0.0010\n",
      "Epoch 2/50\n",
      "\u001b[1m47/47\u001b[0m \u001b[32m━━━━━━━━━━━━━━━━━━━━\u001b[0m\u001b[37m\u001b[0m \u001b[1m1s\u001b[0m 14ms/step - accuracy: 0.7205 - loss: 0.5388 - val_accuracy: 0.5103 - val_loss: 0.9899 - learning_rate: 0.0010\n",
      "Epoch 3/50\n",
      "\u001b[1m47/47\u001b[0m \u001b[32m━━━━━━━━━━━━━━━━━━━━\u001b[0m\u001b[37m\u001b[0m \u001b[1m1s\u001b[0m 14ms/step - accuracy: 0.6736 - loss: 0.5385 - val_accuracy: 0.5180 - val_loss: 2.4131 - learning_rate: 0.0010\n",
      "Epoch 4/50\n",
      "\u001b[1m47/47\u001b[0m \u001b[32m━━━━━━━━━━━━━━━━━━━━\u001b[0m\u001b[37m\u001b[0m \u001b[1m1s\u001b[0m 11ms/step - accuracy: 0.7550 - loss: 0.4853 - val_accuracy: 0.2423 - val_loss: 3.5014 - learning_rate: 0.0010\n",
      "Epoch 5/50\n",
      "\u001b[1m47/47\u001b[0m \u001b[32m━━━━━━━━━━━━━━━━━━━━\u001b[0m\u001b[37m\u001b[0m \u001b[1m1s\u001b[0m 14ms/step - accuracy: 0.6910 - loss: 0.4652 - val_accuracy: 0.4665 - val_loss: 4.4150 - learning_rate: 0.0010\n",
      "Epoch 6/50\n",
      "\u001b[1m47/47\u001b[0m \u001b[32m━━━━━━━━━━━━━━━━━━━━\u001b[0m\u001b[37m\u001b[0m \u001b[1m1s\u001b[0m 11ms/step - accuracy: 0.7187 - loss: 0.4420 - val_accuracy: 0.4948 - val_loss: 4.0700 - learning_rate: 5.0000e-04\n",
      "Epoch 7/50\n",
      "\u001b[1m47/47\u001b[0m \u001b[32m━━━━━━━━━━━━━━━━━━━━\u001b[0m\u001b[37m\u001b[0m \u001b[1m1s\u001b[0m 11ms/step - accuracy: 0.7595 - loss: 0.3991 - val_accuracy: 0.2990 - val_loss: 4.8243 - learning_rate: 5.0000e-04\n",
      "Epoch 8/50\n",
      "\u001b[1m47/47\u001b[0m \u001b[32m━━━━━━━━━━━━━━━━━━━━\u001b[0m\u001b[37m\u001b[0m \u001b[1m1s\u001b[0m 14ms/step - accuracy: 0.7822 - loss: 0.3867 - val_accuracy: 0.3582 - val_loss: 6.2123 - learning_rate: 5.0000e-04\n",
      "Epoch 9/50\n",
      "\u001b[1m47/47\u001b[0m \u001b[32m━━━━━━━━━━━━━━━━━━━━\u001b[0m\u001b[37m\u001b[0m \u001b[1m1s\u001b[0m 12ms/step - accuracy: 0.8048 - loss: 0.3561 - val_accuracy: 0.3789 - val_loss: 5.8203 - learning_rate: 2.5000e-04\n",
      "Epoch 10/50\n",
      "\u001b[1m47/47\u001b[0m \u001b[32m━━━━━━━━━━━━━━━━━━━━\u001b[0m\u001b[37m\u001b[0m \u001b[1m1s\u001b[0m 10ms/step - accuracy: 0.8019 - loss: 0.3185 - val_accuracy: 0.3093 - val_loss: 6.8980 - learning_rate: 2.5000e-04\n",
      "Epoch 11/50\n",
      "\u001b[1m47/47\u001b[0m \u001b[32m━━━━━━━━━━━━━━━━━━━━\u001b[0m\u001b[37m\u001b[0m \u001b[1m1s\u001b[0m 14ms/step - accuracy: 0.8285 - loss: 0.3148 - val_accuracy: 0.4330 - val_loss: 7.4571 - learning_rate: 2.5000e-04\n",
      "Epoch 12/50\n",
      "\u001b[1m47/47\u001b[0m \u001b[32m━━━━━━━━━━━━━━━━━━━━\u001b[0m\u001b[37m\u001b[0m \u001b[1m1s\u001b[0m 12ms/step - accuracy: 0.8281 - loss: 0.3087 - val_accuracy: 0.4021 - val_loss: 7.3851 - learning_rate: 1.2500e-04\n"
     ]
    },
    {
     "name": "stderr",
     "output_type": "stream",
     "text": [
      "[I 2024-05-23 22:48:41,431] Trial 23 finished with value: 0.5103092789649963 and parameters: {'learning_rate': 0.003336057634006308, 'dropout_rate': 0.20615810309352567, 'num_filters': 109, 'num_layers': 2}. Best is trial 23 with value: 0.5103092789649963.\n"
     ]
    },
    {
     "name": "stdout",
     "output_type": "stream",
     "text": [
      "Epoch 1/50\n",
      "\u001b[1m47/47\u001b[0m \u001b[32m━━━━━━━━━━━━━━━━━━━━\u001b[0m\u001b[37m\u001b[0m \u001b[1m3s\u001b[0m 17ms/step - accuracy: 0.5977 - loss: 0.6517 - val_accuracy: 0.2680 - val_loss: 0.9905 - learning_rate: 0.0010\n",
      "Epoch 2/50\n",
      "\u001b[1m47/47\u001b[0m \u001b[32m━━━━━━━━━━━━━━━━━━━━\u001b[0m\u001b[37m\u001b[0m \u001b[1m1s\u001b[0m 15ms/step - accuracy: 0.7214 - loss: 0.5660 - val_accuracy: 0.2216 - val_loss: 1.6339 - learning_rate: 0.0010\n",
      "Epoch 3/50\n",
      "\u001b[1m47/47\u001b[0m \u001b[32m━━━━━━━━━━━━━━━━━━━━\u001b[0m\u001b[37m\u001b[0m \u001b[1m1s\u001b[0m 15ms/step - accuracy: 0.6888 - loss: 0.5429 - val_accuracy: 0.1933 - val_loss: 2.2207 - learning_rate: 0.0010\n",
      "Epoch 4/50\n",
      "\u001b[1m47/47\u001b[0m \u001b[32m━━━━━━━━━━━━━━━━━━━━\u001b[0m\u001b[37m\u001b[0m \u001b[1m1s\u001b[0m 12ms/step - accuracy: 0.6989 - loss: 0.5142 - val_accuracy: 0.2165 - val_loss: 3.2343 - learning_rate: 0.0010\n",
      "Epoch 5/50\n",
      "\u001b[1m47/47\u001b[0m \u001b[32m━━━━━━━━━━━━━━━━━━━━\u001b[0m\u001b[37m\u001b[0m \u001b[1m1s\u001b[0m 14ms/step - accuracy: 0.7306 - loss: 0.4650 - val_accuracy: 0.4845 - val_loss: 3.4094 - learning_rate: 5.0000e-04\n",
      "Epoch 6/50\n",
      "\u001b[1m47/47\u001b[0m \u001b[32m━━━━━━━━━━━━━━━━━━━━\u001b[0m\u001b[37m\u001b[0m \u001b[1m1s\u001b[0m 15ms/step - accuracy: 0.7769 - loss: 0.4269 - val_accuracy: 0.4897 - val_loss: 4.1144 - learning_rate: 5.0000e-04\n",
      "Epoch 7/50\n",
      "\u001b[1m47/47\u001b[0m \u001b[32m━━━━━━━━━━━━━━━━━━━━\u001b[0m\u001b[37m\u001b[0m \u001b[1m1s\u001b[0m 15ms/step - accuracy: 0.7633 - loss: 0.4283 - val_accuracy: 0.3892 - val_loss: 5.1986 - learning_rate: 5.0000e-04\n",
      "Epoch 8/50\n",
      "\u001b[1m47/47\u001b[0m \u001b[32m━━━━━━━━━━━━━━━━━━━━\u001b[0m\u001b[37m\u001b[0m \u001b[1m1s\u001b[0m 14ms/step - accuracy: 0.7884 - loss: 0.3618 - val_accuracy: 0.4227 - val_loss: 4.8822 - learning_rate: 2.5000e-04\n",
      "Epoch 9/50\n",
      "\u001b[1m47/47\u001b[0m \u001b[32m━━━━━━━━━━━━━━━━━━━━\u001b[0m\u001b[37m\u001b[0m \u001b[1m1s\u001b[0m 15ms/step - accuracy: 0.8164 - loss: 0.3444 - val_accuracy: 0.4098 - val_loss: 5.2813 - learning_rate: 2.5000e-04\n",
      "Epoch 10/50\n",
      "\u001b[1m47/47\u001b[0m \u001b[32m━━━━━━━━━━━━━━━━━━━━\u001b[0m\u001b[37m\u001b[0m \u001b[1m1s\u001b[0m 12ms/step - accuracy: 0.7975 - loss: 0.3397 - val_accuracy: 0.3763 - val_loss: 6.0417 - learning_rate: 2.5000e-04\n",
      "Epoch 11/50\n",
      "\u001b[1m47/47\u001b[0m \u001b[32m━━━━━━━━━━━━━━━━━━━━\u001b[0m\u001b[37m\u001b[0m \u001b[1m0s\u001b[0m 9ms/step - accuracy: 0.8084 - loss: 0.3109 - val_accuracy: 0.3995 - val_loss: 6.1995 - learning_rate: 1.2500e-04\n"
     ]
    },
    {
     "name": "stderr",
     "output_type": "stream",
     "text": [
      "[I 2024-05-23 22:48:51,188] Trial 24 finished with value: 0.2680412232875824 and parameters: {'learning_rate': 0.0035744118279589627, 'dropout_rate': 0.21357847271956582, 'num_filters': 109, 'num_layers': 2}. Best is trial 23 with value: 0.5103092789649963.\n"
     ]
    },
    {
     "name": "stdout",
     "output_type": "stream",
     "text": [
      "Epoch 1/50\n",
      "\u001b[1m47/47\u001b[0m \u001b[32m━━━━━━━━━━━━━━━━━━━━\u001b[0m\u001b[37m\u001b[0m \u001b[1m3s\u001b[0m 14ms/step - accuracy: 0.6475 - loss: 0.6403 - val_accuracy: 0.2088 - val_loss: 1.0793 - learning_rate: 0.0010\n",
      "Epoch 2/50\n",
      "\u001b[1m47/47\u001b[0m \u001b[32m━━━━━━━━━━━━━━━━━━━━\u001b[0m\u001b[37m\u001b[0m \u001b[1m0s\u001b[0m 6ms/step - accuracy: 0.7171 - loss: 0.5638 - val_accuracy: 0.2268 - val_loss: 1.7342 - learning_rate: 0.0010\n",
      "Epoch 3/50\n",
      "\u001b[1m47/47\u001b[0m \u001b[32m━━━━━━━━━━━━━━━━━━━━\u001b[0m\u001b[37m\u001b[0m \u001b[1m0s\u001b[0m 9ms/step - accuracy: 0.7036 - loss: 0.5242 - val_accuracy: 0.1598 - val_loss: 2.1219 - learning_rate: 0.0010\n",
      "Epoch 4/50\n",
      "\u001b[1m47/47\u001b[0m \u001b[32m━━━━━━━━━━━━━━━━━━━━\u001b[0m\u001b[37m\u001b[0m \u001b[1m0s\u001b[0m 8ms/step - accuracy: 0.6735 - loss: 0.5232 - val_accuracy: 0.2216 - val_loss: 2.2713 - learning_rate: 0.0010\n",
      "Epoch 5/50\n",
      "\u001b[1m47/47\u001b[0m \u001b[32m━━━━━━━━━━━━━━━━━━━━\u001b[0m\u001b[37m\u001b[0m \u001b[1m0s\u001b[0m 6ms/step - accuracy: 0.6605 - loss: 0.5039 - val_accuracy: 0.2629 - val_loss: 2.7867 - learning_rate: 5.0000e-04\n",
      "Epoch 6/50\n",
      "\u001b[1m47/47\u001b[0m \u001b[32m━━━━━━━━━━━━━━━━━━━━\u001b[0m\u001b[37m\u001b[0m \u001b[1m0s\u001b[0m 8ms/step - accuracy: 0.6867 - loss: 0.4682 - val_accuracy: 0.2397 - val_loss: 2.9730 - learning_rate: 5.0000e-04\n",
      "Epoch 7/50\n",
      "\u001b[1m47/47\u001b[0m \u001b[32m━━━━━━━━━━━━━━━━━━━━\u001b[0m\u001b[37m\u001b[0m \u001b[1m0s\u001b[0m 7ms/step - accuracy: 0.7239 - loss: 0.4349 - val_accuracy: 0.3557 - val_loss: 3.6959 - learning_rate: 5.0000e-04\n",
      "Epoch 8/50\n",
      "\u001b[1m47/47\u001b[0m \u001b[32m━━━━━━━━━━━━━━━━━━━━\u001b[0m\u001b[37m\u001b[0m \u001b[1m0s\u001b[0m 8ms/step - accuracy: 0.7222 - loss: 0.4233 - val_accuracy: 0.4407 - val_loss: 3.6572 - learning_rate: 2.5000e-04\n",
      "Epoch 9/50\n",
      "\u001b[1m47/47\u001b[0m \u001b[32m━━━━━━━━━━━━━━━━━━━━\u001b[0m\u001b[37m\u001b[0m \u001b[1m0s\u001b[0m 7ms/step - accuracy: 0.7560 - loss: 0.4018 - val_accuracy: 0.3531 - val_loss: 3.7739 - learning_rate: 2.5000e-04\n",
      "Epoch 10/50\n",
      "\u001b[1m47/47\u001b[0m \u001b[32m━━━━━━━━━━━━━━━━━━━━\u001b[0m\u001b[37m\u001b[0m \u001b[1m0s\u001b[0m 6ms/step - accuracy: 0.7619 - loss: 0.3889 - val_accuracy: 0.3582 - val_loss: 4.2724 - learning_rate: 2.5000e-04\n",
      "Epoch 11/50\n",
      "\u001b[1m47/47\u001b[0m \u001b[32m━━━━━━━━━━━━━━━━━━━━\u001b[0m\u001b[37m\u001b[0m \u001b[1m0s\u001b[0m 6ms/step - accuracy: 0.7901 - loss: 0.3734 - val_accuracy: 0.2887 - val_loss: 4.1001 - learning_rate: 1.2500e-04\n"
     ]
    },
    {
     "name": "stderr",
     "output_type": "stream",
     "text": [
      "[I 2024-05-23 22:48:57,774] Trial 25 finished with value: 0.20876288414001465 and parameters: {'learning_rate': 0.0008370521261236292, 'dropout_rate': 0.2836150411840444, 'num_filters': 31, 'num_layers': 2}. Best is trial 23 with value: 0.5103092789649963.\n"
     ]
    },
    {
     "name": "stdout",
     "output_type": "stream",
     "text": [
      "Epoch 1/50\n",
      "\u001b[1m47/47\u001b[0m \u001b[32m━━━━━━━━━━━━━━━━━━━━\u001b[0m\u001b[37m\u001b[0m \u001b[1m2s\u001b[0m 18ms/step - accuracy: 0.5642 - loss: 0.6867 - val_accuracy: 0.2294 - val_loss: 1.0226 - learning_rate: 0.0010\n",
      "Epoch 2/50\n",
      "\u001b[1m47/47\u001b[0m \u001b[32m━━━━━━━━━━━━━━━━━━━━\u001b[0m\u001b[37m\u001b[0m \u001b[1m1s\u001b[0m 12ms/step - accuracy: 0.6816 - loss: 0.6055 - val_accuracy: 0.2294 - val_loss: 1.1007 - learning_rate: 0.0010\n",
      "Epoch 3/50\n",
      "\u001b[1m47/47\u001b[0m \u001b[32m━━━━━━━━━━━━━━━━━━━━\u001b[0m\u001b[37m\u001b[0m \u001b[1m1s\u001b[0m 11ms/step - accuracy: 0.7017 - loss: 0.5735 - val_accuracy: 0.2655 - val_loss: 1.3610 - learning_rate: 0.0010\n",
      "Epoch 4/50\n",
      "\u001b[1m47/47\u001b[0m \u001b[32m━━━━━━━━━━━━━━━━━━━━\u001b[0m\u001b[37m\u001b[0m \u001b[1m1s\u001b[0m 12ms/step - accuracy: 0.7271 - loss: 0.5444 - val_accuracy: 0.4459 - val_loss: 1.7018 - learning_rate: 0.0010\n",
      "Epoch 5/50\n",
      "\u001b[1m47/47\u001b[0m \u001b[32m━━━━━━━━━━━━━━━━━━━━\u001b[0m\u001b[37m\u001b[0m \u001b[1m1s\u001b[0m 11ms/step - accuracy: 0.7278 - loss: 0.5000 - val_accuracy: 0.4278 - val_loss: 1.8330 - learning_rate: 5.0000e-04\n",
      "Epoch 6/50\n",
      "\u001b[1m47/47\u001b[0m \u001b[32m━━━━━━━━━━━━━━━━━━━━\u001b[0m\u001b[37m\u001b[0m \u001b[1m1s\u001b[0m 15ms/step - accuracy: 0.7094 - loss: 0.4808 - val_accuracy: 0.4510 - val_loss: 1.9009 - learning_rate: 5.0000e-04\n",
      "Epoch 7/50\n",
      "\u001b[1m47/47\u001b[0m \u001b[32m━━━━━━━━━━━━━━━━━━━━\u001b[0m\u001b[37m\u001b[0m \u001b[1m1s\u001b[0m 14ms/step - accuracy: 0.7040 - loss: 0.5030 - val_accuracy: 0.4381 - val_loss: 2.2432 - learning_rate: 5.0000e-04\n",
      "Epoch 8/50\n",
      "\u001b[1m47/47\u001b[0m \u001b[32m━━━━━━━━━━━━━━━━━━━━\u001b[0m\u001b[37m\u001b[0m \u001b[1m1s\u001b[0m 13ms/step - accuracy: 0.7240 - loss: 0.4661 - val_accuracy: 0.4588 - val_loss: 2.2960 - learning_rate: 2.5000e-04\n",
      "Epoch 9/50\n",
      "\u001b[1m47/47\u001b[0m \u001b[32m━━━━━━━━━━━━━━━━━━━━\u001b[0m\u001b[37m\u001b[0m \u001b[1m1s\u001b[0m 13ms/step - accuracy: 0.7241 - loss: 0.4791 - val_accuracy: 0.4820 - val_loss: 2.3537 - learning_rate: 2.5000e-04\n",
      "Epoch 10/50\n",
      "\u001b[1m47/47\u001b[0m \u001b[32m━━━━━━━━━━━━━━━━━━━━\u001b[0m\u001b[37m\u001b[0m \u001b[1m1s\u001b[0m 13ms/step - accuracy: 0.7345 - loss: 0.4414 - val_accuracy: 0.4974 - val_loss: 2.4282 - learning_rate: 2.5000e-04\n",
      "Epoch 11/50\n",
      "\u001b[1m47/47\u001b[0m \u001b[32m━━━━━━━━━━━━━━━━━━━━\u001b[0m\u001b[37m\u001b[0m \u001b[1m1s\u001b[0m 12ms/step - accuracy: 0.7436 - loss: 0.4537 - val_accuracy: 0.4923 - val_loss: 2.6044 - learning_rate: 1.2500e-04\n"
     ]
    },
    {
     "name": "stderr",
     "output_type": "stream",
     "text": [
      "[I 2024-05-23 22:49:06,687] Trial 26 finished with value: 0.22938144207000732 and parameters: {'learning_rate': 0.0037421484598016575, 'dropout_rate': 0.3731760382063254, 'num_filters': 125, 'num_layers': 1}. Best is trial 23 with value: 0.5103092789649963.\n"
     ]
    },
    {
     "name": "stdout",
     "output_type": "stream",
     "text": [
      "Epoch 1/50\n",
      "\u001b[1m47/47\u001b[0m \u001b[32m━━━━━━━━━━━━━━━━━━━━\u001b[0m\u001b[37m\u001b[0m \u001b[1m3s\u001b[0m 13ms/step - accuracy: 0.6554 - loss: 0.6498 - val_accuracy: 0.3789 - val_loss: 0.9091 - learning_rate: 0.0010\n",
      "Epoch 2/50\n",
      "\u001b[1m47/47\u001b[0m \u001b[32m━━━━━━━━━━━━━━━━━━━━\u001b[0m\u001b[37m\u001b[0m \u001b[1m1s\u001b[0m 12ms/step - accuracy: 0.7303 - loss: 0.5438 - val_accuracy: 0.4175 - val_loss: 0.9054 - learning_rate: 0.0010\n",
      "Epoch 3/50\n",
      "\u001b[1m47/47\u001b[0m \u001b[32m━━━━━━━━━━━━━━━━━━━━\u001b[0m\u001b[37m\u001b[0m \u001b[1m1s\u001b[0m 11ms/step - accuracy: 0.7704 - loss: 0.5169 - val_accuracy: 0.4665 - val_loss: 1.2699 - learning_rate: 0.0010\n",
      "Epoch 4/50\n",
      "\u001b[1m47/47\u001b[0m \u001b[32m━━━━━━━━━━━━━━━━━━━━\u001b[0m\u001b[37m\u001b[0m \u001b[1m1s\u001b[0m 12ms/step - accuracy: 0.7613 - loss: 0.5072 - val_accuracy: 0.2732 - val_loss: 0.9383 - learning_rate: 0.0010\n",
      "Epoch 5/50\n",
      "\u001b[1m47/47\u001b[0m \u001b[32m━━━━━━━━━━━━━━━━━━━━\u001b[0m\u001b[37m\u001b[0m \u001b[1m1s\u001b[0m 11ms/step - accuracy: 0.6421 - loss: 0.5285 - val_accuracy: 0.4510 - val_loss: 0.9338 - learning_rate: 0.0010\n",
      "Epoch 6/50\n",
      "\u001b[1m47/47\u001b[0m \u001b[32m━━━━━━━━━━━━━━━━━━━━\u001b[0m\u001b[37m\u001b[0m \u001b[1m1s\u001b[0m 13ms/step - accuracy: 0.7508 - loss: 0.4431 - val_accuracy: 0.2835 - val_loss: 1.4454 - learning_rate: 5.0000e-04\n",
      "Epoch 7/50\n",
      "\u001b[1m47/47\u001b[0m \u001b[32m━━━━━━━━━━━━━━━━━━━━\u001b[0m\u001b[37m\u001b[0m \u001b[1m1s\u001b[0m 13ms/step - accuracy: 0.6936 - loss: 0.4629 - val_accuracy: 0.4124 - val_loss: 1.5565 - learning_rate: 5.0000e-04\n",
      "Epoch 8/50\n",
      "\u001b[1m47/47\u001b[0m \u001b[32m━━━━━━━━━━━━━━━━━━━━\u001b[0m\u001b[37m\u001b[0m \u001b[1m0s\u001b[0m 9ms/step - accuracy: 0.7517 - loss: 0.4574 - val_accuracy: 0.3557 - val_loss: 1.4177 - learning_rate: 5.0000e-04\n",
      "Epoch 9/50\n",
      "\u001b[1m47/47\u001b[0m \u001b[32m━━━━━━━━━━━━━━━━━━━━\u001b[0m\u001b[37m\u001b[0m \u001b[1m1s\u001b[0m 12ms/step - accuracy: 0.7651 - loss: 0.3991 - val_accuracy: 0.3376 - val_loss: 1.1437 - learning_rate: 2.5000e-04\n",
      "Epoch 10/50\n",
      "\u001b[1m47/47\u001b[0m \u001b[32m━━━━━━━━━━━━━━━━━━━━\u001b[0m\u001b[37m\u001b[0m \u001b[1m0s\u001b[0m 9ms/step - accuracy: 0.7744 - loss: 0.3784 - val_accuracy: 0.4820 - val_loss: 0.9959 - learning_rate: 2.5000e-04\n",
      "Epoch 11/50\n",
      "\u001b[1m47/47\u001b[0m \u001b[32m━━━━━━━━━━━━━━━━━━━━\u001b[0m\u001b[37m\u001b[0m \u001b[1m1s\u001b[0m 10ms/step - accuracy: 0.7742 - loss: 0.3717 - val_accuracy: 0.3634 - val_loss: 1.4276 - learning_rate: 2.5000e-04\n",
      "Epoch 12/50\n",
      "\u001b[1m47/47\u001b[0m \u001b[32m━━━━━━━━━━━━━━━━━━━━\u001b[0m\u001b[37m\u001b[0m \u001b[1m1s\u001b[0m 12ms/step - accuracy: 0.8160 - loss: 0.3121 - val_accuracy: 0.3531 - val_loss: 1.4191 - learning_rate: 1.2500e-04\n"
     ]
    },
    {
     "name": "stderr",
     "output_type": "stream",
     "text": [
      "[I 2024-05-23 22:49:15,883] Trial 27 finished with value: 0.4175257682800293 and parameters: {'learning_rate': 2.1023566587427263e-05, 'dropout_rate': 0.17204960207451517, 'num_filters': 72, 'num_layers': 3}. Best is trial 23 with value: 0.5103092789649963.\n"
     ]
    },
    {
     "name": "stdout",
     "output_type": "stream",
     "text": [
      "Epoch 1/50\n",
      "\u001b[1m47/47\u001b[0m \u001b[32m━━━━━━━━━━━━━━━━━━━━\u001b[0m\u001b[37m\u001b[0m \u001b[1m2s\u001b[0m 13ms/step - accuracy: 0.6289 - loss: 0.6533 - val_accuracy: 0.4588 - val_loss: 0.8878 - learning_rate: 0.0010\n",
      "Epoch 2/50\n",
      "\u001b[1m47/47\u001b[0m \u001b[32m━━━━━━━━━━━━━━━━━━━━\u001b[0m\u001b[37m\u001b[0m \u001b[1m1s\u001b[0m 14ms/step - accuracy: 0.7162 - loss: 0.5605 - val_accuracy: 0.4768 - val_loss: 1.8978 - learning_rate: 0.0010\n",
      "Epoch 3/50\n",
      "\u001b[1m47/47\u001b[0m \u001b[32m━━━━━━━━━━━━━━━━━━━━\u001b[0m\u001b[37m\u001b[0m \u001b[1m1s\u001b[0m 11ms/step - accuracy: 0.7403 - loss: 0.5306 - val_accuracy: 0.3067 - val_loss: 2.2905 - learning_rate: 0.0010\n",
      "Epoch 4/50\n",
      "\u001b[1m47/47\u001b[0m \u001b[32m━━━━━━━━━━━━━━━━━━━━\u001b[0m\u001b[37m\u001b[0m \u001b[1m1s\u001b[0m 14ms/step - accuracy: 0.6971 - loss: 0.4887 - val_accuracy: 0.3814 - val_loss: 2.9170 - learning_rate: 0.0010\n",
      "Epoch 5/50\n",
      "\u001b[1m47/47\u001b[0m \u001b[32m━━━━━━━━━━━━━━━━━━━━\u001b[0m\u001b[37m\u001b[0m \u001b[1m1s\u001b[0m 14ms/step - accuracy: 0.7150 - loss: 0.4381 - val_accuracy: 0.2500 - val_loss: 4.2345 - learning_rate: 5.0000e-04\n",
      "Epoch 6/50\n",
      "\u001b[1m47/47\u001b[0m \u001b[32m━━━━━━━━━━━━━━━━━━━━\u001b[0m\u001b[37m\u001b[0m \u001b[1m1s\u001b[0m 13ms/step - accuracy: 0.7350 - loss: 0.4303 - val_accuracy: 0.3892 - val_loss: 4.7595 - learning_rate: 5.0000e-04\n",
      "Epoch 7/50\n",
      "\u001b[1m47/47\u001b[0m \u001b[32m━━━━━━━━━━━━━━━━━━━━\u001b[0m\u001b[37m\u001b[0m \u001b[1m1s\u001b[0m 14ms/step - accuracy: 0.7081 - loss: 0.4318 - val_accuracy: 0.4536 - val_loss: 5.5665 - learning_rate: 5.0000e-04\n",
      "Epoch 8/50\n",
      "\u001b[1m47/47\u001b[0m \u001b[32m━━━━━━━━━━━━━━━━━━━━\u001b[0m\u001b[37m\u001b[0m \u001b[1m1s\u001b[0m 10ms/step - accuracy: 0.7658 - loss: 0.4117 - val_accuracy: 0.4742 - val_loss: 5.7879 - learning_rate: 2.5000e-04\n",
      "Epoch 9/50\n",
      "\u001b[1m47/47\u001b[0m \u001b[32m━━━━━━━━━━━━━━━━━━━━\u001b[0m\u001b[37m\u001b[0m \u001b[1m1s\u001b[0m 12ms/step - accuracy: 0.7605 - loss: 0.3716 - val_accuracy: 0.3943 - val_loss: 6.5708 - learning_rate: 2.5000e-04\n",
      "Epoch 10/50\n",
      "\u001b[1m47/47\u001b[0m \u001b[32m━━━━━━━━━━━━━━━━━━━━\u001b[0m\u001b[37m\u001b[0m \u001b[1m1s\u001b[0m 14ms/step - accuracy: 0.7875 - loss: 0.3584 - val_accuracy: 0.3866 - val_loss: 6.9448 - learning_rate: 2.5000e-04\n",
      "Epoch 11/50\n",
      "\u001b[1m47/47\u001b[0m \u001b[32m━━━━━━━━━━━━━━━━━━━━\u001b[0m\u001b[37m\u001b[0m \u001b[1m1s\u001b[0m 13ms/step - accuracy: 0.7912 - loss: 0.3349 - val_accuracy: 0.3505 - val_loss: 7.6171 - learning_rate: 1.2500e-04\n"
     ]
    },
    {
     "name": "stderr",
     "output_type": "stream",
     "text": [
      "[I 2024-05-23 22:49:24,927] Trial 28 finished with value: 0.45876288414001465 and parameters: {'learning_rate': 0.008974087112549609, 'dropout_rate': 0.22827094292547678, 'num_filters': 99, 'num_layers': 2}. Best is trial 23 with value: 0.5103092789649963.\n"
     ]
    },
    {
     "name": "stdout",
     "output_type": "stream",
     "text": [
      "Epoch 1/50\n",
      "\u001b[1m47/47\u001b[0m \u001b[32m━━━━━━━━━━━━━━━━━━━━\u001b[0m\u001b[37m\u001b[0m \u001b[1m3s\u001b[0m 22ms/step - accuracy: 0.5812 - loss: 0.6683 - val_accuracy: 0.4330 - val_loss: 0.8277 - learning_rate: 0.0010\n",
      "Epoch 2/50\n",
      "\u001b[1m47/47\u001b[0m \u001b[32m━━━━━━━━━━━━━━━━━━━━\u001b[0m\u001b[37m\u001b[0m \u001b[1m1s\u001b[0m 13ms/step - accuracy: 0.7215 - loss: 0.5951 - val_accuracy: 0.4485 - val_loss: 0.9417 - learning_rate: 0.0010\n",
      "Epoch 3/50\n",
      "\u001b[1m47/47\u001b[0m \u001b[32m━━━━━━━━━━━━━━━━━━━━\u001b[0m\u001b[37m\u001b[0m \u001b[1m0s\u001b[0m 10ms/step - accuracy: 0.7693 - loss: 0.5363 - val_accuracy: 0.4124 - val_loss: 1.0128 - learning_rate: 0.0010\n",
      "Epoch 4/50\n",
      "\u001b[1m47/47\u001b[0m \u001b[32m━━━━━━━━━━━━━━━━━━━━\u001b[0m\u001b[37m\u001b[0m \u001b[1m1s\u001b[0m 10ms/step - accuracy: 0.7474 - loss: 0.5209 - val_accuracy: 0.4459 - val_loss: 1.2374 - learning_rate: 0.0010\n",
      "Epoch 5/50\n",
      "\u001b[1m47/47\u001b[0m \u001b[32m━━━━━━━━━━━━━━━━━━━━\u001b[0m\u001b[37m\u001b[0m \u001b[1m1s\u001b[0m 14ms/step - accuracy: 0.7527 - loss: 0.4948 - val_accuracy: 0.4278 - val_loss: 2.1878 - learning_rate: 5.0000e-04\n",
      "Epoch 6/50\n",
      "\u001b[1m47/47\u001b[0m \u001b[32m━━━━━━━━━━━━━━━━━━━━\u001b[0m\u001b[37m\u001b[0m \u001b[1m1s\u001b[0m 13ms/step - accuracy: 0.7416 - loss: 0.4798 - val_accuracy: 0.4356 - val_loss: 2.8980 - learning_rate: 5.0000e-04\n",
      "Epoch 7/50\n",
      "\u001b[1m47/47\u001b[0m \u001b[32m━━━━━━━━━━━━━━━━━━━━\u001b[0m\u001b[37m\u001b[0m \u001b[1m1s\u001b[0m 12ms/step - accuracy: 0.7009 - loss: 0.4628 - val_accuracy: 0.5335 - val_loss: 2.2656 - learning_rate: 5.0000e-04\n",
      "Epoch 8/50\n",
      "\u001b[1m47/47\u001b[0m \u001b[32m━━━━━━━━━━━━━━━━━━━━\u001b[0m\u001b[37m\u001b[0m \u001b[1m1s\u001b[0m 15ms/step - accuracy: 0.8009 - loss: 0.4445 - val_accuracy: 0.4794 - val_loss: 2.9155 - learning_rate: 2.5000e-04\n",
      "Epoch 9/50\n",
      "\u001b[1m47/47\u001b[0m \u001b[32m━━━━━━━━━━━━━━━━━━━━\u001b[0m\u001b[37m\u001b[0m \u001b[1m1s\u001b[0m 14ms/step - accuracy: 0.7965 - loss: 0.4207 - val_accuracy: 0.4278 - val_loss: 3.2604 - learning_rate: 2.5000e-04\n",
      "Epoch 10/50\n",
      "\u001b[1m47/47\u001b[0m \u001b[32m━━━━━━━━━━━━━━━━━━━━\u001b[0m\u001b[37m\u001b[0m \u001b[1m1s\u001b[0m 11ms/step - accuracy: 0.7760 - loss: 0.3956 - val_accuracy: 0.3892 - val_loss: 4.0068 - learning_rate: 2.5000e-04\n",
      "Epoch 11/50\n",
      "\u001b[1m47/47\u001b[0m \u001b[32m━━━━━━━━━━━━━━━━━━━━\u001b[0m\u001b[37m\u001b[0m \u001b[1m1s\u001b[0m 13ms/step - accuracy: 0.7996 - loss: 0.3732 - val_accuracy: 0.3067 - val_loss: 4.3540 - learning_rate: 1.2500e-04\n"
     ]
    },
    {
     "name": "stderr",
     "output_type": "stream",
     "text": [
      "[I 2024-05-23 22:49:34,679] Trial 29 finished with value: 0.4329896867275238 and parameters: {'learning_rate': 0.013441828344369616, 'dropout_rate': 0.4045993854586528, 'num_filters': 88, 'num_layers': 3}. Best is trial 23 with value: 0.5103092789649963.\n"
     ]
    },
    {
     "name": "stdout",
     "output_type": "stream",
     "text": [
      "Epoch 1/50\n",
      "\u001b[1m47/47\u001b[0m \u001b[32m━━━━━━━━━━━━━━━━━━━━\u001b[0m\u001b[37m\u001b[0m \u001b[1m2s\u001b[0m 13ms/step - accuracy: 0.6289 - loss: 0.6431 - val_accuracy: 0.1985 - val_loss: 1.2879 - learning_rate: 0.0010\n",
      "Epoch 2/50\n",
      "\u001b[1m47/47\u001b[0m \u001b[32m━━━━━━━━━━━━━━━━━━━━\u001b[0m\u001b[37m\u001b[0m \u001b[1m0s\u001b[0m 9ms/step - accuracy: 0.7239 - loss: 0.5398 - val_accuracy: 0.2964 - val_loss: 1.5638 - learning_rate: 0.0010\n",
      "Epoch 3/50\n",
      "\u001b[1m47/47\u001b[0m \u001b[32m━━━━━━━━━━━━━━━━━━━━\u001b[0m\u001b[37m\u001b[0m \u001b[1m0s\u001b[0m 10ms/step - accuracy: 0.7276 - loss: 0.5003 - val_accuracy: 0.1675 - val_loss: 1.7971 - learning_rate: 0.0010\n",
      "Epoch 4/50\n",
      "\u001b[1m47/47\u001b[0m \u001b[32m━━━━━━━━━━━━━━━━━━━━\u001b[0m\u001b[37m\u001b[0m \u001b[1m0s\u001b[0m 9ms/step - accuracy: 0.7250 - loss: 0.4935 - val_accuracy: 0.3557 - val_loss: 2.9416 - learning_rate: 0.0010\n",
      "Epoch 5/50\n",
      "\u001b[1m47/47\u001b[0m \u001b[32m━━━━━━━━━━━━━━━━━━━━\u001b[0m\u001b[37m\u001b[0m \u001b[1m0s\u001b[0m 7ms/step - accuracy: 0.7347 - loss: 0.4580 - val_accuracy: 0.2397 - val_loss: 3.4243 - learning_rate: 5.0000e-04\n",
      "Epoch 6/50\n",
      "\u001b[1m47/47\u001b[0m \u001b[32m━━━━━━━━━━━━━━━━━━━━\u001b[0m\u001b[37m\u001b[0m \u001b[1m0s\u001b[0m 9ms/step - accuracy: 0.7555 - loss: 0.4318 - val_accuracy: 0.4691 - val_loss: 3.3679 - learning_rate: 5.0000e-04\n",
      "Epoch 7/50\n",
      "\u001b[1m47/47\u001b[0m \u001b[32m━━━━━━━━━━━━━━━━━━━━\u001b[0m\u001b[37m\u001b[0m \u001b[1m0s\u001b[0m 9ms/step - accuracy: 0.7780 - loss: 0.3947 - val_accuracy: 0.3041 - val_loss: 4.2137 - learning_rate: 5.0000e-04\n",
      "Epoch 8/50\n",
      "\u001b[1m47/47\u001b[0m \u001b[32m━━━━━━━━━━━━━━━━━━━━\u001b[0m\u001b[37m\u001b[0m \u001b[1m0s\u001b[0m 10ms/step - accuracy: 0.7824 - loss: 0.3791 - val_accuracy: 0.3144 - val_loss: 4.8655 - learning_rate: 2.5000e-04\n",
      "Epoch 9/50\n",
      "\u001b[1m47/47\u001b[0m \u001b[32m━━━━━━━━━━━━━━━━━━━━\u001b[0m\u001b[37m\u001b[0m \u001b[1m0s\u001b[0m 8ms/step - accuracy: 0.7879 - loss: 0.3421 - val_accuracy: 0.3789 - val_loss: 4.9558 - learning_rate: 2.5000e-04\n",
      "Epoch 10/50\n",
      "\u001b[1m47/47\u001b[0m \u001b[32m━━━━━━━━━━━━━━━━━━━━\u001b[0m\u001b[37m\u001b[0m \u001b[1m1s\u001b[0m 12ms/step - accuracy: 0.8017 - loss: 0.3279 - val_accuracy: 0.4665 - val_loss: 5.3827 - learning_rate: 2.5000e-04\n",
      "Epoch 11/50\n",
      "\u001b[1m47/47\u001b[0m \u001b[32m━━━━━━━━━━━━━━━━━━━━\u001b[0m\u001b[37m\u001b[0m \u001b[1m1s\u001b[0m 11ms/step - accuracy: 0.8052 - loss: 0.3276 - val_accuracy: 0.3041 - val_loss: 5.9030 - learning_rate: 1.2500e-04\n"
     ]
    },
    {
     "name": "stderr",
     "output_type": "stream",
     "text": [
      "[I 2024-05-23 22:49:42,255] Trial 30 finished with value: 0.1984536051750183 and parameters: {'learning_rate': 0.08580040895369458, 'dropout_rate': 0.24008803513151733, 'num_filters': 53, 'num_layers': 2}. Best is trial 23 with value: 0.5103092789649963.\n"
     ]
    },
    {
     "name": "stdout",
     "output_type": "stream",
     "text": [
      "Epoch 1/50\n",
      "\u001b[1m47/47\u001b[0m \u001b[32m━━━━━━━━━━━━━━━━━━━━\u001b[0m\u001b[37m\u001b[0m \u001b[1m3s\u001b[0m 19ms/step - accuracy: 0.6335 - loss: 0.6533 - val_accuracy: 0.4330 - val_loss: 0.9646 - learning_rate: 0.0010\n",
      "Epoch 2/50\n",
      "\u001b[1m47/47\u001b[0m \u001b[32m━━━━━━━━━━━━━━━━━━━━\u001b[0m\u001b[37m\u001b[0m \u001b[1m1s\u001b[0m 10ms/step - accuracy: 0.7187 - loss: 0.5624 - val_accuracy: 0.4536 - val_loss: 0.8986 - learning_rate: 0.0010\n",
      "Epoch 3/50\n",
      "\u001b[1m47/47\u001b[0m \u001b[32m━━━━━━━━━━━━━━━━━━━━\u001b[0m\u001b[37m\u001b[0m \u001b[1m0s\u001b[0m 9ms/step - accuracy: 0.7692 - loss: 0.5265 - val_accuracy: 0.4485 - val_loss: 1.9170 - learning_rate: 0.0010\n",
      "Epoch 4/50\n",
      "\u001b[1m47/47\u001b[0m \u001b[32m━━━━━━━━━━━━━━━━━━━━\u001b[0m\u001b[37m\u001b[0m \u001b[1m0s\u001b[0m 10ms/step - accuracy: 0.7447 - loss: 0.5025 - val_accuracy: 0.4175 - val_loss: 2.6058 - learning_rate: 0.0010\n",
      "Epoch 5/50\n",
      "\u001b[1m47/47\u001b[0m \u001b[32m━━━━━━━━━━━━━━━━━━━━\u001b[0m\u001b[37m\u001b[0m \u001b[1m0s\u001b[0m 8ms/step - accuracy: 0.7685 - loss: 0.4709 - val_accuracy: 0.5000 - val_loss: 3.8653 - learning_rate: 0.0010\n",
      "Epoch 6/50\n",
      "\u001b[1m47/47\u001b[0m \u001b[32m━━━━━━━━━━━━━━━━━━━━\u001b[0m\u001b[37m\u001b[0m \u001b[1m0s\u001b[0m 9ms/step - accuracy: 0.7719 - loss: 0.4447 - val_accuracy: 0.4613 - val_loss: 4.2028 - learning_rate: 5.0000e-04\n",
      "Epoch 7/50\n",
      "\u001b[1m47/47\u001b[0m \u001b[32m━━━━━━━━━━━━━━━━━━━━\u001b[0m\u001b[37m\u001b[0m \u001b[1m1s\u001b[0m 13ms/step - accuracy: 0.7714 - loss: 0.4122 - val_accuracy: 0.4871 - val_loss: 5.0910 - learning_rate: 5.0000e-04\n",
      "Epoch 8/50\n",
      "\u001b[1m47/47\u001b[0m \u001b[32m━━━━━━━━━━━━━━━━━━━━\u001b[0m\u001b[37m\u001b[0m \u001b[1m0s\u001b[0m 9ms/step - accuracy: 0.7812 - loss: 0.4028 - val_accuracy: 0.3351 - val_loss: 5.2390 - learning_rate: 5.0000e-04\n",
      "Epoch 9/50\n",
      "\u001b[1m47/47\u001b[0m \u001b[32m━━━━━━━━━━━━━━━━━━━━\u001b[0m\u001b[37m\u001b[0m \u001b[1m0s\u001b[0m 10ms/step - accuracy: 0.7925 - loss: 0.3615 - val_accuracy: 0.3737 - val_loss: 6.0524 - learning_rate: 2.5000e-04\n",
      "Epoch 10/50\n",
      "\u001b[1m47/47\u001b[0m \u001b[32m━━━━━━━━━━━━━━━━━━━━\u001b[0m\u001b[37m\u001b[0m \u001b[1m1s\u001b[0m 11ms/step - accuracy: 0.7792 - loss: 0.3725 - val_accuracy: 0.4149 - val_loss: 6.9783 - learning_rate: 2.5000e-04\n",
      "Epoch 11/50\n",
      "\u001b[1m47/47\u001b[0m \u001b[32m━━━━━━━━━━━━━━━━━━━━\u001b[0m\u001b[37m\u001b[0m \u001b[1m0s\u001b[0m 10ms/step - accuracy: 0.8180 - loss: 0.3217 - val_accuracy: 0.3351 - val_loss: 7.3534 - learning_rate: 2.5000e-04\n",
      "Epoch 12/50\n",
      "\u001b[1m47/47\u001b[0m \u001b[32m━━━━━━━━━━━━━━━━━━━━\u001b[0m\u001b[37m\u001b[0m \u001b[1m0s\u001b[0m 10ms/step - accuracy: 0.8260 - loss: 0.3127 - val_accuracy: 0.3866 - val_loss: 7.7048 - learning_rate: 1.2500e-04\n"
     ]
    },
    {
     "name": "stderr",
     "output_type": "stream",
     "text": [
      "[I 2024-05-23 22:49:51,482] Trial 31 finished with value: 0.4536082446575165 and parameters: {'learning_rate': 0.0033441338063122054, 'dropout_rate': 0.23180474502544268, 'num_filters': 106, 'num_layers': 2}. Best is trial 23 with value: 0.5103092789649963.\n"
     ]
    },
    {
     "name": "stdout",
     "output_type": "stream",
     "text": [
      "Epoch 1/50\n",
      "\u001b[1m47/47\u001b[0m \u001b[32m━━━━━━━━━━━━━━━━━━━━\u001b[0m\u001b[37m\u001b[0m \u001b[1m2s\u001b[0m 12ms/step - accuracy: 0.6465 - loss: 0.6454 - val_accuracy: 0.4356 - val_loss: 0.9876 - learning_rate: 0.0010\n",
      "Epoch 2/50\n",
      "\u001b[1m47/47\u001b[0m \u001b[32m━━━━━━━━━━━━━━━━━━━━\u001b[0m\u001b[37m\u001b[0m \u001b[1m0s\u001b[0m 8ms/step - accuracy: 0.7237 - loss: 0.5503 - val_accuracy: 0.3582 - val_loss: 1.1939 - learning_rate: 0.0010\n",
      "Epoch 3/50\n",
      "\u001b[1m47/47\u001b[0m \u001b[32m━━━━━━━━━━━━━━━━━━━━\u001b[0m\u001b[37m\u001b[0m \u001b[1m0s\u001b[0m 8ms/step - accuracy: 0.7489 - loss: 0.5205 - val_accuracy: 0.2912 - val_loss: 1.9612 - learning_rate: 0.0010\n",
      "Epoch 4/50\n",
      "\u001b[1m47/47\u001b[0m \u001b[32m━━━━━━━━━━━━━━━━━━━━\u001b[0m\u001b[37m\u001b[0m \u001b[1m0s\u001b[0m 8ms/step - accuracy: 0.7597 - loss: 0.4924 - val_accuracy: 0.2500 - val_loss: 1.7882 - learning_rate: 0.0010\n",
      "Epoch 5/50\n",
      "\u001b[1m47/47\u001b[0m \u001b[32m━━━━━━━━━━━━━━━━━━━━\u001b[0m\u001b[37m\u001b[0m \u001b[1m0s\u001b[0m 7ms/step - accuracy: 0.7292 - loss: 0.4733 - val_accuracy: 0.3196 - val_loss: 2.3502 - learning_rate: 5.0000e-04\n",
      "Epoch 6/50\n",
      "\u001b[1m47/47\u001b[0m \u001b[32m━━━━━━━━━━━━━━━━━━━━\u001b[0m\u001b[37m\u001b[0m \u001b[1m0s\u001b[0m 7ms/step - accuracy: 0.7487 - loss: 0.4304 - val_accuracy: 0.2861 - val_loss: 3.0347 - learning_rate: 5.0000e-04\n",
      "Epoch 7/50\n",
      "\u001b[1m47/47\u001b[0m \u001b[32m━━━━━━━━━━━━━━━━━━━━\u001b[0m\u001b[37m\u001b[0m \u001b[1m0s\u001b[0m 8ms/step - accuracy: 0.7799 - loss: 0.4002 - val_accuracy: 0.3479 - val_loss: 3.2283 - learning_rate: 5.0000e-04\n",
      "Epoch 8/50\n",
      "\u001b[1m47/47\u001b[0m \u001b[32m━━━━━━━━━━━━━━━━━━━━\u001b[0m\u001b[37m\u001b[0m \u001b[1m0s\u001b[0m 8ms/step - accuracy: 0.7948 - loss: 0.3827 - val_accuracy: 0.3789 - val_loss: 3.4653 - learning_rate: 2.5000e-04\n",
      "Epoch 9/50\n",
      "\u001b[1m47/47\u001b[0m \u001b[32m━━━━━━━━━━━━━━━━━━━━\u001b[0m\u001b[37m\u001b[0m \u001b[1m0s\u001b[0m 8ms/step - accuracy: 0.8062 - loss: 0.3438 - val_accuracy: 0.3634 - val_loss: 3.6885 - learning_rate: 2.5000e-04\n",
      "Epoch 10/50\n",
      "\u001b[1m47/47\u001b[0m \u001b[32m━━━━━━━━━━━━━━━━━━━━\u001b[0m\u001b[37m\u001b[0m \u001b[1m0s\u001b[0m 8ms/step - accuracy: 0.8112 - loss: 0.3499 - val_accuracy: 0.3144 - val_loss: 4.0992 - learning_rate: 2.5000e-04\n",
      "Epoch 11/50\n",
      "\u001b[1m47/47\u001b[0m \u001b[32m━━━━━━━━━━━━━━━━━━━━\u001b[0m\u001b[37m\u001b[0m \u001b[1m0s\u001b[0m 8ms/step - accuracy: 0.8098 - loss: 0.3422 - val_accuracy: 0.3119 - val_loss: 4.0765 - learning_rate: 1.2500e-04\n"
     ]
    },
    {
     "name": "stderr",
     "output_type": "stream",
     "text": [
      "[I 2024-05-23 22:49:58,069] Trial 32 finished with value: 0.4355670213699341 and parameters: {'learning_rate': 0.009684512389218889, 'dropout_rate': 0.22226671676197077, 'num_filters': 79, 'num_layers': 2}. Best is trial 23 with value: 0.5103092789649963.\n"
     ]
    },
    {
     "name": "stdout",
     "output_type": "stream",
     "text": [
      "Epoch 1/50\n",
      "\u001b[1m47/47\u001b[0m \u001b[32m━━━━━━━━━━━━━━━━━━━━\u001b[0m\u001b[37m\u001b[0m \u001b[1m3s\u001b[0m 21ms/step - accuracy: 0.6655 - loss: 0.6455 - val_accuracy: 0.4381 - val_loss: 0.9766 - learning_rate: 0.0010\n",
      "Epoch 2/50\n",
      "\u001b[1m47/47\u001b[0m \u001b[32m━━━━━━━━━━━━━━━━━━━━\u001b[0m\u001b[37m\u001b[0m \u001b[1m1s\u001b[0m 12ms/step - accuracy: 0.7174 - loss: 0.5791 - val_accuracy: 0.3866 - val_loss: 1.6115 - learning_rate: 0.0010\n",
      "Epoch 3/50\n",
      "\u001b[1m47/47\u001b[0m \u001b[32m━━━━━━━━━━━━━━━━━━━━\u001b[0m\u001b[37m\u001b[0m \u001b[1m1s\u001b[0m 11ms/step - accuracy: 0.6973 - loss: 0.5100 - val_accuracy: 0.4433 - val_loss: 2.9107 - learning_rate: 0.0010\n",
      "Epoch 4/50\n",
      "\u001b[1m47/47\u001b[0m \u001b[32m━━━━━━━━━━━━━━━━━━━━\u001b[0m\u001b[37m\u001b[0m \u001b[1m1s\u001b[0m 13ms/step - accuracy: 0.6971 - loss: 0.4842 - val_accuracy: 0.5000 - val_loss: 3.5029 - learning_rate: 0.0010\n",
      "Epoch 5/50\n",
      "\u001b[1m47/47\u001b[0m \u001b[32m━━━━━━━━━━━━━━━━━━━━\u001b[0m\u001b[37m\u001b[0m \u001b[1m1s\u001b[0m 13ms/step - accuracy: 0.7465 - loss: 0.4350 - val_accuracy: 0.4794 - val_loss: 3.8972 - learning_rate: 5.0000e-04\n",
      "Epoch 6/50\n",
      "\u001b[1m47/47\u001b[0m \u001b[32m━━━━━━━━━━━━━━━━━━━━\u001b[0m\u001b[37m\u001b[0m \u001b[1m1s\u001b[0m 13ms/step - accuracy: 0.7704 - loss: 0.4223 - val_accuracy: 0.4897 - val_loss: 4.4954 - learning_rate: 5.0000e-04\n",
      "Epoch 7/50\n",
      "\u001b[1m47/47\u001b[0m \u001b[32m━━━━━━━━━━━━━━━━━━━━\u001b[0m\u001b[37m\u001b[0m \u001b[1m1s\u001b[0m 12ms/step - accuracy: 0.7552 - loss: 0.4109 - val_accuracy: 0.5155 - val_loss: 5.2002 - learning_rate: 5.0000e-04\n",
      "Epoch 8/50\n",
      "\u001b[1m47/47\u001b[0m \u001b[32m━━━━━━━━━━━━━━━━━━━━\u001b[0m\u001b[37m\u001b[0m \u001b[1m1s\u001b[0m 13ms/step - accuracy: 0.7985 - loss: 0.3722 - val_accuracy: 0.4794 - val_loss: 5.5928 - learning_rate: 2.5000e-04\n",
      "Epoch 9/50\n",
      "\u001b[1m47/47\u001b[0m \u001b[32m━━━━━━━━━━━━━━━━━━━━\u001b[0m\u001b[37m\u001b[0m \u001b[1m1s\u001b[0m 13ms/step - accuracy: 0.8242 - loss: 0.3505 - val_accuracy: 0.4124 - val_loss: 5.9741 - learning_rate: 2.5000e-04\n",
      "Epoch 10/50\n",
      "\u001b[1m47/47\u001b[0m \u001b[32m━━━━━━━━━━━━━━━━━━━━\u001b[0m\u001b[37m\u001b[0m \u001b[1m1s\u001b[0m 12ms/step - accuracy: 0.8282 - loss: 0.3592 - val_accuracy: 0.4149 - val_loss: 6.6058 - learning_rate: 2.5000e-04\n",
      "Epoch 11/50\n",
      "\u001b[1m47/47\u001b[0m \u001b[32m━━━━━━━━━━━━━━━━━━━━\u001b[0m\u001b[37m\u001b[0m \u001b[1m1s\u001b[0m 12ms/step - accuracy: 0.8500 - loss: 0.3305 - val_accuracy: 0.5052 - val_loss: 6.6090 - learning_rate: 1.2500e-04\n"
     ]
    },
    {
     "name": "stderr",
     "output_type": "stream",
     "text": [
      "[I 2024-05-23 22:50:07,950] Trial 33 finished with value: 0.438144326210022 and parameters: {'learning_rate': 0.002864628872094077, 'dropout_rate': 0.2886026289217487, 'num_filters': 101, 'num_layers': 2}. Best is trial 23 with value: 0.5103092789649963.\n"
     ]
    },
    {
     "name": "stdout",
     "output_type": "stream",
     "text": [
      "Epoch 1/50\n",
      "\u001b[1m47/47\u001b[0m \u001b[32m━━━━━━━━━━━━━━━━━━━━\u001b[0m\u001b[37m\u001b[0m \u001b[1m5s\u001b[0m 24ms/step - accuracy: 0.6063 - loss: 0.6350 - val_accuracy: 0.3840 - val_loss: 0.9020 - learning_rate: 0.0010\n",
      "Epoch 2/50\n",
      "\u001b[1m47/47\u001b[0m \u001b[32m━━━━━━━━━━━━━━━━━━━━\u001b[0m\u001b[37m\u001b[0m \u001b[1m1s\u001b[0m 12ms/step - accuracy: 0.6995 - loss: 0.5600 - val_accuracy: 0.3969 - val_loss: 1.2310 - learning_rate: 0.0010\n",
      "Epoch 3/50\n",
      "\u001b[1m47/47\u001b[0m \u001b[32m━━━━━━━━━━━━━━━━━━━━\u001b[0m\u001b[37m\u001b[0m \u001b[1m1s\u001b[0m 13ms/step - accuracy: 0.7572 - loss: 0.5130 - val_accuracy: 0.3660 - val_loss: 1.1595 - learning_rate: 0.0010\n",
      "Epoch 4/50\n",
      "\u001b[1m47/47\u001b[0m \u001b[32m━━━━━━━━━━━━━━━━━━━━\u001b[0m\u001b[37m\u001b[0m \u001b[1m1s\u001b[0m 11ms/step - accuracy: 0.6997 - loss: 0.5346 - val_accuracy: 0.4330 - val_loss: 1.8321 - learning_rate: 0.0010\n",
      "Epoch 5/50\n",
      "\u001b[1m47/47\u001b[0m \u001b[32m━━━━━━━━━━━━━━━━━━━━\u001b[0m\u001b[37m\u001b[0m \u001b[1m1s\u001b[0m 11ms/step - accuracy: 0.7750 - loss: 0.4658 - val_accuracy: 0.4536 - val_loss: 2.2545 - learning_rate: 5.0000e-04\n",
      "Epoch 6/50\n",
      "\u001b[1m47/47\u001b[0m \u001b[32m━━━━━━━━━━━━━━━━━━━━\u001b[0m\u001b[37m\u001b[0m \u001b[1m1s\u001b[0m 13ms/step - accuracy: 0.7962 - loss: 0.4205 - val_accuracy: 0.3428 - val_loss: 2.2477 - learning_rate: 5.0000e-04\n",
      "Epoch 7/50\n",
      "\u001b[1m47/47\u001b[0m \u001b[32m━━━━━━━━━━━━━━━━━━━━\u001b[0m\u001b[37m\u001b[0m \u001b[1m1s\u001b[0m 12ms/step - accuracy: 0.7692 - loss: 0.4241 - val_accuracy: 0.5541 - val_loss: 3.1082 - learning_rate: 5.0000e-04\n",
      "Epoch 8/50\n",
      "\u001b[1m47/47\u001b[0m \u001b[32m━━━━━━━━━━━━━━━━━━━━\u001b[0m\u001b[37m\u001b[0m \u001b[1m1s\u001b[0m 15ms/step - accuracy: 0.7880 - loss: 0.4020 - val_accuracy: 0.4227 - val_loss: 3.1096 - learning_rate: 2.5000e-04\n",
      "Epoch 9/50\n",
      "\u001b[1m47/47\u001b[0m \u001b[32m━━━━━━━━━━━━━━━━━━━━\u001b[0m\u001b[37m\u001b[0m \u001b[1m1s\u001b[0m 17ms/step - accuracy: 0.7738 - loss: 0.3907 - val_accuracy: 0.3170 - val_loss: 3.4563 - learning_rate: 2.5000e-04\n",
      "Epoch 10/50\n",
      "\u001b[1m47/47\u001b[0m \u001b[32m━━━━━━━━━━━━━━━━━━━━\u001b[0m\u001b[37m\u001b[0m \u001b[1m1s\u001b[0m 17ms/step - accuracy: 0.7888 - loss: 0.3698 - val_accuracy: 0.3402 - val_loss: 3.4560 - learning_rate: 2.5000e-04\n",
      "Epoch 11/50\n",
      "\u001b[1m47/47\u001b[0m \u001b[32m━━━━━━━━━━━━━━━━━━━━\u001b[0m\u001b[37m\u001b[0m \u001b[1m1s\u001b[0m 12ms/step - accuracy: 0.8170 - loss: 0.3445 - val_accuracy: 0.3711 - val_loss: 3.7586 - learning_rate: 1.2500e-04\n"
     ]
    },
    {
     "name": "stderr",
     "output_type": "stream",
     "text": [
      "[I 2024-05-23 22:50:20,568] Trial 34 finished with value: 0.3840206265449524 and parameters: {'learning_rate': 0.006407080348509484, 'dropout_rate': 0.17084719799291564, 'num_filters': 70, 'num_layers': 2}. Best is trial 23 with value: 0.5103092789649963.\n"
     ]
    },
    {
     "name": "stdout",
     "output_type": "stream",
     "text": [
      "Epoch 1/50\n",
      "\u001b[1m47/47\u001b[0m \u001b[32m━━━━━━━━━━━━━━━━━━━━\u001b[0m\u001b[37m\u001b[0m \u001b[1m4s\u001b[0m 17ms/step - accuracy: 0.6013 - loss: 0.6638 - val_accuracy: 0.4356 - val_loss: 0.9394 - learning_rate: 0.0010\n",
      "Epoch 2/50\n",
      "\u001b[1m47/47\u001b[0m \u001b[32m━━━━━━━━━━━━━━━━━━━━\u001b[0m\u001b[37m\u001b[0m \u001b[1m1s\u001b[0m 10ms/step - accuracy: 0.6801 - loss: 0.6066 - val_accuracy: 0.4304 - val_loss: 1.1283 - learning_rate: 0.0010\n",
      "Epoch 3/50\n",
      "\u001b[1m47/47\u001b[0m \u001b[32m━━━━━━━━━━━━━━━━━━━━\u001b[0m\u001b[37m\u001b[0m \u001b[1m1s\u001b[0m 11ms/step - accuracy: 0.7196 - loss: 0.5342 - val_accuracy: 0.4072 - val_loss: 1.3113 - learning_rate: 0.0010\n",
      "Epoch 4/50\n",
      "\u001b[1m47/47\u001b[0m \u001b[32m━━━━━━━━━━━━━━━━━━━━\u001b[0m\u001b[37m\u001b[0m \u001b[1m1s\u001b[0m 12ms/step - accuracy: 0.7382 - loss: 0.5236 - val_accuracy: 0.5155 - val_loss: 1.6175 - learning_rate: 0.0010\n",
      "Epoch 5/50\n",
      "\u001b[1m47/47\u001b[0m \u001b[32m━━━━━━━━━━━━━━━━━━━━\u001b[0m\u001b[37m\u001b[0m \u001b[1m1s\u001b[0m 10ms/step - accuracy: 0.7573 - loss: 0.4755 - val_accuracy: 0.3093 - val_loss: 1.8766 - learning_rate: 5.0000e-04\n",
      "Epoch 6/50\n",
      "\u001b[1m47/47\u001b[0m \u001b[32m━━━━━━━━━━━━━━━━━━━━\u001b[0m\u001b[37m\u001b[0m \u001b[1m1s\u001b[0m 13ms/step - accuracy: 0.7203 - loss: 0.4876 - val_accuracy: 0.4613 - val_loss: 2.0890 - learning_rate: 5.0000e-04\n",
      "Epoch 7/50\n",
      "\u001b[1m47/47\u001b[0m \u001b[32m━━━━━━━━━━━━━━━━━━━━\u001b[0m\u001b[37m\u001b[0m \u001b[1m1s\u001b[0m 15ms/step - accuracy: 0.7151 - loss: 0.4830 - val_accuracy: 0.3325 - val_loss: 2.1168 - learning_rate: 5.0000e-04\n",
      "Epoch 8/50\n",
      "\u001b[1m47/47\u001b[0m \u001b[32m━━━━━━━━━━━━━━━━━━━━\u001b[0m\u001b[37m\u001b[0m \u001b[1m1s\u001b[0m 16ms/step - accuracy: 0.7166 - loss: 0.4606 - val_accuracy: 0.4536 - val_loss: 2.1518 - learning_rate: 2.5000e-04\n",
      "Epoch 9/50\n",
      "\u001b[1m47/47\u001b[0m \u001b[32m━━━━━━━━━━━━━━━━━━━━\u001b[0m\u001b[37m\u001b[0m \u001b[1m1s\u001b[0m 14ms/step - accuracy: 0.7060 - loss: 0.4608 - val_accuracy: 0.3505 - val_loss: 2.4174 - learning_rate: 2.5000e-04\n",
      "Epoch 10/50\n",
      "\u001b[1m47/47\u001b[0m \u001b[32m━━━━━━━━━━━━━━━━━━━━\u001b[0m\u001b[37m\u001b[0m \u001b[1m1s\u001b[0m 14ms/step - accuracy: 0.6939 - loss: 0.4581 - val_accuracy: 0.3505 - val_loss: 2.5470 - learning_rate: 2.5000e-04\n",
      "Epoch 11/50\n",
      "\u001b[1m47/47\u001b[0m \u001b[32m━━━━━━━━━━━━━━━━━━━━\u001b[0m\u001b[37m\u001b[0m \u001b[1m1s\u001b[0m 13ms/step - accuracy: 0.7505 - loss: 0.4244 - val_accuracy: 0.3943 - val_loss: 2.4364 - learning_rate: 1.2500e-04\n"
     ]
    },
    {
     "name": "stderr",
     "output_type": "stream",
     "text": [
      "[I 2024-05-23 22:50:32,698] Trial 35 finished with value: 0.4355670213699341 and parameters: {'learning_rate': 0.014435532499910348, 'dropout_rate': 0.2596860096462424, 'num_filters': 83, 'num_layers': 1}. Best is trial 23 with value: 0.5103092789649963.\n"
     ]
    },
    {
     "name": "stdout",
     "output_type": "stream",
     "text": [
      "Epoch 1/50\n",
      "\u001b[1m47/47\u001b[0m \u001b[32m━━━━━━━━━━━━━━━━━━━━\u001b[0m\u001b[37m\u001b[0m \u001b[1m5s\u001b[0m 16ms/step - accuracy: 0.6530 - loss: 0.6381 - val_accuracy: 0.2784 - val_loss: 0.9828 - learning_rate: 0.0010\n",
      "Epoch 2/50\n",
      "\u001b[1m47/47\u001b[0m \u001b[32m━━━━━━━━━━━━━━━━━━━━\u001b[0m\u001b[37m\u001b[0m \u001b[1m0s\u001b[0m 9ms/step - accuracy: 0.6738 - loss: 0.5866 - val_accuracy: 0.4227 - val_loss: 1.3367 - learning_rate: 0.0010\n",
      "Epoch 3/50\n",
      "\u001b[1m47/47\u001b[0m \u001b[32m━━━━━━━━━━━━━━━━━━━━\u001b[0m\u001b[37m\u001b[0m \u001b[1m0s\u001b[0m 8ms/step - accuracy: 0.7345 - loss: 0.5194 - val_accuracy: 0.1572 - val_loss: 1.6725 - learning_rate: 0.0010\n",
      "Epoch 4/50\n",
      "\u001b[1m47/47\u001b[0m \u001b[32m━━━━━━━━━━━━━━━━━━━━\u001b[0m\u001b[37m\u001b[0m \u001b[1m0s\u001b[0m 10ms/step - accuracy: 0.6942 - loss: 0.4873 - val_accuracy: 0.5052 - val_loss: 2.2534 - learning_rate: 0.0010\n",
      "Epoch 5/50\n",
      "\u001b[1m47/47\u001b[0m \u001b[32m━━━━━━━━━━━━━━━━━━━━\u001b[0m\u001b[37m\u001b[0m \u001b[1m1s\u001b[0m 10ms/step - accuracy: 0.7266 - loss: 0.4728 - val_accuracy: 0.5206 - val_loss: 2.7014 - learning_rate: 5.0000e-04\n",
      "Epoch 6/50\n",
      "\u001b[1m47/47\u001b[0m \u001b[32m━━━━━━━━━━━━━━━━━━━━\u001b[0m\u001b[37m\u001b[0m \u001b[1m0s\u001b[0m 8ms/step - accuracy: 0.7365 - loss: 0.4796 - val_accuracy: 0.4613 - val_loss: 3.1335 - learning_rate: 5.0000e-04\n",
      "Epoch 7/50\n",
      "\u001b[1m47/47\u001b[0m \u001b[32m━━━━━━━━━━━━━━━━━━━━\u001b[0m\u001b[37m\u001b[0m \u001b[1m0s\u001b[0m 7ms/step - accuracy: 0.7374 - loss: 0.4566 - val_accuracy: 0.5464 - val_loss: 3.1125 - learning_rate: 5.0000e-04\n",
      "Epoch 8/50\n",
      "\u001b[1m47/47\u001b[0m \u001b[32m━━━━━━━━━━━━━━━━━━━━\u001b[0m\u001b[37m\u001b[0m \u001b[1m1s\u001b[0m 10ms/step - accuracy: 0.7284 - loss: 0.4423 - val_accuracy: 0.5129 - val_loss: 3.3836 - learning_rate: 2.5000e-04\n",
      "Epoch 9/50\n",
      "\u001b[1m47/47\u001b[0m \u001b[32m━━━━━━━━━━━━━━━━━━━━\u001b[0m\u001b[37m\u001b[0m \u001b[1m0s\u001b[0m 9ms/step - accuracy: 0.7550 - loss: 0.4258 - val_accuracy: 0.5258 - val_loss: 3.3648 - learning_rate: 2.5000e-04\n",
      "Epoch 10/50\n",
      "\u001b[1m47/47\u001b[0m \u001b[32m━━━━━━━━━━━━━━━━━━━━\u001b[0m\u001b[37m\u001b[0m \u001b[1m0s\u001b[0m 9ms/step - accuracy: 0.7884 - loss: 0.3997 - val_accuracy: 0.5155 - val_loss: 3.5640 - learning_rate: 2.5000e-04\n",
      "Epoch 11/50\n",
      "\u001b[1m47/47\u001b[0m \u001b[32m━━━━━━━━━━━━━━━━━━━━\u001b[0m\u001b[37m\u001b[0m \u001b[1m1s\u001b[0m 10ms/step - accuracy: 0.7748 - loss: 0.3949 - val_accuracy: 0.4794 - val_loss: 3.7610 - learning_rate: 1.2500e-04\n"
     ]
    },
    {
     "name": "stderr",
     "output_type": "stream",
     "text": [
      "[I 2024-05-23 22:50:42,812] Trial 36 finished with value: 0.27835050225257874 and parameters: {'learning_rate': 0.0008526289577380885, 'dropout_rate': 0.34811715069460525, 'num_filters': 34, 'num_layers': 2}. Best is trial 23 with value: 0.5103092789649963.\n"
     ]
    },
    {
     "name": "stdout",
     "output_type": "stream",
     "text": [
      "Epoch 1/50\n",
      "\u001b[1m47/47\u001b[0m \u001b[32m━━━━━━━━━━━━━━━━━━━━\u001b[0m\u001b[37m\u001b[0m \u001b[1m6s\u001b[0m 25ms/step - accuracy: 0.6389 - loss: 0.6468 - val_accuracy: 0.2345 - val_loss: 1.2724 - learning_rate: 0.0010\n",
      "Epoch 2/50\n",
      "\u001b[1m47/47\u001b[0m \u001b[32m━━━━━━━━━━━━━━━━━━━━\u001b[0m\u001b[37m\u001b[0m \u001b[1m1s\u001b[0m 14ms/step - accuracy: 0.6255 - loss: 0.6145 - val_accuracy: 0.1701 - val_loss: 1.0287 - learning_rate: 0.0010\n",
      "Epoch 3/50\n",
      "\u001b[1m47/47\u001b[0m \u001b[32m━━━━━━━━━━━━━━━━━━━━\u001b[0m\u001b[37m\u001b[0m \u001b[1m1s\u001b[0m 20ms/step - accuracy: 0.6831 - loss: 0.5253 - val_accuracy: 0.4536 - val_loss: 2.4890 - learning_rate: 0.0010\n",
      "Epoch 4/50\n",
      "\u001b[1m47/47\u001b[0m \u001b[32m━━━━━━━━━━━━━━━━━━━━\u001b[0m\u001b[37m\u001b[0m \u001b[1m1s\u001b[0m 20ms/step - accuracy: 0.7364 - loss: 0.4825 - val_accuracy: 0.4871 - val_loss: 2.2633 - learning_rate: 0.0010\n",
      "Epoch 5/50\n",
      "\u001b[1m47/47\u001b[0m \u001b[32m━━━━━━━━━━━━━━━━━━━━\u001b[0m\u001b[37m\u001b[0m \u001b[1m1s\u001b[0m 22ms/step - accuracy: 0.7300 - loss: 0.4652 - val_accuracy: 0.2139 - val_loss: 2.4379 - learning_rate: 0.0010\n",
      "Epoch 6/50\n",
      "\u001b[1m47/47\u001b[0m \u001b[32m━━━━━━━━━━━━━━━━━━━━\u001b[0m\u001b[37m\u001b[0m \u001b[1m1s\u001b[0m 22ms/step - accuracy: 0.7221 - loss: 0.4474 - val_accuracy: 0.3737 - val_loss: 2.9288 - learning_rate: 5.0000e-04\n",
      "Epoch 7/50\n",
      "\u001b[1m47/47\u001b[0m \u001b[32m━━━━━━━━━━━━━━━━━━━━\u001b[0m\u001b[37m\u001b[0m \u001b[1m1s\u001b[0m 18ms/step - accuracy: 0.7088 - loss: 0.4251 - val_accuracy: 0.5052 - val_loss: 3.5513 - learning_rate: 5.0000e-04\n",
      "Epoch 8/50\n",
      "\u001b[1m47/47\u001b[0m \u001b[32m━━━━━━━━━━━━━━━━━━━━\u001b[0m\u001b[37m\u001b[0m \u001b[1m1s\u001b[0m 17ms/step - accuracy: 0.7566 - loss: 0.4083 - val_accuracy: 0.5490 - val_loss: 4.1017 - learning_rate: 5.0000e-04\n",
      "Epoch 9/50\n",
      "\u001b[1m47/47\u001b[0m \u001b[32m━━━━━━━━━━━━━━━━━━━━\u001b[0m\u001b[37m\u001b[0m \u001b[1m1s\u001b[0m 17ms/step - accuracy: 0.7635 - loss: 0.3612 - val_accuracy: 0.5129 - val_loss: 5.1145 - learning_rate: 2.5000e-04\n",
      "Epoch 10/50\n",
      "\u001b[1m47/47\u001b[0m \u001b[32m━━━━━━━━━━━━━━━━━━━━\u001b[0m\u001b[37m\u001b[0m \u001b[1m1s\u001b[0m 19ms/step - accuracy: 0.7667 - loss: 0.3598 - val_accuracy: 0.4227 - val_loss: 5.4752 - learning_rate: 2.5000e-04\n",
      "Epoch 11/50\n",
      "\u001b[1m47/47\u001b[0m \u001b[32m━━━━━━━━━━━━━━━━━━━━\u001b[0m\u001b[37m\u001b[0m \u001b[1m1s\u001b[0m 20ms/step - accuracy: 0.8051 - loss: 0.3302 - val_accuracy: 0.3686 - val_loss: 5.7561 - learning_rate: 2.5000e-04\n",
      "Epoch 12/50\n",
      "\u001b[1m47/47\u001b[0m \u001b[32m━━━━━━━━━━━━━━━━━━━━\u001b[0m\u001b[37m\u001b[0m \u001b[1m1s\u001b[0m 15ms/step - accuracy: 0.8053 - loss: 0.3279 - val_accuracy: 0.3686 - val_loss: 5.9824 - learning_rate: 1.2500e-04\n"
     ]
    },
    {
     "name": "stderr",
     "output_type": "stream",
     "text": [
      "[I 2024-05-23 22:51:00,044] Trial 37 finished with value: 0.17010308802127838 and parameters: {'learning_rate': 0.0020343299427914873, 'dropout_rate': 0.19279344018991157, 'num_filters': 127, 'num_layers': 3}. Best is trial 23 with value: 0.5103092789649963.\n"
     ]
    },
    {
     "name": "stdout",
     "output_type": "stream",
     "text": [
      "Epoch 1/50\n",
      "\u001b[1m47/47\u001b[0m \u001b[32m━━━━━━━━━━━━━━━━━━━━\u001b[0m\u001b[37m\u001b[0m \u001b[1m3s\u001b[0m 15ms/step - accuracy: 0.6022 - loss: 0.6538 - val_accuracy: 0.2113 - val_loss: 1.1427 - learning_rate: 0.0010\n",
      "Epoch 2/50\n",
      "\u001b[1m47/47\u001b[0m \u001b[32m━━━━━━━━━━━━━━━━━━━━\u001b[0m\u001b[37m\u001b[0m \u001b[1m1s\u001b[0m 10ms/step - accuracy: 0.7285 - loss: 0.5579 - val_accuracy: 0.1521 - val_loss: 0.9831 - learning_rate: 0.0010\n",
      "Epoch 3/50\n",
      "\u001b[1m47/47\u001b[0m \u001b[32m━━━━━━━━━━━━━━━━━━━━\u001b[0m\u001b[37m\u001b[0m \u001b[1m0s\u001b[0m 9ms/step - accuracy: 0.6937 - loss: 0.5362 - val_accuracy: 0.2552 - val_loss: 1.1713 - learning_rate: 0.0010\n",
      "Epoch 4/50\n",
      "\u001b[1m47/47\u001b[0m \u001b[32m━━━━━━━━━━━━━━━━━━━━\u001b[0m\u001b[37m\u001b[0m \u001b[1m1s\u001b[0m 11ms/step - accuracy: 0.7406 - loss: 0.5168 - val_accuracy: 0.4304 - val_loss: 1.1625 - learning_rate: 0.0010\n",
      "Epoch 5/50\n",
      "\u001b[1m47/47\u001b[0m \u001b[32m━━━━━━━━━━━━━━━━━━━━\u001b[0m\u001b[37m\u001b[0m \u001b[1m1s\u001b[0m 10ms/step - accuracy: 0.7074 - loss: 0.5261 - val_accuracy: 0.4201 - val_loss: 1.3142 - learning_rate: 0.0010\n",
      "Epoch 6/50\n",
      "\u001b[1m47/47\u001b[0m \u001b[32m━━━━━━━━━━━━━━━━━━━━\u001b[0m\u001b[37m\u001b[0m \u001b[1m1s\u001b[0m 11ms/step - accuracy: 0.7341 - loss: 0.5175 - val_accuracy: 0.4304 - val_loss: 1.2807 - learning_rate: 5.0000e-04\n",
      "Epoch 7/50\n",
      "\u001b[1m47/47\u001b[0m \u001b[32m━━━━━━━━━━━━━━━━━━━━\u001b[0m\u001b[37m\u001b[0m \u001b[1m1s\u001b[0m 11ms/step - accuracy: 0.7672 - loss: 0.4804 - val_accuracy: 0.4175 - val_loss: 1.5057 - learning_rate: 5.0000e-04\n",
      "Epoch 8/50\n",
      "\u001b[1m47/47\u001b[0m \u001b[32m━━━━━━━━━━━━━━━━━━━━\u001b[0m\u001b[37m\u001b[0m \u001b[1m0s\u001b[0m 9ms/step - accuracy: 0.7785 - loss: 0.4841 - val_accuracy: 0.4072 - val_loss: 1.6669 - learning_rate: 5.0000e-04\n",
      "Epoch 9/50\n",
      "\u001b[1m47/47\u001b[0m \u001b[32m━━━━━━━━━━━━━━━━━━━━\u001b[0m\u001b[37m\u001b[0m \u001b[1m0s\u001b[0m 8ms/step - accuracy: 0.7918 - loss: 0.4532 - val_accuracy: 0.2912 - val_loss: 1.7862 - learning_rate: 2.5000e-04\n",
      "Epoch 10/50\n",
      "\u001b[1m47/47\u001b[0m \u001b[32m━━━━━━━━━━━━━━━━━━━━\u001b[0m\u001b[37m\u001b[0m \u001b[1m0s\u001b[0m 8ms/step - accuracy: 0.7488 - loss: 0.4778 - val_accuracy: 0.3634 - val_loss: 1.8229 - learning_rate: 2.5000e-04\n",
      "Epoch 11/50\n",
      "\u001b[1m47/47\u001b[0m \u001b[32m━━━━━━━━━━━━━━━━━━━━\u001b[0m\u001b[37m\u001b[0m \u001b[1m1s\u001b[0m 11ms/step - accuracy: 0.7494 - loss: 0.4889 - val_accuracy: 0.3582 - val_loss: 1.9122 - learning_rate: 2.5000e-04\n",
      "Epoch 12/50\n",
      "\u001b[1m47/47\u001b[0m \u001b[32m━━━━━━━━━━━━━━━━━━━━\u001b[0m\u001b[37m\u001b[0m \u001b[1m0s\u001b[0m 8ms/step - accuracy: 0.7764 - loss: 0.4517 - val_accuracy: 0.3428 - val_loss: 1.8735 - learning_rate: 1.2500e-04\n"
     ]
    },
    {
     "name": "stderr",
     "output_type": "stream",
     "text": [
      "[I 2024-05-23 22:51:08,819] Trial 38 finished with value: 0.1520618498325348 and parameters: {'learning_rate': 0.020815340522849737, 'dropout_rate': 0.23944122552112335, 'num_filters': 45, 'num_layers': 1}. Best is trial 23 with value: 0.5103092789649963.\n"
     ]
    },
    {
     "name": "stdout",
     "output_type": "stream",
     "text": [
      "Epoch 1/50\n",
      "\u001b[1m47/47\u001b[0m \u001b[32m━━━━━━━━━━━━━━━━━━━━\u001b[0m\u001b[37m\u001b[0m \u001b[1m4s\u001b[0m 20ms/step - accuracy: 0.6028 - loss: 0.6678 - val_accuracy: 0.2552 - val_loss: 1.1304 - learning_rate: 0.0010\n",
      "Epoch 2/50\n",
      "\u001b[1m47/47\u001b[0m \u001b[32m━━━━━━━━━━━━━━━━━━━━\u001b[0m\u001b[37m\u001b[0m \u001b[1m1s\u001b[0m 13ms/step - accuracy: 0.6982 - loss: 0.5633 - val_accuracy: 0.4691 - val_loss: 1.5969 - learning_rate: 0.0010\n",
      "Epoch 3/50\n",
      "\u001b[1m47/47\u001b[0m \u001b[32m━━━━━━━━━━━━━━━━━━━━\u001b[0m\u001b[37m\u001b[0m \u001b[1m1s\u001b[0m 16ms/step - accuracy: 0.7260 - loss: 0.5245 - val_accuracy: 0.4356 - val_loss: 2.2944 - learning_rate: 0.0010\n",
      "Epoch 4/50\n",
      "\u001b[1m47/47\u001b[0m \u001b[32m━━━━━━━━━━━━━━━━━━━━\u001b[0m\u001b[37m\u001b[0m \u001b[1m1s\u001b[0m 18ms/step - accuracy: 0.7577 - loss: 0.4751 - val_accuracy: 0.2990 - val_loss: 3.0423 - learning_rate: 0.0010\n",
      "Epoch 5/50\n",
      "\u001b[1m47/47\u001b[0m \u001b[32m━━━━━━━━━━━━━━━━━━━━\u001b[0m\u001b[37m\u001b[0m \u001b[1m1s\u001b[0m 13ms/step - accuracy: 0.6903 - loss: 0.4649 - val_accuracy: 0.4278 - val_loss: 3.5698 - learning_rate: 5.0000e-04\n",
      "Epoch 6/50\n",
      "\u001b[1m47/47\u001b[0m \u001b[32m━━━━━━━━━━━━━━━━━━━━\u001b[0m\u001b[37m\u001b[0m \u001b[1m1s\u001b[0m 16ms/step - accuracy: 0.7509 - loss: 0.4335 - val_accuracy: 0.4768 - val_loss: 3.7300 - learning_rate: 5.0000e-04\n",
      "Epoch 7/50\n",
      "\u001b[1m47/47\u001b[0m \u001b[32m━━━━━━━━━━━━━━━━━━━━\u001b[0m\u001b[37m\u001b[0m \u001b[1m1s\u001b[0m 17ms/step - accuracy: 0.7489 - loss: 0.4331 - val_accuracy: 0.5206 - val_loss: 4.7537 - learning_rate: 5.0000e-04\n",
      "Epoch 8/50\n",
      "\u001b[1m47/47\u001b[0m \u001b[32m━━━━━━━━━━━━━━━━━━━━\u001b[0m\u001b[37m\u001b[0m \u001b[1m1s\u001b[0m 14ms/step - accuracy: 0.7384 - loss: 0.4414 - val_accuracy: 0.5464 - val_loss: 5.0418 - learning_rate: 2.5000e-04\n",
      "Epoch 9/50\n",
      "\u001b[1m47/47\u001b[0m \u001b[32m━━━━━━━━━━━━━━━━━━━━\u001b[0m\u001b[37m\u001b[0m \u001b[1m1s\u001b[0m 15ms/step - accuracy: 0.7633 - loss: 0.4018 - val_accuracy: 0.4820 - val_loss: 5.5882 - learning_rate: 2.5000e-04\n",
      "Epoch 10/50\n",
      "\u001b[1m47/47\u001b[0m \u001b[32m━━━━━━━━━━━━━━━━━━━━\u001b[0m\u001b[37m\u001b[0m \u001b[1m1s\u001b[0m 16ms/step - accuracy: 0.7754 - loss: 0.3863 - val_accuracy: 0.4072 - val_loss: 5.8329 - learning_rate: 2.5000e-04\n",
      "Epoch 11/50\n",
      "\u001b[1m47/47\u001b[0m \u001b[32m━━━━━━━━━━━━━━━━━━━━\u001b[0m\u001b[37m\u001b[0m \u001b[1m1s\u001b[0m 12ms/step - accuracy: 0.7795 - loss: 0.3839 - val_accuracy: 0.4227 - val_loss: 6.3606 - learning_rate: 1.2500e-04\n"
     ]
    },
    {
     "name": "stderr",
     "output_type": "stream",
     "text": [
      "[I 2024-05-23 22:51:20,424] Trial 39 finished with value: 0.25515463948249817 and parameters: {'learning_rate': 0.006276331082025172, 'dropout_rate': 0.3083947559751589, 'num_filters': 112, 'num_layers': 2}. Best is trial 23 with value: 0.5103092789649963.\n"
     ]
    },
    {
     "name": "stdout",
     "output_type": "stream",
     "text": [
      "Epoch 1/50\n",
      "\u001b[1m47/47\u001b[0m \u001b[32m━━━━━━━━━━━━━━━━━━━━\u001b[0m\u001b[37m\u001b[0m \u001b[1m3s\u001b[0m 16ms/step - accuracy: 0.5779 - loss: 0.6710 - val_accuracy: 0.2165 - val_loss: 1.0833 - learning_rate: 0.0010\n",
      "Epoch 2/50\n",
      "\u001b[1m47/47\u001b[0m \u001b[32m━━━━━━━━━━━━━━━━━━━━\u001b[0m\u001b[37m\u001b[0m \u001b[1m1s\u001b[0m 13ms/step - accuracy: 0.7069 - loss: 0.5881 - val_accuracy: 0.2113 - val_loss: 1.4145 - learning_rate: 0.0010\n",
      "Epoch 3/50\n",
      "\u001b[1m47/47\u001b[0m \u001b[32m━━━━━━━━━━━━━━━━━━━━\u001b[0m\u001b[37m\u001b[0m \u001b[1m0s\u001b[0m 9ms/step - accuracy: 0.7422 - loss: 0.5401 - val_accuracy: 0.1495 - val_loss: 1.4455 - learning_rate: 0.0010\n",
      "Epoch 4/50\n",
      "\u001b[1m47/47\u001b[0m \u001b[32m━━━━━━━━━━━━━━━━━━━━\u001b[0m\u001b[37m\u001b[0m \u001b[1m1s\u001b[0m 14ms/step - accuracy: 0.7496 - loss: 0.5047 - val_accuracy: 0.2165 - val_loss: 2.0503 - learning_rate: 0.0010\n",
      "Epoch 5/50\n",
      "\u001b[1m47/47\u001b[0m \u001b[32m━━━━━━━━━━━━━━━━━━━━\u001b[0m\u001b[37m\u001b[0m \u001b[1m1s\u001b[0m 12ms/step - accuracy: 0.7202 - loss: 0.4706 - val_accuracy: 0.2500 - val_loss: 2.2392 - learning_rate: 5.0000e-04\n",
      "Epoch 6/50\n",
      "\u001b[1m47/47\u001b[0m \u001b[32m━━━━━━━━━━━━━━━━━━━━\u001b[0m\u001b[37m\u001b[0m \u001b[1m1s\u001b[0m 13ms/step - accuracy: 0.7405 - loss: 0.4544 - val_accuracy: 0.1985 - val_loss: 2.7749 - learning_rate: 5.0000e-04\n",
      "Epoch 7/50\n",
      "\u001b[1m47/47\u001b[0m \u001b[32m━━━━━━━━━━━━━━━━━━━━\u001b[0m\u001b[37m\u001b[0m \u001b[1m1s\u001b[0m 11ms/step - accuracy: 0.7316 - loss: 0.4419 - val_accuracy: 0.2603 - val_loss: 2.8651 - learning_rate: 5.0000e-04\n",
      "Epoch 8/50\n",
      "\u001b[1m47/47\u001b[0m \u001b[32m━━━━━━━━━━━━━━━━━━━━\u001b[0m\u001b[37m\u001b[0m \u001b[1m1s\u001b[0m 14ms/step - accuracy: 0.7517 - loss: 0.3988 - val_accuracy: 0.2655 - val_loss: 3.0616 - learning_rate: 2.5000e-04\n",
      "Epoch 9/50\n",
      "\u001b[1m47/47\u001b[0m \u001b[32m━━━━━━━━━━━━━━━━━━━━\u001b[0m\u001b[37m\u001b[0m \u001b[1m1s\u001b[0m 13ms/step - accuracy: 0.7573 - loss: 0.4041 - val_accuracy: 0.2629 - val_loss: 3.5012 - learning_rate: 2.5000e-04\n",
      "Epoch 10/50\n",
      "\u001b[1m47/47\u001b[0m \u001b[32m━━━━━━━━━━━━━━━━━━━━\u001b[0m\u001b[37m\u001b[0m \u001b[1m1s\u001b[0m 11ms/step - accuracy: 0.7639 - loss: 0.3929 - val_accuracy: 0.2500 - val_loss: 3.6720 - learning_rate: 2.5000e-04\n",
      "Epoch 11/50\n",
      "\u001b[1m47/47\u001b[0m \u001b[32m━━━━━━━━━━━━━━━━━━━━\u001b[0m\u001b[37m\u001b[0m \u001b[1m1s\u001b[0m 14ms/step - accuracy: 0.7479 - loss: 0.3903 - val_accuracy: 0.2655 - val_loss: 3.5303 - learning_rate: 1.2500e-04\n"
     ]
    },
    {
     "name": "stderr",
     "output_type": "stream",
     "text": [
      "[I 2024-05-23 22:51:30,321] Trial 40 finished with value: 0.2164948433637619 and parameters: {'learning_rate': 0.005426309212247963, 'dropout_rate': 0.4391334800864698, 'num_filters': 65, 'num_layers': 2}. Best is trial 23 with value: 0.5103092789649963.\n"
     ]
    },
    {
     "name": "stdout",
     "output_type": "stream",
     "text": [
      "Epoch 1/50\n",
      "\u001b[1m47/47\u001b[0m \u001b[32m━━━━━━━━━━━━━━━━━━━━\u001b[0m\u001b[37m\u001b[0m \u001b[1m4s\u001b[0m 22ms/step - accuracy: 0.6924 - loss: 0.6244 - val_accuracy: 0.1778 - val_loss: 1.2552 - learning_rate: 0.0010\n",
      "Epoch 2/50\n",
      "\u001b[1m47/47\u001b[0m \u001b[32m━━━━━━━━━━━━━━━━━━━━\u001b[0m\u001b[37m\u001b[0m \u001b[1m1s\u001b[0m 13ms/step - accuracy: 0.7171 - loss: 0.5369 - val_accuracy: 0.2216 - val_loss: 2.4284 - learning_rate: 0.0010\n",
      "Epoch 3/50\n",
      "\u001b[1m47/47\u001b[0m \u001b[32m━━━━━━━━━━━━━━━━━━━━\u001b[0m\u001b[37m\u001b[0m \u001b[1m1s\u001b[0m 15ms/step - accuracy: 0.7380 - loss: 0.4910 - val_accuracy: 0.4742 - val_loss: 3.2981 - learning_rate: 0.0010\n",
      "Epoch 4/50\n",
      "\u001b[1m47/47\u001b[0m \u001b[32m━━━━━━━━━━━━━━━━━━━━\u001b[0m\u001b[37m\u001b[0m \u001b[1m1s\u001b[0m 14ms/step - accuracy: 0.7824 - loss: 0.4303 - val_accuracy: 0.4253 - val_loss: 4.0507 - learning_rate: 0.0010\n",
      "Epoch 5/50\n",
      "\u001b[1m47/47\u001b[0m \u001b[32m━━━━━━━━━━━━━━━━━━━━\u001b[0m\u001b[37m\u001b[0m \u001b[1m1s\u001b[0m 13ms/step - accuracy: 0.8144 - loss: 0.3854 - val_accuracy: 0.4716 - val_loss: 4.5523 - learning_rate: 5.0000e-04\n",
      "Epoch 6/50\n",
      "\u001b[1m47/47\u001b[0m \u001b[32m━━━━━━━━━━━━━━━━━━━━\u001b[0m\u001b[37m\u001b[0m \u001b[1m1s\u001b[0m 12ms/step - accuracy: 0.8101 - loss: 0.3494 - val_accuracy: 0.4742 - val_loss: 5.4091 - learning_rate: 5.0000e-04\n",
      "Epoch 7/50\n",
      "\u001b[1m47/47\u001b[0m \u001b[32m━━━━━━━━━━━━━━━━━━━━\u001b[0m\u001b[37m\u001b[0m \u001b[1m1s\u001b[0m 14ms/step - accuracy: 0.8320 - loss: 0.3210 - val_accuracy: 0.4278 - val_loss: 6.3003 - learning_rate: 5.0000e-04\n",
      "Epoch 8/50\n",
      "\u001b[1m47/47\u001b[0m \u001b[32m━━━━━━━━━━━━━━━━━━━━\u001b[0m\u001b[37m\u001b[0m \u001b[1m1s\u001b[0m 12ms/step - accuracy: 0.8311 - loss: 0.3115 - val_accuracy: 0.4407 - val_loss: 6.9537 - learning_rate: 2.5000e-04\n",
      "Epoch 9/50\n",
      "\u001b[1m47/47\u001b[0m \u001b[32m━━━━━━━━━━━━━━━━━━━━\u001b[0m\u001b[37m\u001b[0m \u001b[1m1s\u001b[0m 15ms/step - accuracy: 0.8477 - loss: 0.2815 - val_accuracy: 0.3943 - val_loss: 6.9294 - learning_rate: 2.5000e-04\n",
      "Epoch 10/50\n",
      "\u001b[1m47/47\u001b[0m \u001b[32m━━━━━━━━━━━━━━━━━━━━\u001b[0m\u001b[37m\u001b[0m \u001b[1m1s\u001b[0m 14ms/step - accuracy: 0.8187 - loss: 0.2895 - val_accuracy: 0.3969 - val_loss: 7.6768 - learning_rate: 2.5000e-04\n",
      "Epoch 11/50\n",
      "\u001b[1m47/47\u001b[0m \u001b[32m━━━━━━━━━━━━━━━━━━━━\u001b[0m\u001b[37m\u001b[0m \u001b[1m1s\u001b[0m 14ms/step - accuracy: 0.8415 - loss: 0.2656 - val_accuracy: 0.3557 - val_loss: 7.6599 - learning_rate: 1.2500e-04\n"
     ]
    },
    {
     "name": "stderr",
     "output_type": "stream",
     "text": [
      "[I 2024-05-23 22:51:41,241] Trial 41 finished with value: 0.17783504724502563 and parameters: {'learning_rate': 0.00013588370304347888, 'dropout_rate': 0.07264751330748438, 'num_filters': 102, 'num_layers': 2}. Best is trial 23 with value: 0.5103092789649963.\n"
     ]
    },
    {
     "name": "stdout",
     "output_type": "stream",
     "text": [
      "Epoch 1/50\n",
      "\u001b[1m47/47\u001b[0m \u001b[32m━━━━━━━━━━━━━━━━━━━━\u001b[0m\u001b[37m\u001b[0m \u001b[1m4s\u001b[0m 21ms/step - accuracy: 0.6305 - loss: 0.6356 - val_accuracy: 0.4304 - val_loss: 0.9632 - learning_rate: 0.0010\n",
      "Epoch 2/50\n",
      "\u001b[1m47/47\u001b[0m \u001b[32m━━━━━━━━━━━━━━━━━━━━\u001b[0m\u001b[37m\u001b[0m \u001b[1m1s\u001b[0m 17ms/step - accuracy: 0.7265 - loss: 0.5307 - val_accuracy: 0.1289 - val_loss: 1.5395 - learning_rate: 0.0010\n",
      "Epoch 3/50\n",
      "\u001b[1m47/47\u001b[0m \u001b[32m━━━━━━━━━━━━━━━━━━━━\u001b[0m\u001b[37m\u001b[0m \u001b[1m1s\u001b[0m 17ms/step - accuracy: 0.7016 - loss: 0.5249 - val_accuracy: 0.4407 - val_loss: 2.5910 - learning_rate: 0.0010\n",
      "Epoch 4/50\n",
      "\u001b[1m47/47\u001b[0m \u001b[32m━━━━━━━━━━━━━━━━━━━━\u001b[0m\u001b[37m\u001b[0m \u001b[1m1s\u001b[0m 14ms/step - accuracy: 0.7316 - loss: 0.4907 - val_accuracy: 0.4485 - val_loss: 2.6652 - learning_rate: 0.0010\n",
      "Epoch 5/50\n",
      "\u001b[1m47/47\u001b[0m \u001b[32m━━━━━━━━━━━━━━━━━━━━\u001b[0m\u001b[37m\u001b[0m \u001b[1m1s\u001b[0m 14ms/step - accuracy: 0.7420 - loss: 0.4485 - val_accuracy: 0.5000 - val_loss: 3.6209 - learning_rate: 5.0000e-04\n",
      "Epoch 6/50\n",
      "\u001b[1m47/47\u001b[0m \u001b[32m━━━━━━━━━━━━━━━━━━━━\u001b[0m\u001b[37m\u001b[0m \u001b[1m1s\u001b[0m 17ms/step - accuracy: 0.7581 - loss: 0.4333 - val_accuracy: 0.4253 - val_loss: 4.0373 - learning_rate: 5.0000e-04\n",
      "Epoch 7/50\n",
      "\u001b[1m47/47\u001b[0m \u001b[32m━━━━━━━━━━━━━━━━━━━━\u001b[0m\u001b[37m\u001b[0m \u001b[1m1s\u001b[0m 15ms/step - accuracy: 0.7442 - loss: 0.4162 - val_accuracy: 0.5026 - val_loss: 4.3025 - learning_rate: 5.0000e-04\n",
      "Epoch 8/50\n",
      "\u001b[1m47/47\u001b[0m \u001b[32m━━━━━━━━━━━━━━━━━━━━\u001b[0m\u001b[37m\u001b[0m \u001b[1m1s\u001b[0m 15ms/step - accuracy: 0.7782 - loss: 0.3792 - val_accuracy: 0.5000 - val_loss: 4.4566 - learning_rate: 2.5000e-04\n",
      "Epoch 9/50\n",
      "\u001b[1m47/47\u001b[0m \u001b[32m━━━━━━━━━━━━━━━━━━━━\u001b[0m\u001b[37m\u001b[0m \u001b[1m1s\u001b[0m 16ms/step - accuracy: 0.7844 - loss: 0.3846 - val_accuracy: 0.4716 - val_loss: 4.6873 - learning_rate: 2.5000e-04\n",
      "Epoch 10/50\n",
      "\u001b[1m47/47\u001b[0m \u001b[32m━━━━━━━━━━━━━━━━━━━━\u001b[0m\u001b[37m\u001b[0m \u001b[1m1s\u001b[0m 14ms/step - accuracy: 0.7995 - loss: 0.3655 - val_accuracy: 0.4253 - val_loss: 5.4251 - learning_rate: 2.5000e-04\n",
      "Epoch 11/50\n",
      "\u001b[1m47/47\u001b[0m \u001b[32m━━━━━━━━━━━━━━━━━━━━\u001b[0m\u001b[37m\u001b[0m \u001b[1m1s\u001b[0m 15ms/step - accuracy: 0.7909 - loss: 0.3653 - val_accuracy: 0.4613 - val_loss: 5.3177 - learning_rate: 1.2500e-04\n"
     ]
    },
    {
     "name": "stderr",
     "output_type": "stream",
     "text": [
      "[I 2024-05-23 22:51:53,958] Trial 42 finished with value: 0.4304123818874359 and parameters: {'learning_rate': 0.0671644149594167, 'dropout_rate': 0.20587411141976356, 'num_filters': 93, 'num_layers': 2}. Best is trial 23 with value: 0.5103092789649963.\n"
     ]
    },
    {
     "name": "stdout",
     "output_type": "stream",
     "text": [
      "Epoch 1/50\n",
      "\u001b[1m47/47\u001b[0m \u001b[32m━━━━━━━━━━━━━━━━━━━━\u001b[0m\u001b[37m\u001b[0m \u001b[1m4s\u001b[0m 21ms/step - accuracy: 0.6551 - loss: 0.6294 - val_accuracy: 0.2294 - val_loss: 1.3461 - learning_rate: 0.0010\n",
      "Epoch 2/50\n",
      "\u001b[1m47/47\u001b[0m \u001b[32m━━━━━━━━━━━━━━━━━━━━\u001b[0m\u001b[37m\u001b[0m \u001b[1m1s\u001b[0m 14ms/step - accuracy: 0.7267 - loss: 0.5287 - val_accuracy: 0.2191 - val_loss: 1.7899 - learning_rate: 0.0010\n",
      "Epoch 3/50\n",
      "\u001b[1m47/47\u001b[0m \u001b[32m━━━━━━━━━━━━━━━━━━━━\u001b[0m\u001b[37m\u001b[0m \u001b[1m1s\u001b[0m 12ms/step - accuracy: 0.7283 - loss: 0.5136 - val_accuracy: 0.4510 - val_loss: 2.4488 - learning_rate: 0.0010\n",
      "Epoch 4/50\n",
      "\u001b[1m47/47\u001b[0m \u001b[32m━━━━━━━━━━━━━━━━━━━━\u001b[0m\u001b[37m\u001b[0m \u001b[1m1s\u001b[0m 14ms/step - accuracy: 0.7195 - loss: 0.4583 - val_accuracy: 0.3737 - val_loss: 4.5224 - learning_rate: 0.0010\n",
      "Epoch 5/50\n",
      "\u001b[1m47/47\u001b[0m \u001b[32m━━━━━━━━━━━━━━━━━━━━\u001b[0m\u001b[37m\u001b[0m \u001b[1m1s\u001b[0m 15ms/step - accuracy: 0.7616 - loss: 0.4217 - val_accuracy: 0.1856 - val_loss: 5.8538 - learning_rate: 5.0000e-04\n",
      "Epoch 6/50\n",
      "\u001b[1m47/47\u001b[0m \u001b[32m━━━━━━━━━━━━━━━━━━━━\u001b[0m\u001b[37m\u001b[0m \u001b[1m1s\u001b[0m 13ms/step - accuracy: 0.7449 - loss: 0.4283 - val_accuracy: 0.2835 - val_loss: 5.6971 - learning_rate: 5.0000e-04\n",
      "Epoch 7/50\n",
      "\u001b[1m47/47\u001b[0m \u001b[32m━━━━━━━━━━━━━━━━━━━━\u001b[0m\u001b[37m\u001b[0m \u001b[1m1s\u001b[0m 12ms/step - accuracy: 0.7887 - loss: 0.3669 - val_accuracy: 0.2216 - val_loss: 7.0919 - learning_rate: 5.0000e-04\n",
      "Epoch 8/50\n",
      "\u001b[1m47/47\u001b[0m \u001b[32m━━━━━━━━━━━━━━━━━━━━\u001b[0m\u001b[37m\u001b[0m \u001b[1m1s\u001b[0m 15ms/step - accuracy: 0.8156 - loss: 0.3366 - val_accuracy: 0.3531 - val_loss: 6.9005 - learning_rate: 2.5000e-04\n",
      "Epoch 9/50\n",
      "\u001b[1m47/47\u001b[0m \u001b[32m━━━━━━━━━━━━━━━━━━━━\u001b[0m\u001b[37m\u001b[0m \u001b[1m1s\u001b[0m 14ms/step - accuracy: 0.8159 - loss: 0.3017 - val_accuracy: 0.2784 - val_loss: 8.6090 - learning_rate: 2.5000e-04\n",
      "Epoch 10/50\n",
      "\u001b[1m47/47\u001b[0m \u001b[32m━━━━━━━━━━━━━━━━━━━━\u001b[0m\u001b[37m\u001b[0m \u001b[1m1s\u001b[0m 15ms/step - accuracy: 0.8264 - loss: 0.2940 - val_accuracy: 0.3634 - val_loss: 7.8744 - learning_rate: 2.5000e-04\n",
      "Epoch 11/50\n",
      "\u001b[1m47/47\u001b[0m \u001b[32m━━━━━━━━━━━━━━━━━━━━\u001b[0m\u001b[37m\u001b[0m \u001b[1m1s\u001b[0m 20ms/step - accuracy: 0.8251 - loss: 0.3094 - val_accuracy: 0.3660 - val_loss: 9.1587 - learning_rate: 1.2500e-04\n"
     ]
    },
    {
     "name": "stderr",
     "output_type": "stream",
     "text": [
      "[I 2024-05-23 22:52:05,895] Trial 43 finished with value: 0.22938144207000732 and parameters: {'learning_rate': 0.009274992535061305, 'dropout_rate': 0.15951977137673884, 'num_filters': 109, 'num_layers': 2}. Best is trial 23 with value: 0.5103092789649963.\n"
     ]
    },
    {
     "name": "stdout",
     "output_type": "stream",
     "text": [
      "Epoch 1/50\n",
      "\u001b[1m47/47\u001b[0m \u001b[32m━━━━━━━━━━━━━━━━━━━━\u001b[0m\u001b[37m\u001b[0m \u001b[1m4s\u001b[0m 18ms/step - accuracy: 0.5864 - loss: 0.6614 - val_accuracy: 0.2423 - val_loss: 1.1644 - learning_rate: 0.0010\n",
      "Epoch 2/50\n",
      "\u001b[1m47/47\u001b[0m \u001b[32m━━━━━━━━━━━━━━━━━━━━\u001b[0m\u001b[37m\u001b[0m \u001b[1m1s\u001b[0m 13ms/step - accuracy: 0.6915 - loss: 0.5942 - val_accuracy: 0.2732 - val_loss: 1.2779 - learning_rate: 0.0010\n",
      "Epoch 3/50\n",
      "\u001b[1m47/47\u001b[0m \u001b[32m━━━━━━━━━━━━━━━━━━━━\u001b[0m\u001b[37m\u001b[0m \u001b[1m1s\u001b[0m 10ms/step - accuracy: 0.7254 - loss: 0.5208 - val_accuracy: 0.3840 - val_loss: 2.0123 - learning_rate: 0.0010\n",
      "Epoch 4/50\n",
      "\u001b[1m47/47\u001b[0m \u001b[32m━━━━━━━━━━━━━━━━━━━━\u001b[0m\u001b[37m\u001b[0m \u001b[1m1s\u001b[0m 11ms/step - accuracy: 0.7060 - loss: 0.4906 - val_accuracy: 0.5129 - val_loss: 3.0734 - learning_rate: 0.0010\n",
      "Epoch 5/50\n",
      "\u001b[1m47/47\u001b[0m \u001b[32m━━━━━━━━━━━━━━━━━━━━\u001b[0m\u001b[37m\u001b[0m \u001b[1m1s\u001b[0m 13ms/step - accuracy: 0.7732 - loss: 0.4454 - val_accuracy: 0.3093 - val_loss: 3.3338 - learning_rate: 5.0000e-04\n",
      "Epoch 6/50\n",
      "\u001b[1m47/47\u001b[0m \u001b[32m━━━━━━━━━━━━━━━━━━━━\u001b[0m\u001b[37m\u001b[0m \u001b[1m1s\u001b[0m 12ms/step - accuracy: 0.7765 - loss: 0.4176 - val_accuracy: 0.3170 - val_loss: 3.9070 - learning_rate: 5.0000e-04\n",
      "Epoch 7/50\n",
      "\u001b[1m47/47\u001b[0m \u001b[32m━━━━━━━━━━━━━━━━━━━━\u001b[0m\u001b[37m\u001b[0m \u001b[1m1s\u001b[0m 12ms/step - accuracy: 0.7870 - loss: 0.4001 - val_accuracy: 0.3557 - val_loss: 4.3887 - learning_rate: 5.0000e-04\n",
      "Epoch 8/50\n",
      "\u001b[1m47/47\u001b[0m \u001b[32m━━━━━━━━━━━━━━━━━━━━\u001b[0m\u001b[37m\u001b[0m \u001b[1m1s\u001b[0m 12ms/step - accuracy: 0.8385 - loss: 0.3551 - val_accuracy: 0.3608 - val_loss: 4.6549 - learning_rate: 2.5000e-04\n",
      "Epoch 9/50\n",
      "\u001b[1m47/47\u001b[0m \u001b[32m━━━━━━━━━━━━━━━━━━━━\u001b[0m\u001b[37m\u001b[0m \u001b[1m1s\u001b[0m 13ms/step - accuracy: 0.8302 - loss: 0.3599 - val_accuracy: 0.3067 - val_loss: 5.2662 - learning_rate: 2.5000e-04\n",
      "Epoch 10/50\n",
      "\u001b[1m47/47\u001b[0m \u001b[32m━━━━━━━━━━━━━━━━━━━━\u001b[0m\u001b[37m\u001b[0m \u001b[1m1s\u001b[0m 14ms/step - accuracy: 0.8204 - loss: 0.3370 - val_accuracy: 0.2732 - val_loss: 5.8471 - learning_rate: 2.5000e-04\n",
      "Epoch 11/50\n",
      "\u001b[1m47/47\u001b[0m \u001b[32m━━━━━━━━━━━━━━━━━━━━\u001b[0m\u001b[37m\u001b[0m \u001b[1m1s\u001b[0m 13ms/step - accuracy: 0.8323 - loss: 0.3206 - val_accuracy: 0.2861 - val_loss: 5.9598 - learning_rate: 1.2500e-04\n"
     ]
    },
    {
     "name": "stderr",
     "output_type": "stream",
     "text": [
      "[I 2024-05-23 22:52:16,420] Trial 44 finished with value: 0.24226804077625275 and parameters: {'learning_rate': 0.0026151782035191305, 'dropout_rate': 0.2677836712679784, 'num_filters': 84, 'num_layers': 2}. Best is trial 23 with value: 0.5103092789649963.\n"
     ]
    },
    {
     "name": "stdout",
     "output_type": "stream",
     "text": [
      "Epoch 1/50\n",
      "\u001b[1m47/47\u001b[0m \u001b[32m━━━━━━━━━━━━━━━━━━━━\u001b[0m\u001b[37m\u001b[0m \u001b[1m3s\u001b[0m 14ms/step - accuracy: 0.5877 - loss: 0.6652 - val_accuracy: 0.2552 - val_loss: 0.9759 - learning_rate: 0.0010\n",
      "Epoch 2/50\n",
      "\u001b[1m47/47\u001b[0m \u001b[32m━━━━━━━━━━━━━━━━━━━━\u001b[0m\u001b[37m\u001b[0m \u001b[1m0s\u001b[0m 10ms/step - accuracy: 0.7178 - loss: 0.5764 - val_accuracy: 0.1649 - val_loss: 0.9697 - learning_rate: 0.0010\n",
      "Epoch 3/50\n",
      "\u001b[1m47/47\u001b[0m \u001b[32m━━━━━━━━━━━━━━━━━━━━\u001b[0m\u001b[37m\u001b[0m \u001b[1m0s\u001b[0m 10ms/step - accuracy: 0.7543 - loss: 0.5303 - val_accuracy: 0.3840 - val_loss: 0.9344 - learning_rate: 0.0010\n",
      "Epoch 4/50\n",
      "\u001b[1m47/47\u001b[0m \u001b[32m━━━━━━━━━━━━━━━━━━━━\u001b[0m\u001b[37m\u001b[0m \u001b[1m1s\u001b[0m 10ms/step - accuracy: 0.7315 - loss: 0.5064 - val_accuracy: 0.1469 - val_loss: 1.0228 - learning_rate: 0.0010\n",
      "Epoch 5/50\n",
      "\u001b[1m47/47\u001b[0m \u001b[32m━━━━━━━━━━━━━━━━━━━━\u001b[0m\u001b[37m\u001b[0m \u001b[1m1s\u001b[0m 10ms/step - accuracy: 0.6851 - loss: 0.4947 - val_accuracy: 0.2294 - val_loss: 1.4224 - learning_rate: 0.0010\n",
      "Epoch 6/50\n",
      "\u001b[1m47/47\u001b[0m \u001b[32m━━━━━━━━━━━━━━━━━━━━\u001b[0m\u001b[37m\u001b[0m \u001b[1m0s\u001b[0m 7ms/step - accuracy: 0.7192 - loss: 0.4571 - val_accuracy: 0.5026 - val_loss: 1.7348 - learning_rate: 0.0010\n",
      "Epoch 7/50\n",
      "\u001b[1m47/47\u001b[0m \u001b[32m━━━━━━━━━━━━━━━━━━━━\u001b[0m\u001b[37m\u001b[0m \u001b[1m0s\u001b[0m 9ms/step - accuracy: 0.7585 - loss: 0.4397 - val_accuracy: 0.2680 - val_loss: 2.1071 - learning_rate: 5.0000e-04\n",
      "Epoch 8/50\n",
      "\u001b[1m47/47\u001b[0m \u001b[32m━━━━━━━━━━━━━━━━━━━━\u001b[0m\u001b[37m\u001b[0m \u001b[1m0s\u001b[0m 9ms/step - accuracy: 0.8029 - loss: 0.4083 - val_accuracy: 0.2242 - val_loss: 2.1666 - learning_rate: 5.0000e-04\n",
      "Epoch 9/50\n",
      "\u001b[1m47/47\u001b[0m \u001b[32m━━━━━━━━━━━━━━━━━━━━\u001b[0m\u001b[37m\u001b[0m \u001b[1m0s\u001b[0m 9ms/step - accuracy: 0.7997 - loss: 0.3808 - val_accuracy: 0.1753 - val_loss: 3.1870 - learning_rate: 5.0000e-04\n",
      "Epoch 10/50\n",
      "\u001b[1m47/47\u001b[0m \u001b[32m━━━━━━━━━━━━━━━━━━━━\u001b[0m\u001b[37m\u001b[0m \u001b[1m0s\u001b[0m 9ms/step - accuracy: 0.7768 - loss: 0.3893 - val_accuracy: 0.3196 - val_loss: 2.5552 - learning_rate: 2.5000e-04\n",
      "Epoch 11/50\n",
      "\u001b[1m47/47\u001b[0m \u001b[32m━━━━━━━━━━━━━━━━━━━━\u001b[0m\u001b[37m\u001b[0m \u001b[1m0s\u001b[0m 7ms/step - accuracy: 0.8372 - loss: 0.3729 - val_accuracy: 0.3402 - val_loss: 2.8983 - learning_rate: 2.5000e-04\n",
      "Epoch 12/50\n",
      "\u001b[1m47/47\u001b[0m \u001b[32m━━━━━━━━━━━━━━━━━━━━\u001b[0m\u001b[37m\u001b[0m \u001b[1m0s\u001b[0m 9ms/step - accuracy: 0.8440 - loss: 0.3415 - val_accuracy: 0.3428 - val_loss: 3.2792 - learning_rate: 2.5000e-04\n",
      "Epoch 13/50\n",
      "\u001b[1m47/47\u001b[0m \u001b[32m━━━━━━━━━━━━━━━━━━━━\u001b[0m\u001b[37m\u001b[0m \u001b[1m0s\u001b[0m 9ms/step - accuracy: 0.8467 - loss: 0.3308 - val_accuracy: 0.2500 - val_loss: 3.4545 - learning_rate: 1.2500e-04\n"
     ]
    },
    {
     "name": "stderr",
     "output_type": "stream",
     "text": [
      "[I 2024-05-23 22:52:25,822] Trial 45 finished with value: 0.3840206265449524 and parameters: {'learning_rate': 7.826726017008502e-05, 'dropout_rate': 0.22888474102329728, 'num_filters': 22, 'num_layers': 2}. Best is trial 23 with value: 0.5103092789649963.\n"
     ]
    },
    {
     "name": "stdout",
     "output_type": "stream",
     "text": [
      "Epoch 1/50\n",
      "\u001b[1m47/47\u001b[0m \u001b[32m━━━━━━━━━━━━━━━━━━━━\u001b[0m\u001b[37m\u001b[0m \u001b[1m4s\u001b[0m 24ms/step - accuracy: 0.6474 - loss: 0.6274 - val_accuracy: 0.1753 - val_loss: 1.3936 - learning_rate: 0.0010\n",
      "Epoch 2/50\n",
      "\u001b[1m47/47\u001b[0m \u001b[32m━━━━━━━━━━━━━━━━━━━━\u001b[0m\u001b[37m\u001b[0m \u001b[1m1s\u001b[0m 17ms/step - accuracy: 0.7155 - loss: 0.5260 - val_accuracy: 0.1727 - val_loss: 1.8814 - learning_rate: 0.0010\n",
      "Epoch 3/50\n",
      "\u001b[1m47/47\u001b[0m \u001b[32m━━━━━━━━━━━━━━━━━━━━\u001b[0m\u001b[37m\u001b[0m \u001b[1m1s\u001b[0m 16ms/step - accuracy: 0.7373 - loss: 0.4738 - val_accuracy: 0.3814 - val_loss: 1.4960 - learning_rate: 0.0010\n",
      "Epoch 4/50\n",
      "\u001b[1m47/47\u001b[0m \u001b[32m━━━━━━━━━━━━━━━━━━━━\u001b[0m\u001b[37m\u001b[0m \u001b[1m1s\u001b[0m 17ms/step - accuracy: 0.6976 - loss: 0.4831 - val_accuracy: 0.5052 - val_loss: 3.4684 - learning_rate: 0.0010\n",
      "Epoch 5/50\n",
      "\u001b[1m47/47\u001b[0m \u001b[32m━━━━━━━━━━━━━━━━━━━━\u001b[0m\u001b[37m\u001b[0m \u001b[1m1s\u001b[0m 12ms/step - accuracy: 0.7354 - loss: 0.4800 - val_accuracy: 0.2706 - val_loss: 3.5744 - learning_rate: 5.0000e-04\n",
      "Epoch 6/50\n",
      "\u001b[1m47/47\u001b[0m \u001b[32m━━━━━━━━━━━━━━━━━━━━\u001b[0m\u001b[37m\u001b[0m \u001b[1m1s\u001b[0m 13ms/step - accuracy: 0.7488 - loss: 0.4380 - val_accuracy: 0.3222 - val_loss: 4.3236 - learning_rate: 5.0000e-04\n",
      "Epoch 7/50\n",
      "\u001b[1m47/47\u001b[0m \u001b[32m━━━━━━━━━━━━━━━━━━━━\u001b[0m\u001b[37m\u001b[0m \u001b[1m1s\u001b[0m 17ms/step - accuracy: 0.7926 - loss: 0.4004 - val_accuracy: 0.3995 - val_loss: 4.4708 - learning_rate: 5.0000e-04\n",
      "Epoch 8/50\n",
      "\u001b[1m47/47\u001b[0m \u001b[32m━━━━━━━━━━━━━━━━━━━━\u001b[0m\u001b[37m\u001b[0m \u001b[1m1s\u001b[0m 17ms/step - accuracy: 0.8081 - loss: 0.3401 - val_accuracy: 0.3943 - val_loss: 4.6418 - learning_rate: 2.5000e-04\n",
      "Epoch 9/50\n",
      "\u001b[1m47/47\u001b[0m \u001b[32m━━━━━━━━━━━━━━━━━━━━\u001b[0m\u001b[37m\u001b[0m \u001b[1m1s\u001b[0m 13ms/step - accuracy: 0.8020 - loss: 0.3226 - val_accuracy: 0.4098 - val_loss: 4.9058 - learning_rate: 2.5000e-04\n",
      "Epoch 10/50\n",
      "\u001b[1m47/47\u001b[0m \u001b[32m━━━━━━━━━━━━━━━━━━━━\u001b[0m\u001b[37m\u001b[0m \u001b[1m1s\u001b[0m 16ms/step - accuracy: 0.8005 - loss: 0.3227 - val_accuracy: 0.3608 - val_loss: 5.5245 - learning_rate: 2.5000e-04\n",
      "Epoch 11/50\n",
      "\u001b[1m47/47\u001b[0m \u001b[32m━━━━━━━━━━━━━━━━━━━━\u001b[0m\u001b[37m\u001b[0m \u001b[1m1s\u001b[0m 13ms/step - accuracy: 0.8235 - loss: 0.3016 - val_accuracy: 0.3454 - val_loss: 5.6108 - learning_rate: 1.2500e-04\n"
     ]
    },
    {
     "name": "stderr",
     "output_type": "stream",
     "text": [
      "[I 2024-05-23 22:52:38,013] Trial 46 finished with value: 0.17525772750377655 and parameters: {'learning_rate': 2.1499846748053555e-05, 'dropout_rate': 0.18999186873090723, 'num_filters': 117, 'num_layers': 2}. Best is trial 23 with value: 0.5103092789649963.\n"
     ]
    },
    {
     "name": "stdout",
     "output_type": "stream",
     "text": [
      "Epoch 1/50\n",
      "\u001b[1m47/47\u001b[0m \u001b[32m━━━━━━━━━━━━━━━━━━━━\u001b[0m\u001b[37m\u001b[0m \u001b[1m3s\u001b[0m 14ms/step - accuracy: 0.5952 - loss: 0.6929 - val_accuracy: 0.1830 - val_loss: 1.1751 - learning_rate: 0.0010\n",
      "Epoch 2/50\n",
      "\u001b[1m47/47\u001b[0m \u001b[32m━━━━━━━━━━━━━━━━━━━━\u001b[0m\u001b[37m\u001b[0m \u001b[1m0s\u001b[0m 8ms/step - accuracy: 0.6939 - loss: 0.5893 - val_accuracy: 0.1263 - val_loss: 1.2597 - learning_rate: 0.0010\n",
      "Epoch 3/50\n",
      "\u001b[1m47/47\u001b[0m \u001b[32m━━━━━━━━━━━━━━━━━━━━\u001b[0m\u001b[37m\u001b[0m \u001b[1m0s\u001b[0m 8ms/step - accuracy: 0.6957 - loss: 0.5626 - val_accuracy: 0.2371 - val_loss: 1.3643 - learning_rate: 0.0010\n",
      "Epoch 4/50\n",
      "\u001b[1m47/47\u001b[0m \u001b[32m━━━━━━━━━━━━━━━━━━━━\u001b[0m\u001b[37m\u001b[0m \u001b[1m0s\u001b[0m 9ms/step - accuracy: 0.7290 - loss: 0.5267 - val_accuracy: 0.2526 - val_loss: 1.4876 - learning_rate: 0.0010\n",
      "Epoch 5/50\n",
      "\u001b[1m47/47\u001b[0m \u001b[32m━━━━━━━━━━━━━━━━━━━━\u001b[0m\u001b[37m\u001b[0m \u001b[1m1s\u001b[0m 10ms/step - accuracy: 0.7262 - loss: 0.5288 - val_accuracy: 0.4046 - val_loss: 1.6621 - learning_rate: 5.0000e-04\n",
      "Epoch 6/50\n",
      "\u001b[1m47/47\u001b[0m \u001b[32m━━━━━━━━━━━━━━━━━━━━\u001b[0m\u001b[37m\u001b[0m \u001b[1m0s\u001b[0m 8ms/step - accuracy: 0.7225 - loss: 0.5088 - val_accuracy: 0.1907 - val_loss: 1.8308 - learning_rate: 5.0000e-04\n",
      "Epoch 7/50\n",
      "\u001b[1m47/47\u001b[0m \u001b[32m━━━━━━━━━━━━━━━━━━━━\u001b[0m\u001b[37m\u001b[0m \u001b[1m1s\u001b[0m 10ms/step - accuracy: 0.7158 - loss: 0.5008 - val_accuracy: 0.4278 - val_loss: 2.1717 - learning_rate: 5.0000e-04\n",
      "Epoch 8/50\n",
      "\u001b[1m47/47\u001b[0m \u001b[32m━━━━━━━━━━━━━━━━━━━━\u001b[0m\u001b[37m\u001b[0m \u001b[1m0s\u001b[0m 9ms/step - accuracy: 0.6985 - loss: 0.4862 - val_accuracy: 0.4304 - val_loss: 2.2814 - learning_rate: 2.5000e-04\n",
      "Epoch 9/50\n",
      "\u001b[1m47/47\u001b[0m \u001b[32m━━━━━━━━━━━━━━━━━━━━\u001b[0m\u001b[37m\u001b[0m \u001b[1m0s\u001b[0m 9ms/step - accuracy: 0.7013 - loss: 0.5065 - val_accuracy: 0.3995 - val_loss: 2.3597 - learning_rate: 2.5000e-04\n",
      "Epoch 10/50\n",
      "\u001b[1m47/47\u001b[0m \u001b[32m━━━━━━━━━━━━━━━━━━━━\u001b[0m\u001b[37m\u001b[0m \u001b[1m0s\u001b[0m 9ms/step - accuracy: 0.7464 - loss: 0.4491 - val_accuracy: 0.4046 - val_loss: 2.3939 - learning_rate: 2.5000e-04\n",
      "Epoch 11/50\n",
      "\u001b[1m47/47\u001b[0m \u001b[32m━━━━━━━━━━━━━━━━━━━━\u001b[0m\u001b[37m\u001b[0m \u001b[1m0s\u001b[0m 8ms/step - accuracy: 0.7253 - loss: 0.4611 - val_accuracy: 0.4149 - val_loss: 2.5005 - learning_rate: 1.2500e-04\n"
     ]
    },
    {
     "name": "stderr",
     "output_type": "stream",
     "text": [
      "[I 2024-05-23 22:52:45,839] Trial 47 finished with value: 0.1829896867275238 and parameters: {'learning_rate': 0.0012933972711178417, 'dropout_rate': 0.328572801636766, 'num_filters': 41, 'num_layers': 1}. Best is trial 23 with value: 0.5103092789649963.\n"
     ]
    },
    {
     "name": "stdout",
     "output_type": "stream",
     "text": [
      "Epoch 1/50\n",
      "\u001b[1m47/47\u001b[0m \u001b[32m━━━━━━━━━━━━━━━━━━━━\u001b[0m\u001b[37m\u001b[0m \u001b[1m4s\u001b[0m 16ms/step - accuracy: 0.6425 - loss: 0.6358 - val_accuracy: 0.2165 - val_loss: 1.1365 - learning_rate: 0.0010\n",
      "Epoch 2/50\n",
      "\u001b[1m47/47\u001b[0m \u001b[32m━━━━━━━━━━━━━━━━━━━━\u001b[0m\u001b[37m\u001b[0m \u001b[1m0s\u001b[0m 8ms/step - accuracy: 0.7481 - loss: 0.5278 - val_accuracy: 0.2294 - val_loss: 1.2142 - learning_rate: 0.0010\n",
      "Epoch 3/50\n",
      "\u001b[1m47/47\u001b[0m \u001b[32m━━━━━━━━━━━━━━━━━━━━\u001b[0m\u001b[37m\u001b[0m \u001b[1m1s\u001b[0m 11ms/step - accuracy: 0.6731 - loss: 0.4941 - val_accuracy: 0.5180 - val_loss: 1.9312 - learning_rate: 0.0010\n",
      "Epoch 4/50\n",
      "\u001b[1m47/47\u001b[0m \u001b[32m━━━━━━━━━━━━━━━━━━━━\u001b[0m\u001b[37m\u001b[0m \u001b[1m1s\u001b[0m 10ms/step - accuracy: 0.7621 - loss: 0.4809 - val_accuracy: 0.2784 - val_loss: 2.3645 - learning_rate: 0.0010\n",
      "Epoch 5/50\n",
      "\u001b[1m47/47\u001b[0m \u001b[32m━━━━━━━━━━━━━━━━━━━━\u001b[0m\u001b[37m\u001b[0m \u001b[1m1s\u001b[0m 10ms/step - accuracy: 0.7854 - loss: 0.4163 - val_accuracy: 0.3918 - val_loss: 2.8280 - learning_rate: 5.0000e-04\n",
      "Epoch 6/50\n",
      "\u001b[1m47/47\u001b[0m \u001b[32m━━━━━━━━━━━━━━━━━━━━\u001b[0m\u001b[37m\u001b[0m \u001b[1m0s\u001b[0m 8ms/step - accuracy: 0.7831 - loss: 0.4184 - val_accuracy: 0.3763 - val_loss: 2.8695 - learning_rate: 5.0000e-04\n",
      "Epoch 7/50\n",
      "\u001b[1m47/47\u001b[0m \u001b[32m━━━━━━━━━━━━━━━━━━━━\u001b[0m\u001b[37m\u001b[0m \u001b[1m1s\u001b[0m 12ms/step - accuracy: 0.7656 - loss: 0.4187 - val_accuracy: 0.4639 - val_loss: 2.0276 - learning_rate: 5.0000e-04\n",
      "Epoch 8/50\n",
      "\u001b[1m47/47\u001b[0m \u001b[32m━━━━━━━━━━━━━━━━━━━━\u001b[0m\u001b[37m\u001b[0m \u001b[1m1s\u001b[0m 10ms/step - accuracy: 0.7917 - loss: 0.3796 - val_accuracy: 0.4330 - val_loss: 3.3816 - learning_rate: 2.5000e-04\n",
      "Epoch 9/50\n",
      "\u001b[1m47/47\u001b[0m \u001b[32m━━━━━━━━━━━━━━━━━━━━\u001b[0m\u001b[37m\u001b[0m \u001b[1m1s\u001b[0m 11ms/step - accuracy: 0.8107 - loss: 0.3647 - val_accuracy: 0.3763 - val_loss: 3.8812 - learning_rate: 2.5000e-04\n",
      "Epoch 10/50\n",
      "\u001b[1m47/47\u001b[0m \u001b[32m━━━━━━━━━━━━━━━━━━━━\u001b[0m\u001b[37m\u001b[0m \u001b[1m0s\u001b[0m 8ms/step - accuracy: 0.8453 - loss: 0.3382 - val_accuracy: 0.3892 - val_loss: 3.9428 - learning_rate: 2.5000e-04\n",
      "Epoch 11/50\n",
      "\u001b[1m47/47\u001b[0m \u001b[32m━━━━━━━━━━━━━━━━━━━━\u001b[0m\u001b[37m\u001b[0m \u001b[1m1s\u001b[0m 11ms/step - accuracy: 0.8275 - loss: 0.3368 - val_accuracy: 0.3634 - val_loss: 4.2980 - learning_rate: 1.2500e-04\n"
     ]
    },
    {
     "name": "stderr",
     "output_type": "stream",
     "text": [
      "[I 2024-05-23 22:52:55,033] Trial 48 finished with value: 0.2164948433637619 and parameters: {'learning_rate': 0.004172936756454583, 'dropout_rate': 0.08796867466519596, 'num_filters': 56, 'num_layers': 2}. Best is trial 23 with value: 0.5103092789649963.\n"
     ]
    },
    {
     "name": "stdout",
     "output_type": "stream",
     "text": [
      "Epoch 1/50\n",
      "\u001b[1m47/47\u001b[0m \u001b[32m━━━━━━━━━━━━━━━━━━━━\u001b[0m\u001b[37m\u001b[0m \u001b[1m3s\u001b[0m 18ms/step - accuracy: 0.6332 - loss: 0.6497 - val_accuracy: 0.3325 - val_loss: 0.9447 - learning_rate: 0.0010\n",
      "Epoch 2/50\n",
      "\u001b[1m47/47\u001b[0m \u001b[32m━━━━━━━━━━━━━━━━━━━━\u001b[0m\u001b[37m\u001b[0m \u001b[1m1s\u001b[0m 11ms/step - accuracy: 0.7157 - loss: 0.5649 - val_accuracy: 0.1314 - val_loss: 1.2551 - learning_rate: 0.0010\n",
      "Epoch 3/50\n",
      "\u001b[1m47/47\u001b[0m \u001b[32m━━━━━━━━━━━━━━━━━━━━\u001b[0m\u001b[37m\u001b[0m \u001b[1m1s\u001b[0m 12ms/step - accuracy: 0.7020 - loss: 0.5140 - val_accuracy: 0.2139 - val_loss: 1.6281 - learning_rate: 0.0010\n",
      "Epoch 4/50\n",
      "\u001b[1m47/47\u001b[0m \u001b[32m━━━━━━━━━━━━━━━━━━━━\u001b[0m\u001b[37m\u001b[0m \u001b[1m1s\u001b[0m 14ms/step - accuracy: 0.6931 - loss: 0.5001 - val_accuracy: 0.2912 - val_loss: 2.5981 - learning_rate: 0.0010\n",
      "Epoch 5/50\n",
      "\u001b[1m47/47\u001b[0m \u001b[32m━━━━━━━━━━━━━━━━━━━━\u001b[0m\u001b[37m\u001b[0m \u001b[1m1s\u001b[0m 12ms/step - accuracy: 0.7248 - loss: 0.4715 - val_accuracy: 0.3067 - val_loss: 3.3883 - learning_rate: 5.0000e-04\n",
      "Epoch 6/50\n",
      "\u001b[1m47/47\u001b[0m \u001b[32m━━━━━━━━━━━━━━━━━━━━\u001b[0m\u001b[37m\u001b[0m \u001b[1m1s\u001b[0m 11ms/step - accuracy: 0.7445 - loss: 0.4412 - val_accuracy: 0.4356 - val_loss: 3.4945 - learning_rate: 5.0000e-04\n",
      "Epoch 7/50\n",
      "\u001b[1m47/47\u001b[0m \u001b[32m━━━━━━━━━━━━━━━━━━━━\u001b[0m\u001b[37m\u001b[0m \u001b[1m1s\u001b[0m 13ms/step - accuracy: 0.7723 - loss: 0.3973 - val_accuracy: 0.3273 - val_loss: 4.0019 - learning_rate: 5.0000e-04\n",
      "Epoch 8/50\n",
      "\u001b[1m47/47\u001b[0m \u001b[32m━━━━━━━━━━━━━━━━━━━━\u001b[0m\u001b[37m\u001b[0m \u001b[1m1s\u001b[0m 13ms/step - accuracy: 0.7667 - loss: 0.3855 - val_accuracy: 0.2732 - val_loss: 4.4084 - learning_rate: 2.5000e-04\n",
      "Epoch 9/50\n",
      "\u001b[1m47/47\u001b[0m \u001b[32m━━━━━━━━━━━━━━━━━━━━\u001b[0m\u001b[37m\u001b[0m \u001b[1m1s\u001b[0m 11ms/step - accuracy: 0.7598 - loss: 0.3858 - val_accuracy: 0.4278 - val_loss: 4.6909 - learning_rate: 2.5000e-04\n",
      "Epoch 10/50\n",
      "\u001b[1m47/47\u001b[0m \u001b[32m━━━━━━━━━━━━━━━━━━━━\u001b[0m\u001b[37m\u001b[0m \u001b[1m1s\u001b[0m 13ms/step - accuracy: 0.7825 - loss: 0.3922 - val_accuracy: 0.4201 - val_loss: 5.2608 - learning_rate: 2.5000e-04\n",
      "Epoch 11/50\n",
      "\u001b[1m47/47\u001b[0m \u001b[32m━━━━━━━━━━━━━━━━━━━━\u001b[0m\u001b[37m\u001b[0m \u001b[1m1s\u001b[0m 12ms/step - accuracy: 0.7980 - loss: 0.3541 - val_accuracy: 0.3041 - val_loss: 5.7140 - learning_rate: 1.2500e-04\n"
     ]
    },
    {
     "name": "stderr",
     "output_type": "stream",
     "text": [
      "[I 2024-05-23 22:53:05,099] Trial 49 finished with value: 0.3324742317199707 and parameters: {'learning_rate': 1.4928599190020509e-05, 'dropout_rate': 0.2877481445588198, 'num_filters': 92, 'num_layers': 2}. Best is trial 23 with value: 0.5103092789649963.\n"
     ]
    },
    {
     "name": "stdout",
     "output_type": "stream",
     "text": [
      "Epoch 1/50\n",
      "\u001b[1m47/47\u001b[0m \u001b[32m━━━━━━━━━━━━━━━━━━━━\u001b[0m\u001b[37m\u001b[0m \u001b[1m4s\u001b[0m 18ms/step - accuracy: 0.6660 - loss: 0.6434 - val_accuracy: 0.4253 - val_loss: 0.8665 - learning_rate: 0.0010\n",
      "Epoch 2/50\n",
      "\u001b[1m47/47\u001b[0m \u001b[32m━━━━━━━━━━━━━━━━━━━━\u001b[0m\u001b[37m\u001b[0m \u001b[1m1s\u001b[0m 12ms/step - accuracy: 0.7173 - loss: 0.5455 - val_accuracy: 0.2732 - val_loss: 1.7190 - learning_rate: 0.0010\n",
      "Epoch 3/50\n",
      "\u001b[1m47/47\u001b[0m \u001b[32m━━━━━━━━━━━━━━━━━━━━\u001b[0m\u001b[37m\u001b[0m \u001b[1m1s\u001b[0m 10ms/step - accuracy: 0.6430 - loss: 0.5164 - val_accuracy: 0.2191 - val_loss: 2.3592 - learning_rate: 0.0010\n",
      "Epoch 4/50\n",
      "\u001b[1m47/47\u001b[0m \u001b[32m━━━━━━━━━━━━━━━━━━━━\u001b[0m\u001b[37m\u001b[0m \u001b[1m1s\u001b[0m 12ms/step - accuracy: 0.7084 - loss: 0.4704 - val_accuracy: 0.4820 - val_loss: 2.9261 - learning_rate: 0.0010\n",
      "Epoch 5/50\n",
      "\u001b[1m47/47\u001b[0m \u001b[32m━━━━━━━━━━━━━━━━━━━━\u001b[0m\u001b[37m\u001b[0m \u001b[1m1s\u001b[0m 11ms/step - accuracy: 0.7473 - loss: 0.4220 - val_accuracy: 0.4948 - val_loss: 4.1183 - learning_rate: 5.0000e-04\n",
      "Epoch 6/50\n",
      "\u001b[1m47/47\u001b[0m \u001b[32m━━━━━━━━━━━━━━━━━━━━\u001b[0m\u001b[37m\u001b[0m \u001b[1m1s\u001b[0m 11ms/step - accuracy: 0.7753 - loss: 0.3979 - val_accuracy: 0.5026 - val_loss: 4.0870 - learning_rate: 5.0000e-04\n",
      "Epoch 7/50\n",
      "\u001b[1m47/47\u001b[0m \u001b[32m━━━━━━━━━━━━━━━━━━━━\u001b[0m\u001b[37m\u001b[0m \u001b[1m1s\u001b[0m 11ms/step - accuracy: 0.7967 - loss: 0.3489 - val_accuracy: 0.4536 - val_loss: 5.4392 - learning_rate: 5.0000e-04\n",
      "Epoch 8/50\n",
      "\u001b[1m47/47\u001b[0m \u001b[32m━━━━━━━━━━━━━━━━━━━━\u001b[0m\u001b[37m\u001b[0m \u001b[1m1s\u001b[0m 12ms/step - accuracy: 0.8050 - loss: 0.3299 - val_accuracy: 0.3351 - val_loss: 6.2252 - learning_rate: 2.5000e-04\n",
      "Epoch 9/50\n",
      "\u001b[1m47/47\u001b[0m \u001b[32m━━━━━━━━━━━━━━━━━━━━\u001b[0m\u001b[37m\u001b[0m \u001b[1m1s\u001b[0m 13ms/step - accuracy: 0.8093 - loss: 0.3072 - val_accuracy: 0.3222 - val_loss: 6.4675 - learning_rate: 2.5000e-04\n",
      "Epoch 10/50\n",
      "\u001b[1m47/47\u001b[0m \u001b[32m━━━━━━━━━━━━━━━━━━━━\u001b[0m\u001b[37m\u001b[0m \u001b[1m1s\u001b[0m 13ms/step - accuracy: 0.8127 - loss: 0.3040 - val_accuracy: 0.4691 - val_loss: 6.9391 - learning_rate: 2.5000e-04\n",
      "Epoch 11/50\n",
      "\u001b[1m47/47\u001b[0m \u001b[32m━━━━━━━━━━━━━━━━━━━━\u001b[0m\u001b[37m\u001b[0m \u001b[1m1s\u001b[0m 11ms/step - accuracy: 0.8151 - loss: 0.3010 - val_accuracy: 0.3454 - val_loss: 7.8628 - learning_rate: 1.2500e-04\n"
     ]
    },
    {
     "name": "stderr",
     "output_type": "stream",
     "text": [
      "[I 2024-05-23 22:53:15,505] Trial 50 finished with value: 0.42525774240493774 and parameters: {'learning_rate': 3.7975995574567774e-05, 'dropout_rate': 0.03309998845919632, 'num_filters': 66, 'num_layers': 3}. Best is trial 23 with value: 0.5103092789649963.\n"
     ]
    },
    {
     "name": "stdout",
     "output_type": "stream",
     "text": [
      "Epoch 1/50\n",
      "\u001b[1m47/47\u001b[0m \u001b[32m━━━━━━━━━━━━━━━━━━━━\u001b[0m\u001b[37m\u001b[0m \u001b[1m4s\u001b[0m 20ms/step - accuracy: 0.6593 - loss: 0.6336 - val_accuracy: 0.2242 - val_loss: 1.2105 - learning_rate: 0.0010\n",
      "Epoch 2/50\n",
      "\u001b[1m47/47\u001b[0m \u001b[32m━━━━━━━━━━━━━━━━━━━━\u001b[0m\u001b[37m\u001b[0m \u001b[1m1s\u001b[0m 13ms/step - accuracy: 0.6877 - loss: 0.5494 - val_accuracy: 0.1314 - val_loss: 1.5193 - learning_rate: 0.0010\n",
      "Epoch 3/50\n",
      "\u001b[1m47/47\u001b[0m \u001b[32m━━━━━━━━━━━━━━━━━━━━\u001b[0m\u001b[37m\u001b[0m \u001b[1m1s\u001b[0m 12ms/step - accuracy: 0.7341 - loss: 0.4861 - val_accuracy: 0.5052 - val_loss: 2.2524 - learning_rate: 0.0010\n",
      "Epoch 4/50\n",
      "\u001b[1m47/47\u001b[0m \u001b[32m━━━━━━━━━━━━━━━━━━━━\u001b[0m\u001b[37m\u001b[0m \u001b[1m1s\u001b[0m 12ms/step - accuracy: 0.7430 - loss: 0.4876 - val_accuracy: 0.4742 - val_loss: 2.8900 - learning_rate: 0.0010\n",
      "Epoch 5/50\n",
      "\u001b[1m47/47\u001b[0m \u001b[32m━━━━━━━━━━━━━━━━━━━━\u001b[0m\u001b[37m\u001b[0m \u001b[1m1s\u001b[0m 12ms/step - accuracy: 0.7508 - loss: 0.4415 - val_accuracy: 0.4253 - val_loss: 3.5211 - learning_rate: 5.0000e-04\n",
      "Epoch 6/50\n",
      "\u001b[1m47/47\u001b[0m \u001b[32m━━━━━━━━━━━━━━━━━━━━\u001b[0m\u001b[37m\u001b[0m \u001b[1m1s\u001b[0m 14ms/step - accuracy: 0.7706 - loss: 0.4046 - val_accuracy: 0.3531 - val_loss: 4.3556 - learning_rate: 5.0000e-04\n",
      "Epoch 7/50\n",
      "\u001b[1m47/47\u001b[0m \u001b[32m━━━━━━━━━━━━━━━━━━━━\u001b[0m\u001b[37m\u001b[0m \u001b[1m1s\u001b[0m 12ms/step - accuracy: 0.7952 - loss: 0.3808 - val_accuracy: 0.3711 - val_loss: 5.2876 - learning_rate: 5.0000e-04\n",
      "Epoch 8/50\n",
      "\u001b[1m47/47\u001b[0m \u001b[32m━━━━━━━━━━━━━━━━━━━━\u001b[0m\u001b[37m\u001b[0m \u001b[1m1s\u001b[0m 11ms/step - accuracy: 0.7988 - loss: 0.3409 - val_accuracy: 0.3737 - val_loss: 5.5249 - learning_rate: 2.5000e-04\n",
      "Epoch 9/50\n",
      "\u001b[1m47/47\u001b[0m \u001b[32m━━━━━━━━━━━━━━━━━━━━\u001b[0m\u001b[37m\u001b[0m \u001b[1m1s\u001b[0m 13ms/step - accuracy: 0.8031 - loss: 0.3187 - val_accuracy: 0.3995 - val_loss: 5.1548 - learning_rate: 2.5000e-04\n",
      "Epoch 10/50\n",
      "\u001b[1m47/47\u001b[0m \u001b[32m━━━━━━━━━━━━━━━━━━━━\u001b[0m\u001b[37m\u001b[0m \u001b[1m1s\u001b[0m 13ms/step - accuracy: 0.8258 - loss: 0.2998 - val_accuracy: 0.3531 - val_loss: 5.8395 - learning_rate: 2.5000e-04\n",
      "Epoch 11/50\n",
      "\u001b[1m47/47\u001b[0m \u001b[32m━━━━━━━━━━━━━━━━━━━━\u001b[0m\u001b[37m\u001b[0m \u001b[1m1s\u001b[0m 13ms/step - accuracy: 0.8067 - loss: 0.2988 - val_accuracy: 0.3840 - val_loss: 5.9947 - learning_rate: 1.2500e-04\n"
     ]
    },
    {
     "name": "stderr",
     "output_type": "stream",
     "text": [
      "[I 2024-05-23 22:53:26,291] Trial 51 finished with value: 0.22422680258750916 and parameters: {'learning_rate': 0.0004857305717072321, 'dropout_rate': 0.1220593362768481, 'num_filters': 103, 'num_layers': 2}. Best is trial 23 with value: 0.5103092789649963.\n"
     ]
    },
    {
     "name": "stdout",
     "output_type": "stream",
     "text": [
      "Epoch 1/50\n",
      "\u001b[1m47/47\u001b[0m \u001b[32m━━━━━━━━━━━━━━━━━━━━\u001b[0m\u001b[37m\u001b[0m \u001b[1m4s\u001b[0m 19ms/step - accuracy: 0.6070 - loss: 0.6274 - val_accuracy: 0.2139 - val_loss: 1.2180 - learning_rate: 0.0010\n",
      "Epoch 2/50\n",
      "\u001b[1m47/47\u001b[0m \u001b[32m━━━━━━━━━━━━━━━━━━━━\u001b[0m\u001b[37m\u001b[0m \u001b[1m1s\u001b[0m 11ms/step - accuracy: 0.7272 - loss: 0.5422 - val_accuracy: 0.4227 - val_loss: 1.2982 - learning_rate: 0.0010\n",
      "Epoch 3/50\n",
      "\u001b[1m47/47\u001b[0m \u001b[32m━━━━━━━━━━━━━━━━━━━━\u001b[0m\u001b[37m\u001b[0m \u001b[1m1s\u001b[0m 13ms/step - accuracy: 0.7193 - loss: 0.5195 - val_accuracy: 0.2371 - val_loss: 1.5213 - learning_rate: 0.0010\n",
      "Epoch 4/50\n",
      "\u001b[1m47/47\u001b[0m \u001b[32m━━━━━━━━━━━━━━━━━━━━\u001b[0m\u001b[37m\u001b[0m \u001b[1m1s\u001b[0m 11ms/step - accuracy: 0.7123 - loss: 0.4787 - val_accuracy: 0.4356 - val_loss: 2.3756 - learning_rate: 0.0010\n",
      "Epoch 5/50\n",
      "\u001b[1m47/47\u001b[0m \u001b[32m━━━━━━━━━━━━━━━━━━━━\u001b[0m\u001b[37m\u001b[0m \u001b[1m1s\u001b[0m 12ms/step - accuracy: 0.7207 - loss: 0.4602 - val_accuracy: 0.3247 - val_loss: 2.3468 - learning_rate: 5.0000e-04\n",
      "Epoch 6/50\n",
      "\u001b[1m47/47\u001b[0m \u001b[32m━━━━━━━━━━━━━━━━━━━━\u001b[0m\u001b[37m\u001b[0m \u001b[1m1s\u001b[0m 12ms/step - accuracy: 0.7138 - loss: 0.4608 - val_accuracy: 0.3402 - val_loss: 3.3482 - learning_rate: 5.0000e-04\n",
      "Epoch 7/50\n",
      "\u001b[1m47/47\u001b[0m \u001b[32m━━━━━━━━━━━━━━━━━━━━\u001b[0m\u001b[37m\u001b[0m \u001b[1m1s\u001b[0m 12ms/step - accuracy: 0.7582 - loss: 0.4177 - val_accuracy: 0.2603 - val_loss: 3.1768 - learning_rate: 5.0000e-04\n",
      "Epoch 8/50\n",
      "\u001b[1m47/47\u001b[0m \u001b[32m━━━━━━━━━━━━━━━━━━━━\u001b[0m\u001b[37m\u001b[0m \u001b[1m1s\u001b[0m 11ms/step - accuracy: 0.7682 - loss: 0.4123 - val_accuracy: 0.3428 - val_loss: 3.6462 - learning_rate: 2.5000e-04\n",
      "Epoch 9/50\n",
      "\u001b[1m47/47\u001b[0m \u001b[32m━━━━━━━━━━━━━━━━━━━━\u001b[0m\u001b[37m\u001b[0m \u001b[1m1s\u001b[0m 12ms/step - accuracy: 0.7828 - loss: 0.3861 - val_accuracy: 0.3634 - val_loss: 4.0219 - learning_rate: 2.5000e-04\n",
      "Epoch 10/50\n",
      "\u001b[1m47/47\u001b[0m \u001b[32m━━━━━━━━━━━━━━━━━━━━\u001b[0m\u001b[37m\u001b[0m \u001b[1m1s\u001b[0m 12ms/step - accuracy: 0.7847 - loss: 0.3662 - val_accuracy: 0.2526 - val_loss: 4.4851 - learning_rate: 2.5000e-04\n",
      "Epoch 11/50\n",
      "\u001b[1m47/47\u001b[0m \u001b[32m━━━━━━━━━━━━━━━━━━━━\u001b[0m\u001b[37m\u001b[0m \u001b[1m1s\u001b[0m 14ms/step - accuracy: 0.7869 - loss: 0.3581 - val_accuracy: 0.3582 - val_loss: 4.3698 - learning_rate: 1.2500e-04\n"
     ]
    },
    {
     "name": "stderr",
     "output_type": "stream",
     "text": [
      "[I 2024-05-23 22:53:36,991] Trial 52 finished with value: 0.21391752362251282 and parameters: {'learning_rate': 0.00025337684506557636, 'dropout_rate': 0.148266439122123, 'num_filters': 96, 'num_layers': 2}. Best is trial 23 with value: 0.5103092789649963.\n"
     ]
    },
    {
     "name": "stdout",
     "output_type": "stream",
     "text": [
      "Epoch 1/50\n",
      "\u001b[1m47/47\u001b[0m \u001b[32m━━━━━━━━━━━━━━━━━━━━\u001b[0m\u001b[37m\u001b[0m \u001b[1m5s\u001b[0m 24ms/step - accuracy: 0.6902 - loss: 0.6288 - val_accuracy: 0.1933 - val_loss: 1.1822 - learning_rate: 0.0010\n",
      "Epoch 2/50\n",
      "\u001b[1m47/47\u001b[0m \u001b[32m━━━━━━━━━━━━━━━━━━━━\u001b[0m\u001b[37m\u001b[0m \u001b[1m1s\u001b[0m 14ms/step - accuracy: 0.6820 - loss: 0.5466 - val_accuracy: 0.1907 - val_loss: 2.2503 - learning_rate: 0.0010\n",
      "Epoch 3/50\n",
      "\u001b[1m47/47\u001b[0m \u001b[32m━━━━━━━━━━━━━━━━━━━━\u001b[0m\u001b[37m\u001b[0m \u001b[1m1s\u001b[0m 14ms/step - accuracy: 0.6789 - loss: 0.5057 - val_accuracy: 0.3995 - val_loss: 3.1353 - learning_rate: 0.0010\n",
      "Epoch 4/50\n",
      "\u001b[1m47/47\u001b[0m \u001b[32m━━━━━━━━━━━━━━━━━━━━\u001b[0m\u001b[37m\u001b[0m \u001b[1m1s\u001b[0m 18ms/step - accuracy: 0.7292 - loss: 0.4621 - val_accuracy: 0.4768 - val_loss: 3.3815 - learning_rate: 0.0010\n",
      "Epoch 5/50\n",
      "\u001b[1m47/47\u001b[0m \u001b[32m━━━━━━━━━━━━━━━━━━━━\u001b[0m\u001b[37m\u001b[0m \u001b[1m1s\u001b[0m 23ms/step - accuracy: 0.7352 - loss: 0.4214 - val_accuracy: 0.5052 - val_loss: 4.3488 - learning_rate: 5.0000e-04\n",
      "Epoch 6/50\n",
      "\u001b[1m47/47\u001b[0m \u001b[32m━━━━━━━━━━━━━━━━━━━━\u001b[0m\u001b[37m\u001b[0m \u001b[1m1s\u001b[0m 15ms/step - accuracy: 0.7795 - loss: 0.4028 - val_accuracy: 0.5129 - val_loss: 4.9702 - learning_rate: 5.0000e-04\n",
      "Epoch 7/50\n",
      "\u001b[1m47/47\u001b[0m \u001b[32m━━━━━━━━━━━━━━━━━━━━\u001b[0m\u001b[37m\u001b[0m \u001b[1m1s\u001b[0m 16ms/step - accuracy: 0.8051 - loss: 0.3668 - val_accuracy: 0.3814 - val_loss: 6.0394 - learning_rate: 5.0000e-04\n",
      "Epoch 8/50\n",
      "\u001b[1m47/47\u001b[0m \u001b[32m━━━━━━━━━━━━━━━━━━━━\u001b[0m\u001b[37m\u001b[0m \u001b[1m1s\u001b[0m 17ms/step - accuracy: 0.8449 - loss: 0.3225 - val_accuracy: 0.3582 - val_loss: 7.0002 - learning_rate: 2.5000e-04\n",
      "Epoch 9/50\n",
      "\u001b[1m47/47\u001b[0m \u001b[32m━━━━━━━━━━━━━━━━━━━━\u001b[0m\u001b[37m\u001b[0m \u001b[1m1s\u001b[0m 15ms/step - accuracy: 0.8658 - loss: 0.2934 - val_accuracy: 0.2448 - val_loss: 7.2955 - learning_rate: 2.5000e-04\n",
      "Epoch 10/50\n",
      "\u001b[1m47/47\u001b[0m \u001b[32m━━━━━━━━━━━━━━━━━━━━\u001b[0m\u001b[37m\u001b[0m \u001b[1m1s\u001b[0m 23ms/step - accuracy: 0.8536 - loss: 0.3139 - val_accuracy: 0.2964 - val_loss: 7.9835 - learning_rate: 2.5000e-04\n",
      "Epoch 11/50\n",
      "\u001b[1m47/47\u001b[0m \u001b[32m━━━━━━━━━━━━━━━━━━━━\u001b[0m\u001b[37m\u001b[0m \u001b[1m1s\u001b[0m 18ms/step - accuracy: 0.8781 - loss: 0.2788 - val_accuracy: 0.3918 - val_loss: 7.7525 - learning_rate: 1.2500e-04\n"
     ]
    },
    {
     "name": "stderr",
     "output_type": "stream",
     "text": [
      "[I 2024-05-23 22:53:52,039] Trial 53 finished with value: 0.19329896569252014 and parameters: {'learning_rate': 6.602868430748858e-05, 'dropout_rate': 0.12167079986932783, 'num_filters': 79, 'num_layers': 2}. Best is trial 23 with value: 0.5103092789649963.\n"
     ]
    },
    {
     "name": "stdout",
     "output_type": "stream",
     "text": [
      "Epoch 1/50\n",
      "\u001b[1m47/47\u001b[0m \u001b[32m━━━━━━━━━━━━━━━━━━━━\u001b[0m\u001b[37m\u001b[0m \u001b[1m5s\u001b[0m 20ms/step - accuracy: 0.6392 - loss: 0.6459 - val_accuracy: 0.2964 - val_loss: 1.3512 - learning_rate: 0.0010\n",
      "Epoch 2/50\n",
      "\u001b[1m47/47\u001b[0m \u001b[32m━━━━━━━━━━━━━━━━━━━━\u001b[0m\u001b[37m\u001b[0m \u001b[1m1s\u001b[0m 13ms/step - accuracy: 0.7175 - loss: 0.5373 - val_accuracy: 0.4510 - val_loss: 1.6344 - learning_rate: 0.0010\n",
      "Epoch 3/50\n",
      "\u001b[1m47/47\u001b[0m \u001b[32m━━━━━━━━━━━━━━━━━━━━\u001b[0m\u001b[37m\u001b[0m \u001b[1m1s\u001b[0m 14ms/step - accuracy: 0.6870 - loss: 0.5209 - val_accuracy: 0.4691 - val_loss: 1.6995 - learning_rate: 0.0010\n",
      "Epoch 4/50\n",
      "\u001b[1m47/47\u001b[0m \u001b[32m━━━━━━━━━━━━━━━━━━━━\u001b[0m\u001b[37m\u001b[0m \u001b[1m1s\u001b[0m 15ms/step - accuracy: 0.7305 - loss: 0.5019 - val_accuracy: 0.4768 - val_loss: 2.7644 - learning_rate: 0.0010\n",
      "Epoch 5/50\n",
      "\u001b[1m47/47\u001b[0m \u001b[32m━━━━━━━━━━━━━━━━━━━━\u001b[0m\u001b[37m\u001b[0m \u001b[1m1s\u001b[0m 15ms/step - accuracy: 0.7297 - loss: 0.4545 - val_accuracy: 0.4021 - val_loss: 3.3858 - learning_rate: 5.0000e-04\n",
      "Epoch 6/50\n",
      "\u001b[1m47/47\u001b[0m \u001b[32m━━━━━━━━━━━━━━━━━━━━\u001b[0m\u001b[37m\u001b[0m \u001b[1m1s\u001b[0m 18ms/step - accuracy: 0.7487 - loss: 0.4384 - val_accuracy: 0.3711 - val_loss: 3.7199 - learning_rate: 5.0000e-04\n",
      "Epoch 7/50\n",
      "\u001b[1m47/47\u001b[0m \u001b[32m━━━━━━━━━━━━━━━━━━━━\u001b[0m\u001b[37m\u001b[0m \u001b[1m1s\u001b[0m 15ms/step - accuracy: 0.7421 - loss: 0.4277 - val_accuracy: 0.3428 - val_loss: 4.7388 - learning_rate: 5.0000e-04\n",
      "Epoch 8/50\n",
      "\u001b[1m47/47\u001b[0m \u001b[32m━━━━━━━━━━━━━━━━━━━━\u001b[0m\u001b[37m\u001b[0m \u001b[1m1s\u001b[0m 16ms/step - accuracy: 0.7855 - loss: 0.3913 - val_accuracy: 0.3660 - val_loss: 5.5997 - learning_rate: 2.5000e-04\n",
      "Epoch 9/50\n",
      "\u001b[1m47/47\u001b[0m \u001b[32m━━━━━━━━━━━━━━━━━━━━\u001b[0m\u001b[37m\u001b[0m \u001b[1m1s\u001b[0m 16ms/step - accuracy: 0.7722 - loss: 0.3741 - val_accuracy: 0.3041 - val_loss: 6.1863 - learning_rate: 2.5000e-04\n",
      "Epoch 10/50\n",
      "\u001b[1m47/47\u001b[0m \u001b[32m━━━━━━━━━━━━━━━━━━━━\u001b[0m\u001b[37m\u001b[0m \u001b[1m1s\u001b[0m 17ms/step - accuracy: 0.8106 - loss: 0.3618 - val_accuracy: 0.3789 - val_loss: 6.0585 - learning_rate: 2.5000e-04\n",
      "Epoch 11/50\n",
      "\u001b[1m47/47\u001b[0m \u001b[32m━━━━━━━━━━━━━━━━━━━━\u001b[0m\u001b[37m\u001b[0m \u001b[1m1s\u001b[0m 16ms/step - accuracy: 0.7900 - loss: 0.3456 - val_accuracy: 0.3711 - val_loss: 6.1058 - learning_rate: 1.2500e-04\n"
     ]
    },
    {
     "name": "stderr",
     "output_type": "stream",
     "text": [
      "[I 2024-05-23 22:54:05,375] Trial 54 finished with value: 0.2963917553424835 and parameters: {'learning_rate': 0.019247975484786836, 'dropout_rate': 0.24607014935054802, 'num_filters': 118, 'num_layers': 2}. Best is trial 23 with value: 0.5103092789649963.\n"
     ]
    },
    {
     "name": "stdout",
     "output_type": "stream",
     "text": [
      "Epoch 1/50\n",
      "\u001b[1m47/47\u001b[0m \u001b[32m━━━━━━━━━━━━━━━━━━━━\u001b[0m\u001b[37m\u001b[0m \u001b[1m4s\u001b[0m 18ms/step - accuracy: 0.6225 - loss: 0.6428 - val_accuracy: 0.2165 - val_loss: 1.1220 - learning_rate: 0.0010\n",
      "Epoch 2/50\n",
      "\u001b[1m47/47\u001b[0m \u001b[32m━━━━━━━━━━━━━━━━━━━━\u001b[0m\u001b[37m\u001b[0m \u001b[1m1s\u001b[0m 12ms/step - accuracy: 0.6938 - loss: 0.5646 - val_accuracy: 0.2294 - val_loss: 1.9608 - learning_rate: 0.0010\n",
      "Epoch 3/50\n",
      "\u001b[1m47/47\u001b[0m \u001b[32m━━━━━━━━━━━━━━━━━━━━\u001b[0m\u001b[37m\u001b[0m \u001b[1m1s\u001b[0m 11ms/step - accuracy: 0.6981 - loss: 0.5000 - val_accuracy: 0.4459 - val_loss: 2.5550 - learning_rate: 0.0010\n",
      "Epoch 4/50\n",
      "\u001b[1m47/47\u001b[0m \u001b[32m━━━━━━━━━━━━━━━━━━━━\u001b[0m\u001b[37m\u001b[0m \u001b[1m1s\u001b[0m 11ms/step - accuracy: 0.7124 - loss: 0.4664 - val_accuracy: 0.3015 - val_loss: 3.9355 - learning_rate: 0.0010\n",
      "Epoch 5/50\n",
      "\u001b[1m47/47\u001b[0m \u001b[32m━━━━━━━━━━━━━━━━━━━━\u001b[0m\u001b[37m\u001b[0m \u001b[1m1s\u001b[0m 13ms/step - accuracy: 0.7093 - loss: 0.4743 - val_accuracy: 0.4923 - val_loss: 3.7989 - learning_rate: 5.0000e-04\n",
      "Epoch 6/50\n",
      "\u001b[1m47/47\u001b[0m \u001b[32m━━━━━━━━━━━━━━━━━━━━\u001b[0m\u001b[37m\u001b[0m \u001b[1m1s\u001b[0m 12ms/step - accuracy: 0.7648 - loss: 0.4244 - val_accuracy: 0.4871 - val_loss: 4.3917 - learning_rate: 5.0000e-04\n",
      "Epoch 7/50\n",
      "\u001b[1m47/47\u001b[0m \u001b[32m━━━━━━━━━━━━━━━━━━━━\u001b[0m\u001b[37m\u001b[0m \u001b[1m1s\u001b[0m 10ms/step - accuracy: 0.7625 - loss: 0.4000 - val_accuracy: 0.3969 - val_loss: 4.7979 - learning_rate: 5.0000e-04\n",
      "Epoch 8/50\n",
      "\u001b[1m47/47\u001b[0m \u001b[32m━━━━━━━━━━━━━━━━━━━━\u001b[0m\u001b[37m\u001b[0m \u001b[1m1s\u001b[0m 13ms/step - accuracy: 0.7989 - loss: 0.3737 - val_accuracy: 0.2758 - val_loss: 5.7700 - learning_rate: 2.5000e-04\n",
      "Epoch 9/50\n",
      "\u001b[1m47/47\u001b[0m \u001b[32m━━━━━━━━━━━━━━━━━━━━\u001b[0m\u001b[37m\u001b[0m \u001b[1m1s\u001b[0m 11ms/step - accuracy: 0.7987 - loss: 0.3429 - val_accuracy: 0.3531 - val_loss: 6.5477 - learning_rate: 2.5000e-04\n",
      "Epoch 10/50\n",
      "\u001b[1m47/47\u001b[0m \u001b[32m━━━━━━━━━━━━━━━━━━━━\u001b[0m\u001b[37m\u001b[0m \u001b[1m1s\u001b[0m 12ms/step - accuracy: 0.8484 - loss: 0.3331 - val_accuracy: 0.3041 - val_loss: 6.5586 - learning_rate: 2.5000e-04\n",
      "Epoch 11/50\n",
      "\u001b[1m47/47\u001b[0m \u001b[32m━━━━━━━━━━━━━━━━━━━━\u001b[0m\u001b[37m\u001b[0m \u001b[1m1s\u001b[0m 14ms/step - accuracy: 0.8302 - loss: 0.3314 - val_accuracy: 0.3454 - val_loss: 6.8048 - learning_rate: 1.2500e-04\n"
     ]
    },
    {
     "name": "stderr",
     "output_type": "stream",
     "text": [
      "[I 2024-05-23 22:54:15,794] Trial 55 finished with value: 0.2164948433637619 and parameters: {'learning_rate': 0.001783090671200474, 'dropout_rate': 0.17793717834664394, 'num_filters': 73, 'num_layers': 2}. Best is trial 23 with value: 0.5103092789649963.\n"
     ]
    },
    {
     "name": "stdout",
     "output_type": "stream",
     "text": [
      "Epoch 1/50\n",
      "\u001b[1m47/47\u001b[0m \u001b[32m━━━━━━━━━━━━━━━━━━━━\u001b[0m\u001b[37m\u001b[0m \u001b[1m4s\u001b[0m 19ms/step - accuracy: 0.5888 - loss: 0.6461 - val_accuracy: 0.2165 - val_loss: 1.0753 - learning_rate: 0.0010\n",
      "Epoch 2/50\n",
      "\u001b[1m47/47\u001b[0m \u001b[32m━━━━━━━━━━━━━━━━━━━━\u001b[0m\u001b[37m\u001b[0m \u001b[1m1s\u001b[0m 12ms/step - accuracy: 0.7043 - loss: 0.5770 - val_accuracy: 0.2655 - val_loss: 1.4213 - learning_rate: 0.0010\n",
      "Epoch 3/50\n",
      "\u001b[1m47/47\u001b[0m \u001b[32m━━━━━━━━━━━━━━━━━━━━\u001b[0m\u001b[37m\u001b[0m \u001b[1m1s\u001b[0m 14ms/step - accuracy: 0.7057 - loss: 0.5224 - val_accuracy: 0.4072 - val_loss: 2.1119 - learning_rate: 0.0010\n",
      "Epoch 4/50\n",
      "\u001b[1m47/47\u001b[0m \u001b[32m━━━━━━━━━━━━━━━━━━━━\u001b[0m\u001b[37m\u001b[0m \u001b[1m1s\u001b[0m 13ms/step - accuracy: 0.7422 - loss: 0.4990 - val_accuracy: 0.5000 - val_loss: 2.6542 - learning_rate: 0.0010\n",
      "Epoch 5/50\n",
      "\u001b[1m47/47\u001b[0m \u001b[32m━━━━━━━━━━━━━━━━━━━━\u001b[0m\u001b[37m\u001b[0m \u001b[1m1s\u001b[0m 13ms/step - accuracy: 0.7490 - loss: 0.4711 - val_accuracy: 0.4459 - val_loss: 3.3425 - learning_rate: 5.0000e-04\n",
      "Epoch 6/50\n",
      "\u001b[1m47/47\u001b[0m \u001b[32m━━━━━━━━━━━━━━━━━━━━\u001b[0m\u001b[37m\u001b[0m \u001b[1m1s\u001b[0m 14ms/step - accuracy: 0.7415 - loss: 0.4551 - val_accuracy: 0.4794 - val_loss: 3.8919 - learning_rate: 5.0000e-04\n",
      "Epoch 7/50\n",
      "\u001b[1m47/47\u001b[0m \u001b[32m━━━━━━━━━━━━━━━━━━━━\u001b[0m\u001b[37m\u001b[0m \u001b[1m1s\u001b[0m 16ms/step - accuracy: 0.7493 - loss: 0.4317 - val_accuracy: 0.2526 - val_loss: 4.0041 - learning_rate: 5.0000e-04\n",
      "Epoch 8/50\n",
      "\u001b[1m47/47\u001b[0m \u001b[32m━━━━━━━━━━━━━━━━━━━━\u001b[0m\u001b[37m\u001b[0m \u001b[1m1s\u001b[0m 15ms/step - accuracy: 0.7531 - loss: 0.4248 - val_accuracy: 0.4021 - val_loss: 4.3467 - learning_rate: 2.5000e-04\n",
      "Epoch 9/50\n",
      "\u001b[1m47/47\u001b[0m \u001b[32m━━━━━━━━━━━━━━━━━━━━\u001b[0m\u001b[37m\u001b[0m \u001b[1m1s\u001b[0m 17ms/step - accuracy: 0.7596 - loss: 0.4017 - val_accuracy: 0.5103 - val_loss: 4.5747 - learning_rate: 2.5000e-04\n",
      "Epoch 10/50\n",
      "\u001b[1m47/47\u001b[0m \u001b[32m━━━━━━━━━━━━━━━━━━━━\u001b[0m\u001b[37m\u001b[0m \u001b[1m1s\u001b[0m 14ms/step - accuracy: 0.7834 - loss: 0.3942 - val_accuracy: 0.3505 - val_loss: 5.1940 - learning_rate: 2.5000e-04\n",
      "Epoch 11/50\n",
      "\u001b[1m47/47\u001b[0m \u001b[32m━━━━━━━━━━━━━━━━━━━━\u001b[0m\u001b[37m\u001b[0m \u001b[1m1s\u001b[0m 15ms/step - accuracy: 0.8019 - loss: 0.3533 - val_accuracy: 0.2835 - val_loss: 5.4148 - learning_rate: 1.2500e-04\n"
     ]
    },
    {
     "name": "stderr",
     "output_type": "stream",
     "text": [
      "[I 2024-05-23 22:54:27,652] Trial 56 finished with value: 0.2164948433637619 and parameters: {'learning_rate': 9.886499631825708e-05, 'dropout_rate': 0.20066065361365465, 'num_filters': 106, 'num_layers': 2}. Best is trial 23 with value: 0.5103092789649963.\n"
     ]
    },
    {
     "name": "stdout",
     "output_type": "stream",
     "text": [
      "Epoch 1/50\n",
      "\u001b[1m47/47\u001b[0m \u001b[32m━━━━━━━━━━━━━━━━━━━━\u001b[0m\u001b[37m\u001b[0m \u001b[1m4s\u001b[0m 18ms/step - accuracy: 0.6141 - loss: 0.6295 - val_accuracy: 0.1495 - val_loss: 1.1064 - learning_rate: 0.0010\n",
      "Epoch 2/50\n",
      "\u001b[1m47/47\u001b[0m \u001b[32m━━━━━━━━━━━━━━━━━━━━\u001b[0m\u001b[37m\u001b[0m \u001b[1m1s\u001b[0m 10ms/step - accuracy: 0.6901 - loss: 0.5278 - val_accuracy: 0.5309 - val_loss: 1.1029 - learning_rate: 0.0010\n",
      "Epoch 3/50\n",
      "\u001b[1m47/47\u001b[0m \u001b[32m━━━━━━━━━━━━━━━━━━━━\u001b[0m\u001b[37m\u001b[0m \u001b[1m1s\u001b[0m 10ms/step - accuracy: 0.7142 - loss: 0.5165 - val_accuracy: 0.4124 - val_loss: 2.8162 - learning_rate: 0.0010\n",
      "Epoch 4/50\n",
      "\u001b[1m47/47\u001b[0m \u001b[32m━━━━━━━━━━━━━━━━━━━━\u001b[0m\u001b[37m\u001b[0m \u001b[1m1s\u001b[0m 12ms/step - accuracy: 0.7087 - loss: 0.4858 - val_accuracy: 0.4871 - val_loss: 2.5049 - learning_rate: 0.0010\n",
      "Epoch 5/50\n",
      "\u001b[1m47/47\u001b[0m \u001b[32m━━━━━━━━━━━━━━━━━━━━\u001b[0m\u001b[37m\u001b[0m \u001b[1m1s\u001b[0m 12ms/step - accuracy: 0.7224 - loss: 0.4518 - val_accuracy: 0.3428 - val_loss: 3.8793 - learning_rate: 0.0010\n",
      "Epoch 6/50\n",
      "\u001b[1m47/47\u001b[0m \u001b[32m━━━━━━━━━━━━━━━━━━━━\u001b[0m\u001b[37m\u001b[0m \u001b[1m1s\u001b[0m 12ms/step - accuracy: 0.7622 - loss: 0.4158 - val_accuracy: 0.3943 - val_loss: 3.9780 - learning_rate: 5.0000e-04\n",
      "Epoch 7/50\n",
      "\u001b[1m47/47\u001b[0m \u001b[32m━━━━━━━━━━━━━━━━━━━━\u001b[0m\u001b[37m\u001b[0m \u001b[1m1s\u001b[0m 14ms/step - accuracy: 0.7779 - loss: 0.3735 - val_accuracy: 0.3814 - val_loss: 4.6944 - learning_rate: 5.0000e-04\n",
      "Epoch 8/50\n",
      "\u001b[1m47/47\u001b[0m \u001b[32m━━━━━━━━━━━━━━━━━━━━\u001b[0m\u001b[37m\u001b[0m \u001b[1m1s\u001b[0m 14ms/step - accuracy: 0.8008 - loss: 0.3367 - val_accuracy: 0.2861 - val_loss: 5.5974 - learning_rate: 5.0000e-04\n",
      "Epoch 9/50\n",
      "\u001b[1m47/47\u001b[0m \u001b[32m━━━━━━━━━━━━━━━━━━━━\u001b[0m\u001b[37m\u001b[0m \u001b[1m1s\u001b[0m 14ms/step - accuracy: 0.8045 - loss: 0.3286 - val_accuracy: 0.3325 - val_loss: 5.6966 - learning_rate: 2.5000e-04\n",
      "Epoch 10/50\n",
      "\u001b[1m47/47\u001b[0m \u001b[32m━━━━━━━━━━━━━━━━━━━━\u001b[0m\u001b[37m\u001b[0m \u001b[1m1s\u001b[0m 13ms/step - accuracy: 0.8205 - loss: 0.2822 - val_accuracy: 0.2887 - val_loss: 6.4267 - learning_rate: 2.5000e-04\n",
      "Epoch 11/50\n",
      "\u001b[1m47/47\u001b[0m \u001b[32m━━━━━━━━━━━━━━━━━━━━\u001b[0m\u001b[37m\u001b[0m \u001b[1m1s\u001b[0m 14ms/step - accuracy: 0.8283 - loss: 0.2761 - val_accuracy: 0.3866 - val_loss: 6.2930 - learning_rate: 2.5000e-04\n",
      "Epoch 12/50\n",
      "\u001b[1m47/47\u001b[0m \u001b[32m━━━━━━━━━━━━━━━━━━━━\u001b[0m\u001b[37m\u001b[0m \u001b[1m1s\u001b[0m 15ms/step - accuracy: 0.8133 - loss: 0.2759 - val_accuracy: 0.3325 - val_loss: 6.9679 - learning_rate: 1.2500e-04\n"
     ]
    },
    {
     "name": "stderr",
     "output_type": "stream",
     "text": [
      "[I 2024-05-23 22:54:39,535] Trial 57 finished with value: 0.530927836894989 and parameters: {'learning_rate': 0.0006716682256137305, 'dropout_rate': 0.0467158688358586, 'num_filters': 88, 'num_layers': 2}. Best is trial 57 with value: 0.530927836894989.\n"
     ]
    },
    {
     "name": "stdout",
     "output_type": "stream",
     "text": [
      "Epoch 1/50\n",
      "\u001b[1m47/47\u001b[0m \u001b[32m━━━━━━━━━━━━━━━━━━━━\u001b[0m\u001b[37m\u001b[0m \u001b[1m4s\u001b[0m 18ms/step - accuracy: 0.5916 - loss: 0.6596 - val_accuracy: 0.4459 - val_loss: 1.0585 - learning_rate: 0.0010\n",
      "Epoch 2/50\n",
      "\u001b[1m47/47\u001b[0m \u001b[32m━━━━━━━━━━━━━━━━━━━━\u001b[0m\u001b[37m\u001b[0m \u001b[1m1s\u001b[0m 14ms/step - accuracy: 0.6999 - loss: 0.5741 - val_accuracy: 0.4845 - val_loss: 1.6521 - learning_rate: 0.0010\n",
      "Epoch 3/50\n",
      "\u001b[1m47/47\u001b[0m \u001b[32m━━━━━━━━━━━━━━━━━━━━\u001b[0m\u001b[37m\u001b[0m \u001b[1m1s\u001b[0m 14ms/step - accuracy: 0.7493 - loss: 0.4979 - val_accuracy: 0.4897 - val_loss: 1.8318 - learning_rate: 0.0010\n",
      "Epoch 4/50\n",
      "\u001b[1m47/47\u001b[0m \u001b[32m━━━━━━━━━━━━━━━━━━━━\u001b[0m\u001b[37m\u001b[0m \u001b[1m1s\u001b[0m 12ms/step - accuracy: 0.7234 - loss: 0.4859 - val_accuracy: 0.3789 - val_loss: 3.3202 - learning_rate: 0.0010\n",
      "Epoch 5/50\n",
      "\u001b[1m47/47\u001b[0m \u001b[32m━━━━━━━━━━━━━━━━━━━━\u001b[0m\u001b[37m\u001b[0m \u001b[1m1s\u001b[0m 13ms/step - accuracy: 0.6999 - loss: 0.4653 - val_accuracy: 0.3711 - val_loss: 2.8053 - learning_rate: 5.0000e-04\n",
      "Epoch 6/50\n",
      "\u001b[1m47/47\u001b[0m \u001b[32m━━━━━━━━━━━━━━━━━━━━\u001b[0m\u001b[37m\u001b[0m \u001b[1m1s\u001b[0m 13ms/step - accuracy: 0.7165 - loss: 0.4258 - val_accuracy: 0.3325 - val_loss: 3.1435 - learning_rate: 5.0000e-04\n",
      "Epoch 7/50\n",
      "\u001b[1m47/47\u001b[0m \u001b[32m━━━━━━━━━━━━━━━━━━━━\u001b[0m\u001b[37m\u001b[0m \u001b[1m1s\u001b[0m 14ms/step - accuracy: 0.7164 - loss: 0.4304 - val_accuracy: 0.3299 - val_loss: 2.6254 - learning_rate: 5.0000e-04\n",
      "Epoch 8/50\n",
      "\u001b[1m47/47\u001b[0m \u001b[32m━━━━━━━━━━━━━━━━━━━━\u001b[0m\u001b[37m\u001b[0m \u001b[1m1s\u001b[0m 12ms/step - accuracy: 0.7238 - loss: 0.4149 - val_accuracy: 0.3582 - val_loss: 3.3942 - learning_rate: 2.5000e-04\n",
      "Epoch 9/50\n",
      "\u001b[1m47/47\u001b[0m \u001b[32m━━━━━━━━━━━━━━━━━━━━\u001b[0m\u001b[37m\u001b[0m \u001b[1m1s\u001b[0m 13ms/step - accuracy: 0.7487 - loss: 0.3886 - val_accuracy: 0.3351 - val_loss: 3.3935 - learning_rate: 2.5000e-04\n",
      "Epoch 10/50\n",
      "\u001b[1m47/47\u001b[0m \u001b[32m━━━━━━━━━━━━━━━━━━━━\u001b[0m\u001b[37m\u001b[0m \u001b[1m1s\u001b[0m 15ms/step - accuracy: 0.7565 - loss: 0.3918 - val_accuracy: 0.3041 - val_loss: 3.4164 - learning_rate: 2.5000e-04\n",
      "Epoch 11/50\n",
      "\u001b[1m47/47\u001b[0m \u001b[32m━━━━━━━━━━━━━━━━━━━━\u001b[0m\u001b[37m\u001b[0m \u001b[1m1s\u001b[0m 15ms/step - accuracy: 0.7363 - loss: 0.3974 - val_accuracy: 0.4407 - val_loss: 3.5084 - learning_rate: 1.2500e-04\n"
     ]
    },
    {
     "name": "stderr",
     "output_type": "stream",
     "text": [
      "[I 2024-05-23 22:54:51,235] Trial 58 finished with value: 0.4458763003349304 and parameters: {'learning_rate': 0.009467891730250975, 'dropout_rate': 0.04117548512805408, 'num_filters': 116, 'num_layers': 2}. Best is trial 57 with value: 0.530927836894989.\n"
     ]
    },
    {
     "name": "stdout",
     "output_type": "stream",
     "text": [
      "Epoch 1/50\n",
      "\u001b[1m47/47\u001b[0m \u001b[32m━━━━━━━━━━━━━━━━━━━━\u001b[0m\u001b[37m\u001b[0m \u001b[1m4s\u001b[0m 19ms/step - accuracy: 0.6476 - loss: 0.6504 - val_accuracy: 0.1392 - val_loss: 1.3934 - learning_rate: 0.0010\n",
      "Epoch 2/50\n",
      "\u001b[1m47/47\u001b[0m \u001b[32m━━━━━━━━━━━━━━━━━━━━\u001b[0m\u001b[37m\u001b[0m \u001b[1m1s\u001b[0m 14ms/step - accuracy: 0.7162 - loss: 0.5400 - val_accuracy: 0.4768 - val_loss: 1.2323 - learning_rate: 0.0010\n",
      "Epoch 3/50\n",
      "\u001b[1m47/47\u001b[0m \u001b[32m━━━━━━━━━━━━━━━━━━━━\u001b[0m\u001b[37m\u001b[0m \u001b[1m1s\u001b[0m 11ms/step - accuracy: 0.7212 - loss: 0.5038 - val_accuracy: 0.5000 - val_loss: 2.6581 - learning_rate: 0.0010\n",
      "Epoch 4/50\n",
      "\u001b[1m47/47\u001b[0m \u001b[32m━━━━━━━━━━━━━━━━━━━━\u001b[0m\u001b[37m\u001b[0m \u001b[1m1s\u001b[0m 11ms/step - accuracy: 0.7255 - loss: 0.4702 - val_accuracy: 0.2732 - val_loss: 3.0159 - learning_rate: 0.0010\n",
      "Epoch 5/50\n",
      "\u001b[1m47/47\u001b[0m \u001b[32m━━━━━━━━━━━━━━━━━━━━\u001b[0m\u001b[37m\u001b[0m \u001b[1m1s\u001b[0m 11ms/step - accuracy: 0.7660 - loss: 0.4359 - val_accuracy: 0.2294 - val_loss: 3.7838 - learning_rate: 0.0010\n",
      "Epoch 6/50\n",
      "\u001b[1m47/47\u001b[0m \u001b[32m━━━━━━━━━━━━━━━━━━━━\u001b[0m\u001b[37m\u001b[0m \u001b[1m1s\u001b[0m 11ms/step - accuracy: 0.7186 - loss: 0.4210 - val_accuracy: 0.4201 - val_loss: 4.1441 - learning_rate: 5.0000e-04\n",
      "Epoch 7/50\n",
      "\u001b[1m47/47\u001b[0m \u001b[32m━━━━━━━━━━━━━━━━━━━━\u001b[0m\u001b[37m\u001b[0m \u001b[1m1s\u001b[0m 12ms/step - accuracy: 0.7979 - loss: 0.3784 - val_accuracy: 0.4253 - val_loss: 4.2960 - learning_rate: 5.0000e-04\n",
      "Epoch 8/50\n",
      "\u001b[1m47/47\u001b[0m \u001b[32m━━━━━━━━━━━━━━━━━━━━\u001b[0m\u001b[37m\u001b[0m \u001b[1m1s\u001b[0m 11ms/step - accuracy: 0.8001 - loss: 0.3390 - val_accuracy: 0.2706 - val_loss: 4.8698 - learning_rate: 5.0000e-04\n",
      "Epoch 9/50\n",
      "\u001b[1m47/47\u001b[0m \u001b[32m━━━━━━━━━━━━━━━━━━━━\u001b[0m\u001b[37m\u001b[0m \u001b[1m1s\u001b[0m 12ms/step - accuracy: 0.8154 - loss: 0.3151 - val_accuracy: 0.3686 - val_loss: 5.1959 - learning_rate: 2.5000e-04\n",
      "Epoch 10/50\n",
      "\u001b[1m47/47\u001b[0m \u001b[32m━━━━━━━━━━━━━━━━━━━━\u001b[0m\u001b[37m\u001b[0m \u001b[1m1s\u001b[0m 11ms/step - accuracy: 0.8298 - loss: 0.2942 - val_accuracy: 0.3531 - val_loss: 5.7156 - learning_rate: 2.5000e-04\n",
      "Epoch 11/50\n",
      "\u001b[1m47/47\u001b[0m \u001b[32m━━━━━━━━━━━━━━━━━━━━\u001b[0m\u001b[37m\u001b[0m \u001b[1m1s\u001b[0m 12ms/step - accuracy: 0.8380 - loss: 0.2951 - val_accuracy: 0.3479 - val_loss: 6.2053 - learning_rate: 2.5000e-04\n",
      "Epoch 12/50\n",
      "\u001b[1m47/47\u001b[0m \u001b[32m━━━━━━━━━━━━━━━━━━━━\u001b[0m\u001b[37m\u001b[0m \u001b[1m1s\u001b[0m 11ms/step - accuracy: 0.8621 - loss: 0.2648 - val_accuracy: 0.3789 - val_loss: 6.5537 - learning_rate: 1.2500e-04\n"
     ]
    },
    {
     "name": "stderr",
     "output_type": "stream",
     "text": [
      "[I 2024-05-23 22:55:02,201] Trial 59 finished with value: 0.47680413722991943 and parameters: {'learning_rate': 0.0006833366416724231, 'dropout_rate': 0.09342015478558754, 'num_filters': 87, 'num_layers': 2}. Best is trial 57 with value: 0.530927836894989.\n"
     ]
    },
    {
     "name": "stdout",
     "output_type": "stream",
     "text": [
      "Epoch 1/50\n",
      "\u001b[1m47/47\u001b[0m \u001b[32m━━━━━━━━━━━━━━━━━━━━\u001b[0m\u001b[37m\u001b[0m \u001b[1m3s\u001b[0m 16ms/step - accuracy: 0.5732 - loss: 0.6475 - val_accuracy: 0.2448 - val_loss: 1.0913 - learning_rate: 0.0010\n",
      "Epoch 2/50\n",
      "\u001b[1m47/47\u001b[0m \u001b[32m━━━━━━━━━━━━━━━━━━━━\u001b[0m\u001b[37m\u001b[0m \u001b[1m1s\u001b[0m 12ms/step - accuracy: 0.7229 - loss: 0.5366 - val_accuracy: 0.3943 - val_loss: 1.4719 - learning_rate: 0.0010\n",
      "Epoch 3/50\n",
      "\u001b[1m47/47\u001b[0m \u001b[32m━━━━━━━━━━━━━━━━━━━━\u001b[0m\u001b[37m\u001b[0m \u001b[1m0s\u001b[0m 10ms/step - accuracy: 0.7511 - loss: 0.4929 - val_accuracy: 0.3918 - val_loss: 1.8263 - learning_rate: 0.0010\n",
      "Epoch 4/50\n",
      "\u001b[1m47/47\u001b[0m \u001b[32m━━━━━━━━━━━━━━━━━━━━\u001b[0m\u001b[37m\u001b[0m \u001b[1m1s\u001b[0m 11ms/step - accuracy: 0.7302 - loss: 0.4780 - val_accuracy: 0.3222 - val_loss: 2.7101 - learning_rate: 0.0010\n",
      "Epoch 5/50\n",
      "\u001b[1m47/47\u001b[0m \u001b[32m━━━━━━━━━━━━━━━━━━━━\u001b[0m\u001b[37m\u001b[0m \u001b[1m1s\u001b[0m 10ms/step - accuracy: 0.7653 - loss: 0.4552 - val_accuracy: 0.3196 - val_loss: 2.6553 - learning_rate: 5.0000e-04\n",
      "Epoch 6/50\n",
      "\u001b[1m47/47\u001b[0m \u001b[32m━━━━━━━━━━━━━━━━━━━━\u001b[0m\u001b[37m\u001b[0m \u001b[1m1s\u001b[0m 10ms/step - accuracy: 0.7934 - loss: 0.4050 - val_accuracy: 0.3247 - val_loss: 2.9759 - learning_rate: 5.0000e-04\n",
      "Epoch 7/50\n",
      "\u001b[1m47/47\u001b[0m \u001b[32m━━━━━━━━━━━━━━━━━━━━\u001b[0m\u001b[37m\u001b[0m \u001b[1m1s\u001b[0m 11ms/step - accuracy: 0.7984 - loss: 0.3696 - val_accuracy: 0.4046 - val_loss: 3.3355 - learning_rate: 5.0000e-04\n",
      "Epoch 8/50\n",
      "\u001b[1m47/47\u001b[0m \u001b[32m━━━━━━━━━━━━━━━━━━━━\u001b[0m\u001b[37m\u001b[0m \u001b[1m1s\u001b[0m 11ms/step - accuracy: 0.7921 - loss: 0.3429 - val_accuracy: 0.2655 - val_loss: 4.2349 - learning_rate: 2.5000e-04\n",
      "Epoch 9/50\n",
      "\u001b[1m47/47\u001b[0m \u001b[32m━━━━━━━━━━━━━━━━━━━━\u001b[0m\u001b[37m\u001b[0m \u001b[1m1s\u001b[0m 12ms/step - accuracy: 0.7888 - loss: 0.3575 - val_accuracy: 0.3505 - val_loss: 4.0827 - learning_rate: 2.5000e-04\n",
      "Epoch 10/50\n",
      "\u001b[1m47/47\u001b[0m \u001b[32m━━━━━━━━━━━━━━━━━━━━\u001b[0m\u001b[37m\u001b[0m \u001b[1m1s\u001b[0m 11ms/step - accuracy: 0.7935 - loss: 0.3263 - val_accuracy: 0.3789 - val_loss: 4.1581 - learning_rate: 2.5000e-04\n",
      "Epoch 11/50\n",
      "\u001b[1m47/47\u001b[0m \u001b[32m━━━━━━━━━━━━━━━━━━━━\u001b[0m\u001b[37m\u001b[0m \u001b[1m1s\u001b[0m 10ms/step - accuracy: 0.8131 - loss: 0.3112 - val_accuracy: 0.3789 - val_loss: 4.3303 - learning_rate: 1.2500e-04\n"
     ]
    },
    {
     "name": "stderr",
     "output_type": "stream",
     "text": [
      "[I 2024-05-23 22:55:11,834] Trial 60 finished with value: 0.24484536051750183 and parameters: {'learning_rate': 0.0005798790811962316, 'dropout_rate': 0.08417183521725628, 'num_filters': 75, 'num_layers': 2}. Best is trial 57 with value: 0.530927836894989.\n"
     ]
    },
    {
     "name": "stdout",
     "output_type": "stream",
     "text": [
      "Epoch 1/50\n",
      "\u001b[1m47/47\u001b[0m \u001b[32m━━━━━━━━━━━━━━━━━━━━\u001b[0m\u001b[37m\u001b[0m \u001b[1m4s\u001b[0m 18ms/step - accuracy: 0.6190 - loss: 0.6445 - val_accuracy: 0.2603 - val_loss: 1.2884 - learning_rate: 0.0010\n",
      "Epoch 2/50\n",
      "\u001b[1m47/47\u001b[0m \u001b[32m━━━━━━━━━━━━━━━━━━━━\u001b[0m\u001b[37m\u001b[0m \u001b[1m1s\u001b[0m 13ms/step - accuracy: 0.7327 - loss: 0.5559 - val_accuracy: 0.1005 - val_loss: 1.1782 - learning_rate: 0.0010\n",
      "Epoch 3/50\n",
      "\u001b[1m47/47\u001b[0m \u001b[32m━━━━━━━━━━━━━━━━━━━━\u001b[0m\u001b[37m\u001b[0m \u001b[1m1s\u001b[0m 14ms/step - accuracy: 0.7228 - loss: 0.4981 - val_accuracy: 0.4974 - val_loss: 2.2750 - learning_rate: 0.0010\n",
      "Epoch 4/50\n",
      "\u001b[1m47/47\u001b[0m \u001b[32m━━━━━━━━━━━━━━━━━━━━\u001b[0m\u001b[37m\u001b[0m \u001b[1m1s\u001b[0m 13ms/step - accuracy: 0.7572 - loss: 0.4705 - val_accuracy: 0.5619 - val_loss: 2.3465 - learning_rate: 0.0010\n",
      "Epoch 5/50\n",
      "\u001b[1m47/47\u001b[0m \u001b[32m━━━━━━━━━━━━━━━━━━━━\u001b[0m\u001b[37m\u001b[0m \u001b[1m1s\u001b[0m 10ms/step - accuracy: 0.7470 - loss: 0.4370 - val_accuracy: 0.5773 - val_loss: 2.8394 - learning_rate: 0.0010\n",
      "Epoch 6/50\n",
      "\u001b[1m47/47\u001b[0m \u001b[32m━━━━━━━━━━━━━━━━━━━━\u001b[0m\u001b[37m\u001b[0m \u001b[1m1s\u001b[0m 11ms/step - accuracy: 0.7445 - loss: 0.4460 - val_accuracy: 0.5052 - val_loss: 3.5716 - learning_rate: 5.0000e-04\n",
      "Epoch 7/50\n",
      "\u001b[1m47/47\u001b[0m \u001b[32m━━━━━━━━━━━━━━━━━━━━\u001b[0m\u001b[37m\u001b[0m \u001b[1m1s\u001b[0m 11ms/step - accuracy: 0.7847 - loss: 0.4045 - val_accuracy: 0.5438 - val_loss: 3.5208 - learning_rate: 5.0000e-04\n",
      "Epoch 8/50\n",
      "\u001b[1m47/47\u001b[0m \u001b[32m━━━━━━━━━━━━━━━━━━━━\u001b[0m\u001b[37m\u001b[0m \u001b[1m1s\u001b[0m 11ms/step - accuracy: 0.7694 - loss: 0.3985 - val_accuracy: 0.3170 - val_loss: 4.6081 - learning_rate: 5.0000e-04\n",
      "Epoch 9/50\n",
      "\u001b[1m47/47\u001b[0m \u001b[32m━━━━━━━━━━━━━━━━━━━━\u001b[0m\u001b[37m\u001b[0m \u001b[1m1s\u001b[0m 11ms/step - accuracy: 0.7861 - loss: 0.3979 - val_accuracy: 0.3634 - val_loss: 4.5470 - learning_rate: 2.5000e-04\n",
      "Epoch 10/50\n",
      "\u001b[1m47/47\u001b[0m \u001b[32m━━━━━━━━━━━━━━━━━━━━\u001b[0m\u001b[37m\u001b[0m \u001b[1m1s\u001b[0m 12ms/step - accuracy: 0.8134 - loss: 0.3620 - val_accuracy: 0.4072 - val_loss: 4.9495 - learning_rate: 2.5000e-04\n",
      "Epoch 11/50\n",
      "\u001b[1m47/47\u001b[0m \u001b[32m━━━━━━━━━━━━━━━━━━━━\u001b[0m\u001b[37m\u001b[0m \u001b[1m1s\u001b[0m 11ms/step - accuracy: 0.8201 - loss: 0.3253 - val_accuracy: 0.4021 - val_loss: 4.9351 - learning_rate: 2.5000e-04\n",
      "Epoch 12/50\n",
      "\u001b[1m47/47\u001b[0m \u001b[32m━━━━━━━━━━━━━━━━━━━━\u001b[0m\u001b[37m\u001b[0m \u001b[1m1s\u001b[0m 12ms/step - accuracy: 0.8285 - loss: 0.3191 - val_accuracy: 0.3969 - val_loss: 4.8884 - learning_rate: 1.2500e-04\n"
     ]
    },
    {
     "name": "stderr",
     "output_type": "stream",
     "text": [
      "[I 2024-05-23 22:55:22,679] Trial 61 finished with value: 0.1005154624581337 and parameters: {'learning_rate': 0.0011569186813621963, 'dropout_rate': 0.0585607231975066, 'num_filters': 89, 'num_layers': 2}. Best is trial 57 with value: 0.530927836894989.\n"
     ]
    },
    {
     "name": "stdout",
     "output_type": "stream",
     "text": [
      "Epoch 1/50\n",
      "\u001b[1m47/47\u001b[0m \u001b[32m━━━━━━━━━━━━━━━━━━━━\u001b[0m\u001b[37m\u001b[0m \u001b[1m3s\u001b[0m 17ms/step - accuracy: 0.6577 - loss: 0.6227 - val_accuracy: 0.5825 - val_loss: 0.9658 - learning_rate: 0.0010\n",
      "Epoch 2/50\n",
      "\u001b[1m47/47\u001b[0m \u001b[32m━━━━━━━━━━━━━━━━━━━━\u001b[0m\u001b[37m\u001b[0m \u001b[1m0s\u001b[0m 10ms/step - accuracy: 0.7580 - loss: 0.5245 - val_accuracy: 0.4820 - val_loss: 1.2935 - learning_rate: 0.0010\n",
      "Epoch 3/50\n",
      "\u001b[1m47/47\u001b[0m \u001b[32m━━━━━━━━━━━━━━━━━━━━\u001b[0m\u001b[37m\u001b[0m \u001b[1m1s\u001b[0m 10ms/step - accuracy: 0.7304 - loss: 0.4930 - val_accuracy: 0.5026 - val_loss: 1.8128 - learning_rate: 0.0010\n",
      "Epoch 4/50\n",
      "\u001b[1m47/47\u001b[0m \u001b[32m━━━━━━━━━━━━━━━━━━━━\u001b[0m\u001b[37m\u001b[0m \u001b[1m1s\u001b[0m 11ms/step - accuracy: 0.6700 - loss: 0.4801 - val_accuracy: 0.3892 - val_loss: 2.5893 - learning_rate: 0.0010\n",
      "Epoch 5/50\n",
      "\u001b[1m47/47\u001b[0m \u001b[32m━━━━━━━━━━━━━━━━━━━━\u001b[0m\u001b[37m\u001b[0m \u001b[1m1s\u001b[0m 13ms/step - accuracy: 0.7195 - loss: 0.4404 - val_accuracy: 0.3428 - val_loss: 2.9294 - learning_rate: 5.0000e-04\n",
      "Epoch 6/50\n",
      "\u001b[1m47/47\u001b[0m \u001b[32m━━━━━━━━━━━━━━━━━━━━\u001b[0m\u001b[37m\u001b[0m \u001b[1m1s\u001b[0m 13ms/step - accuracy: 0.7639 - loss: 0.3959 - val_accuracy: 0.4948 - val_loss: 3.2613 - learning_rate: 5.0000e-04\n",
      "Epoch 7/50\n",
      "\u001b[1m47/47\u001b[0m \u001b[32m━━━━━━━━━━━━━━━━━━━━\u001b[0m\u001b[37m\u001b[0m \u001b[1m1s\u001b[0m 13ms/step - accuracy: 0.7794 - loss: 0.3879 - val_accuracy: 0.3711 - val_loss: 3.8823 - learning_rate: 5.0000e-04\n",
      "Epoch 8/50\n",
      "\u001b[1m47/47\u001b[0m \u001b[32m━━━━━━━━━━━━━━━━━━━━\u001b[0m\u001b[37m\u001b[0m \u001b[1m1s\u001b[0m 13ms/step - accuracy: 0.7921 - loss: 0.3485 - val_accuracy: 0.3763 - val_loss: 4.5531 - learning_rate: 2.5000e-04\n",
      "Epoch 9/50\n",
      "\u001b[1m47/47\u001b[0m \u001b[32m━━━━━━━━━━━━━━━━━━━━\u001b[0m\u001b[37m\u001b[0m \u001b[1m1s\u001b[0m 13ms/step - accuracy: 0.8178 - loss: 0.3303 - val_accuracy: 0.3041 - val_loss: 4.6229 - learning_rate: 2.5000e-04\n",
      "Epoch 10/50\n",
      "\u001b[1m47/47\u001b[0m \u001b[32m━━━━━━━━━━━━━━━━━━━━\u001b[0m\u001b[37m\u001b[0m \u001b[1m1s\u001b[0m 14ms/step - accuracy: 0.8095 - loss: 0.3149 - val_accuracy: 0.3093 - val_loss: 5.2763 - learning_rate: 2.5000e-04\n",
      "Epoch 11/50\n",
      "\u001b[1m47/47\u001b[0m \u001b[32m━━━━━━━━━━━━━━━━━━━━\u001b[0m\u001b[37m\u001b[0m \u001b[1m1s\u001b[0m 13ms/step - accuracy: 0.8149 - loss: 0.3017 - val_accuracy: 0.3402 - val_loss: 5.0415 - learning_rate: 1.2500e-04\n"
     ]
    },
    {
     "name": "stderr",
     "output_type": "stream",
     "text": [
      "[I 2024-05-23 22:55:33,053] Trial 62 finished with value: 0.5824742317199707 and parameters: {'learning_rate': 0.04221730792852416, 'dropout_rate': 0.010691705335831095, 'num_filters': 85, 'num_layers': 2}. Best is trial 62 with value: 0.5824742317199707.\n"
     ]
    },
    {
     "name": "stdout",
     "output_type": "stream",
     "text": [
      "Epoch 1/50\n",
      "\u001b[1m47/47\u001b[0m \u001b[32m━━━━━━━━━━━━━━━━━━━━\u001b[0m\u001b[37m\u001b[0m \u001b[1m4s\u001b[0m 19ms/step - accuracy: 0.6271 - loss: 0.6266 - val_accuracy: 0.2191 - val_loss: 1.2279 - learning_rate: 0.0010\n",
      "Epoch 2/50\n",
      "\u001b[1m47/47\u001b[0m \u001b[32m━━━━━━━━━━━━━━━━━━━━\u001b[0m\u001b[37m\u001b[0m \u001b[1m1s\u001b[0m 11ms/step - accuracy: 0.7197 - loss: 0.5176 - val_accuracy: 0.2448 - val_loss: 1.7172 - learning_rate: 0.0010\n",
      "Epoch 3/50\n",
      "\u001b[1m47/47\u001b[0m \u001b[32m━━━━━━━━━━━━━━━━━━━━\u001b[0m\u001b[37m\u001b[0m \u001b[1m1s\u001b[0m 11ms/step - accuracy: 0.7330 - loss: 0.4900 - val_accuracy: 0.5052 - val_loss: 2.2756 - learning_rate: 0.0010\n",
      "Epoch 4/50\n",
      "\u001b[1m47/47\u001b[0m \u001b[32m━━━━━━━━━━━━━━━━━━━━\u001b[0m\u001b[37m\u001b[0m \u001b[1m1s\u001b[0m 12ms/step - accuracy: 0.7663 - loss: 0.4760 - val_accuracy: 0.2887 - val_loss: 2.5399 - learning_rate: 0.0010\n",
      "Epoch 5/50\n",
      "\u001b[1m47/47\u001b[0m \u001b[32m━━━━━━━━━━━━━━━━━━━━\u001b[0m\u001b[37m\u001b[0m \u001b[1m1s\u001b[0m 11ms/step - accuracy: 0.7578 - loss: 0.4374 - val_accuracy: 0.2784 - val_loss: 3.5270 - learning_rate: 5.0000e-04\n",
      "Epoch 6/50\n",
      "\u001b[1m47/47\u001b[0m \u001b[32m━━━━━━━━━━━━━━━━━━━━\u001b[0m\u001b[37m\u001b[0m \u001b[1m1s\u001b[0m 12ms/step - accuracy: 0.7998 - loss: 0.3817 - val_accuracy: 0.3428 - val_loss: 3.8168 - learning_rate: 5.0000e-04\n",
      "Epoch 7/50\n",
      "\u001b[1m47/47\u001b[0m \u001b[32m━━━━━━━━━━━━━━━━━━━━\u001b[0m\u001b[37m\u001b[0m \u001b[1m1s\u001b[0m 14ms/step - accuracy: 0.7826 - loss: 0.3684 - val_accuracy: 0.4046 - val_loss: 4.6476 - learning_rate: 5.0000e-04\n",
      "Epoch 8/50\n",
      "\u001b[1m47/47\u001b[0m \u001b[32m━━━━━━━━━━━━━━━━━━━━\u001b[0m\u001b[37m\u001b[0m \u001b[1m1s\u001b[0m 11ms/step - accuracy: 0.7996 - loss: 0.3303 - val_accuracy: 0.3376 - val_loss: 4.2526 - learning_rate: 2.5000e-04\n",
      "Epoch 9/50\n",
      "\u001b[1m47/47\u001b[0m \u001b[32m━━━━━━━━━━━━━━━━━━━━\u001b[0m\u001b[37m\u001b[0m \u001b[1m1s\u001b[0m 12ms/step - accuracy: 0.8088 - loss: 0.3165 - val_accuracy: 0.4046 - val_loss: 4.4765 - learning_rate: 2.5000e-04\n",
      "Epoch 10/50\n",
      "\u001b[1m47/47\u001b[0m \u001b[32m━━━━━━━━━━━━━━━━━━━━\u001b[0m\u001b[37m\u001b[0m \u001b[1m1s\u001b[0m 12ms/step - accuracy: 0.8286 - loss: 0.2916 - val_accuracy: 0.4253 - val_loss: 5.0552 - learning_rate: 2.5000e-04\n",
      "Epoch 11/50\n",
      "\u001b[1m47/47\u001b[0m \u001b[32m━━━━━━━━━━━━━━━━━━━━\u001b[0m\u001b[37m\u001b[0m \u001b[1m1s\u001b[0m 12ms/step - accuracy: 0.8012 - loss: 0.2994 - val_accuracy: 0.3634 - val_loss: 5.4379 - learning_rate: 1.2500e-04\n"
     ]
    },
    {
     "name": "stderr",
     "output_type": "stream",
     "text": [
      "[I 2024-05-23 22:55:43,677] Trial 63 finished with value: 0.219072163105011 and parameters: {'learning_rate': 0.0266099910187492, 'dropout_rate': 0.027383636932744496, 'num_filters': 96, 'num_layers': 2}. Best is trial 62 with value: 0.5824742317199707.\n"
     ]
    },
    {
     "name": "stdout",
     "output_type": "stream",
     "text": [
      "Epoch 1/50\n",
      "\u001b[1m47/47\u001b[0m \u001b[32m━━━━━━━━━━━━━━━━━━━━\u001b[0m\u001b[37m\u001b[0m \u001b[1m4s\u001b[0m 19ms/step - accuracy: 0.6758 - loss: 0.6284 - val_accuracy: 0.1701 - val_loss: 0.8209 - learning_rate: 0.0010\n",
      "Epoch 2/50\n",
      "\u001b[1m47/47\u001b[0m \u001b[32m━━━━━━━━━━━━━━━━━━━━\u001b[0m\u001b[37m\u001b[0m \u001b[1m1s\u001b[0m 10ms/step - accuracy: 0.7046 - loss: 0.5503 - val_accuracy: 0.2113 - val_loss: 1.3959 - learning_rate: 0.0010\n",
      "Epoch 3/50\n",
      "\u001b[1m47/47\u001b[0m \u001b[32m━━━━━━━━━━━━━━━━━━━━\u001b[0m\u001b[37m\u001b[0m \u001b[1m1s\u001b[0m 12ms/step - accuracy: 0.7328 - loss: 0.5161 - val_accuracy: 0.5052 - val_loss: 2.4051 - learning_rate: 0.0010\n",
      "Epoch 4/50\n",
      "\u001b[1m47/47\u001b[0m \u001b[32m━━━━━━━━━━━━━━━━━━━━\u001b[0m\u001b[37m\u001b[0m \u001b[1m1s\u001b[0m 13ms/step - accuracy: 0.7253 - loss: 0.4953 - val_accuracy: 0.4562 - val_loss: 2.7045 - learning_rate: 0.0010\n",
      "Epoch 5/50\n",
      "\u001b[1m47/47\u001b[0m \u001b[32m━━━━━━━━━━━━━━━━━━━━\u001b[0m\u001b[37m\u001b[0m \u001b[1m1s\u001b[0m 12ms/step - accuracy: 0.7567 - loss: 0.4423 - val_accuracy: 0.4716 - val_loss: 3.6556 - learning_rate: 5.0000e-04\n",
      "Epoch 6/50\n",
      "\u001b[1m47/47\u001b[0m \u001b[32m━━━━━━━━━━━━━━━━━━━━\u001b[0m\u001b[37m\u001b[0m \u001b[1m1s\u001b[0m 13ms/step - accuracy: 0.7946 - loss: 0.3878 - val_accuracy: 0.4716 - val_loss: 3.6107 - learning_rate: 5.0000e-04\n",
      "Epoch 7/50\n",
      "\u001b[1m47/47\u001b[0m \u001b[32m━━━━━━━━━━━━━━━━━━━━\u001b[0m\u001b[37m\u001b[0m \u001b[1m1s\u001b[0m 11ms/step - accuracy: 0.8363 - loss: 0.3710 - val_accuracy: 0.3763 - val_loss: 4.2822 - learning_rate: 5.0000e-04\n",
      "Epoch 8/50\n",
      "\u001b[1m47/47\u001b[0m \u001b[32m━━━━━━━━━━━━━━━━━━━━\u001b[0m\u001b[37m\u001b[0m \u001b[1m1s\u001b[0m 11ms/step - accuracy: 0.8026 - loss: 0.3314 - val_accuracy: 0.4046 - val_loss: 4.6957 - learning_rate: 2.5000e-04\n",
      "Epoch 9/50\n",
      "\u001b[1m47/47\u001b[0m \u001b[32m━━━━━━━━━━━━━━━━━━━━\u001b[0m\u001b[37m\u001b[0m \u001b[1m1s\u001b[0m 12ms/step - accuracy: 0.7956 - loss: 0.3169 - val_accuracy: 0.3711 - val_loss: 5.0338 - learning_rate: 2.5000e-04\n",
      "Epoch 10/50\n",
      "\u001b[1m47/47\u001b[0m \u001b[32m━━━━━━━━━━━━━━━━━━━━\u001b[0m\u001b[37m\u001b[0m \u001b[1m1s\u001b[0m 11ms/step - accuracy: 0.8203 - loss: 0.2947 - val_accuracy: 0.3582 - val_loss: 5.5914 - learning_rate: 2.5000e-04\n",
      "Epoch 11/50\n",
      "\u001b[1m47/47\u001b[0m \u001b[32m━━━━━━━━━━━━━━━━━━━━\u001b[0m\u001b[37m\u001b[0m \u001b[1m1s\u001b[0m 12ms/step - accuracy: 0.8176 - loss: 0.2785 - val_accuracy: 0.3608 - val_loss: 5.9932 - learning_rate: 1.2500e-04\n"
     ]
    },
    {
     "name": "stderr",
     "output_type": "stream",
     "text": [
      "[I 2024-05-23 22:55:53,903] Trial 64 finished with value: 0.17010308802127838 and parameters: {'learning_rate': 0.05236425769703466, 'dropout_rate': 0.01609837316357196, 'num_filters': 86, 'num_layers': 2}. Best is trial 62 with value: 0.5824742317199707.\n"
     ]
    },
    {
     "name": "stdout",
     "output_type": "stream",
     "text": [
      "Epoch 1/50\n",
      "\u001b[1m47/47\u001b[0m \u001b[32m━━━━━━━━━━━━━━━━━━━━\u001b[0m\u001b[37m\u001b[0m \u001b[1m4s\u001b[0m 17ms/step - accuracy: 0.5785 - loss: 0.6550 - val_accuracy: 0.2448 - val_loss: 1.1568 - learning_rate: 0.0010\n",
      "Epoch 2/50\n",
      "\u001b[1m47/47\u001b[0m \u001b[32m━━━━━━━━━━━━━━━━━━━━\u001b[0m\u001b[37m\u001b[0m \u001b[1m1s\u001b[0m 11ms/step - accuracy: 0.7262 - loss: 0.5506 - val_accuracy: 0.2732 - val_loss: 1.5397 - learning_rate: 0.0010\n",
      "Epoch 3/50\n",
      "\u001b[1m47/47\u001b[0m \u001b[32m━━━━━━━━━━━━━━━━━━━━\u001b[0m\u001b[37m\u001b[0m \u001b[1m1s\u001b[0m 11ms/step - accuracy: 0.7309 - loss: 0.5050 - val_accuracy: 0.4124 - val_loss: 2.0543 - learning_rate: 0.0010\n",
      "Epoch 4/50\n",
      "\u001b[1m47/47\u001b[0m \u001b[32m━━━━━━━━━━━━━━━━━━━━\u001b[0m\u001b[37m\u001b[0m \u001b[1m1s\u001b[0m 11ms/step - accuracy: 0.7291 - loss: 0.4791 - val_accuracy: 0.1830 - val_loss: 2.9600 - learning_rate: 0.0010\n",
      "Epoch 5/50\n",
      "\u001b[1m47/47\u001b[0m \u001b[32m━━━━━━━━━━━━━━━━━━━━\u001b[0m\u001b[37m\u001b[0m \u001b[1m0s\u001b[0m 8ms/step - accuracy: 0.7816 - loss: 0.4200 - val_accuracy: 0.3144 - val_loss: 2.7821 - learning_rate: 5.0000e-04\n",
      "Epoch 6/50\n",
      "\u001b[1m47/47\u001b[0m \u001b[32m━━━━━━━━━━━━━━━━━━━━\u001b[0m\u001b[37m\u001b[0m \u001b[1m1s\u001b[0m 10ms/step - accuracy: 0.8001 - loss: 0.3744 - val_accuracy: 0.4175 - val_loss: 3.3923 - learning_rate: 5.0000e-04\n",
      "Epoch 7/50\n",
      "\u001b[1m47/47\u001b[0m \u001b[32m━━━━━━━━━━━━━━━━━━━━\u001b[0m\u001b[37m\u001b[0m \u001b[1m1s\u001b[0m 11ms/step - accuracy: 0.8063 - loss: 0.3578 - val_accuracy: 0.5747 - val_loss: 3.5105 - learning_rate: 5.0000e-04\n",
      "Epoch 8/50\n",
      "\u001b[1m47/47\u001b[0m \u001b[32m━━━━━━━━━━━━━━━━━━━━\u001b[0m\u001b[37m\u001b[0m \u001b[1m1s\u001b[0m 10ms/step - accuracy: 0.7882 - loss: 0.3607 - val_accuracy: 0.4923 - val_loss: 3.7696 - learning_rate: 2.5000e-04\n",
      "Epoch 9/50\n",
      "\u001b[1m47/47\u001b[0m \u001b[32m━━━━━━━━━━━━━━━━━━━━\u001b[0m\u001b[37m\u001b[0m \u001b[1m0s\u001b[0m 9ms/step - accuracy: 0.8273 - loss: 0.3050 - val_accuracy: 0.3479 - val_loss: 4.0436 - learning_rate: 2.5000e-04\n",
      "Epoch 10/50\n",
      "\u001b[1m47/47\u001b[0m \u001b[32m━━━━━━━━━━━━━━━━━━━━\u001b[0m\u001b[37m\u001b[0m \u001b[1m1s\u001b[0m 10ms/step - accuracy: 0.8173 - loss: 0.3112 - val_accuracy: 0.4562 - val_loss: 4.1323 - learning_rate: 2.5000e-04\n",
      "Epoch 11/50\n",
      "\u001b[1m47/47\u001b[0m \u001b[32m━━━━━━━━━━━━━━━━━━━━\u001b[0m\u001b[37m\u001b[0m \u001b[1m0s\u001b[0m 9ms/step - accuracy: 0.8080 - loss: 0.3054 - val_accuracy: 0.4356 - val_loss: 4.4988 - learning_rate: 1.2500e-04\n"
     ]
    },
    {
     "name": "stderr",
     "output_type": "stream",
     "text": [
      "[I 2024-05-23 22:56:03,335] Trial 65 finished with value: 0.24484536051750183 and parameters: {'learning_rate': 0.03916147465069963, 'dropout_rate': 0.049546100763332844, 'num_filters': 62, 'num_layers': 2}. Best is trial 62 with value: 0.5824742317199707.\n"
     ]
    },
    {
     "name": "stdout",
     "output_type": "stream",
     "text": [
      "Epoch 1/50\n",
      "\u001b[1m47/47\u001b[0m \u001b[32m━━━━━━━━━━━━━━━━━━━━\u001b[0m\u001b[37m\u001b[0m \u001b[1m4s\u001b[0m 19ms/step - accuracy: 0.6087 - loss: 0.6419 - val_accuracy: 0.2216 - val_loss: 1.0509 - learning_rate: 0.0010\n",
      "Epoch 2/50\n",
      "\u001b[1m47/47\u001b[0m \u001b[32m━━━━━━━━━━━━━━━━━━━━\u001b[0m\u001b[37m\u001b[0m \u001b[1m1s\u001b[0m 11ms/step - accuracy: 0.7398 - loss: 0.5521 - val_accuracy: 0.1727 - val_loss: 1.3256 - learning_rate: 0.0010\n",
      "Epoch 3/50\n",
      "\u001b[1m47/47\u001b[0m \u001b[32m━━━━━━━━━━━━━━━━━━━━\u001b[0m\u001b[37m\u001b[0m \u001b[1m1s\u001b[0m 11ms/step - accuracy: 0.6789 - loss: 0.5222 - val_accuracy: 0.4510 - val_loss: 1.5623 - learning_rate: 0.0010\n",
      "Epoch 4/50\n",
      "\u001b[1m47/47\u001b[0m \u001b[32m━━━━━━━━━━━━━━━━━━━━\u001b[0m\u001b[37m\u001b[0m \u001b[1m1s\u001b[0m 10ms/step - accuracy: 0.6896 - loss: 0.5277 - val_accuracy: 0.2964 - val_loss: 2.1701 - learning_rate: 0.0010\n",
      "Epoch 5/50\n",
      "\u001b[1m47/47\u001b[0m \u001b[32m━━━━━━━━━━━━━━━━━━━━\u001b[0m\u001b[37m\u001b[0m \u001b[1m1s\u001b[0m 10ms/step - accuracy: 0.7415 - loss: 0.4572 - val_accuracy: 0.2758 - val_loss: 2.8705 - learning_rate: 5.0000e-04\n",
      "Epoch 6/50\n",
      "\u001b[1m47/47\u001b[0m \u001b[32m━━━━━━━━━━━━━━━━━━━━\u001b[0m\u001b[37m\u001b[0m \u001b[1m1s\u001b[0m 11ms/step - accuracy: 0.7670 - loss: 0.4448 - val_accuracy: 0.5284 - val_loss: 2.9149 - learning_rate: 5.0000e-04\n",
      "Epoch 7/50\n",
      "\u001b[1m47/47\u001b[0m \u001b[32m━━━━━━━━━━━━━━━━━━━━\u001b[0m\u001b[37m\u001b[0m \u001b[1m1s\u001b[0m 10ms/step - accuracy: 0.7471 - loss: 0.4413 - val_accuracy: 0.6082 - val_loss: 3.2308 - learning_rate: 5.0000e-04\n",
      "Epoch 8/50\n",
      "\u001b[1m47/47\u001b[0m \u001b[32m━━━━━━━━━━━━━━━━━━━━\u001b[0m\u001b[37m\u001b[0m \u001b[1m1s\u001b[0m 11ms/step - accuracy: 0.7546 - loss: 0.4204 - val_accuracy: 0.4974 - val_loss: 3.6199 - learning_rate: 2.5000e-04\n",
      "Epoch 9/50\n",
      "\u001b[1m47/47\u001b[0m \u001b[32m━━━━━━━━━━━━━━━━━━━━\u001b[0m\u001b[37m\u001b[0m \u001b[1m1s\u001b[0m 11ms/step - accuracy: 0.7733 - loss: 0.3737 - val_accuracy: 0.3428 - val_loss: 4.0427 - learning_rate: 2.5000e-04\n",
      "Epoch 10/50\n",
      "\u001b[1m47/47\u001b[0m \u001b[32m━━━━━━━━━━━━━━━━━━━━\u001b[0m\u001b[37m\u001b[0m \u001b[1m1s\u001b[0m 11ms/step - accuracy: 0.7888 - loss: 0.3554 - val_accuracy: 0.3015 - val_loss: 4.5775 - learning_rate: 2.5000e-04\n",
      "Epoch 11/50\n",
      "\u001b[1m47/47\u001b[0m \u001b[32m━━━━━━━━━━━━━━━━━━━━\u001b[0m\u001b[37m\u001b[0m \u001b[1m1s\u001b[0m 10ms/step - accuracy: 0.8126 - loss: 0.3583 - val_accuracy: 0.3067 - val_loss: 4.5068 - learning_rate: 1.2500e-04\n"
     ]
    },
    {
     "name": "stderr",
     "output_type": "stream",
     "text": [
      "[I 2024-05-23 22:56:13,155] Trial 66 finished with value: 0.22164948284626007 and parameters: {'learning_rate': 0.0007344003254039494, 'dropout_rate': 0.09365016982903532, 'num_filters': 77, 'num_layers': 2}. Best is trial 62 with value: 0.5824742317199707.\n"
     ]
    },
    {
     "name": "stdout",
     "output_type": "stream",
     "text": [
      "Epoch 1/50\n",
      "\u001b[1m47/47\u001b[0m \u001b[32m━━━━━━━━━━━━━━━━━━━━\u001b[0m\u001b[37m\u001b[0m \u001b[1m4s\u001b[0m 17ms/step - accuracy: 0.7088 - loss: 0.6061 - val_accuracy: 0.1289 - val_loss: 1.0431 - learning_rate: 0.0010\n",
      "Epoch 2/50\n",
      "\u001b[1m47/47\u001b[0m \u001b[32m━━━━━━━━━━━━━━━━━━━━\u001b[0m\u001b[37m\u001b[0m \u001b[1m1s\u001b[0m 11ms/step - accuracy: 0.6876 - loss: 0.5279 - val_accuracy: 0.4330 - val_loss: 1.4815 - learning_rate: 0.0010\n",
      "Epoch 3/50\n",
      "\u001b[1m47/47\u001b[0m \u001b[32m━━━━━━━━━━━━━━━━━━━━\u001b[0m\u001b[37m\u001b[0m \u001b[1m1s\u001b[0m 11ms/step - accuracy: 0.7457 - loss: 0.4662 - val_accuracy: 0.4046 - val_loss: 1.5961 - learning_rate: 0.0010\n",
      "Epoch 4/50\n",
      "\u001b[1m47/47\u001b[0m \u001b[32m━━━━━━━━━━━━━━━━━━━━\u001b[0m\u001b[37m\u001b[0m \u001b[1m1s\u001b[0m 14ms/step - accuracy: 0.7475 - loss: 0.4789 - val_accuracy: 0.4175 - val_loss: 3.0489 - learning_rate: 0.0010\n",
      "Epoch 5/50\n",
      "\u001b[1m47/47\u001b[0m \u001b[32m━━━━━━━━━━━━━━━━━━━━\u001b[0m\u001b[37m\u001b[0m \u001b[1m1s\u001b[0m 12ms/step - accuracy: 0.8032 - loss: 0.3952 - val_accuracy: 0.5335 - val_loss: 4.2629 - learning_rate: 5.0000e-04\n",
      "Epoch 6/50\n",
      "\u001b[1m47/47\u001b[0m \u001b[32m━━━━━━━━━━━━━━━━━━━━\u001b[0m\u001b[37m\u001b[0m \u001b[1m1s\u001b[0m 13ms/step - accuracy: 0.8196 - loss: 0.3570 - val_accuracy: 0.2165 - val_loss: 5.8154 - learning_rate: 5.0000e-04\n",
      "Epoch 7/50\n",
      "\u001b[1m47/47\u001b[0m \u001b[32m━━━━━━━━━━━━━━━━━━━━\u001b[0m\u001b[37m\u001b[0m \u001b[1m1s\u001b[0m 11ms/step - accuracy: 0.7956 - loss: 0.3606 - val_accuracy: 0.3634 - val_loss: 5.7303 - learning_rate: 5.0000e-04\n",
      "Epoch 8/50\n",
      "\u001b[1m47/47\u001b[0m \u001b[32m━━━━━━━━━━━━━━━━━━━━\u001b[0m\u001b[37m\u001b[0m \u001b[1m1s\u001b[0m 13ms/step - accuracy: 0.8210 - loss: 0.3105 - val_accuracy: 0.3273 - val_loss: 6.8510 - learning_rate: 2.5000e-04\n",
      "Epoch 9/50\n",
      "\u001b[1m47/47\u001b[0m \u001b[32m━━━━━━━━━━━━━━━━━━━━\u001b[0m\u001b[37m\u001b[0m \u001b[1m1s\u001b[0m 13ms/step - accuracy: 0.8410 - loss: 0.2937 - val_accuracy: 0.2268 - val_loss: 7.0479 - learning_rate: 2.5000e-04\n",
      "Epoch 10/50\n",
      "\u001b[1m47/47\u001b[0m \u001b[32m━━━━━━━━━━━━━━━━━━━━\u001b[0m\u001b[37m\u001b[0m \u001b[1m1s\u001b[0m 13ms/step - accuracy: 0.8288 - loss: 0.2774 - val_accuracy: 0.2139 - val_loss: 6.9850 - learning_rate: 2.5000e-04\n",
      "Epoch 11/50\n",
      "\u001b[1m47/47\u001b[0m \u001b[32m━━━━━━━━━━━━━━━━━━━━\u001b[0m\u001b[37m\u001b[0m \u001b[1m1s\u001b[0m 12ms/step - accuracy: 0.8242 - loss: 0.2841 - val_accuracy: 0.2345 - val_loss: 7.2475 - learning_rate: 1.2500e-04\n"
     ]
    },
    {
     "name": "stderr",
     "output_type": "stream",
     "text": [
      "[I 2024-05-23 22:56:23,595] Trial 67 finished with value: 0.12886597216129303 and parameters: {'learning_rate': 0.002621621429976988, 'dropout_rate': 0.02231563533565925, 'num_filters': 99, 'num_layers': 2}. Best is trial 62 with value: 0.5824742317199707.\n"
     ]
    },
    {
     "name": "stdout",
     "output_type": "stream",
     "text": [
      "Epoch 1/50\n",
      "\u001b[1m47/47\u001b[0m \u001b[32m━━━━━━━━━━━━━━━━━━━━\u001b[0m\u001b[37m\u001b[0m \u001b[1m4s\u001b[0m 15ms/step - accuracy: 0.6612 - loss: 0.6354 - val_accuracy: 0.2552 - val_loss: 0.9882 - learning_rate: 0.0010\n",
      "Epoch 2/50\n",
      "\u001b[1m47/47\u001b[0m \u001b[32m━━━━━━━━━━━━━━━━━━━━\u001b[0m\u001b[37m\u001b[0m \u001b[1m0s\u001b[0m 8ms/step - accuracy: 0.7072 - loss: 0.5551 - val_accuracy: 0.2294 - val_loss: 1.8806 - learning_rate: 0.0010\n",
      "Epoch 3/50\n",
      "\u001b[1m47/47\u001b[0m \u001b[32m━━━━━━━━━━━━━━━━━━━━\u001b[0m\u001b[37m\u001b[0m \u001b[1m0s\u001b[0m 9ms/step - accuracy: 0.7129 - loss: 0.5187 - val_accuracy: 0.2706 - val_loss: 2.3556 - learning_rate: 0.0010\n",
      "Epoch 4/50\n",
      "\u001b[1m47/47\u001b[0m \u001b[32m━━━━━━━━━━━━━━━━━━━━\u001b[0m\u001b[37m\u001b[0m \u001b[1m0s\u001b[0m 9ms/step - accuracy: 0.7235 - loss: 0.4617 - val_accuracy: 0.4871 - val_loss: 3.2265 - learning_rate: 0.0010\n",
      "Epoch 5/50\n",
      "\u001b[1m47/47\u001b[0m \u001b[32m━━━━━━━━━━━━━━━━━━━━\u001b[0m\u001b[37m\u001b[0m \u001b[1m1s\u001b[0m 10ms/step - accuracy: 0.7630 - loss: 0.4203 - val_accuracy: 0.5026 - val_loss: 4.5825 - learning_rate: 5.0000e-04\n",
      "Epoch 6/50\n",
      "\u001b[1m47/47\u001b[0m \u001b[32m━━━━━━━━━━━━━━━━━━━━\u001b[0m\u001b[37m\u001b[0m \u001b[1m0s\u001b[0m 9ms/step - accuracy: 0.7758 - loss: 0.3970 - val_accuracy: 0.5103 - val_loss: 4.7202 - learning_rate: 5.0000e-04\n",
      "Epoch 7/50\n",
      "\u001b[1m47/47\u001b[0m \u001b[32m━━━━━━━━━━━━━━━━━━━━\u001b[0m\u001b[37m\u001b[0m \u001b[1m0s\u001b[0m 9ms/step - accuracy: 0.7743 - loss: 0.3720 - val_accuracy: 0.2706 - val_loss: 4.7215 - learning_rate: 5.0000e-04\n",
      "Epoch 8/50\n",
      "\u001b[1m47/47\u001b[0m \u001b[32m━━━━━━━━━━━━━━━━━━━━\u001b[0m\u001b[37m\u001b[0m \u001b[1m1s\u001b[0m 11ms/step - accuracy: 0.8062 - loss: 0.3753 - val_accuracy: 0.3763 - val_loss: 6.4363 - learning_rate: 2.5000e-04\n",
      "Epoch 9/50\n",
      "\u001b[1m47/47\u001b[0m \u001b[32m━━━━━━━━━━━━━━━━━━━━\u001b[0m\u001b[37m\u001b[0m \u001b[1m1s\u001b[0m 13ms/step - accuracy: 0.8324 - loss: 0.3399 - val_accuracy: 0.3170 - val_loss: 6.4572 - learning_rate: 2.5000e-04\n",
      "Epoch 10/50\n",
      "\u001b[1m47/47\u001b[0m \u001b[32m━━━━━━━━━━━━━━━━━━━━\u001b[0m\u001b[37m\u001b[0m \u001b[1m0s\u001b[0m 10ms/step - accuracy: 0.8449 - loss: 0.3026 - val_accuracy: 0.3299 - val_loss: 6.9414 - learning_rate: 2.5000e-04\n",
      "Epoch 11/50\n",
      "\u001b[1m47/47\u001b[0m \u001b[32m━━━━━━━━━━━━━━━━━━━━\u001b[0m\u001b[37m\u001b[0m \u001b[1m0s\u001b[0m 8ms/step - accuracy: 0.8509 - loss: 0.3068 - val_accuracy: 0.3505 - val_loss: 7.0912 - learning_rate: 1.2500e-04\n"
     ]
    },
    {
     "name": "stderr",
     "output_type": "stream",
     "text": [
      "[I 2024-05-23 22:56:33,096] Trial 68 finished with value: 0.25515463948249817 and parameters: {'learning_rate': 0.00024315615365473663, 'dropout_rate': 0.012456872396898178, 'num_filters': 49, 'num_layers': 2}. Best is trial 62 with value: 0.5824742317199707.\n"
     ]
    },
    {
     "name": "stdout",
     "output_type": "stream",
     "text": [
      "Epoch 1/50\n",
      "\u001b[1m47/47\u001b[0m \u001b[32m━━━━━━━━━━━━━━━━━━━━\u001b[0m\u001b[37m\u001b[0m \u001b[1m6s\u001b[0m 16ms/step - accuracy: 0.6359 - loss: 0.6509 - val_accuracy: 0.2088 - val_loss: 1.1468 - learning_rate: 0.0010\n",
      "Epoch 2/50\n",
      "\u001b[1m47/47\u001b[0m \u001b[32m━━━━━━━━━━━━━━━━━━━━\u001b[0m\u001b[37m\u001b[0m \u001b[1m1s\u001b[0m 11ms/step - accuracy: 0.7262 - loss: 0.5324 - val_accuracy: 0.1753 - val_loss: 1.1664 - learning_rate: 0.0010\n",
      "Epoch 3/50\n",
      "\u001b[1m47/47\u001b[0m \u001b[32m━━━━━━━━━━━━━━━━━━━━\u001b[0m\u001b[37m\u001b[0m \u001b[1m1s\u001b[0m 12ms/step - accuracy: 0.7134 - loss: 0.5026 - val_accuracy: 0.1985 - val_loss: 1.7385 - learning_rate: 0.0010\n",
      "Epoch 4/50\n",
      "\u001b[1m47/47\u001b[0m \u001b[32m━━━━━━━━━━━━━━━━━━━━\u001b[0m\u001b[37m\u001b[0m \u001b[1m1s\u001b[0m 11ms/step - accuracy: 0.7753 - loss: 0.4396 - val_accuracy: 0.4201 - val_loss: 2.1311 - learning_rate: 0.0010\n",
      "Epoch 5/50\n",
      "\u001b[1m47/47\u001b[0m \u001b[32m━━━━━━━━━━━━━━━━━━━━\u001b[0m\u001b[37m\u001b[0m \u001b[1m1s\u001b[0m 12ms/step - accuracy: 0.7980 - loss: 0.4402 - val_accuracy: 0.5335 - val_loss: 2.1284 - learning_rate: 5.0000e-04\n",
      "Epoch 6/50\n",
      "\u001b[1m47/47\u001b[0m \u001b[32m━━━━━━━━━━━━━━━━━━━━\u001b[0m\u001b[37m\u001b[0m \u001b[1m1s\u001b[0m 11ms/step - accuracy: 0.7954 - loss: 0.3923 - val_accuracy: 0.4613 - val_loss: 2.5013 - learning_rate: 5.0000e-04\n",
      "Epoch 7/50\n",
      "\u001b[1m47/47\u001b[0m \u001b[32m━━━━━━━━━━━━━━━━━━━━\u001b[0m\u001b[37m\u001b[0m \u001b[1m1s\u001b[0m 12ms/step - accuracy: 0.8078 - loss: 0.3695 - val_accuracy: 0.2423 - val_loss: 3.4761 - learning_rate: 5.0000e-04\n",
      "Epoch 8/50\n",
      "\u001b[1m47/47\u001b[0m \u001b[32m━━━━━━━━━━━━━━━━━━━━\u001b[0m\u001b[37m\u001b[0m \u001b[1m1s\u001b[0m 12ms/step - accuracy: 0.8003 - loss: 0.3720 - val_accuracy: 0.3918 - val_loss: 3.1181 - learning_rate: 2.5000e-04\n",
      "Epoch 9/50\n",
      "\u001b[1m47/47\u001b[0m \u001b[32m━━━━━━━━━━━━━━━━━━━━\u001b[0m\u001b[37m\u001b[0m \u001b[1m1s\u001b[0m 13ms/step - accuracy: 0.8121 - loss: 0.3086 - val_accuracy: 0.5000 - val_loss: 3.3328 - learning_rate: 2.5000e-04\n",
      "Epoch 10/50\n",
      "\u001b[1m47/47\u001b[0m \u001b[32m━━━━━━━━━━━━━━━━━━━━\u001b[0m\u001b[37m\u001b[0m \u001b[1m1s\u001b[0m 11ms/step - accuracy: 0.8351 - loss: 0.2900 - val_accuracy: 0.3325 - val_loss: 3.8587 - learning_rate: 2.5000e-04\n",
      "Epoch 11/50\n",
      "\u001b[1m47/47\u001b[0m \u001b[32m━━━━━━━━━━━━━━━━━━━━\u001b[0m\u001b[37m\u001b[0m \u001b[1m1s\u001b[0m 11ms/step - accuracy: 0.8371 - loss: 0.2882 - val_accuracy: 0.3918 - val_loss: 3.9755 - learning_rate: 1.2500e-04\n"
     ]
    },
    {
     "name": "stderr",
     "output_type": "stream",
     "text": [
      "[I 2024-05-23 22:56:45,690] Trial 69 finished with value: 0.20876288414001465 and parameters: {'learning_rate': 0.002010585043936615, 'dropout_rate': 0.0017448071610992565, 'num_filters': 86, 'num_layers': 2}. Best is trial 62 with value: 0.5824742317199707.\n"
     ]
    },
    {
     "name": "stdout",
     "output_type": "stream",
     "text": [
      "Epoch 1/50\n",
      "\u001b[1m47/47\u001b[0m \u001b[32m━━━━━━━━━━━━━━━━━━━━\u001b[0m\u001b[37m\u001b[0m \u001b[1m4s\u001b[0m 18ms/step - accuracy: 0.6249 - loss: 0.6585 - val_accuracy: 0.2629 - val_loss: 1.1139 - learning_rate: 0.0010\n",
      "Epoch 2/50\n",
      "\u001b[1m47/47\u001b[0m \u001b[32m━━━━━━━━━━━━━━━━━━━━\u001b[0m\u001b[37m\u001b[0m \u001b[1m1s\u001b[0m 12ms/step - accuracy: 0.7007 - loss: 0.6016 - val_accuracy: 0.1701 - val_loss: 1.5150 - learning_rate: 0.0010\n",
      "Epoch 3/50\n",
      "\u001b[1m47/47\u001b[0m \u001b[32m━━━━━━━━━━━━━━━━━━━━\u001b[0m\u001b[37m\u001b[0m \u001b[1m1s\u001b[0m 10ms/step - accuracy: 0.7158 - loss: 0.5147 - val_accuracy: 0.4021 - val_loss: 1.9922 - learning_rate: 0.0010\n",
      "Epoch 4/50\n",
      "\u001b[1m47/47\u001b[0m \u001b[32m━━━━━━━━━━━━━━━━━━━━\u001b[0m\u001b[37m\u001b[0m \u001b[1m1s\u001b[0m 13ms/step - accuracy: 0.7451 - loss: 0.4981 - val_accuracy: 0.4562 - val_loss: 1.7621 - learning_rate: 0.0010\n",
      "Epoch 5/50\n",
      "\u001b[1m47/47\u001b[0m \u001b[32m━━━━━━━━━━━━━━━━━━━━\u001b[0m\u001b[37m\u001b[0m \u001b[1m1s\u001b[0m 11ms/step - accuracy: 0.7149 - loss: 0.4853 - val_accuracy: 0.5180 - val_loss: 2.5907 - learning_rate: 5.0000e-04\n",
      "Epoch 6/50\n",
      "\u001b[1m47/47\u001b[0m \u001b[32m━━━━━━━━━━━━━━━━━━━━\u001b[0m\u001b[37m\u001b[0m \u001b[1m1s\u001b[0m 11ms/step - accuracy: 0.7488 - loss: 0.4643 - val_accuracy: 0.5026 - val_loss: 2.8555 - learning_rate: 5.0000e-04\n",
      "Epoch 7/50\n",
      "\u001b[1m47/47\u001b[0m \u001b[32m━━━━━━━━━━━━━━━━━━━━\u001b[0m\u001b[37m\u001b[0m \u001b[1m1s\u001b[0m 11ms/step - accuracy: 0.7381 - loss: 0.4411 - val_accuracy: 0.4871 - val_loss: 3.7481 - learning_rate: 5.0000e-04\n",
      "Epoch 8/50\n",
      "\u001b[1m47/47\u001b[0m \u001b[32m━━━━━━━━━━━━━━━━━━━━\u001b[0m\u001b[37m\u001b[0m \u001b[1m1s\u001b[0m 11ms/step - accuracy: 0.7617 - loss: 0.4136 - val_accuracy: 0.5309 - val_loss: 4.2903 - learning_rate: 2.5000e-04\n",
      "Epoch 9/50\n",
      "\u001b[1m47/47\u001b[0m \u001b[32m━━━━━━━━━━━━━━━━━━━━\u001b[0m\u001b[37m\u001b[0m \u001b[1m1s\u001b[0m 10ms/step - accuracy: 0.7618 - loss: 0.4047 - val_accuracy: 0.4948 - val_loss: 4.4284 - learning_rate: 2.5000e-04\n",
      "Epoch 10/50\n",
      "\u001b[1m47/47\u001b[0m \u001b[32m━━━━━━━━━━━━━━━━━━━━\u001b[0m\u001b[37m\u001b[0m \u001b[1m1s\u001b[0m 10ms/step - accuracy: 0.7579 - loss: 0.3690 - val_accuracy: 0.4356 - val_loss: 4.7344 - learning_rate: 2.5000e-04\n",
      "Epoch 11/50\n",
      "\u001b[1m47/47\u001b[0m \u001b[32m━━━━━━━━━━━━━━━━━━━━\u001b[0m\u001b[37m\u001b[0m \u001b[1m1s\u001b[0m 11ms/step - accuracy: 0.7787 - loss: 0.3736 - val_accuracy: 0.4588 - val_loss: 4.8758 - learning_rate: 1.2500e-04\n"
     ]
    },
    {
     "name": "stderr",
     "output_type": "stream",
     "text": [
      "[I 2024-05-23 22:56:55,614] Trial 70 finished with value: 0.26288658380508423 and parameters: {'learning_rate': 0.00481270106267796, 'dropout_rate': 0.2764667557399945, 'num_filters': 69, 'num_layers': 2}. Best is trial 62 with value: 0.5824742317199707.\n"
     ]
    },
    {
     "name": "stdout",
     "output_type": "stream",
     "text": [
      "Epoch 1/50\n",
      "\u001b[1m47/47\u001b[0m \u001b[32m━━━━━━━━━━━━━━━━━━━━\u001b[0m\u001b[37m\u001b[0m \u001b[1m4s\u001b[0m 23ms/step - accuracy: 0.6237 - loss: 0.6317 - val_accuracy: 0.4278 - val_loss: 1.0636 - learning_rate: 0.0010\n",
      "Epoch 2/50\n",
      "\u001b[1m47/47\u001b[0m \u001b[32m━━━━━━━━━━━━━━━━━━━━\u001b[0m\u001b[37m\u001b[0m \u001b[1m1s\u001b[0m 13ms/step - accuracy: 0.7238 - loss: 0.5051 - val_accuracy: 0.4974 - val_loss: 2.6343 - learning_rate: 0.0010\n",
      "Epoch 3/50\n",
      "\u001b[1m47/47\u001b[0m \u001b[32m━━━━━━━━━━━━━━━━━━━━\u001b[0m\u001b[37m\u001b[0m \u001b[1m1s\u001b[0m 14ms/step - accuracy: 0.6992 - loss: 0.5135 - val_accuracy: 0.5773 - val_loss: 3.0841 - learning_rate: 0.0010\n",
      "Epoch 4/50\n",
      "\u001b[1m47/47\u001b[0m \u001b[32m━━━━━━━━━━━━━━━━━━━━\u001b[0m\u001b[37m\u001b[0m \u001b[1m1s\u001b[0m 12ms/step - accuracy: 0.7036 - loss: 0.4654 - val_accuracy: 0.5206 - val_loss: 5.1235 - learning_rate: 0.0010\n",
      "Epoch 5/50\n",
      "\u001b[1m47/47\u001b[0m \u001b[32m━━━━━━━━━━━━━━━━━━━━\u001b[0m\u001b[37m\u001b[0m \u001b[1m1s\u001b[0m 15ms/step - accuracy: 0.7215 - loss: 0.4373 - val_accuracy: 0.4175 - val_loss: 6.1900 - learning_rate: 5.0000e-04\n",
      "Epoch 6/50\n",
      "\u001b[1m47/47\u001b[0m \u001b[32m━━━━━━━━━━━━━━━━━━━━\u001b[0m\u001b[37m\u001b[0m \u001b[1m1s\u001b[0m 12ms/step - accuracy: 0.7388 - loss: 0.4016 - val_accuracy: 0.3660 - val_loss: 7.2934 - learning_rate: 5.0000e-04\n",
      "Epoch 7/50\n",
      "\u001b[1m47/47\u001b[0m \u001b[32m━━━━━━━━━━━━━━━━━━━━\u001b[0m\u001b[37m\u001b[0m \u001b[1m1s\u001b[0m 12ms/step - accuracy: 0.7724 - loss: 0.3824 - val_accuracy: 0.3479 - val_loss: 8.0139 - learning_rate: 5.0000e-04\n",
      "Epoch 8/50\n",
      "\u001b[1m47/47\u001b[0m \u001b[32m━━━━━━━━━━━━━━━━━━━━\u001b[0m\u001b[37m\u001b[0m \u001b[1m1s\u001b[0m 14ms/step - accuracy: 0.7958 - loss: 0.3554 - val_accuracy: 0.3969 - val_loss: 7.9592 - learning_rate: 2.5000e-04\n",
      "Epoch 9/50\n",
      "\u001b[1m47/47\u001b[0m \u001b[32m━━━━━━━━━━━━━━━━━━━━\u001b[0m\u001b[37m\u001b[0m \u001b[1m1s\u001b[0m 16ms/step - accuracy: 0.8000 - loss: 0.3380 - val_accuracy: 0.3454 - val_loss: 9.0691 - learning_rate: 2.5000e-04\n",
      "Epoch 10/50\n",
      "\u001b[1m47/47\u001b[0m \u001b[32m━━━━━━━━━━━━━━━━━━━━\u001b[0m\u001b[37m\u001b[0m \u001b[1m1s\u001b[0m 17ms/step - accuracy: 0.7998 - loss: 0.3325 - val_accuracy: 0.2861 - val_loss: 9.8864 - learning_rate: 2.5000e-04\n",
      "Epoch 11/50\n",
      "\u001b[1m47/47\u001b[0m \u001b[32m━━━━━━━━━━━━━━━━━━━━\u001b[0m\u001b[37m\u001b[0m \u001b[1m1s\u001b[0m 16ms/step - accuracy: 0.8084 - loss: 0.3171 - val_accuracy: 0.3325 - val_loss: 9.7360 - learning_rate: 1.2500e-04\n"
     ]
    },
    {
     "name": "stderr",
     "output_type": "stream",
     "text": [
      "[I 2024-05-23 22:57:07,786] Trial 71 finished with value: 0.42783504724502563 and parameters: {'learning_rate': 1.5047115131871066e-05, 'dropout_rate': 0.0733449974962917, 'num_filters': 108, 'num_layers': 2}. Best is trial 62 with value: 0.5824742317199707.\n"
     ]
    },
    {
     "name": "stdout",
     "output_type": "stream",
     "text": [
      "Epoch 1/50\n",
      "\u001b[1m47/47\u001b[0m \u001b[32m━━━━━━━━━━━━━━━━━━━━\u001b[0m\u001b[37m\u001b[0m \u001b[1m4s\u001b[0m 19ms/step - accuracy: 0.6049 - loss: 0.6584 - val_accuracy: 0.3170 - val_loss: 1.0440 - learning_rate: 0.0010\n",
      "Epoch 2/50\n",
      "\u001b[1m47/47\u001b[0m \u001b[32m━━━━━━━━━━━━━━━━━━━━\u001b[0m\u001b[37m\u001b[0m \u001b[1m1s\u001b[0m 12ms/step - accuracy: 0.7152 - loss: 0.5448 - val_accuracy: 0.4098 - val_loss: 1.6339 - learning_rate: 0.0010\n",
      "Epoch 3/50\n",
      "\u001b[1m47/47\u001b[0m \u001b[32m━━━━━━━━━━━━━━━━━━━━\u001b[0m\u001b[37m\u001b[0m \u001b[1m1s\u001b[0m 11ms/step - accuracy: 0.7197 - loss: 0.5466 - val_accuracy: 0.2062 - val_loss: 2.2042 - learning_rate: 0.0010\n",
      "Epoch 4/50\n",
      "\u001b[1m47/47\u001b[0m \u001b[32m━━━━━━━━━━━━━━━━━━━━\u001b[0m\u001b[37m\u001b[0m \u001b[1m1s\u001b[0m 13ms/step - accuracy: 0.6932 - loss: 0.5019 - val_accuracy: 0.4304 - val_loss: 3.1944 - learning_rate: 0.0010\n",
      "Epoch 5/50\n",
      "\u001b[1m47/47\u001b[0m \u001b[32m━━━━━━━━━━━━━━━━━━━━\u001b[0m\u001b[37m\u001b[0m \u001b[1m1s\u001b[0m 11ms/step - accuracy: 0.7358 - loss: 0.4471 - val_accuracy: 0.4124 - val_loss: 4.2776 - learning_rate: 5.0000e-04\n",
      "Epoch 6/50\n",
      "\u001b[1m47/47\u001b[0m \u001b[32m━━━━━━━━━━━━━━━━━━━━\u001b[0m\u001b[37m\u001b[0m \u001b[1m1s\u001b[0m 13ms/step - accuracy: 0.7588 - loss: 0.4365 - val_accuracy: 0.2629 - val_loss: 4.8751 - learning_rate: 5.0000e-04\n",
      "Epoch 7/50\n",
      "\u001b[1m47/47\u001b[0m \u001b[32m━━━━━━━━━━━━━━━━━━━━\u001b[0m\u001b[37m\u001b[0m \u001b[1m1s\u001b[0m 11ms/step - accuracy: 0.7862 - loss: 0.3934 - val_accuracy: 0.3170 - val_loss: 6.6082 - learning_rate: 5.0000e-04\n",
      "Epoch 8/50\n",
      "\u001b[1m47/47\u001b[0m \u001b[32m━━━━━━━━━━━━━━━━━━━━\u001b[0m\u001b[37m\u001b[0m \u001b[1m1s\u001b[0m 12ms/step - accuracy: 0.8036 - loss: 0.3469 - val_accuracy: 0.3015 - val_loss: 6.9412 - learning_rate: 2.5000e-04\n",
      "Epoch 9/50\n",
      "\u001b[1m47/47\u001b[0m \u001b[32m━━━━━━━━━━━━━━━━━━━━\u001b[0m\u001b[37m\u001b[0m \u001b[1m1s\u001b[0m 11ms/step - accuracy: 0.7821 - loss: 0.3325 - val_accuracy: 0.3376 - val_loss: 7.6386 - learning_rate: 2.5000e-04\n",
      "Epoch 10/50\n",
      "\u001b[1m47/47\u001b[0m \u001b[32m━━━━━━━━━━━━━━━━━━━━\u001b[0m\u001b[37m\u001b[0m \u001b[1m1s\u001b[0m 12ms/step - accuracy: 0.8110 - loss: 0.3269 - val_accuracy: 0.3428 - val_loss: 8.4079 - learning_rate: 2.5000e-04\n",
      "Epoch 11/50\n",
      "\u001b[1m47/47\u001b[0m \u001b[32m━━━━━━━━━━━━━━━━━━━━\u001b[0m\u001b[37m\u001b[0m \u001b[1m1s\u001b[0m 12ms/step - accuracy: 0.8153 - loss: 0.3256 - val_accuracy: 0.3531 - val_loss: 8.4122 - learning_rate: 1.2500e-04\n"
     ]
    },
    {
     "name": "stderr",
     "output_type": "stream",
     "text": [
      "[I 2024-05-23 22:57:18,732] Trial 72 finished with value: 0.3170103132724762 and parameters: {'learning_rate': 0.00017570817273721248, 'dropout_rate': 0.22738625859342404, 'num_filters': 81, 'num_layers': 2}. Best is trial 62 with value: 0.5824742317199707.\n"
     ]
    },
    {
     "name": "stdout",
     "output_type": "stream",
     "text": [
      "Epoch 1/50\n",
      "\u001b[1m47/47\u001b[0m \u001b[32m━━━━━━━━━━━━━━━━━━━━\u001b[0m\u001b[37m\u001b[0m \u001b[1m4s\u001b[0m 28ms/step - accuracy: 0.6880 - loss: 0.6176 - val_accuracy: 0.2010 - val_loss: 1.0214 - learning_rate: 0.0010\n",
      "Epoch 2/50\n",
      "\u001b[1m47/47\u001b[0m \u001b[32m━━━━━━━━━━━━━━━━━━━━\u001b[0m\u001b[37m\u001b[0m \u001b[1m1s\u001b[0m 14ms/step - accuracy: 0.7416 - loss: 0.5254 - val_accuracy: 0.4820 - val_loss: 1.3310 - learning_rate: 0.0010\n",
      "Epoch 3/50\n",
      "\u001b[1m47/47\u001b[0m \u001b[32m━━━━━━━━━━━━━━━━━━━━\u001b[0m\u001b[37m\u001b[0m \u001b[1m1s\u001b[0m 14ms/step - accuracy: 0.7694 - loss: 0.5023 - val_accuracy: 0.5052 - val_loss: 1.6883 - learning_rate: 0.0010\n",
      "Epoch 4/50\n",
      "\u001b[1m47/47\u001b[0m \u001b[32m━━━━━━━━━━━━━━━━━━━━\u001b[0m\u001b[37m\u001b[0m \u001b[1m1s\u001b[0m 14ms/step - accuracy: 0.7123 - loss: 0.5132 - val_accuracy: 0.6082 - val_loss: 2.1642 - learning_rate: 0.0010\n",
      "Epoch 5/50\n",
      "\u001b[1m47/47\u001b[0m \u001b[32m━━━━━━━━━━━━━━━━━━━━\u001b[0m\u001b[37m\u001b[0m \u001b[1m1s\u001b[0m 13ms/step - accuracy: 0.7521 - loss: 0.4806 - val_accuracy: 0.3995 - val_loss: 3.2691 - learning_rate: 5.0000e-04\n",
      "Epoch 6/50\n",
      "\u001b[1m47/47\u001b[0m \u001b[32m━━━━━━━━━━━━━━━━━━━━\u001b[0m\u001b[37m\u001b[0m \u001b[1m1s\u001b[0m 13ms/step - accuracy: 0.7915 - loss: 0.4017 - val_accuracy: 0.4639 - val_loss: 3.1533 - learning_rate: 5.0000e-04\n",
      "Epoch 7/50\n",
      "\u001b[1m47/47\u001b[0m \u001b[32m━━━━━━━━━━━━━━━━━━━━\u001b[0m\u001b[37m\u001b[0m \u001b[1m1s\u001b[0m 15ms/step - accuracy: 0.7393 - loss: 0.4260 - val_accuracy: 0.4639 - val_loss: 3.5877 - learning_rate: 5.0000e-04\n",
      "Epoch 8/50\n",
      "\u001b[1m47/47\u001b[0m \u001b[32m━━━━━━━━━━━━━━━━━━━━\u001b[0m\u001b[37m\u001b[0m \u001b[1m1s\u001b[0m 14ms/step - accuracy: 0.7525 - loss: 0.4064 - val_accuracy: 0.4227 - val_loss: 4.4896 - learning_rate: 2.5000e-04\n",
      "Epoch 9/50\n",
      "\u001b[1m47/47\u001b[0m \u001b[32m━━━━━━━━━━━━━━━━━━━━\u001b[0m\u001b[37m\u001b[0m \u001b[1m1s\u001b[0m 14ms/step - accuracy: 0.7668 - loss: 0.3843 - val_accuracy: 0.3763 - val_loss: 4.6108 - learning_rate: 2.5000e-04\n",
      "Epoch 10/50\n",
      "\u001b[1m47/47\u001b[0m \u001b[32m━━━━━━━━━━━━━━━━━━━━\u001b[0m\u001b[37m\u001b[0m \u001b[1m1s\u001b[0m 16ms/step - accuracy: 0.7772 - loss: 0.3554 - val_accuracy: 0.4227 - val_loss: 4.2534 - learning_rate: 2.5000e-04\n",
      "Epoch 11/50\n",
      "\u001b[1m47/47\u001b[0m \u001b[32m━━━━━━━━━━━━━━━━━━━━\u001b[0m\u001b[37m\u001b[0m \u001b[1m1s\u001b[0m 16ms/step - accuracy: 0.7573 - loss: 0.3726 - val_accuracy: 0.4278 - val_loss: 5.1923 - learning_rate: 1.2500e-04\n"
     ]
    },
    {
     "name": "stderr",
     "output_type": "stream",
     "text": [
      "[I 2024-05-23 22:57:30,698] Trial 73 finished with value: 0.2010309249162674 and parameters: {'learning_rate': 2.6244494721677732e-05, 'dropout_rate': 0.104604694130816, 'num_filters': 121, 'num_layers': 2}. Best is trial 62 with value: 0.5824742317199707.\n"
     ]
    },
    {
     "name": "stdout",
     "output_type": "stream",
     "text": [
      "Epoch 1/50\n",
      "\u001b[1m47/47\u001b[0m \u001b[32m━━━━━━━━━━━━━━━━━━━━\u001b[0m\u001b[37m\u001b[0m \u001b[1m4s\u001b[0m 19ms/step - accuracy: 0.6280 - loss: 0.6375 - val_accuracy: 0.2680 - val_loss: 0.9579 - learning_rate: 0.0010\n",
      "Epoch 2/50\n",
      "\u001b[1m47/47\u001b[0m \u001b[32m━━━━━━━━━━━━━━━━━━━━\u001b[0m\u001b[37m\u001b[0m \u001b[1m1s\u001b[0m 13ms/step - accuracy: 0.7389 - loss: 0.5296 - val_accuracy: 0.2216 - val_loss: 1.3555 - learning_rate: 0.0010\n",
      "Epoch 3/50\n",
      "\u001b[1m47/47\u001b[0m \u001b[32m━━━━━━━━━━━━━━━━━━━━\u001b[0m\u001b[37m\u001b[0m \u001b[1m1s\u001b[0m 13ms/step - accuracy: 0.6737 - loss: 0.5227 - val_accuracy: 0.4588 - val_loss: 2.7080 - learning_rate: 0.0010\n",
      "Epoch 4/50\n",
      "\u001b[1m47/47\u001b[0m \u001b[32m━━━━━━━━━━━━━━━━━━━━\u001b[0m\u001b[37m\u001b[0m \u001b[1m1s\u001b[0m 13ms/step - accuracy: 0.7431 - loss: 0.4746 - val_accuracy: 0.4794 - val_loss: 3.9002 - learning_rate: 0.0010\n",
      "Epoch 5/50\n",
      "\u001b[1m47/47\u001b[0m \u001b[32m━━━━━━━━━━━━━━━━━━━━\u001b[0m\u001b[37m\u001b[0m \u001b[1m1s\u001b[0m 13ms/step - accuracy: 0.7443 - loss: 0.4539 - val_accuracy: 0.4948 - val_loss: 4.0671 - learning_rate: 5.0000e-04\n",
      "Epoch 6/50\n",
      "\u001b[1m47/47\u001b[0m \u001b[32m━━━━━━━━━━━━━━━━━━━━\u001b[0m\u001b[37m\u001b[0m \u001b[1m1s\u001b[0m 15ms/step - accuracy: 0.7527 - loss: 0.4529 - val_accuracy: 0.4588 - val_loss: 4.2911 - learning_rate: 5.0000e-04\n",
      "Epoch 7/50\n",
      "\u001b[1m47/47\u001b[0m \u001b[32m━━━━━━━━━━━━━━━━━━━━\u001b[0m\u001b[37m\u001b[0m \u001b[1m1s\u001b[0m 14ms/step - accuracy: 0.7508 - loss: 0.4325 - val_accuracy: 0.3686 - val_loss: 5.6047 - learning_rate: 5.0000e-04\n",
      "Epoch 8/50\n",
      "\u001b[1m47/47\u001b[0m \u001b[32m━━━━━━━━━━━━━━━━━━━━\u001b[0m\u001b[37m\u001b[0m \u001b[1m1s\u001b[0m 14ms/step - accuracy: 0.7675 - loss: 0.3978 - val_accuracy: 0.4588 - val_loss: 5.6335 - learning_rate: 2.5000e-04\n",
      "Epoch 9/50\n",
      "\u001b[1m47/47\u001b[0m \u001b[32m━━━━━━━━━━━━━━━━━━━━\u001b[0m\u001b[37m\u001b[0m \u001b[1m1s\u001b[0m 13ms/step - accuracy: 0.8013 - loss: 0.3491 - val_accuracy: 0.3015 - val_loss: 7.0360 - learning_rate: 2.5000e-04\n",
      "Epoch 10/50\n",
      "\u001b[1m47/47\u001b[0m \u001b[32m━━━━━━━━━━━━━━━━━━━━\u001b[0m\u001b[37m\u001b[0m \u001b[1m1s\u001b[0m 15ms/step - accuracy: 0.8034 - loss: 0.3534 - val_accuracy: 0.3582 - val_loss: 6.8289 - learning_rate: 2.5000e-04\n",
      "Epoch 11/50\n",
      "\u001b[1m47/47\u001b[0m \u001b[32m━━━━━━━━━━━━━━━━━━━━\u001b[0m\u001b[37m\u001b[0m \u001b[1m1s\u001b[0m 14ms/step - accuracy: 0.8276 - loss: 0.3257 - val_accuracy: 0.3995 - val_loss: 7.1450 - learning_rate: 1.2500e-04\n"
     ]
    },
    {
     "name": "stderr",
     "output_type": "stream",
     "text": [
      "[I 2024-05-23 22:57:42,126] Trial 74 finished with value: 0.2680412232875824 and parameters: {'learning_rate': 4.6712542030016976e-05, 'dropout_rate': 0.2501820574590341, 'num_filters': 112, 'num_layers': 2}. Best is trial 62 with value: 0.5824742317199707.\n"
     ]
    },
    {
     "name": "stdout",
     "output_type": "stream",
     "text": [
      "Epoch 1/50\n",
      "\u001b[1m47/47\u001b[0m \u001b[32m━━━━━━━━━━━━━━━━━━━━\u001b[0m\u001b[37m\u001b[0m \u001b[1m4s\u001b[0m 21ms/step - accuracy: 0.6449 - loss: 0.6339 - val_accuracy: 0.3144 - val_loss: 0.9467 - learning_rate: 0.0010\n",
      "Epoch 2/50\n",
      "\u001b[1m47/47\u001b[0m \u001b[32m━━━━━━━━━━━━━━━━━━━━\u001b[0m\u001b[37m\u001b[0m \u001b[1m1s\u001b[0m 14ms/step - accuracy: 0.7163 - loss: 0.5287 - val_accuracy: 0.2242 - val_loss: 1.4247 - learning_rate: 0.0010\n",
      "Epoch 3/50\n",
      "\u001b[1m47/47\u001b[0m \u001b[32m━━━━━━━━━━━━━━━━━━━━\u001b[0m\u001b[37m\u001b[0m \u001b[1m1s\u001b[0m 15ms/step - accuracy: 0.7191 - loss: 0.5078 - val_accuracy: 0.5412 - val_loss: 1.3698 - learning_rate: 0.0010\n",
      "Epoch 4/50\n",
      "\u001b[1m47/47\u001b[0m \u001b[32m━━━━━━━━━━━━━━━━━━━━\u001b[0m\u001b[37m\u001b[0m \u001b[1m1s\u001b[0m 14ms/step - accuracy: 0.7191 - loss: 0.4616 - val_accuracy: 0.1727 - val_loss: 2.6118 - learning_rate: 0.0010\n",
      "Epoch 5/50\n",
      "\u001b[1m47/47\u001b[0m \u001b[32m━━━━━━━━━━━━━━━━━━━━\u001b[0m\u001b[37m\u001b[0m \u001b[1m1s\u001b[0m 15ms/step - accuracy: 0.7144 - loss: 0.4617 - val_accuracy: 0.5258 - val_loss: 3.0114 - learning_rate: 5.0000e-04\n",
      "Epoch 6/50\n",
      "\u001b[1m47/47\u001b[0m \u001b[32m━━━━━━━━━━━━━━━━━━━━\u001b[0m\u001b[37m\u001b[0m \u001b[1m1s\u001b[0m 16ms/step - accuracy: 0.7529 - loss: 0.4242 - val_accuracy: 0.6160 - val_loss: 3.2180 - learning_rate: 5.0000e-04\n",
      "Epoch 7/50\n",
      "\u001b[1m47/47\u001b[0m \u001b[32m━━━━━━━━━━━━━━━━━━━━\u001b[0m\u001b[37m\u001b[0m \u001b[1m1s\u001b[0m 15ms/step - accuracy: 0.7967 - loss: 0.3724 - val_accuracy: 0.3711 - val_loss: 4.1314 - learning_rate: 5.0000e-04\n",
      "Epoch 8/50\n",
      "\u001b[1m47/47\u001b[0m \u001b[32m━━━━━━━━━━━━━━━━━━━━\u001b[0m\u001b[37m\u001b[0m \u001b[1m1s\u001b[0m 14ms/step - accuracy: 0.8094 - loss: 0.3379 - val_accuracy: 0.3840 - val_loss: 4.5892 - learning_rate: 2.5000e-04\n",
      "Epoch 9/50\n",
      "\u001b[1m47/47\u001b[0m \u001b[32m━━━━━━━━━━━━━━━━━━━━\u001b[0m\u001b[37m\u001b[0m \u001b[1m1s\u001b[0m 14ms/step - accuracy: 0.8071 - loss: 0.3266 - val_accuracy: 0.3531 - val_loss: 5.0345 - learning_rate: 2.5000e-04\n",
      "Epoch 10/50\n",
      "\u001b[1m47/47\u001b[0m \u001b[32m━━━━━━━━━━━━━━━━━━━━\u001b[0m\u001b[37m\u001b[0m \u001b[1m1s\u001b[0m 15ms/step - accuracy: 0.8166 - loss: 0.3199 - val_accuracy: 0.3737 - val_loss: 5.4250 - learning_rate: 2.5000e-04\n",
      "Epoch 11/50\n",
      "\u001b[1m47/47\u001b[0m \u001b[32m━━━━━━━━━━━━━━━━━━━━\u001b[0m\u001b[37m\u001b[0m \u001b[1m1s\u001b[0m 14ms/step - accuracy: 0.8186 - loss: 0.3024 - val_accuracy: 0.3995 - val_loss: 5.3590 - learning_rate: 1.2500e-04\n"
     ]
    },
    {
     "name": "stderr",
     "output_type": "stream",
     "text": [
      "[I 2024-05-23 22:57:54,886] Trial 75 finished with value: 0.3144329786300659 and parameters: {'learning_rate': 0.0010758889061306272, 'dropout_rate': 0.1382217894433824, 'num_filters': 128, 'num_layers': 2}. Best is trial 62 with value: 0.5824742317199707.\n"
     ]
    },
    {
     "name": "stdout",
     "output_type": "stream",
     "text": [
      "Epoch 1/50\n",
      "\u001b[1m47/47\u001b[0m \u001b[32m━━━━━━━━━━━━━━━━━━━━\u001b[0m\u001b[37m\u001b[0m \u001b[1m4s\u001b[0m 16ms/step - accuracy: 0.5632 - loss: 0.6394 - val_accuracy: 0.4485 - val_loss: 1.0013 - learning_rate: 0.0010\n",
      "Epoch 2/50\n",
      "\u001b[1m47/47\u001b[0m \u001b[32m━━━━━━━━━━━━━━━━━━━━\u001b[0m\u001b[37m\u001b[0m \u001b[1m0s\u001b[0m 9ms/step - accuracy: 0.7430 - loss: 0.5460 - val_accuracy: 0.4794 - val_loss: 1.1773 - learning_rate: 0.0010\n",
      "Epoch 3/50\n",
      "\u001b[1m47/47\u001b[0m \u001b[32m━━━━━━━━━━━━━━━━━━━━\u001b[0m\u001b[37m\u001b[0m \u001b[1m0s\u001b[0m 9ms/step - accuracy: 0.7895 - loss: 0.4848 - val_accuracy: 0.4278 - val_loss: 2.3015 - learning_rate: 0.0010\n",
      "Epoch 4/50\n",
      "\u001b[1m47/47\u001b[0m \u001b[32m━━━━━━━━━━━━━━━━━━━━\u001b[0m\u001b[37m\u001b[0m \u001b[1m0s\u001b[0m 9ms/step - accuracy: 0.7639 - loss: 0.4655 - val_accuracy: 0.3995 - val_loss: 3.2983 - learning_rate: 0.0010\n",
      "Epoch 5/50\n",
      "\u001b[1m47/47\u001b[0m \u001b[32m━━━━━━━━━━━━━━━━━━━━\u001b[0m\u001b[37m\u001b[0m \u001b[1m0s\u001b[0m 7ms/step - accuracy: 0.8170 - loss: 0.4071 - val_accuracy: 0.3686 - val_loss: 3.5226 - learning_rate: 5.0000e-04\n",
      "Epoch 6/50\n",
      "\u001b[1m47/47\u001b[0m \u001b[32m━━━━━━━━━━━━━━━━━━━━\u001b[0m\u001b[37m\u001b[0m \u001b[1m1s\u001b[0m 12ms/step - accuracy: 0.8062 - loss: 0.3787 - val_accuracy: 0.3479 - val_loss: 4.0809 - learning_rate: 5.0000e-04\n",
      "Epoch 7/50\n",
      "\u001b[1m47/47\u001b[0m \u001b[32m━━━━━━━━━━━━━━━━━━━━\u001b[0m\u001b[37m\u001b[0m \u001b[1m0s\u001b[0m 9ms/step - accuracy: 0.8141 - loss: 0.3412 - val_accuracy: 0.4330 - val_loss: 4.1808 - learning_rate: 5.0000e-04\n",
      "Epoch 8/50\n",
      "\u001b[1m47/47\u001b[0m \u001b[32m━━━━━━━━━━━━━━━━━━━━\u001b[0m\u001b[37m\u001b[0m \u001b[1m1s\u001b[0m 11ms/step - accuracy: 0.8108 - loss: 0.3432 - val_accuracy: 0.3196 - val_loss: 5.1809 - learning_rate: 2.5000e-04\n",
      "Epoch 9/50\n",
      "\u001b[1m47/47\u001b[0m \u001b[32m━━━━━━━━━━━━━━━━━━━━\u001b[0m\u001b[37m\u001b[0m \u001b[1m1s\u001b[0m 9ms/step - accuracy: 0.8210 - loss: 0.3218 - val_accuracy: 0.3376 - val_loss: 5.2696 - learning_rate: 2.5000e-04\n",
      "Epoch 10/50\n",
      "\u001b[1m47/47\u001b[0m \u001b[32m━━━━━━━━━━━━━━━━━━━━\u001b[0m\u001b[37m\u001b[0m \u001b[1m1s\u001b[0m 11ms/step - accuracy: 0.8158 - loss: 0.3106 - val_accuracy: 0.3711 - val_loss: 5.0532 - learning_rate: 2.5000e-04\n",
      "Epoch 11/50\n",
      "\u001b[1m47/47\u001b[0m \u001b[32m━━━━━━━━━━━━━━━━━━━━\u001b[0m\u001b[37m\u001b[0m \u001b[1m0s\u001b[0m 9ms/step - accuracy: 0.8281 - loss: 0.2989 - val_accuracy: 0.3222 - val_loss: 5.6842 - learning_rate: 1.2500e-04\n"
     ]
    },
    {
     "name": "stderr",
     "output_type": "stream",
     "text": [
      "[I 2024-05-23 22:58:04,027] Trial 76 finished with value: 0.4484536051750183 and parameters: {'learning_rate': 0.0029774304206488106, 'dropout_rate': 0.04277641089508683, 'num_filters': 35, 'num_layers': 2}. Best is trial 62 with value: 0.5824742317199707.\n"
     ]
    },
    {
     "name": "stdout",
     "output_type": "stream",
     "text": [
      "Epoch 1/50\n",
      "\u001b[1m47/47\u001b[0m \u001b[32m━━━━━━━━━━━━━━━━━━━━\u001b[0m\u001b[37m\u001b[0m \u001b[1m4s\u001b[0m 19ms/step - accuracy: 0.5790 - loss: 0.6675 - val_accuracy: 0.2371 - val_loss: 1.0582 - learning_rate: 0.0010\n",
      "Epoch 2/50\n",
      "\u001b[1m47/47\u001b[0m \u001b[32m━━━━━━━━━━━━━━━━━━━━\u001b[0m\u001b[37m\u001b[0m \u001b[1m1s\u001b[0m 11ms/step - accuracy: 0.7170 - loss: 0.5626 - val_accuracy: 0.2552 - val_loss: 1.2309 - learning_rate: 0.0010\n",
      "Epoch 3/50\n",
      "\u001b[1m47/47\u001b[0m \u001b[32m━━━━━━━━━━━━━━━━━━━━\u001b[0m\u001b[37m\u001b[0m \u001b[1m1s\u001b[0m 12ms/step - accuracy: 0.6838 - loss: 0.5275 - val_accuracy: 0.2423 - val_loss: 1.6132 - learning_rate: 0.0010\n",
      "Epoch 4/50\n",
      "\u001b[1m47/47\u001b[0m \u001b[32m━━━━━━━━━━━━━━━━━━━━\u001b[0m\u001b[37m\u001b[0m \u001b[1m1s\u001b[0m 12ms/step - accuracy: 0.7135 - loss: 0.5145 - val_accuracy: 0.2990 - val_loss: 2.3583 - learning_rate: 0.0010\n",
      "Epoch 5/50\n",
      "\u001b[1m47/47\u001b[0m \u001b[32m━━━━━━━━━━━━━━━━━━━━\u001b[0m\u001b[37m\u001b[0m \u001b[1m1s\u001b[0m 12ms/step - accuracy: 0.7140 - loss: 0.4680 - val_accuracy: 0.3660 - val_loss: 2.4689 - learning_rate: 5.0000e-04\n",
      "Epoch 6/50\n",
      "\u001b[1m47/47\u001b[0m \u001b[32m━━━━━━━━━━━━━━━━━━━━\u001b[0m\u001b[37m\u001b[0m \u001b[1m1s\u001b[0m 12ms/step - accuracy: 0.7351 - loss: 0.4382 - val_accuracy: 0.2912 - val_loss: 2.7243 - learning_rate: 5.0000e-04\n",
      "Epoch 7/50\n",
      "\u001b[1m47/47\u001b[0m \u001b[32m━━━━━━━━━━━━━━━━━━━━\u001b[0m\u001b[37m\u001b[0m \u001b[1m1s\u001b[0m 11ms/step - accuracy: 0.7254 - loss: 0.4456 - val_accuracy: 0.3995 - val_loss: 2.7341 - learning_rate: 5.0000e-04\n",
      "Epoch 8/50\n",
      "\u001b[1m47/47\u001b[0m \u001b[32m━━━━━━━━━━━━━━━━━━━━\u001b[0m\u001b[37m\u001b[0m \u001b[1m1s\u001b[0m 13ms/step - accuracy: 0.7474 - loss: 0.4250 - val_accuracy: 0.4716 - val_loss: 3.0233 - learning_rate: 2.5000e-04\n",
      "Epoch 9/50\n",
      "\u001b[1m47/47\u001b[0m \u001b[32m━━━━━━━━━━━━━━━━━━━━\u001b[0m\u001b[37m\u001b[0m \u001b[1m1s\u001b[0m 13ms/step - accuracy: 0.7822 - loss: 0.3830 - val_accuracy: 0.5155 - val_loss: 3.0005 - learning_rate: 2.5000e-04\n",
      "Epoch 10/50\n",
      "\u001b[1m47/47\u001b[0m \u001b[32m━━━━━━━━━━━━━━━━━━━━\u001b[0m\u001b[37m\u001b[0m \u001b[1m1s\u001b[0m 11ms/step - accuracy: 0.8052 - loss: 0.3824 - val_accuracy: 0.4691 - val_loss: 3.6038 - learning_rate: 2.5000e-04\n",
      "Epoch 11/50\n",
      "\u001b[1m47/47\u001b[0m \u001b[32m━━━━━━━━━━━━━━━━━━━━\u001b[0m\u001b[37m\u001b[0m \u001b[1m1s\u001b[0m 14ms/step - accuracy: 0.8120 - loss: 0.3380 - val_accuracy: 0.3789 - val_loss: 3.7382 - learning_rate: 1.2500e-04\n"
     ]
    },
    {
     "name": "stderr",
     "output_type": "stream",
     "text": [
      "[I 2024-05-23 22:58:14,207] Trial 77 finished with value: 0.23711340129375458 and parameters: {'learning_rate': 0.007799779202037612, 'dropout_rate': 0.297028679574375, 'num_filters': 91, 'num_layers': 2}. Best is trial 62 with value: 0.5824742317199707.\n"
     ]
    },
    {
     "name": "stdout",
     "output_type": "stream",
     "text": [
      "Epoch 1/50\n",
      "\u001b[1m47/47\u001b[0m \u001b[32m━━━━━━━━━━━━━━━━━━━━\u001b[0m\u001b[37m\u001b[0m \u001b[1m3s\u001b[0m 15ms/step - accuracy: 0.6057 - loss: 0.6663 - val_accuracy: 0.2577 - val_loss: 1.1504 - learning_rate: 0.0010\n",
      "Epoch 2/50\n",
      "\u001b[1m47/47\u001b[0m \u001b[32m━━━━━━━━━━━━━━━━━━━━\u001b[0m\u001b[37m\u001b[0m \u001b[1m0s\u001b[0m 8ms/step - accuracy: 0.6779 - loss: 0.5988 - val_accuracy: 0.2577 - val_loss: 1.1504 - learning_rate: 0.0010\n",
      "Epoch 3/50\n",
      "\u001b[1m47/47\u001b[0m \u001b[32m━━━━━━━━━━━━━━━━━━━━\u001b[0m\u001b[37m\u001b[0m \u001b[1m0s\u001b[0m 7ms/step - accuracy: 0.7232 - loss: 0.5216 - val_accuracy: 0.1469 - val_loss: 1.5961 - learning_rate: 0.0010\n",
      "Epoch 4/50\n",
      "\u001b[1m47/47\u001b[0m \u001b[32m━━━━━━━━━━━━━━━━━━━━\u001b[0m\u001b[37m\u001b[0m \u001b[1m0s\u001b[0m 9ms/step - accuracy: 0.7040 - loss: 0.4959 - val_accuracy: 0.5206 - val_loss: 1.7618 - learning_rate: 0.0010\n",
      "Epoch 5/50\n",
      "\u001b[1m47/47\u001b[0m \u001b[32m━━━━━━━━━━━━━━━━━━━━\u001b[0m\u001b[37m\u001b[0m \u001b[1m0s\u001b[0m 8ms/step - accuracy: 0.7585 - loss: 0.4742 - val_accuracy: 0.5077 - val_loss: 2.1332 - learning_rate: 5.0000e-04\n",
      "Epoch 6/50\n",
      "\u001b[1m47/47\u001b[0m \u001b[32m━━━━━━━━━━━━━━━━━━━━\u001b[0m\u001b[37m\u001b[0m \u001b[1m0s\u001b[0m 9ms/step - accuracy: 0.7678 - loss: 0.4404 - val_accuracy: 0.3067 - val_loss: 2.4705 - learning_rate: 5.0000e-04\n",
      "Epoch 7/50\n",
      "\u001b[1m47/47\u001b[0m \u001b[32m━━━━━━━━━━━━━━━━━━━━\u001b[0m\u001b[37m\u001b[0m \u001b[1m0s\u001b[0m 9ms/step - accuracy: 0.7629 - loss: 0.4447 - val_accuracy: 0.4485 - val_loss: 2.6314 - learning_rate: 5.0000e-04\n",
      "Epoch 8/50\n",
      "\u001b[1m47/47\u001b[0m \u001b[32m━━━━━━━━━━━━━━━━━━━━\u001b[0m\u001b[37m\u001b[0m \u001b[1m0s\u001b[0m 7ms/step - accuracy: 0.7813 - loss: 0.4144 - val_accuracy: 0.3402 - val_loss: 3.1173 - learning_rate: 2.5000e-04\n",
      "Epoch 9/50\n",
      "\u001b[1m47/47\u001b[0m \u001b[32m━━━━━━━━━━━━━━━━━━━━\u001b[0m\u001b[37m\u001b[0m \u001b[1m0s\u001b[0m 9ms/step - accuracy: 0.7691 - loss: 0.4125 - val_accuracy: 0.3325 - val_loss: 3.2833 - learning_rate: 2.5000e-04\n",
      "Epoch 10/50\n",
      "\u001b[1m47/47\u001b[0m \u001b[32m━━━━━━━━━━━━━━━━━━━━\u001b[0m\u001b[37m\u001b[0m \u001b[1m0s\u001b[0m 10ms/step - accuracy: 0.7461 - loss: 0.3994 - val_accuracy: 0.3325 - val_loss: 3.5049 - learning_rate: 2.5000e-04\n",
      "Epoch 11/50\n",
      "\u001b[1m47/47\u001b[0m \u001b[32m━━━━━━━━━━━━━━━━━━━━\u001b[0m\u001b[37m\u001b[0m \u001b[1m0s\u001b[0m 9ms/step - accuracy: 0.8028 - loss: 0.3762 - val_accuracy: 0.3582 - val_loss: 3.6542 - learning_rate: 1.2500e-04\n",
      "Epoch 12/50\n",
      "\u001b[1m47/47\u001b[0m \u001b[32m━━━━━━━━━━━━━━━━━━━━\u001b[0m\u001b[37m\u001b[0m \u001b[1m1s\u001b[0m 10ms/step - accuracy: 0.7923 - loss: 0.3807 - val_accuracy: 0.3376 - val_loss: 3.8550 - learning_rate: 1.2500e-04\n"
     ]
    },
    {
     "name": "stderr",
     "output_type": "stream",
     "text": [
      "[I 2024-05-23 22:58:23,174] Trial 78 finished with value: 0.25773194432258606 and parameters: {'learning_rate': 0.0014920220122472477, 'dropout_rate': 0.2589470344906681, 'num_filters': 24, 'num_layers': 2}. Best is trial 62 with value: 0.5824742317199707.\n"
     ]
    },
    {
     "name": "stdout",
     "output_type": "stream",
     "text": [
      "Epoch 1/50\n",
      "\u001b[1m47/47\u001b[0m \u001b[32m━━━━━━━━━━━━━━━━━━━━\u001b[0m\u001b[37m\u001b[0m \u001b[1m4s\u001b[0m 19ms/step - accuracy: 0.6067 - loss: 0.6461 - val_accuracy: 0.2268 - val_loss: 0.9663 - learning_rate: 0.0010\n",
      "Epoch 2/50\n",
      "\u001b[1m47/47\u001b[0m \u001b[32m━━━━━━━━━━━━━━━━━━━━\u001b[0m\u001b[37m\u001b[0m \u001b[1m1s\u001b[0m 12ms/step - accuracy: 0.7443 - loss: 0.5456 - val_accuracy: 0.1495 - val_loss: 2.4299 - learning_rate: 0.0010\n",
      "Epoch 3/50\n",
      "\u001b[1m47/47\u001b[0m \u001b[32m━━━━━━━━━━━━━━━━━━━━\u001b[0m\u001b[37m\u001b[0m \u001b[1m1s\u001b[0m 13ms/step - accuracy: 0.7069 - loss: 0.5183 - val_accuracy: 0.1830 - val_loss: 2.7875 - learning_rate: 0.0010\n",
      "Epoch 4/50\n",
      "\u001b[1m47/47\u001b[0m \u001b[32m━━━━━━━━━━━━━━━━━━━━\u001b[0m\u001b[37m\u001b[0m \u001b[1m1s\u001b[0m 12ms/step - accuracy: 0.7325 - loss: 0.4839 - val_accuracy: 0.2113 - val_loss: 2.9384 - learning_rate: 0.0010\n",
      "Epoch 5/50\n",
      "\u001b[1m47/47\u001b[0m \u001b[32m━━━━━━━━━━━━━━━━━━━━\u001b[0m\u001b[37m\u001b[0m \u001b[1m1s\u001b[0m 13ms/step - accuracy: 0.7681 - loss: 0.4227 - val_accuracy: 0.4665 - val_loss: 3.7625 - learning_rate: 5.0000e-04\n",
      "Epoch 6/50\n",
      "\u001b[1m47/47\u001b[0m \u001b[32m━━━━━━━━━━━━━━━━━━━━\u001b[0m\u001b[37m\u001b[0m \u001b[1m1s\u001b[0m 11ms/step - accuracy: 0.7875 - loss: 0.3839 - val_accuracy: 0.2887 - val_loss: 4.7193 - learning_rate: 5.0000e-04\n",
      "Epoch 7/50\n",
      "\u001b[1m47/47\u001b[0m \u001b[32m━━━━━━━━━━━━━━━━━━━━\u001b[0m\u001b[37m\u001b[0m \u001b[1m1s\u001b[0m 12ms/step - accuracy: 0.7919 - loss: 0.3490 - val_accuracy: 0.2990 - val_loss: 5.7465 - learning_rate: 5.0000e-04\n",
      "Epoch 8/50\n",
      "\u001b[1m47/47\u001b[0m \u001b[32m━━━━━━━━━━━━━━━━━━━━\u001b[0m\u001b[37m\u001b[0m \u001b[1m1s\u001b[0m 13ms/step - accuracy: 0.8153 - loss: 0.3217 - val_accuracy: 0.3582 - val_loss: 5.7237 - learning_rate: 2.5000e-04\n",
      "Epoch 9/50\n",
      "\u001b[1m47/47\u001b[0m \u001b[32m━━━━━━━━━━━━━━━━━━━━\u001b[0m\u001b[37m\u001b[0m \u001b[1m1s\u001b[0m 11ms/step - accuracy: 0.8606 - loss: 0.2715 - val_accuracy: 0.4381 - val_loss: 5.9183 - learning_rate: 2.5000e-04\n",
      "Epoch 10/50\n",
      "\u001b[1m47/47\u001b[0m \u001b[32m━━━━━━━━━━━━━━━━━━━━\u001b[0m\u001b[37m\u001b[0m \u001b[1m1s\u001b[0m 11ms/step - accuracy: 0.8623 - loss: 0.2838 - val_accuracy: 0.5464 - val_loss: 5.6596 - learning_rate: 2.5000e-04\n",
      "Epoch 11/50\n",
      "\u001b[1m47/47\u001b[0m \u001b[32m━━━━━━━━━━━━━━━━━━━━\u001b[0m\u001b[37m\u001b[0m \u001b[1m1s\u001b[0m 12ms/step - accuracy: 0.8747 - loss: 0.2603 - val_accuracy: 0.4820 - val_loss: 5.8102 - learning_rate: 1.2500e-04\n"
     ]
    },
    {
     "name": "stderr",
     "output_type": "stream",
     "text": [
      "[I 2024-05-23 22:58:33,656] Trial 79 finished with value: 0.22680412232875824 and parameters: {'learning_rate': 0.01590324608622971, 'dropout_rate': 0.06827549411582366, 'num_filters': 98, 'num_layers': 2}. Best is trial 62 with value: 0.5824742317199707.\n"
     ]
    },
    {
     "name": "stdout",
     "output_type": "stream",
     "text": [
      "Epoch 1/50\n",
      "\u001b[1m47/47\u001b[0m \u001b[32m━━━━━━━━━━━━━━━━━━━━\u001b[0m\u001b[37m\u001b[0m \u001b[1m4s\u001b[0m 19ms/step - accuracy: 0.6580 - loss: 0.6524 - val_accuracy: 0.1701 - val_loss: 1.3438 - learning_rate: 0.0010\n",
      "Epoch 2/50\n",
      "\u001b[1m47/47\u001b[0m \u001b[32m━━━━━━━━━━━━━━━━━━━━\u001b[0m\u001b[37m\u001b[0m \u001b[1m1s\u001b[0m 12ms/step - accuracy: 0.7047 - loss: 0.5518 - val_accuracy: 0.1572 - val_loss: 2.1295 - learning_rate: 0.0010\n",
      "Epoch 3/50\n",
      "\u001b[1m47/47\u001b[0m \u001b[32m━━━━━━━━━━━━━━━━━━━━\u001b[0m\u001b[37m\u001b[0m \u001b[1m1s\u001b[0m 12ms/step - accuracy: 0.7048 - loss: 0.5147 - val_accuracy: 0.2268 - val_loss: 2.5391 - learning_rate: 0.0010\n",
      "Epoch 4/50\n",
      "\u001b[1m47/47\u001b[0m \u001b[32m━━━━━━━━━━━━━━━━━━━━\u001b[0m\u001b[37m\u001b[0m \u001b[1m1s\u001b[0m 14ms/step - accuracy: 0.6966 - loss: 0.5034 - val_accuracy: 0.4897 - val_loss: 2.5919 - learning_rate: 0.0010\n",
      "Epoch 5/50\n",
      "\u001b[1m47/47\u001b[0m \u001b[32m━━━━━━━━━━━━━━━━━━━━\u001b[0m\u001b[37m\u001b[0m \u001b[1m1s\u001b[0m 12ms/step - accuracy: 0.7437 - loss: 0.4544 - val_accuracy: 0.3041 - val_loss: 3.6791 - learning_rate: 5.0000e-04\n",
      "Epoch 6/50\n",
      "\u001b[1m47/47\u001b[0m \u001b[32m━━━━━━━━━━━━━━━━━━━━\u001b[0m\u001b[37m\u001b[0m \u001b[1m1s\u001b[0m 14ms/step - accuracy: 0.7488 - loss: 0.4199 - val_accuracy: 0.1701 - val_loss: 4.1593 - learning_rate: 5.0000e-04\n",
      "Epoch 7/50\n",
      "\u001b[1m47/47\u001b[0m \u001b[32m━━━━━━━━━━━━━━━━━━━━\u001b[0m\u001b[37m\u001b[0m \u001b[1m1s\u001b[0m 13ms/step - accuracy: 0.7506 - loss: 0.3856 - val_accuracy: 0.3325 - val_loss: 5.1325 - learning_rate: 5.0000e-04\n",
      "Epoch 8/50\n",
      "\u001b[1m47/47\u001b[0m \u001b[32m━━━━━━━━━━━━━━━━━━━━\u001b[0m\u001b[37m\u001b[0m \u001b[1m1s\u001b[0m 13ms/step - accuracy: 0.7539 - loss: 0.3964 - val_accuracy: 0.3247 - val_loss: 5.4972 - learning_rate: 2.5000e-04\n",
      "Epoch 9/50\n",
      "\u001b[1m47/47\u001b[0m \u001b[32m━━━━━━━━━━━━━━━━━━━━\u001b[0m\u001b[37m\u001b[0m \u001b[1m1s\u001b[0m 12ms/step - accuracy: 0.7743 - loss: 0.3637 - val_accuracy: 0.2784 - val_loss: 5.9970 - learning_rate: 2.5000e-04\n",
      "Epoch 10/50\n",
      "\u001b[1m47/47\u001b[0m \u001b[32m━━━━━━━━━━━━━━━━━━━━\u001b[0m\u001b[37m\u001b[0m \u001b[1m1s\u001b[0m 12ms/step - accuracy: 0.7951 - loss: 0.3550 - val_accuracy: 0.3582 - val_loss: 6.2349 - learning_rate: 2.5000e-04\n",
      "Epoch 11/50\n",
      "\u001b[1m47/47\u001b[0m \u001b[32m━━━━━━━━━━━━━━━━━━━━\u001b[0m\u001b[37m\u001b[0m \u001b[1m1s\u001b[0m 12ms/step - accuracy: 0.8059 - loss: 0.3436 - val_accuracy: 0.2809 - val_loss: 6.9651 - learning_rate: 1.2500e-04\n"
     ]
    },
    {
     "name": "stderr",
     "output_type": "stream",
     "text": [
      "[I 2024-05-23 22:58:44,242] Trial 80 finished with value: 0.17010308802127838 and parameters: {'learning_rate': 0.0007115203023702886, 'dropout_rate': 0.3552290368336161, 'num_filters': 103, 'num_layers': 2}. Best is trial 62 with value: 0.5824742317199707.\n"
     ]
    },
    {
     "name": "stdout",
     "output_type": "stream",
     "text": [
      "Epoch 1/50\n",
      "\u001b[1m47/47\u001b[0m \u001b[32m━━━━━━━━━━━━━━━━━━━━\u001b[0m\u001b[37m\u001b[0m \u001b[1m3s\u001b[0m 16ms/step - accuracy: 0.5996 - loss: 0.6336 - val_accuracy: 0.4381 - val_loss: 0.8993 - learning_rate: 0.0010\n",
      "Epoch 2/50\n",
      "\u001b[1m47/47\u001b[0m \u001b[32m━━━━━━━━━━━━━━━━━━━━\u001b[0m\u001b[37m\u001b[0m \u001b[1m0s\u001b[0m 9ms/step - accuracy: 0.7392 - loss: 0.5342 - val_accuracy: 0.1856 - val_loss: 1.2809 - learning_rate: 0.0010\n",
      "Epoch 3/50\n",
      "\u001b[1m47/47\u001b[0m \u001b[32m━━━━━━━━━━━━━━━━━━━━\u001b[0m\u001b[37m\u001b[0m \u001b[1m0s\u001b[0m 8ms/step - accuracy: 0.7089 - loss: 0.4944 - val_accuracy: 0.3582 - val_loss: 1.7347 - learning_rate: 0.0010\n",
      "Epoch 4/50\n",
      "\u001b[1m47/47\u001b[0m \u001b[32m━━━━━━━━━━━━━━━━━━━━\u001b[0m\u001b[37m\u001b[0m \u001b[1m0s\u001b[0m 8ms/step - accuracy: 0.7023 - loss: 0.4510 - val_accuracy: 0.4098 - val_loss: 2.3586 - learning_rate: 0.0010\n",
      "Epoch 5/50\n",
      "\u001b[1m47/47\u001b[0m \u001b[32m━━━━━━━━━━━━━━━━━━━━\u001b[0m\u001b[37m\u001b[0m \u001b[1m1s\u001b[0m 10ms/step - accuracy: 0.6904 - loss: 0.4585 - val_accuracy: 0.3840 - val_loss: 2.9387 - learning_rate: 5.0000e-04\n",
      "Epoch 6/50\n",
      "\u001b[1m47/47\u001b[0m \u001b[32m━━━━━━━━━━━━━━━━━━━━\u001b[0m\u001b[37m\u001b[0m \u001b[1m1s\u001b[0m 11ms/step - accuracy: 0.7470 - loss: 0.4134 - val_accuracy: 0.4613 - val_loss: 3.1064 - learning_rate: 5.0000e-04\n",
      "Epoch 7/50\n",
      "\u001b[1m47/47\u001b[0m \u001b[32m━━━━━━━━━━━━━━━━━━━━\u001b[0m\u001b[37m\u001b[0m \u001b[1m0s\u001b[0m 9ms/step - accuracy: 0.7533 - loss: 0.3972 - val_accuracy: 0.3144 - val_loss: 3.5895 - learning_rate: 5.0000e-04\n",
      "Epoch 8/50\n",
      "\u001b[1m47/47\u001b[0m \u001b[32m━━━━━━━━━━━━━━━━━━━━\u001b[0m\u001b[37m\u001b[0m \u001b[1m0s\u001b[0m 8ms/step - accuracy: 0.7558 - loss: 0.3824 - val_accuracy: 0.3015 - val_loss: 3.8011 - learning_rate: 2.5000e-04\n",
      "Epoch 9/50\n",
      "\u001b[1m47/47\u001b[0m \u001b[32m━━━━━━━━━━━━━━━━━━━━\u001b[0m\u001b[37m\u001b[0m \u001b[1m0s\u001b[0m 9ms/step - accuracy: 0.7659 - loss: 0.3772 - val_accuracy: 0.3454 - val_loss: 4.0917 - learning_rate: 2.5000e-04\n",
      "Epoch 10/50\n",
      "\u001b[1m47/47\u001b[0m \u001b[32m━━━━━━━━━━━━━━━━━━━━\u001b[0m\u001b[37m\u001b[0m \u001b[1m0s\u001b[0m 9ms/step - accuracy: 0.7752 - loss: 0.3757 - val_accuracy: 0.3814 - val_loss: 4.2738 - learning_rate: 2.5000e-04\n",
      "Epoch 11/50\n",
      "\u001b[1m47/47\u001b[0m \u001b[32m━━━━━━━━━━━━━━━━━━━━\u001b[0m\u001b[37m\u001b[0m \u001b[1m0s\u001b[0m 9ms/step - accuracy: 0.8069 - loss: 0.3637 - val_accuracy: 0.3402 - val_loss: 4.3753 - learning_rate: 1.2500e-04\n"
     ]
    },
    {
     "name": "stderr",
     "output_type": "stream",
     "text": [
      "[I 2024-05-23 22:58:52,978] Trial 81 finished with value: 0.438144326210022 and parameters: {'learning_rate': 0.003019222603260327, 'dropout_rate': 0.04590420845112709, 'num_filters': 34, 'num_layers': 2}. Best is trial 62 with value: 0.5824742317199707.\n"
     ]
    },
    {
     "name": "stdout",
     "output_type": "stream",
     "text": [
      "Epoch 1/50\n",
      "\u001b[1m47/47\u001b[0m \u001b[32m━━━━━━━━━━━━━━━━━━━━\u001b[0m\u001b[37m\u001b[0m \u001b[1m4s\u001b[0m 17ms/step - accuracy: 0.6361 - loss: 0.6347 - val_accuracy: 0.2268 - val_loss: 1.0268 - learning_rate: 0.0010\n",
      "Epoch 2/50\n",
      "\u001b[1m47/47\u001b[0m \u001b[32m━━━━━━━━━━━━━━━━━━━━\u001b[0m\u001b[37m\u001b[0m \u001b[1m0s\u001b[0m 8ms/step - accuracy: 0.6923 - loss: 0.5341 - val_accuracy: 0.4510 - val_loss: 1.4230 - learning_rate: 0.0010\n",
      "Epoch 3/50\n",
      "\u001b[1m47/47\u001b[0m \u001b[32m━━━━━━━━━━━━━━━━━━━━\u001b[0m\u001b[37m\u001b[0m \u001b[1m0s\u001b[0m 9ms/step - accuracy: 0.6888 - loss: 0.5047 - val_accuracy: 0.5077 - val_loss: 1.4255 - learning_rate: 0.0010\n",
      "Epoch 4/50\n",
      "\u001b[1m47/47\u001b[0m \u001b[32m━━━━━━━━━━━━━━━━━━━━\u001b[0m\u001b[37m\u001b[0m \u001b[1m0s\u001b[0m 9ms/step - accuracy: 0.7302 - loss: 0.4781 - val_accuracy: 0.1675 - val_loss: 2.3671 - learning_rate: 0.0010\n",
      "Epoch 5/50\n",
      "\u001b[1m47/47\u001b[0m \u001b[32m━━━━━━━━━━━━━━━━━━━━\u001b[0m\u001b[37m\u001b[0m \u001b[1m0s\u001b[0m 9ms/step - accuracy: 0.7534 - loss: 0.4217 - val_accuracy: 0.3918 - val_loss: 2.4404 - learning_rate: 5.0000e-04\n",
      "Epoch 6/50\n",
      "\u001b[1m47/47\u001b[0m \u001b[32m━━━━━━━━━━━━━━━━━━━━\u001b[0m\u001b[37m\u001b[0m \u001b[1m1s\u001b[0m 10ms/step - accuracy: 0.8034 - loss: 0.3865 - val_accuracy: 0.1778 - val_loss: 3.3985 - learning_rate: 5.0000e-04\n",
      "Epoch 7/50\n",
      "\u001b[1m47/47\u001b[0m \u001b[32m━━━━━━━━━━━━━━━━━━━━\u001b[0m\u001b[37m\u001b[0m \u001b[1m0s\u001b[0m 8ms/step - accuracy: 0.8006 - loss: 0.3832 - val_accuracy: 0.3479 - val_loss: 3.4370 - learning_rate: 5.0000e-04\n",
      "Epoch 8/50\n",
      "\u001b[1m47/47\u001b[0m \u001b[32m━━━━━━━━━━━━━━━━━━━━\u001b[0m\u001b[37m\u001b[0m \u001b[1m0s\u001b[0m 8ms/step - accuracy: 0.8783 - loss: 0.3077 - val_accuracy: 0.3196 - val_loss: 3.6456 - learning_rate: 2.5000e-04\n",
      "Epoch 9/50\n",
      "\u001b[1m47/47\u001b[0m \u001b[32m━━━━━━━━━━━━━━━━━━━━\u001b[0m\u001b[37m\u001b[0m \u001b[1m1s\u001b[0m 10ms/step - accuracy: 0.8682 - loss: 0.2837 - val_accuracy: 0.4253 - val_loss: 3.6631 - learning_rate: 2.5000e-04\n",
      "Epoch 10/50\n",
      "\u001b[1m47/47\u001b[0m \u001b[32m━━━━━━━━━━━━━━━━━━━━\u001b[0m\u001b[37m\u001b[0m \u001b[1m0s\u001b[0m 9ms/step - accuracy: 0.8728 - loss: 0.2706 - val_accuracy: 0.3763 - val_loss: 3.9819 - learning_rate: 2.5000e-04\n",
      "Epoch 11/50\n",
      "\u001b[1m47/47\u001b[0m \u001b[32m━━━━━━━━━━━━━━━━━━━━\u001b[0m\u001b[37m\u001b[0m \u001b[1m1s\u001b[0m 11ms/step - accuracy: 0.8773 - loss: 0.2642 - val_accuracy: 0.4485 - val_loss: 3.9877 - learning_rate: 1.2500e-04\n"
     ]
    },
    {
     "name": "stderr",
     "output_type": "stream",
     "text": [
      "[I 2024-05-23 22:59:01,906] Trial 82 finished with value: 0.22680412232875824 and parameters: {'learning_rate': 0.004569134077449516, 'dropout_rate': 0.034379340342509335, 'num_filters': 38, 'num_layers': 2}. Best is trial 62 with value: 0.5824742317199707.\n"
     ]
    },
    {
     "name": "stdout",
     "output_type": "stream",
     "text": [
      "Epoch 1/50\n",
      "\u001b[1m47/47\u001b[0m \u001b[32m━━━━━━━━━━━━━━━━━━━━\u001b[0m\u001b[37m\u001b[0m \u001b[1m4s\u001b[0m 18ms/step - accuracy: 0.6374 - loss: 0.6587 - val_accuracy: 0.2448 - val_loss: 1.4133 - learning_rate: 0.0010\n",
      "Epoch 2/50\n",
      "\u001b[1m47/47\u001b[0m \u001b[32m━━━━━━━━━━━━━━━━━━━━\u001b[0m\u001b[37m\u001b[0m \u001b[1m0s\u001b[0m 7ms/step - accuracy: 0.7148 - loss: 0.5178 - val_accuracy: 0.1521 - val_loss: 1.7011 - learning_rate: 0.0010\n",
      "Epoch 3/50\n",
      "\u001b[1m47/47\u001b[0m \u001b[32m━━━━━━━━━━━━━━━━━━━━\u001b[0m\u001b[37m\u001b[0m \u001b[1m0s\u001b[0m 7ms/step - accuracy: 0.6403 - loss: 0.5039 - val_accuracy: 0.4356 - val_loss: 2.8613 - learning_rate: 0.0010\n",
      "Epoch 4/50\n",
      "\u001b[1m47/47\u001b[0m \u001b[32m━━━━━━━━━━━━━━━━━━━━\u001b[0m\u001b[37m\u001b[0m \u001b[1m0s\u001b[0m 8ms/step - accuracy: 0.7338 - loss: 0.4521 - val_accuracy: 0.4227 - val_loss: 3.7110 - learning_rate: 0.0010\n",
      "Epoch 5/50\n",
      "\u001b[1m47/47\u001b[0m \u001b[32m━━━━━━━━━━━━━━━━━━━━\u001b[0m\u001b[37m\u001b[0m \u001b[1m1s\u001b[0m 10ms/step - accuracy: 0.7389 - loss: 0.4365 - val_accuracy: 0.4948 - val_loss: 3.6121 - learning_rate: 5.0000e-04\n",
      "Epoch 6/50\n",
      "\u001b[1m47/47\u001b[0m \u001b[32m━━━━━━━━━━━━━━━━━━━━\u001b[0m\u001b[37m\u001b[0m \u001b[1m0s\u001b[0m 8ms/step - accuracy: 0.7620 - loss: 0.4235 - val_accuracy: 0.5284 - val_loss: 3.9487 - learning_rate: 5.0000e-04\n",
      "Epoch 7/50\n",
      "\u001b[1m47/47\u001b[0m \u001b[32m━━━━━━━━━━━━━━━━━━━━\u001b[0m\u001b[37m\u001b[0m \u001b[1m0s\u001b[0m 9ms/step - accuracy: 0.7711 - loss: 0.4002 - val_accuracy: 0.4794 - val_loss: 4.4380 - learning_rate: 5.0000e-04\n",
      "Epoch 8/50\n",
      "\u001b[1m47/47\u001b[0m \u001b[32m━━━━━━━━━━━━━━━━━━━━\u001b[0m\u001b[37m\u001b[0m \u001b[1m0s\u001b[0m 8ms/step - accuracy: 0.7762 - loss: 0.3684 - val_accuracy: 0.5103 - val_loss: 4.7242 - learning_rate: 2.5000e-04\n",
      "Epoch 9/50\n",
      "\u001b[1m47/47\u001b[0m \u001b[32m━━━━━━━━━━━━━━━━━━━━\u001b[0m\u001b[37m\u001b[0m \u001b[1m0s\u001b[0m 8ms/step - accuracy: 0.7950 - loss: 0.3612 - val_accuracy: 0.4665 - val_loss: 5.1463 - learning_rate: 2.5000e-04\n",
      "Epoch 10/50\n",
      "\u001b[1m47/47\u001b[0m \u001b[32m━━━━━━━━━━━━━━━━━━━━\u001b[0m\u001b[37m\u001b[0m \u001b[1m0s\u001b[0m 9ms/step - accuracy: 0.8039 - loss: 0.3492 - val_accuracy: 0.3428 - val_loss: 5.3953 - learning_rate: 2.5000e-04\n",
      "Epoch 11/50\n",
      "\u001b[1m47/47\u001b[0m \u001b[32m━━━━━━━━━━━━━━━━━━━━\u001b[0m\u001b[37m\u001b[0m \u001b[1m0s\u001b[0m 8ms/step - accuracy: 0.8211 - loss: 0.3302 - val_accuracy: 0.4253 - val_loss: 5.5370 - learning_rate: 1.2500e-04\n"
     ]
    },
    {
     "name": "stderr",
     "output_type": "stream",
     "text": [
      "[I 2024-05-23 22:59:10,546] Trial 83 finished with value: 0.24484536051750183 and parameters: {'learning_rate': 0.0036789264345882693, 'dropout_rate': 0.049721433600293664, 'num_filters': 30, 'num_layers': 2}. Best is trial 62 with value: 0.5824742317199707.\n"
     ]
    },
    {
     "name": "stdout",
     "output_type": "stream",
     "text": [
      "Epoch 1/50\n",
      "\u001b[1m47/47\u001b[0m \u001b[32m━━━━━━━━━━━━━━━━━━━━\u001b[0m\u001b[37m\u001b[0m \u001b[1m3s\u001b[0m 17ms/step - accuracy: 0.6176 - loss: 0.6549 - val_accuracy: 0.2320 - val_loss: 1.2307 - learning_rate: 0.0010\n",
      "Epoch 2/50\n",
      "\u001b[1m47/47\u001b[0m \u001b[32m━━━━━━━━━━━━━━━━━━━━\u001b[0m\u001b[37m\u001b[0m \u001b[1m0s\u001b[0m 7ms/step - accuracy: 0.7109 - loss: 0.5580 - val_accuracy: 0.3814 - val_loss: 0.9652 - learning_rate: 0.0010\n",
      "Epoch 3/50\n",
      "\u001b[1m47/47\u001b[0m \u001b[32m━━━━━━━━━━━━━━━━━━━━\u001b[0m\u001b[37m\u001b[0m \u001b[1m0s\u001b[0m 8ms/step - accuracy: 0.7333 - loss: 0.5178 - val_accuracy: 0.3789 - val_loss: 1.2246 - learning_rate: 0.0010\n",
      "Epoch 4/50\n",
      "\u001b[1m47/47\u001b[0m \u001b[32m━━━━━━━━━━━━━━━━━━━━\u001b[0m\u001b[37m\u001b[0m \u001b[1m0s\u001b[0m 8ms/step - accuracy: 0.7632 - loss: 0.5047 - val_accuracy: 0.2732 - val_loss: 1.4199 - learning_rate: 0.0010\n",
      "Epoch 5/50\n",
      "\u001b[1m47/47\u001b[0m \u001b[32m━━━━━━━━━━━━━━━━━━━━\u001b[0m\u001b[37m\u001b[0m \u001b[1m0s\u001b[0m 7ms/step - accuracy: 0.7338 - loss: 0.4844 - val_accuracy: 0.4021 - val_loss: 1.4686 - learning_rate: 0.0010\n",
      "Epoch 6/50\n",
      "\u001b[1m47/47\u001b[0m \u001b[32m━━━━━━━━━━━━━━━━━━━━\u001b[0m\u001b[37m\u001b[0m \u001b[1m0s\u001b[0m 9ms/step - accuracy: 0.7435 - loss: 0.4531 - val_accuracy: 0.4459 - val_loss: 1.5634 - learning_rate: 5.0000e-04\n",
      "Epoch 7/50\n",
      "\u001b[1m47/47\u001b[0m \u001b[32m━━━━━━━━━━━━━━━━━━━━\u001b[0m\u001b[37m\u001b[0m \u001b[1m0s\u001b[0m 8ms/step - accuracy: 0.7891 - loss: 0.4221 - val_accuracy: 0.3814 - val_loss: 1.5655 - learning_rate: 5.0000e-04\n",
      "Epoch 8/50\n",
      "\u001b[1m47/47\u001b[0m \u001b[32m━━━━━━━━━━━━━━━━━━━━\u001b[0m\u001b[37m\u001b[0m \u001b[1m0s\u001b[0m 9ms/step - accuracy: 0.7779 - loss: 0.4245 - val_accuracy: 0.3840 - val_loss: 1.7178 - learning_rate: 5.0000e-04\n",
      "Epoch 9/50\n",
      "\u001b[1m47/47\u001b[0m \u001b[32m━━━━━━━━━━━━━━━━━━━━\u001b[0m\u001b[37m\u001b[0m \u001b[1m0s\u001b[0m 7ms/step - accuracy: 0.8007 - loss: 0.3965 - val_accuracy: 0.4253 - val_loss: 1.6406 - learning_rate: 2.5000e-04\n",
      "Epoch 10/50\n",
      "\u001b[1m47/47\u001b[0m \u001b[32m━━━━━━━━━━━━━━━━━━━━\u001b[0m\u001b[37m\u001b[0m \u001b[1m0s\u001b[0m 7ms/step - accuracy: 0.8310 - loss: 0.3604 - val_accuracy: 0.4072 - val_loss: 1.5603 - learning_rate: 2.5000e-04\n",
      "Epoch 11/50\n",
      "\u001b[1m47/47\u001b[0m \u001b[32m━━━━━━━━━━━━━━━━━━━━\u001b[0m\u001b[37m\u001b[0m \u001b[1m1s\u001b[0m 10ms/step - accuracy: 0.8197 - loss: 0.3479 - val_accuracy: 0.4149 - val_loss: 1.6784 - learning_rate: 2.5000e-04\n",
      "Epoch 12/50\n",
      "\u001b[1m47/47\u001b[0m \u001b[32m━━━━━━━━━━━━━━━━━━━━\u001b[0m\u001b[37m\u001b[0m \u001b[1m0s\u001b[0m 8ms/step - accuracy: 0.7960 - loss: 0.3640 - val_accuracy: 0.3840 - val_loss: 1.7882 - learning_rate: 1.2500e-04\n"
     ]
    },
    {
     "name": "stderr",
     "output_type": "stream",
     "text": [
      "[I 2024-05-23 22:59:19,260] Trial 84 finished with value: 0.3814432919025421 and parameters: {'learning_rate': 1.0328946451595534e-05, 'dropout_rate': 0.10140429292015309, 'num_filters': 30, 'num_layers': 2}. Best is trial 62 with value: 0.5824742317199707.\n"
     ]
    },
    {
     "name": "stdout",
     "output_type": "stream",
     "text": [
      "Epoch 1/50\n",
      "\u001b[1m47/47\u001b[0m \u001b[32m━━━━━━━━━━━━━━━━━━━━\u001b[0m\u001b[37m\u001b[0m \u001b[1m4s\u001b[0m 17ms/step - accuracy: 0.6512 - loss: 0.6314 - val_accuracy: 0.4381 - val_loss: 0.9007 - learning_rate: 0.0010\n",
      "Epoch 2/50\n",
      "\u001b[1m47/47\u001b[0m \u001b[32m━━━━━━━━━━━━━━━━━━━━\u001b[0m\u001b[37m\u001b[0m \u001b[1m0s\u001b[0m 10ms/step - accuracy: 0.7165 - loss: 0.5652 - val_accuracy: 0.4356 - val_loss: 1.4360 - learning_rate: 0.0010\n",
      "Epoch 3/50\n",
      "\u001b[1m47/47\u001b[0m \u001b[32m━━━━━━━━━━━━━━━━━━━━\u001b[0m\u001b[37m\u001b[0m \u001b[1m0s\u001b[0m 9ms/step - accuracy: 0.7021 - loss: 0.5349 - val_accuracy: 0.4330 - val_loss: 1.8192 - learning_rate: 0.0010\n",
      "Epoch 4/50\n",
      "\u001b[1m47/47\u001b[0m \u001b[32m━━━━━━━━━━━━━━━━━━━━\u001b[0m\u001b[37m\u001b[0m \u001b[1m1s\u001b[0m 14ms/step - accuracy: 0.7158 - loss: 0.4754 - val_accuracy: 0.5464 - val_loss: 2.1727 - learning_rate: 0.0010\n",
      "Epoch 5/50\n",
      "\u001b[1m47/47\u001b[0m \u001b[32m━━━━━━━━━━━━━━━━━━━━\u001b[0m\u001b[37m\u001b[0m \u001b[1m0s\u001b[0m 9ms/step - accuracy: 0.7853 - loss: 0.4942 - val_accuracy: 0.5026 - val_loss: 3.0520 - learning_rate: 5.0000e-04\n",
      "Epoch 6/50\n",
      "\u001b[1m47/47\u001b[0m \u001b[32m━━━━━━━━━━━━━━━━━━━━\u001b[0m\u001b[37m\u001b[0m \u001b[1m0s\u001b[0m 9ms/step - accuracy: 0.7891 - loss: 0.4543 - val_accuracy: 0.5103 - val_loss: 3.4994 - learning_rate: 5.0000e-04\n",
      "Epoch 7/50\n",
      "\u001b[1m47/47\u001b[0m \u001b[32m━━━━━━━━━━━━━━━━━━━━\u001b[0m\u001b[37m\u001b[0m \u001b[1m0s\u001b[0m 8ms/step - accuracy: 0.7683 - loss: 0.4334 - val_accuracy: 0.5387 - val_loss: 4.2188 - learning_rate: 5.0000e-04\n",
      "Epoch 8/50\n",
      "\u001b[1m47/47\u001b[0m \u001b[32m━━━━━━━━━━━━━━━━━━━━\u001b[0m\u001b[37m\u001b[0m \u001b[1m0s\u001b[0m 9ms/step - accuracy: 0.7480 - loss: 0.4375 - val_accuracy: 0.5129 - val_loss: 4.5033 - learning_rate: 2.5000e-04\n",
      "Epoch 9/50\n",
      "\u001b[1m47/47\u001b[0m \u001b[32m━━━━━━━━━━━━━━━━━━━━\u001b[0m\u001b[37m\u001b[0m \u001b[1m0s\u001b[0m 8ms/step - accuracy: 0.7837 - loss: 0.3938 - val_accuracy: 0.3943 - val_loss: 4.6351 - learning_rate: 2.5000e-04\n",
      "Epoch 10/50\n",
      "\u001b[1m47/47\u001b[0m \u001b[32m━━━━━━━━━━━━━━━━━━━━\u001b[0m\u001b[37m\u001b[0m \u001b[1m1s\u001b[0m 11ms/step - accuracy: 0.7685 - loss: 0.3787 - val_accuracy: 0.4046 - val_loss: 4.9007 - learning_rate: 2.5000e-04\n",
      "Epoch 11/50\n",
      "\u001b[1m47/47\u001b[0m \u001b[32m━━━━━━━━━━━━━━━━━━━━\u001b[0m\u001b[37m\u001b[0m \u001b[1m1s\u001b[0m 11ms/step - accuracy: 0.7986 - loss: 0.3637 - val_accuracy: 0.4330 - val_loss: 4.8679 - learning_rate: 1.2500e-04\n"
     ]
    },
    {
     "name": "stderr",
     "output_type": "stream",
     "text": [
      "[I 2024-05-23 22:59:28,603] Trial 85 finished with value: 0.438144326210022 and parameters: {'learning_rate': 0.0004106110484318239, 'dropout_rate': 0.20778926623079724, 'num_filters': 45, 'num_layers': 2}. Best is trial 62 with value: 0.5824742317199707.\n"
     ]
    },
    {
     "name": "stdout",
     "output_type": "stream",
     "text": [
      "Epoch 1/50\n",
      "\u001b[1m47/47\u001b[0m \u001b[32m━━━━━━━━━━━━━━━━━━━━\u001b[0m\u001b[37m\u001b[0m \u001b[1m4s\u001b[0m 15ms/step - accuracy: 0.6145 - loss: 0.6543 - val_accuracy: 0.4381 - val_loss: 0.9872 - learning_rate: 0.0010\n",
      "Epoch 2/50\n",
      "\u001b[1m47/47\u001b[0m \u001b[32m━━━━━━━━━━━━━━━━━━━━\u001b[0m\u001b[37m\u001b[0m \u001b[1m0s\u001b[0m 9ms/step - accuracy: 0.7050 - loss: 0.5456 - val_accuracy: 0.4330 - val_loss: 1.4531 - learning_rate: 0.0010\n",
      "Epoch 3/50\n",
      "\u001b[1m47/47\u001b[0m \u001b[32m━━━━━━━━━━━━━━━━━━━━\u001b[0m\u001b[37m\u001b[0m \u001b[1m1s\u001b[0m 10ms/step - accuracy: 0.7631 - loss: 0.4686 - val_accuracy: 0.5155 - val_loss: 1.8237 - learning_rate: 0.0010\n",
      "Epoch 4/50\n",
      "\u001b[1m47/47\u001b[0m \u001b[32m━━━━━━━━━━━━━━━━━━━━\u001b[0m\u001b[37m\u001b[0m \u001b[1m0s\u001b[0m 8ms/step - accuracy: 0.7521 - loss: 0.4612 - val_accuracy: 0.5825 - val_loss: 2.5504 - learning_rate: 0.0010\n",
      "Epoch 5/50\n",
      "\u001b[1m47/47\u001b[0m \u001b[32m━━━━━━━━━━━━━━━━━━━━\u001b[0m\u001b[37m\u001b[0m \u001b[1m1s\u001b[0m 10ms/step - accuracy: 0.7028 - loss: 0.4861 - val_accuracy: 0.3144 - val_loss: 3.0912 - learning_rate: 5.0000e-04\n",
      "Epoch 6/50\n",
      "\u001b[1m47/47\u001b[0m \u001b[32m━━━━━━━━━━━━━━━━━━━━\u001b[0m\u001b[37m\u001b[0m \u001b[1m1s\u001b[0m 11ms/step - accuracy: 0.7609 - loss: 0.4360 - val_accuracy: 0.3247 - val_loss: 3.0214 - learning_rate: 5.0000e-04\n",
      "Epoch 7/50\n",
      "\u001b[1m47/47\u001b[0m \u001b[32m━━━━━━━━━━━━━━━━━━━━\u001b[0m\u001b[37m\u001b[0m \u001b[1m1s\u001b[0m 10ms/step - accuracy: 0.7338 - loss: 0.4378 - val_accuracy: 0.2732 - val_loss: 3.4205 - learning_rate: 5.0000e-04\n",
      "Epoch 8/50\n",
      "\u001b[1m47/47\u001b[0m \u001b[32m━━━━━━━━━━━━━━━━━━━━\u001b[0m\u001b[37m\u001b[0m \u001b[1m1s\u001b[0m 9ms/step - accuracy: 0.7513 - loss: 0.4176 - val_accuracy: 0.2603 - val_loss: 3.8474 - learning_rate: 2.5000e-04\n",
      "Epoch 9/50\n",
      "\u001b[1m47/47\u001b[0m \u001b[32m━━━━━━━━━━━━━━━━━━━━\u001b[0m\u001b[37m\u001b[0m \u001b[1m1s\u001b[0m 11ms/step - accuracy: 0.7409 - loss: 0.4080 - val_accuracy: 0.2758 - val_loss: 3.9439 - learning_rate: 2.5000e-04\n",
      "Epoch 10/50\n",
      "\u001b[1m47/47\u001b[0m \u001b[32m━━━━━━━━━━━━━━━━━━━━\u001b[0m\u001b[37m\u001b[0m \u001b[1m1s\u001b[0m 10ms/step - accuracy: 0.7679 - loss: 0.3901 - val_accuracy: 0.4201 - val_loss: 3.8978 - learning_rate: 2.5000e-04\n",
      "Epoch 11/50\n",
      "\u001b[1m47/47\u001b[0m \u001b[32m━━━━━━━━━━━━━━━━━━━━\u001b[0m\u001b[37m\u001b[0m \u001b[1m1s\u001b[0m 11ms/step - accuracy: 0.7868 - loss: 0.3753 - val_accuracy: 0.2912 - val_loss: 4.1208 - learning_rate: 1.2500e-04\n"
     ]
    },
    {
     "name": "stderr",
     "output_type": "stream",
     "text": [
      "[I 2024-05-23 22:59:38,140] Trial 86 finished with value: 0.438144326210022 and parameters: {'learning_rate': 0.0021197037528466168, 'dropout_rate': 0.0801188116730785, 'num_filters': 35, 'num_layers': 2}. Best is trial 62 with value: 0.5824742317199707.\n"
     ]
    },
    {
     "name": "stdout",
     "output_type": "stream",
     "text": [
      "Epoch 1/50\n",
      "\u001b[1m47/47\u001b[0m \u001b[32m━━━━━━━━━━━━━━━━━━━━\u001b[0m\u001b[37m\u001b[0m \u001b[1m4s\u001b[0m 17ms/step - accuracy: 0.6584 - loss: 0.6456 - val_accuracy: 0.1624 - val_loss: 1.0703 - learning_rate: 0.0010\n",
      "Epoch 2/50\n",
      "\u001b[1m47/47\u001b[0m \u001b[32m━━━━━━━━━━━━━━━━━━━━\u001b[0m\u001b[37m\u001b[0m \u001b[1m0s\u001b[0m 8ms/step - accuracy: 0.7299 - loss: 0.5490 - val_accuracy: 0.1830 - val_loss: 1.2358 - learning_rate: 0.0010\n",
      "Epoch 3/50\n",
      "\u001b[1m47/47\u001b[0m \u001b[32m━━━━━━━━━━━━━━━━━━━━\u001b[0m\u001b[37m\u001b[0m \u001b[1m0s\u001b[0m 8ms/step - accuracy: 0.6715 - loss: 0.5303 - val_accuracy: 0.4510 - val_loss: 1.5146 - learning_rate: 0.0010\n",
      "Epoch 4/50\n",
      "\u001b[1m47/47\u001b[0m \u001b[32m━━━━━━━━━━━━━━━━━━━━\u001b[0m\u001b[37m\u001b[0m \u001b[1m0s\u001b[0m 8ms/step - accuracy: 0.7108 - loss: 0.5294 - val_accuracy: 0.4665 - val_loss: 2.0444 - learning_rate: 0.0010\n",
      "Epoch 5/50\n",
      "\u001b[1m47/47\u001b[0m \u001b[32m━━━━━━━━━━━━━━━━━━━━\u001b[0m\u001b[37m\u001b[0m \u001b[1m0s\u001b[0m 9ms/step - accuracy: 0.7272 - loss: 0.4823 - val_accuracy: 0.4948 - val_loss: 2.2574 - learning_rate: 5.0000e-04\n",
      "Epoch 6/50\n",
      "\u001b[1m47/47\u001b[0m \u001b[32m━━━━━━━━━━━━━━━━━━━━\u001b[0m\u001b[37m\u001b[0m \u001b[1m0s\u001b[0m 8ms/step - accuracy: 0.7224 - loss: 0.4729 - val_accuracy: 0.4820 - val_loss: 2.6211 - learning_rate: 5.0000e-04\n",
      "Epoch 7/50\n",
      "\u001b[1m47/47\u001b[0m \u001b[32m━━━━━━━━━━━━━━━━━━━━\u001b[0m\u001b[37m\u001b[0m \u001b[1m0s\u001b[0m 8ms/step - accuracy: 0.7423 - loss: 0.4470 - val_accuracy: 0.4639 - val_loss: 2.6474 - learning_rate: 5.0000e-04\n",
      "Epoch 8/50\n",
      "\u001b[1m47/47\u001b[0m \u001b[32m━━━━━━━━━━━━━━━━━━━━\u001b[0m\u001b[37m\u001b[0m \u001b[1m0s\u001b[0m 9ms/step - accuracy: 0.7113 - loss: 0.4541 - val_accuracy: 0.4407 - val_loss: 2.9801 - learning_rate: 2.5000e-04\n",
      "Epoch 9/50\n",
      "\u001b[1m47/47\u001b[0m \u001b[32m━━━━━━━━━━━━━━━━━━━━\u001b[0m\u001b[37m\u001b[0m \u001b[1m0s\u001b[0m 9ms/step - accuracy: 0.7501 - loss: 0.4334 - val_accuracy: 0.4201 - val_loss: 3.1599 - learning_rate: 2.5000e-04\n",
      "Epoch 10/50\n",
      "\u001b[1m47/47\u001b[0m \u001b[32m━━━━━━━━━━━━━━━━━━━━\u001b[0m\u001b[37m\u001b[0m \u001b[1m0s\u001b[0m 9ms/step - accuracy: 0.7650 - loss: 0.4262 - val_accuracy: 0.4330 - val_loss: 3.4940 - learning_rate: 2.5000e-04\n",
      "Epoch 11/50\n",
      "\u001b[1m47/47\u001b[0m \u001b[32m━━━━━━━━━━━━━━━━━━━━\u001b[0m\u001b[37m\u001b[0m \u001b[1m1s\u001b[0m 8ms/step - accuracy: 0.7461 - loss: 0.4406 - val_accuracy: 0.4407 - val_loss: 3.5048 - learning_rate: 1.2500e-04\n"
     ]
    },
    {
     "name": "stderr",
     "output_type": "stream",
     "text": [
      "[I 2024-05-23 22:59:46,775] Trial 87 finished with value: 0.16237112879753113 and parameters: {'learning_rate': 0.0071780050778463625, 'dropout_rate': 0.2368432857599847, 'num_filters': 19, 'num_layers': 2}. Best is trial 62 with value: 0.5824742317199707.\n"
     ]
    },
    {
     "name": "stdout",
     "output_type": "stream",
     "text": [
      "Epoch 1/50\n",
      "\u001b[1m47/47\u001b[0m \u001b[32m━━━━━━━━━━━━━━━━━━━━\u001b[0m\u001b[37m\u001b[0m \u001b[1m3s\u001b[0m 15ms/step - accuracy: 0.6040 - loss: 0.6570 - val_accuracy: 0.4381 - val_loss: 1.0760 - learning_rate: 0.0010\n",
      "Epoch 2/50\n",
      "\u001b[1m47/47\u001b[0m \u001b[32m━━━━━━━━━━━━━━━━━━━━\u001b[0m\u001b[37m\u001b[0m \u001b[1m0s\u001b[0m 8ms/step - accuracy: 0.7174 - loss: 0.5735 - val_accuracy: 0.4794 - val_loss: 1.3652 - learning_rate: 0.0010\n",
      "Epoch 3/50\n",
      "\u001b[1m47/47\u001b[0m \u001b[32m━━━━━━━━━━━━━━━━━━━━\u001b[0m\u001b[37m\u001b[0m \u001b[1m1s\u001b[0m 10ms/step - accuracy: 0.7264 - loss: 0.5215 - val_accuracy: 0.4871 - val_loss: 1.6937 - learning_rate: 0.0010\n",
      "Epoch 4/50\n",
      "\u001b[1m47/47\u001b[0m \u001b[32m━━━━━━━━━━━━━━━━━━━━\u001b[0m\u001b[37m\u001b[0m \u001b[1m1s\u001b[0m 10ms/step - accuracy: 0.7580 - loss: 0.4580 - val_accuracy: 0.3299 - val_loss: 2.8077 - learning_rate: 0.0010\n",
      "Epoch 5/50\n",
      "\u001b[1m47/47\u001b[0m \u001b[32m━━━━━━━━━━━━━━━━━━━━\u001b[0m\u001b[37m\u001b[0m \u001b[1m0s\u001b[0m 7ms/step - accuracy: 0.7788 - loss: 0.4161 - val_accuracy: 0.2552 - val_loss: 2.9245 - learning_rate: 5.0000e-04\n",
      "Epoch 6/50\n",
      "\u001b[1m47/47\u001b[0m \u001b[32m━━━━━━━━━━━━━━━━━━━━\u001b[0m\u001b[37m\u001b[0m \u001b[1m0s\u001b[0m 9ms/step - accuracy: 0.7468 - loss: 0.4025 - val_accuracy: 0.2809 - val_loss: 3.8925 - learning_rate: 5.0000e-04\n",
      "Epoch 7/50\n",
      "\u001b[1m47/47\u001b[0m \u001b[32m━━━━━━━━━━━━━━━━━━━━\u001b[0m\u001b[37m\u001b[0m \u001b[1m0s\u001b[0m 9ms/step - accuracy: 0.8000 - loss: 0.3719 - val_accuracy: 0.5361 - val_loss: 4.3586 - learning_rate: 5.0000e-04\n",
      "Epoch 8/50\n",
      "\u001b[1m47/47\u001b[0m \u001b[32m━━━━━━━━━━━━━━━━━━━━\u001b[0m\u001b[37m\u001b[0m \u001b[1m1s\u001b[0m 11ms/step - accuracy: 0.8115 - loss: 0.3407 - val_accuracy: 0.3402 - val_loss: 4.3473 - learning_rate: 2.5000e-04\n",
      "Epoch 9/50\n",
      "\u001b[1m47/47\u001b[0m \u001b[32m━━━━━━━━━━━━━━━━━━━━\u001b[0m\u001b[37m\u001b[0m \u001b[1m0s\u001b[0m 9ms/step - accuracy: 0.8115 - loss: 0.3506 - val_accuracy: 0.3093 - val_loss: 4.4593 - learning_rate: 2.5000e-04\n",
      "Epoch 10/50\n",
      "\u001b[1m47/47\u001b[0m \u001b[32m━━━━━━━━━━━━━━━━━━━━\u001b[0m\u001b[37m\u001b[0m \u001b[1m0s\u001b[0m 8ms/step - accuracy: 0.8201 - loss: 0.3142 - val_accuracy: 0.4149 - val_loss: 4.6333 - learning_rate: 2.5000e-04\n",
      "Epoch 11/50\n",
      "\u001b[1m47/47\u001b[0m \u001b[32m━━━━━━━━━━━━━━━━━━━━\u001b[0m\u001b[37m\u001b[0m \u001b[1m0s\u001b[0m 10ms/step - accuracy: 0.8195 - loss: 0.3072 - val_accuracy: 0.3505 - val_loss: 4.9438 - learning_rate: 1.2500e-04\n"
     ]
    },
    {
     "name": "stderr",
     "output_type": "stream",
     "text": [
      "[I 2024-05-23 22:59:55,397] Trial 88 finished with value: 0.438144326210022 and parameters: {'learning_rate': 0.09747740277092797, 'dropout_rate': 0.06232377459255843, 'num_filters': 43, 'num_layers': 2}. Best is trial 62 with value: 0.5824742317199707.\n"
     ]
    },
    {
     "name": "stdout",
     "output_type": "stream",
     "text": [
      "Epoch 1/50\n",
      "\u001b[1m47/47\u001b[0m \u001b[32m━━━━━━━━━━━━━━━━━━━━\u001b[0m\u001b[37m\u001b[0m \u001b[1m3s\u001b[0m 16ms/step - accuracy: 0.6115 - loss: 0.6878 - val_accuracy: 0.3196 - val_loss: 0.7620 - learning_rate: 0.0010\n",
      "Epoch 2/50\n",
      "\u001b[1m47/47\u001b[0m \u001b[32m━━━━━━━━━━━━━━━━━━━━\u001b[0m\u001b[37m\u001b[0m \u001b[1m1s\u001b[0m 11ms/step - accuracy: 0.6966 - loss: 0.5910 - val_accuracy: 0.1521 - val_loss: 1.1823 - learning_rate: 0.0010\n",
      "Epoch 3/50\n",
      "\u001b[1m47/47\u001b[0m \u001b[32m━━━━━━━━━━━━━━━━━━━━\u001b[0m\u001b[37m\u001b[0m \u001b[1m1s\u001b[0m 13ms/step - accuracy: 0.6729 - loss: 0.5476 - val_accuracy: 0.4613 - val_loss: 1.2685 - learning_rate: 0.0010\n",
      "Epoch 4/50\n",
      "\u001b[1m47/47\u001b[0m \u001b[32m━━━━━━━━━━━━━━━━━━━━\u001b[0m\u001b[37m\u001b[0m \u001b[1m1s\u001b[0m 16ms/step - accuracy: 0.7051 - loss: 0.5491 - val_accuracy: 0.2242 - val_loss: 1.4390 - learning_rate: 0.0010\n",
      "Epoch 5/50\n",
      "\u001b[1m47/47\u001b[0m \u001b[32m━━━━━━━━━━━━━━━━━━━━\u001b[0m\u001b[37m\u001b[0m \u001b[1m1s\u001b[0m 13ms/step - accuracy: 0.6909 - loss: 0.5115 - val_accuracy: 0.4562 - val_loss: 1.7615 - learning_rate: 5.0000e-04\n",
      "Epoch 6/50\n",
      "\u001b[1m47/47\u001b[0m \u001b[32m━━━━━━━━━━━━━━━━━━━━\u001b[0m\u001b[37m\u001b[0m \u001b[1m1s\u001b[0m 13ms/step - accuracy: 0.7247 - loss: 0.4847 - val_accuracy: 0.4768 - val_loss: 1.9343 - learning_rate: 5.0000e-04\n",
      "Epoch 7/50\n",
      "\u001b[1m47/47\u001b[0m \u001b[32m━━━━━━━━━━━━━━━━━━━━\u001b[0m\u001b[37m\u001b[0m \u001b[1m1s\u001b[0m 16ms/step - accuracy: 0.6945 - loss: 0.4775 - val_accuracy: 0.4510 - val_loss: 2.4111 - learning_rate: 5.0000e-04\n",
      "Epoch 8/50\n",
      "\u001b[1m47/47\u001b[0m \u001b[32m━━━━━━━━━━━━━━━━━━━━\u001b[0m\u001b[37m\u001b[0m \u001b[1m1s\u001b[0m 12ms/step - accuracy: 0.7364 - loss: 0.4581 - val_accuracy: 0.4742 - val_loss: 2.3466 - learning_rate: 2.5000e-04\n",
      "Epoch 9/50\n",
      "\u001b[1m47/47\u001b[0m \u001b[32m━━━━━━━━━━━━━━━━━━━━\u001b[0m\u001b[37m\u001b[0m \u001b[1m1s\u001b[0m 14ms/step - accuracy: 0.7275 - loss: 0.4670 - val_accuracy: 0.4665 - val_loss: 2.4375 - learning_rate: 2.5000e-04\n",
      "Epoch 10/50\n",
      "\u001b[1m47/47\u001b[0m \u001b[32m━━━━━━━━━━━━━━━━━━━━\u001b[0m\u001b[37m\u001b[0m \u001b[1m1s\u001b[0m 15ms/step - accuracy: 0.7209 - loss: 0.4488 - val_accuracy: 0.4665 - val_loss: 2.6387 - learning_rate: 2.5000e-04\n",
      "Epoch 11/50\n",
      "\u001b[1m47/47\u001b[0m \u001b[32m━━━━━━━━━━━━━━━━━━━━\u001b[0m\u001b[37m\u001b[0m \u001b[1m1s\u001b[0m 13ms/step - accuracy: 0.7570 - loss: 0.4271 - val_accuracy: 0.4562 - val_loss: 2.7929 - learning_rate: 1.2500e-04\n"
     ]
    },
    {
     "name": "stderr",
     "output_type": "stream",
     "text": [
      "[I 2024-05-23 23:00:05,558] Trial 89 finished with value: 0.3195876181125641 and parameters: {'learning_rate': 0.03527256088566087, 'dropout_rate': 0.32352150361964405, 'num_filters': 111, 'num_layers': 1}. Best is trial 62 with value: 0.5824742317199707.\n"
     ]
    },
    {
     "name": "stdout",
     "output_type": "stream",
     "text": [
      "Epoch 1/50\n",
      "\u001b[1m47/47\u001b[0m \u001b[32m━━━━━━━━━━━━━━━━━━━━\u001b[0m\u001b[37m\u001b[0m \u001b[1m3s\u001b[0m 13ms/step - accuracy: 0.6694 - loss: 0.6229 - val_accuracy: 0.3660 - val_loss: 1.0447 - learning_rate: 0.0010\n",
      "Epoch 2/50\n",
      "\u001b[1m47/47\u001b[0m \u001b[32m━━━━━━━━━━━━━━━━━━━━\u001b[0m\u001b[37m\u001b[0m \u001b[1m0s\u001b[0m 10ms/step - accuracy: 0.6733 - loss: 0.5673 - val_accuracy: 0.3608 - val_loss: 0.9293 - learning_rate: 0.0010\n",
      "Epoch 3/50\n",
      "\u001b[1m47/47\u001b[0m \u001b[32m━━━━━━━━━━━━━━━━━━━━\u001b[0m\u001b[37m\u001b[0m \u001b[1m0s\u001b[0m 9ms/step - accuracy: 0.7621 - loss: 0.4900 - val_accuracy: 0.5155 - val_loss: 1.1613 - learning_rate: 0.0010\n",
      "Epoch 4/50\n",
      "\u001b[1m47/47\u001b[0m \u001b[32m━━━━━━━━━━━━━━━━━━━━\u001b[0m\u001b[37m\u001b[0m \u001b[1m0s\u001b[0m 10ms/step - accuracy: 0.7417 - loss: 0.4945 - val_accuracy: 0.4716 - val_loss: 1.1942 - learning_rate: 0.0010\n",
      "Epoch 5/50\n",
      "\u001b[1m47/47\u001b[0m \u001b[32m━━━━━━━━━━━━━━━━━━━━\u001b[0m\u001b[37m\u001b[0m \u001b[1m0s\u001b[0m 9ms/step - accuracy: 0.7558 - loss: 0.4514 - val_accuracy: 0.4098 - val_loss: 2.1788 - learning_rate: 0.0010\n",
      "Epoch 6/50\n",
      "\u001b[1m47/47\u001b[0m \u001b[32m━━━━━━━━━━━━━━━━━━━━\u001b[0m\u001b[37m\u001b[0m \u001b[1m0s\u001b[0m 9ms/step - accuracy: 0.7962 - loss: 0.4042 - val_accuracy: 0.3814 - val_loss: 2.6133 - learning_rate: 5.0000e-04\n",
      "Epoch 7/50\n",
      "\u001b[1m47/47\u001b[0m \u001b[32m━━━━━━━━━━━━━━━━━━━━\u001b[0m\u001b[37m\u001b[0m \u001b[1m1s\u001b[0m 10ms/step - accuracy: 0.8007 - loss: 0.3847 - val_accuracy: 0.3222 - val_loss: 3.1855 - learning_rate: 5.0000e-04\n",
      "Epoch 8/50\n",
      "\u001b[1m47/47\u001b[0m \u001b[32m━━━━━━━━━━━━━━━━━━━━\u001b[0m\u001b[37m\u001b[0m \u001b[1m0s\u001b[0m 9ms/step - accuracy: 0.8319 - loss: 0.3437 - val_accuracy: 0.4407 - val_loss: 3.4686 - learning_rate: 5.0000e-04\n",
      "Epoch 9/50\n",
      "\u001b[1m47/47\u001b[0m \u001b[32m━━━━━━━━━━━━━━━━━━━━\u001b[0m\u001b[37m\u001b[0m \u001b[1m0s\u001b[0m 10ms/step - accuracy: 0.8110 - loss: 0.3332 - val_accuracy: 0.3582 - val_loss: 3.9872 - learning_rate: 2.5000e-04\n",
      "Epoch 10/50\n",
      "\u001b[1m47/47\u001b[0m \u001b[32m━━━━━━━━━━━━━━━━━━━━\u001b[0m\u001b[37m\u001b[0m \u001b[1m0s\u001b[0m 9ms/step - accuracy: 0.8294 - loss: 0.2934 - val_accuracy: 0.3866 - val_loss: 4.1440 - learning_rate: 2.5000e-04\n",
      "Epoch 11/50\n",
      "\u001b[1m47/47\u001b[0m \u001b[32m━━━━━━━━━━━━━━━━━━━━\u001b[0m\u001b[37m\u001b[0m \u001b[1m0s\u001b[0m 9ms/step - accuracy: 0.8511 - loss: 0.2924 - val_accuracy: 0.3479 - val_loss: 4.8384 - learning_rate: 2.5000e-04\n",
      "Epoch 12/50\n",
      "\u001b[1m47/47\u001b[0m \u001b[32m━━━━━━━━━━━━━━━━━━━━\u001b[0m\u001b[37m\u001b[0m \u001b[1m0s\u001b[0m 10ms/step - accuracy: 0.8549 - loss: 0.2717 - val_accuracy: 0.3814 - val_loss: 4.9108 - learning_rate: 1.2500e-04\n"
     ]
    },
    {
     "name": "stderr",
     "output_type": "stream",
     "text": [
      "[I 2024-05-23 23:00:13,733] Trial 90 finished with value: 0.36082473397254944 and parameters: {'learning_rate': 0.005626152469338933, 'dropout_rate': 0.003395669672429098, 'num_filters': 94, 'num_layers': 2}. Best is trial 62 with value: 0.5824742317199707.\n"
     ]
    },
    {
     "name": "stdout",
     "output_type": "stream",
     "text": [
      "Epoch 1/50\n",
      "\u001b[1m47/47\u001b[0m \u001b[32m━━━━━━━━━━━━━━━━━━━━\u001b[0m\u001b[37m\u001b[0m \u001b[1m3s\u001b[0m 16ms/step - accuracy: 0.6238 - loss: 0.6509 - val_accuracy: 0.2294 - val_loss: 1.0301 - learning_rate: 0.0010\n",
      "Epoch 2/50\n",
      "\u001b[1m47/47\u001b[0m \u001b[32m━━━━━━━━━━━━━━━━━━━━\u001b[0m\u001b[37m\u001b[0m \u001b[1m0s\u001b[0m 8ms/step - accuracy: 0.7241 - loss: 0.5478 - val_accuracy: 0.1701 - val_loss: 1.4186 - learning_rate: 0.0010\n",
      "Epoch 3/50\n",
      "\u001b[1m47/47\u001b[0m \u001b[32m━━━━━━━━━━━━━━━━━━━━\u001b[0m\u001b[37m\u001b[0m \u001b[1m0s\u001b[0m 9ms/step - accuracy: 0.6679 - loss: 0.5013 - val_accuracy: 0.4124 - val_loss: 2.3440 - learning_rate: 0.0010\n",
      "Epoch 4/50\n",
      "\u001b[1m47/47\u001b[0m \u001b[32m━━━━━━━━━━━━━━━━━━━━\u001b[0m\u001b[37m\u001b[0m \u001b[1m1s\u001b[0m 10ms/step - accuracy: 0.6785 - loss: 0.4621 - val_accuracy: 0.4459 - val_loss: 2.7545 - learning_rate: 0.0010\n",
      "Epoch 5/50\n",
      "\u001b[1m47/47\u001b[0m \u001b[32m━━━━━━━━━━━━━━━━━━━━\u001b[0m\u001b[37m\u001b[0m \u001b[1m0s\u001b[0m 9ms/step - accuracy: 0.6905 - loss: 0.4478 - val_accuracy: 0.4588 - val_loss: 3.5521 - learning_rate: 5.0000e-04\n",
      "Epoch 6/50\n",
      "\u001b[1m47/47\u001b[0m \u001b[32m━━━━━━━━━━━━━━━━━━━━\u001b[0m\u001b[37m\u001b[0m \u001b[1m0s\u001b[0m 10ms/step - accuracy: 0.7222 - loss: 0.4191 - val_accuracy: 0.4356 - val_loss: 3.9096 - learning_rate: 5.0000e-04\n",
      "Epoch 7/50\n",
      "\u001b[1m47/47\u001b[0m \u001b[32m━━━━━━━━━━━━━━━━━━━━\u001b[0m\u001b[37m\u001b[0m \u001b[1m1s\u001b[0m 11ms/step - accuracy: 0.7636 - loss: 0.3820 - val_accuracy: 0.3943 - val_loss: 4.6204 - learning_rate: 5.0000e-04\n",
      "Epoch 8/50\n",
      "\u001b[1m47/47\u001b[0m \u001b[32m━━━━━━━━━━━━━━━━━━━━\u001b[0m\u001b[37m\u001b[0m \u001b[1m0s\u001b[0m 10ms/step - accuracy: 0.8188 - loss: 0.3421 - val_accuracy: 0.4485 - val_loss: 5.1234 - learning_rate: 2.5000e-04\n",
      "Epoch 9/50\n",
      "\u001b[1m47/47\u001b[0m \u001b[32m━━━━━━━━━━━━━━━━━━━━\u001b[0m\u001b[37m\u001b[0m \u001b[1m1s\u001b[0m 11ms/step - accuracy: 0.8524 - loss: 0.3221 - val_accuracy: 0.4948 - val_loss: 5.4432 - learning_rate: 2.5000e-04\n",
      "Epoch 10/50\n",
      "\u001b[1m47/47\u001b[0m \u001b[32m━━━━━━━━━━━━━━━━━━━━\u001b[0m\u001b[37m\u001b[0m \u001b[1m1s\u001b[0m 13ms/step - accuracy: 0.8687 - loss: 0.2971 - val_accuracy: 0.3686 - val_loss: 6.1529 - learning_rate: 2.5000e-04\n",
      "Epoch 11/50\n",
      "\u001b[1m47/47\u001b[0m \u001b[32m━━━━━━━━━━━━━━━━━━━━\u001b[0m\u001b[37m\u001b[0m \u001b[1m1s\u001b[0m 11ms/step - accuracy: 0.8707 - loss: 0.2933 - val_accuracy: 0.3737 - val_loss: 6.3743 - learning_rate: 1.2500e-04\n"
     ]
    },
    {
     "name": "stderr",
     "output_type": "stream",
     "text": [
      "[I 2024-05-23 23:00:22,071] Trial 91 finished with value: 0.22938144207000732 and parameters: {'learning_rate': 0.000320539342635537, 'dropout_rate': 0.1246693526364941, 'num_filters': 83, 'num_layers': 2}. Best is trial 62 with value: 0.5824742317199707.\n"
     ]
    },
    {
     "name": "stdout",
     "output_type": "stream",
     "text": [
      "Epoch 1/50\n",
      "\u001b[1m47/47\u001b[0m \u001b[32m━━━━━━━━━━━━━━━━━━━━\u001b[0m\u001b[37m\u001b[0m \u001b[1m3s\u001b[0m 12ms/step - accuracy: 0.6816 - loss: 0.6283 - val_accuracy: 0.2216 - val_loss: 1.1498 - learning_rate: 0.0010\n",
      "Epoch 2/50\n",
      "\u001b[1m47/47\u001b[0m \u001b[32m━━━━━━━━━━━━━━━━━━━━\u001b[0m\u001b[37m\u001b[0m \u001b[1m0s\u001b[0m 10ms/step - accuracy: 0.7007 - loss: 0.5581 - val_accuracy: 0.4356 - val_loss: 1.3768 - learning_rate: 0.0010\n",
      "Epoch 3/50\n",
      "\u001b[1m47/47\u001b[0m \u001b[32m━━━━━━━━━━━━━━━━━━━━\u001b[0m\u001b[37m\u001b[0m \u001b[1m1s\u001b[0m 11ms/step - accuracy: 0.7230 - loss: 0.5176 - val_accuracy: 0.4510 - val_loss: 2.0662 - learning_rate: 0.0010\n",
      "Epoch 4/50\n",
      "\u001b[1m47/47\u001b[0m \u001b[32m━━━━━━━━━━━━━━━━━━━━\u001b[0m\u001b[37m\u001b[0m \u001b[1m1s\u001b[0m 10ms/step - accuracy: 0.7165 - loss: 0.4837 - val_accuracy: 0.3866 - val_loss: 2.4481 - learning_rate: 0.0010\n",
      "Epoch 5/50\n",
      "\u001b[1m47/47\u001b[0m \u001b[32m━━━━━━━━━━━━━━━━━━━━\u001b[0m\u001b[37m\u001b[0m \u001b[1m0s\u001b[0m 10ms/step - accuracy: 0.7227 - loss: 0.4541 - val_accuracy: 0.4381 - val_loss: 3.0538 - learning_rate: 5.0000e-04\n",
      "Epoch 6/50\n",
      "\u001b[1m47/47\u001b[0m \u001b[32m━━━━━━━━━━━━━━━━━━━━\u001b[0m\u001b[37m\u001b[0m \u001b[1m1s\u001b[0m 13ms/step - accuracy: 0.7733 - loss: 0.4213 - val_accuracy: 0.4124 - val_loss: 4.2444 - learning_rate: 5.0000e-04\n",
      "Epoch 7/50\n",
      "\u001b[1m47/47\u001b[0m \u001b[32m━━━━━━━━━━━━━━━━━━━━\u001b[0m\u001b[37m\u001b[0m \u001b[1m1s\u001b[0m 13ms/step - accuracy: 0.7764 - loss: 0.3930 - val_accuracy: 0.4175 - val_loss: 4.6480 - learning_rate: 5.0000e-04\n",
      "Epoch 8/50\n",
      "\u001b[1m47/47\u001b[0m \u001b[32m━━━━━━━━━━━━━━━━━━━━\u001b[0m\u001b[37m\u001b[0m \u001b[1m1s\u001b[0m 12ms/step - accuracy: 0.7965 - loss: 0.3432 - val_accuracy: 0.3943 - val_loss: 5.3752 - learning_rate: 2.5000e-04\n",
      "Epoch 9/50\n",
      "\u001b[1m47/47\u001b[0m \u001b[32m━━━━━━━━━━━━━━━━━━━━\u001b[0m\u001b[37m\u001b[0m \u001b[1m1s\u001b[0m 10ms/step - accuracy: 0.8100 - loss: 0.3308 - val_accuracy: 0.3866 - val_loss: 5.8540 - learning_rate: 2.5000e-04\n",
      "Epoch 10/50\n",
      "\u001b[1m47/47\u001b[0m \u001b[32m━━━━━━━━━━━━━━━━━━━━\u001b[0m\u001b[37m\u001b[0m \u001b[1m0s\u001b[0m 10ms/step - accuracy: 0.8097 - loss: 0.3294 - val_accuracy: 0.3479 - val_loss: 6.3225 - learning_rate: 2.5000e-04\n",
      "Epoch 11/50\n",
      "\u001b[1m47/47\u001b[0m \u001b[32m━━━━━━━━━━━━━━━━━━━━\u001b[0m\u001b[37m\u001b[0m \u001b[1m1s\u001b[0m 12ms/step - accuracy: 0.8216 - loss: 0.3144 - val_accuracy: 0.3660 - val_loss: 6.2411 - learning_rate: 1.2500e-04\n"
     ]
    },
    {
     "name": "stderr",
     "output_type": "stream",
     "text": [
      "[I 2024-05-23 23:00:30,836] Trial 92 finished with value: 0.22164948284626007 and parameters: {'learning_rate': 1.6096646235144386e-05, 'dropout_rate': 0.17733274345882116, 'num_filters': 89, 'num_layers': 2}. Best is trial 62 with value: 0.5824742317199707.\n"
     ]
    },
    {
     "name": "stdout",
     "output_type": "stream",
     "text": [
      "Epoch 1/50\n",
      "\u001b[1m47/47\u001b[0m \u001b[32m━━━━━━━━━━━━━━━━━━━━\u001b[0m\u001b[37m\u001b[0m \u001b[1m3s\u001b[0m 18ms/step - accuracy: 0.6513 - loss: 0.6382 - val_accuracy: 0.1495 - val_loss: 0.9012 - learning_rate: 0.0010\n",
      "Epoch 2/50\n",
      "\u001b[1m47/47\u001b[0m \u001b[32m━━━━━━━━━━━━━━━━━━━━\u001b[0m\u001b[37m\u001b[0m \u001b[1m1s\u001b[0m 14ms/step - accuracy: 0.6899 - loss: 0.5380 - val_accuracy: 0.5644 - val_loss: 1.0739 - learning_rate: 0.0010\n",
      "Epoch 3/50\n",
      "\u001b[1m47/47\u001b[0m \u001b[32m━━━━━━━━━━━━━━━━━━━━\u001b[0m\u001b[37m\u001b[0m \u001b[1m1s\u001b[0m 11ms/step - accuracy: 0.7537 - loss: 0.5150 - val_accuracy: 0.5129 - val_loss: 1.7487 - learning_rate: 0.0010\n",
      "Epoch 4/50\n",
      "\u001b[1m47/47\u001b[0m \u001b[32m━━━━━━━━━━━━━━━━━━━━\u001b[0m\u001b[37m\u001b[0m \u001b[1m1s\u001b[0m 13ms/step - accuracy: 0.7464 - loss: 0.4465 - val_accuracy: 0.4381 - val_loss: 1.8061 - learning_rate: 0.0010\n",
      "Epoch 5/50\n",
      "\u001b[1m47/47\u001b[0m \u001b[32m━━━━━━━━━━━━━━━━━━━━\u001b[0m\u001b[37m\u001b[0m \u001b[1m1s\u001b[0m 11ms/step - accuracy: 0.7622 - loss: 0.4361 - val_accuracy: 0.5335 - val_loss: 2.5964 - learning_rate: 5.0000e-04\n",
      "Epoch 6/50\n",
      "\u001b[1m47/47\u001b[0m \u001b[32m━━━━━━━━━━━━━━━━━━━━\u001b[0m\u001b[37m\u001b[0m \u001b[1m1s\u001b[0m 12ms/step - accuracy: 0.7966 - loss: 0.4085 - val_accuracy: 0.3144 - val_loss: 4.0445 - learning_rate: 5.0000e-04\n",
      "Epoch 7/50\n",
      "\u001b[1m47/47\u001b[0m \u001b[32m━━━━━━━━━━━━━━━━━━━━\u001b[0m\u001b[37m\u001b[0m \u001b[1m1s\u001b[0m 12ms/step - accuracy: 0.7619 - loss: 0.3968 - val_accuracy: 0.3222 - val_loss: 4.5431 - learning_rate: 5.0000e-04\n",
      "Epoch 8/50\n",
      "\u001b[1m47/47\u001b[0m \u001b[32m━━━━━━━━━━━━━━━━━━━━\u001b[0m\u001b[37m\u001b[0m \u001b[1m1s\u001b[0m 12ms/step - accuracy: 0.7657 - loss: 0.3800 - val_accuracy: 0.3505 - val_loss: 4.4591 - learning_rate: 2.5000e-04\n",
      "Epoch 9/50\n",
      "\u001b[1m47/47\u001b[0m \u001b[32m━━━━━━━━━━━━━━━━━━━━\u001b[0m\u001b[37m\u001b[0m \u001b[1m1s\u001b[0m 12ms/step - accuracy: 0.7976 - loss: 0.3289 - val_accuracy: 0.4330 - val_loss: 4.8678 - learning_rate: 2.5000e-04\n",
      "Epoch 10/50\n",
      "\u001b[1m47/47\u001b[0m \u001b[32m━━━━━━━━━━━━━━━━━━━━\u001b[0m\u001b[37m\u001b[0m \u001b[1m1s\u001b[0m 12ms/step - accuracy: 0.7940 - loss: 0.3206 - val_accuracy: 0.3351 - val_loss: 4.8502 - learning_rate: 2.5000e-04\n",
      "Epoch 11/50\n",
      "\u001b[1m47/47\u001b[0m \u001b[32m━━━━━━━━━━━━━━━━━━━━\u001b[0m\u001b[37m\u001b[0m \u001b[1m1s\u001b[0m 14ms/step - accuracy: 0.8171 - loss: 0.3201 - val_accuracy: 0.3222 - val_loss: 5.2416 - learning_rate: 1.2500e-04\n"
     ]
    },
    {
     "name": "stderr",
     "output_type": "stream",
     "text": [
      "[I 2024-05-23 23:00:41,088] Trial 93 finished with value: 0.1494845300912857 and parameters: {'learning_rate': 0.011322292993145203, 'dropout_rate': 0.1539339289112136, 'num_filters': 103, 'num_layers': 2}. Best is trial 62 with value: 0.5824742317199707.\n"
     ]
    },
    {
     "name": "stdout",
     "output_type": "stream",
     "text": [
      "Epoch 1/50\n",
      "\u001b[1m47/47\u001b[0m \u001b[32m━━━━━━━━━━━━━━━━━━━━\u001b[0m\u001b[37m\u001b[0m \u001b[1m3s\u001b[0m 17ms/step - accuracy: 0.6693 - loss: 0.6319 - val_accuracy: 0.2268 - val_loss: 1.1073 - learning_rate: 0.0010\n",
      "Epoch 2/50\n",
      "\u001b[1m47/47\u001b[0m \u001b[32m━━━━━━━━━━━━━━━━━━━━\u001b[0m\u001b[37m\u001b[0m \u001b[1m1s\u001b[0m 12ms/step - accuracy: 0.7295 - loss: 0.5258 - val_accuracy: 0.0644 - val_loss: 1.3250 - learning_rate: 0.0010\n",
      "Epoch 3/50\n",
      "\u001b[1m47/47\u001b[0m \u001b[32m━━━━━━━━━━━━━━━━━━━━\u001b[0m\u001b[37m\u001b[0m \u001b[1m1s\u001b[0m 12ms/step - accuracy: 0.7164 - loss: 0.4975 - val_accuracy: 0.5026 - val_loss: 1.9676 - learning_rate: 0.0010\n",
      "Epoch 4/50\n",
      "\u001b[1m47/47\u001b[0m \u001b[32m━━━━━━━━━━━━━━━━━━━━\u001b[0m\u001b[37m\u001b[0m \u001b[1m1s\u001b[0m 14ms/step - accuracy: 0.7596 - loss: 0.4776 - val_accuracy: 0.4871 - val_loss: 2.1812 - learning_rate: 0.0010\n",
      "Epoch 5/50\n",
      "\u001b[1m47/47\u001b[0m \u001b[32m━━━━━━━━━━━━━━━━━━━━\u001b[0m\u001b[37m\u001b[0m \u001b[1m1s\u001b[0m 11ms/step - accuracy: 0.7562 - loss: 0.4624 - val_accuracy: 0.3531 - val_loss: 2.8940 - learning_rate: 5.0000e-04\n",
      "Epoch 6/50\n",
      "\u001b[1m47/47\u001b[0m \u001b[32m━━━━━━━━━━━━━━━━━━━━\u001b[0m\u001b[37m\u001b[0m \u001b[1m1s\u001b[0m 14ms/step - accuracy: 0.7594 - loss: 0.4127 - val_accuracy: 0.4510 - val_loss: 3.0606 - learning_rate: 5.0000e-04\n",
      "Epoch 7/50\n",
      "\u001b[1m47/47\u001b[0m \u001b[32m━━━━━━━━━━━━━━━━━━━━\u001b[0m\u001b[37m\u001b[0m \u001b[1m1s\u001b[0m 13ms/step - accuracy: 0.7833 - loss: 0.4078 - val_accuracy: 0.4613 - val_loss: 3.7676 - learning_rate: 5.0000e-04\n",
      "Epoch 8/50\n",
      "\u001b[1m47/47\u001b[0m \u001b[32m━━━━━━━━━━━━━━━━━━━━\u001b[0m\u001b[37m\u001b[0m \u001b[1m1s\u001b[0m 12ms/step - accuracy: 0.7947 - loss: 0.3775 - val_accuracy: 0.4021 - val_loss: 4.0226 - learning_rate: 2.5000e-04\n",
      "Epoch 9/50\n",
      "\u001b[1m47/47\u001b[0m \u001b[32m━━━━━━━━━━━━━━━━━━━━\u001b[0m\u001b[37m\u001b[0m \u001b[1m1s\u001b[0m 13ms/step - accuracy: 0.8040 - loss: 0.3545 - val_accuracy: 0.3093 - val_loss: 4.5095 - learning_rate: 2.5000e-04\n",
      "Epoch 10/50\n",
      "\u001b[1m47/47\u001b[0m \u001b[32m━━━━━━━━━━━━━━━━━━━━\u001b[0m\u001b[37m\u001b[0m \u001b[1m1s\u001b[0m 12ms/step - accuracy: 0.7964 - loss: 0.3309 - val_accuracy: 0.2990 - val_loss: 5.1144 - learning_rate: 2.5000e-04\n",
      "Epoch 11/50\n",
      "\u001b[1m47/47\u001b[0m \u001b[32m━━━━━━━━━━━━━━━━━━━━\u001b[0m\u001b[37m\u001b[0m \u001b[1m1s\u001b[0m 13ms/step - accuracy: 0.8111 - loss: 0.3154 - val_accuracy: 0.4072 - val_loss: 4.8023 - learning_rate: 1.2500e-04\n"
     ]
    },
    {
     "name": "stderr",
     "output_type": "stream",
     "text": [
      "[I 2024-05-23 23:00:50,580] Trial 94 finished with value: 0.22680412232875824 and parameters: {'learning_rate': 0.0003351832409969004, 'dropout_rate': 0.11605203211650571, 'num_filters': 114, 'num_layers': 2}. Best is trial 62 with value: 0.5824742317199707.\n"
     ]
    },
    {
     "name": "stdout",
     "output_type": "stream",
     "text": [
      "Epoch 1/50\n",
      "\u001b[1m47/47\u001b[0m \u001b[32m━━━━━━━━━━━━━━━━━━━━\u001b[0m\u001b[37m\u001b[0m \u001b[1m3s\u001b[0m 17ms/step - accuracy: 0.6506 - loss: 0.6320 - val_accuracy: 0.4381 - val_loss: 1.0009 - learning_rate: 0.0010\n",
      "Epoch 2/50\n",
      "\u001b[1m47/47\u001b[0m \u001b[32m━━━━━━━━━━━━━━━━━━━━\u001b[0m\u001b[37m\u001b[0m \u001b[1m1s\u001b[0m 11ms/step - accuracy: 0.7345 - loss: 0.5255 - val_accuracy: 0.4639 - val_loss: 1.4761 - learning_rate: 0.0010\n",
      "Epoch 3/50\n",
      "\u001b[1m47/47\u001b[0m \u001b[32m━━━━━━━━━━━━━━━━━━━━\u001b[0m\u001b[37m\u001b[0m \u001b[1m1s\u001b[0m 13ms/step - accuracy: 0.7457 - loss: 0.4806 - val_accuracy: 0.5052 - val_loss: 2.0314 - learning_rate: 0.0010\n",
      "Epoch 4/50\n",
      "\u001b[1m47/47\u001b[0m \u001b[32m━━━━━━━━━━━━━━━━━━━━\u001b[0m\u001b[37m\u001b[0m \u001b[1m1s\u001b[0m 10ms/step - accuracy: 0.7399 - loss: 0.4721 - val_accuracy: 0.5954 - val_loss: 3.2038 - learning_rate: 0.0010\n",
      "Epoch 5/50\n",
      "\u001b[1m47/47\u001b[0m \u001b[32m━━━━━━━━━━━━━━━━━━━━\u001b[0m\u001b[37m\u001b[0m \u001b[1m1s\u001b[0m 11ms/step - accuracy: 0.7079 - loss: 0.4430 - val_accuracy: 0.4716 - val_loss: 4.0956 - learning_rate: 5.0000e-04\n",
      "Epoch 6/50\n",
      "\u001b[1m47/47\u001b[0m \u001b[32m━━━━━━━━━━━━━━━━━━━━\u001b[0m\u001b[37m\u001b[0m \u001b[1m1s\u001b[0m 14ms/step - accuracy: 0.7615 - loss: 0.3996 - val_accuracy: 0.4330 - val_loss: 5.3962 - learning_rate: 5.0000e-04\n",
      "Epoch 7/50\n",
      "\u001b[1m47/47\u001b[0m \u001b[32m━━━━━━━━━━━━━━━━━━━━\u001b[0m\u001b[37m\u001b[0m \u001b[1m1s\u001b[0m 13ms/step - accuracy: 0.7616 - loss: 0.4017 - val_accuracy: 0.4923 - val_loss: 4.6133 - learning_rate: 5.0000e-04\n",
      "Epoch 8/50\n",
      "\u001b[1m47/47\u001b[0m \u001b[32m━━━━━━━━━━━━━━━━━━━━\u001b[0m\u001b[37m\u001b[0m \u001b[1m1s\u001b[0m 11ms/step - accuracy: 0.8035 - loss: 0.3537 - val_accuracy: 0.3892 - val_loss: 6.3619 - learning_rate: 2.5000e-04\n",
      "Epoch 9/50\n",
      "\u001b[1m47/47\u001b[0m \u001b[32m━━━━━━━━━━━━━━━━━━━━\u001b[0m\u001b[37m\u001b[0m \u001b[1m1s\u001b[0m 13ms/step - accuracy: 0.8139 - loss: 0.3348 - val_accuracy: 0.3273 - val_loss: 7.0294 - learning_rate: 2.5000e-04\n",
      "Epoch 10/50\n",
      "\u001b[1m47/47\u001b[0m \u001b[32m━━━━━━━━━━━━━━━━━━━━\u001b[0m\u001b[37m\u001b[0m \u001b[1m1s\u001b[0m 12ms/step - accuracy: 0.8134 - loss: 0.3285 - val_accuracy: 0.4201 - val_loss: 6.9728 - learning_rate: 2.5000e-04\n",
      "Epoch 11/50\n",
      "\u001b[1m47/47\u001b[0m \u001b[32m━━━━━━━━━━━━━━━━━━━━\u001b[0m\u001b[37m\u001b[0m \u001b[1m1s\u001b[0m 11ms/step - accuracy: 0.8247 - loss: 0.3075 - val_accuracy: 0.4201 - val_loss: 6.9522 - learning_rate: 1.2500e-04\n"
     ]
    },
    {
     "name": "stderr",
     "output_type": "stream",
     "text": [
      "[I 2024-05-23 23:00:59,954] Trial 95 finished with value: 0.438144326210022 and parameters: {'learning_rate': 0.0009450308561531438, 'dropout_rate': 0.16546762437459783, 'num_filters': 106, 'num_layers': 2}. Best is trial 62 with value: 0.5824742317199707.\n"
     ]
    },
    {
     "name": "stdout",
     "output_type": "stream",
     "text": [
      "Epoch 1/50\n",
      "\u001b[1m47/47\u001b[0m \u001b[32m━━━━━━━━━━━━━━━━━━━━\u001b[0m\u001b[37m\u001b[0m \u001b[1m3s\u001b[0m 19ms/step - accuracy: 0.6715 - loss: 0.6299 - val_accuracy: 0.2320 - val_loss: 1.1560 - learning_rate: 0.0010\n",
      "Epoch 2/50\n",
      "\u001b[1m47/47\u001b[0m \u001b[32m━━━━━━━━━━━━━━━━━━━━\u001b[0m\u001b[37m\u001b[0m \u001b[1m1s\u001b[0m 12ms/step - accuracy: 0.7170 - loss: 0.5453 - val_accuracy: 0.2268 - val_loss: 1.0672 - learning_rate: 0.0010\n",
      "Epoch 3/50\n",
      "\u001b[1m47/47\u001b[0m \u001b[32m━━━━━━━━━━━━━━━━━━━━\u001b[0m\u001b[37m\u001b[0m \u001b[1m1s\u001b[0m 12ms/step - accuracy: 0.6754 - loss: 0.5363 - val_accuracy: 0.5026 - val_loss: 1.7617 - learning_rate: 0.0010\n",
      "Epoch 4/50\n",
      "\u001b[1m47/47\u001b[0m \u001b[32m━━━━━━━━━━━━━━━━━━━━\u001b[0m\u001b[37m\u001b[0m \u001b[1m1s\u001b[0m 15ms/step - accuracy: 0.7746 - loss: 0.4594 - val_accuracy: 0.4562 - val_loss: 2.6149 - learning_rate: 0.0010\n",
      "Epoch 5/50\n",
      "\u001b[1m47/47\u001b[0m \u001b[32m━━━━━━━━━━━━━━━━━━━━\u001b[0m\u001b[37m\u001b[0m \u001b[1m1s\u001b[0m 13ms/step - accuracy: 0.7473 - loss: 0.4600 - val_accuracy: 0.4407 - val_loss: 3.1417 - learning_rate: 0.0010\n",
      "Epoch 6/50\n",
      "\u001b[1m47/47\u001b[0m \u001b[32m━━━━━━━━━━━━━━━━━━━━\u001b[0m\u001b[37m\u001b[0m \u001b[1m1s\u001b[0m 12ms/step - accuracy: 0.7700 - loss: 0.4164 - val_accuracy: 0.4923 - val_loss: 3.1801 - learning_rate: 5.0000e-04\n",
      "Epoch 7/50\n",
      "\u001b[1m47/47\u001b[0m \u001b[32m━━━━━━━━━━━━━━━━━━━━\u001b[0m\u001b[37m\u001b[0m \u001b[1m1s\u001b[0m 12ms/step - accuracy: 0.7812 - loss: 0.3925 - val_accuracy: 0.5155 - val_loss: 3.4538 - learning_rate: 5.0000e-04\n",
      "Epoch 8/50\n",
      "\u001b[1m47/47\u001b[0m \u001b[32m━━━━━━━━━━━━━━━━━━━━\u001b[0m\u001b[37m\u001b[0m \u001b[1m1s\u001b[0m 12ms/step - accuracy: 0.7809 - loss: 0.3910 - val_accuracy: 0.2938 - val_loss: 4.3798 - learning_rate: 5.0000e-04\n",
      "Epoch 9/50\n",
      "\u001b[1m47/47\u001b[0m \u001b[32m━━━━━━━━━━━━━━━━━━━━\u001b[0m\u001b[37m\u001b[0m \u001b[1m1s\u001b[0m 15ms/step - accuracy: 0.7946 - loss: 0.3794 - val_accuracy: 0.4072 - val_loss: 4.4967 - learning_rate: 2.5000e-04\n",
      "Epoch 10/50\n",
      "\u001b[1m47/47\u001b[0m \u001b[32m━━━━━━━━━━━━━━━━━━━━\u001b[0m\u001b[37m\u001b[0m \u001b[1m1s\u001b[0m 13ms/step - accuracy: 0.8053 - loss: 0.3506 - val_accuracy: 0.3711 - val_loss: 4.7890 - learning_rate: 2.5000e-04\n",
      "Epoch 11/50\n",
      "\u001b[1m47/47\u001b[0m \u001b[32m━━━━━━━━━━━━━━━━━━━━\u001b[0m\u001b[37m\u001b[0m \u001b[1m1s\u001b[0m 13ms/step - accuracy: 0.8434 - loss: 0.3248 - val_accuracy: 0.3325 - val_loss: 5.1006 - learning_rate: 2.5000e-04\n",
      "Epoch 12/50\n",
      "\u001b[1m47/47\u001b[0m \u001b[32m━━━━━━━━━━━━━━━━━━━━\u001b[0m\u001b[37m\u001b[0m \u001b[1m1s\u001b[0m 14ms/step - accuracy: 0.8540 - loss: 0.3091 - val_accuracy: 0.3969 - val_loss: 5.0636 - learning_rate: 1.2500e-04\n"
     ]
    },
    {
     "name": "stderr",
     "output_type": "stream",
     "text": [
      "[I 2024-05-23 23:01:10,609] Trial 96 finished with value: 0.22680412232875824 and parameters: {'learning_rate': 0.0005771496636845275, 'dropout_rate': 0.14064363805993785, 'num_filters': 121, 'num_layers': 2}. Best is trial 62 with value: 0.5824742317199707.\n"
     ]
    },
    {
     "name": "stdout",
     "output_type": "stream",
     "text": [
      "Epoch 1/50\n",
      "\u001b[1m47/47\u001b[0m \u001b[32m━━━━━━━━━━━━━━━━━━━━\u001b[0m\u001b[37m\u001b[0m \u001b[1m3s\u001b[0m 18ms/step - accuracy: 0.6401 - loss: 0.6269 - val_accuracy: 0.4381 - val_loss: 1.6250 - learning_rate: 0.0010\n",
      "Epoch 2/50\n",
      "\u001b[1m47/47\u001b[0m \u001b[32m━━━━━━━━━━━━━━━━━━━━\u001b[0m\u001b[37m\u001b[0m \u001b[1m1s\u001b[0m 11ms/step - accuracy: 0.7727 - loss: 0.5221 - val_accuracy: 0.0979 - val_loss: 1.2036 - learning_rate: 0.0010\n",
      "Epoch 3/50\n",
      "\u001b[1m47/47\u001b[0m \u001b[32m━━━━━━━━━━━━━━━━━━━━\u001b[0m\u001b[37m\u001b[0m \u001b[1m1s\u001b[0m 13ms/step - accuracy: 0.6958 - loss: 0.5182 - val_accuracy: 0.4175 - val_loss: 1.8740 - learning_rate: 0.0010\n",
      "Epoch 4/50\n",
      "\u001b[1m47/47\u001b[0m \u001b[32m━━━━━━━━━━━━━━━━━━━━\u001b[0m\u001b[37m\u001b[0m \u001b[1m1s\u001b[0m 11ms/step - accuracy: 0.7422 - loss: 0.4667 - val_accuracy: 0.4588 - val_loss: 2.8470 - learning_rate: 0.0010\n",
      "Epoch 5/50\n",
      "\u001b[1m47/47\u001b[0m \u001b[32m━━━━━━━━━━━━━━━━━━━━\u001b[0m\u001b[37m\u001b[0m \u001b[1m1s\u001b[0m 11ms/step - accuracy: 0.6137 - loss: 0.5193 - val_accuracy: 0.2784 - val_loss: 3.4199 - learning_rate: 0.0010\n",
      "Epoch 6/50\n",
      "\u001b[1m47/47\u001b[0m \u001b[32m━━━━━━━━━━━━━━━━━━━━\u001b[0m\u001b[37m\u001b[0m \u001b[1m1s\u001b[0m 11ms/step - accuracy: 0.7123 - loss: 0.4260 - val_accuracy: 0.4227 - val_loss: 3.9620 - learning_rate: 5.0000e-04\n",
      "Epoch 7/50\n",
      "\u001b[1m47/47\u001b[0m \u001b[32m━━━━━━━━━━━━━━━━━━━━\u001b[0m\u001b[37m\u001b[0m \u001b[1m1s\u001b[0m 14ms/step - accuracy: 0.7224 - loss: 0.4343 - val_accuracy: 0.3634 - val_loss: 4.6347 - learning_rate: 5.0000e-04\n",
      "Epoch 8/50\n",
      "\u001b[1m47/47\u001b[0m \u001b[32m━━━━━━━━━━━━━━━━━━━━\u001b[0m\u001b[37m\u001b[0m \u001b[1m1s\u001b[0m 10ms/step - accuracy: 0.7380 - loss: 0.4054 - val_accuracy: 0.3144 - val_loss: 5.2129 - learning_rate: 5.0000e-04\n",
      "Epoch 9/50\n",
      "\u001b[1m47/47\u001b[0m \u001b[32m━━━━━━━━━━━━━━━━━━━━\u001b[0m\u001b[37m\u001b[0m \u001b[1m1s\u001b[0m 11ms/step - accuracy: 0.7701 - loss: 0.3931 - val_accuracy: 0.3505 - val_loss: 6.0075 - learning_rate: 2.5000e-04\n",
      "Epoch 10/50\n",
      "\u001b[1m47/47\u001b[0m \u001b[32m━━━━━━━━━━━━━━━━━━━━\u001b[0m\u001b[37m\u001b[0m \u001b[1m1s\u001b[0m 12ms/step - accuracy: 0.7926 - loss: 0.3792 - val_accuracy: 0.4253 - val_loss: 6.1078 - learning_rate: 2.5000e-04\n",
      "Epoch 11/50\n",
      "\u001b[1m47/47\u001b[0m \u001b[32m━━━━━━━━━━━━━━━━━━━━\u001b[0m\u001b[37m\u001b[0m \u001b[1m1s\u001b[0m 12ms/step - accuracy: 0.8056 - loss: 0.3589 - val_accuracy: 0.4639 - val_loss: 6.3305 - learning_rate: 2.5000e-04\n",
      "Epoch 12/50\n",
      "\u001b[1m47/47\u001b[0m \u001b[32m━━━━━━━━━━━━━━━━━━━━\u001b[0m\u001b[37m\u001b[0m \u001b[1m1s\u001b[0m 14ms/step - accuracy: 0.8136 - loss: 0.3493 - val_accuracy: 0.3943 - val_loss: 6.3919 - learning_rate: 1.2500e-04\n"
     ]
    },
    {
     "name": "stderr",
     "output_type": "stream",
     "text": [
      "[I 2024-05-23 23:01:20,515] Trial 97 finished with value: 0.09793814271688461 and parameters: {'learning_rate': 0.0016102884173458953, 'dropout_rate': 0.21605879549873505, 'num_filters': 97, 'num_layers': 2}. Best is trial 62 with value: 0.5824742317199707.\n"
     ]
    },
    {
     "name": "stdout",
     "output_type": "stream",
     "text": [
      "Epoch 1/50\n",
      "\u001b[1m47/47\u001b[0m \u001b[32m━━━━━━━━━━━━━━━━━━━━\u001b[0m\u001b[37m\u001b[0m \u001b[1m3s\u001b[0m 15ms/step - accuracy: 0.6498 - loss: 0.6266 - val_accuracy: 0.1778 - val_loss: 1.2901 - learning_rate: 0.0010\n",
      "Epoch 2/50\n",
      "\u001b[1m47/47\u001b[0m \u001b[32m━━━━━━━━━━━━━━━━━━━━\u001b[0m\u001b[37m\u001b[0m \u001b[1m1s\u001b[0m 10ms/step - accuracy: 0.7223 - loss: 0.5544 - val_accuracy: 0.4149 - val_loss: 1.3161 - learning_rate: 0.0010\n",
      "Epoch 3/50\n",
      "\u001b[1m47/47\u001b[0m \u001b[32m━━━━━━━━━━━━━━━━━━━━\u001b[0m\u001b[37m\u001b[0m \u001b[1m0s\u001b[0m 9ms/step - accuracy: 0.7484 - loss: 0.4987 - val_accuracy: 0.2397 - val_loss: 1.6311 - learning_rate: 0.0010\n",
      "Epoch 4/50\n",
      "\u001b[1m47/47\u001b[0m \u001b[32m━━━━━━━━━━━━━━━━━━━━\u001b[0m\u001b[37m\u001b[0m \u001b[1m1s\u001b[0m 10ms/step - accuracy: 0.7515 - loss: 0.4899 - val_accuracy: 0.3969 - val_loss: 1.9329 - learning_rate: 0.0010\n",
      "Epoch 5/50\n",
      "\u001b[1m47/47\u001b[0m \u001b[32m━━━━━━━━━━━━━━━━━━━━\u001b[0m\u001b[37m\u001b[0m \u001b[1m1s\u001b[0m 11ms/step - accuracy: 0.7695 - loss: 0.4409 - val_accuracy: 0.3299 - val_loss: 2.0467 - learning_rate: 5.0000e-04\n",
      "Epoch 6/50\n",
      "\u001b[1m47/47\u001b[0m \u001b[32m━━━━━━━━━━━━━━━━━━━━\u001b[0m\u001b[37m\u001b[0m \u001b[1m1s\u001b[0m 12ms/step - accuracy: 0.7593 - loss: 0.4506 - val_accuracy: 0.3840 - val_loss: 2.3116 - learning_rate: 5.0000e-04\n",
      "Epoch 7/50\n",
      "\u001b[1m47/47\u001b[0m \u001b[32m━━━━━━━━━━━━━━━━━━━━\u001b[0m\u001b[37m\u001b[0m \u001b[1m1s\u001b[0m 12ms/step - accuracy: 0.7780 - loss: 0.4145 - val_accuracy: 0.3840 - val_loss: 2.7215 - learning_rate: 5.0000e-04\n",
      "Epoch 8/50\n",
      "\u001b[1m47/47\u001b[0m \u001b[32m━━━━━━━━━━━━━━━━━━━━\u001b[0m\u001b[37m\u001b[0m \u001b[1m1s\u001b[0m 11ms/step - accuracy: 0.7735 - loss: 0.3967 - val_accuracy: 0.3840 - val_loss: 3.0341 - learning_rate: 2.5000e-04\n",
      "Epoch 9/50\n",
      "\u001b[1m47/47\u001b[0m \u001b[32m━━━━━━━━━━━━━━━━━━━━\u001b[0m\u001b[37m\u001b[0m \u001b[1m1s\u001b[0m 11ms/step - accuracy: 0.7855 - loss: 0.3652 - val_accuracy: 0.3222 - val_loss: 3.2545 - learning_rate: 2.5000e-04\n",
      "Epoch 10/50\n",
      "\u001b[1m47/47\u001b[0m \u001b[32m━━━━━━━━━━━━━━━━━━━━\u001b[0m\u001b[37m\u001b[0m \u001b[1m1s\u001b[0m 12ms/step - accuracy: 0.7867 - loss: 0.3685 - val_accuracy: 0.3505 - val_loss: 3.4684 - learning_rate: 2.5000e-04\n",
      "Epoch 11/50\n",
      "\u001b[1m47/47\u001b[0m \u001b[32m━━━━━━━━━━━━━━━━━━━━\u001b[0m\u001b[37m\u001b[0m \u001b[1m1s\u001b[0m 11ms/step - accuracy: 0.7928 - loss: 0.3586 - val_accuracy: 0.3582 - val_loss: 3.7083 - learning_rate: 1.2500e-04\n"
     ]
    },
    {
     "name": "stderr",
     "output_type": "stream",
     "text": [
      "[I 2024-05-23 23:01:29,214] Trial 98 finished with value: 0.17783504724502563 and parameters: {'learning_rate': 0.00222865074238352, 'dropout_rate': 0.09165108196575739, 'num_filters': 75, 'num_layers': 2}. Best is trial 62 with value: 0.5824742317199707.\n"
     ]
    },
    {
     "name": "stdout",
     "output_type": "stream",
     "text": [
      "Epoch 1/50\n",
      "\u001b[1m47/47\u001b[0m \u001b[32m━━━━━━━━━━━━━━━━━━━━\u001b[0m\u001b[37m\u001b[0m \u001b[1m3s\u001b[0m 14ms/step - accuracy: 0.5631 - loss: 0.6658 - val_accuracy: 0.2809 - val_loss: 0.9351 - learning_rate: 0.0010\n",
      "Epoch 2/50\n",
      "\u001b[1m47/47\u001b[0m \u001b[32m━━━━━━━━━━━━━━━━━━━━\u001b[0m\u001b[37m\u001b[0m \u001b[1m0s\u001b[0m 9ms/step - accuracy: 0.7266 - loss: 0.5550 - val_accuracy: 0.4072 - val_loss: 1.0211 - learning_rate: 0.0010\n",
      "Epoch 3/50\n",
      "\u001b[1m47/47\u001b[0m \u001b[32m━━━━━━━━━━━━━━━━━━━━\u001b[0m\u001b[37m\u001b[0m \u001b[1m1s\u001b[0m 10ms/step - accuracy: 0.6944 - loss: 0.5660 - val_accuracy: 0.4510 - val_loss: 1.2914 - learning_rate: 0.0010\n",
      "Epoch 4/50\n",
      "\u001b[1m47/47\u001b[0m \u001b[32m━━━━━━━━━━━━━━━━━━━━\u001b[0m\u001b[37m\u001b[0m \u001b[1m0s\u001b[0m 9ms/step - accuracy: 0.7560 - loss: 0.5212 - val_accuracy: 0.4923 - val_loss: 1.5241 - learning_rate: 0.0010\n",
      "Epoch 5/50\n",
      "\u001b[1m47/47\u001b[0m \u001b[32m━━━━━━━━━━━━━━━━━━━━\u001b[0m\u001b[37m\u001b[0m \u001b[1m0s\u001b[0m 9ms/step - accuracy: 0.7773 - loss: 0.4770 - val_accuracy: 0.5000 - val_loss: 1.9285 - learning_rate: 5.0000e-04\n",
      "Epoch 6/50\n",
      "\u001b[1m47/47\u001b[0m \u001b[32m━━━━━━━━━━━━━━━━━━━━\u001b[0m\u001b[37m\u001b[0m \u001b[1m0s\u001b[0m 9ms/step - accuracy: 0.7823 - loss: 0.4407 - val_accuracy: 0.4510 - val_loss: 1.9069 - learning_rate: 5.0000e-04\n",
      "Epoch 7/50\n",
      "\u001b[1m47/47\u001b[0m \u001b[32m━━━━━━━━━━━━━━━━━━━━\u001b[0m\u001b[37m\u001b[0m \u001b[1m1s\u001b[0m 10ms/step - accuracy: 0.7717 - loss: 0.4397 - val_accuracy: 0.4149 - val_loss: 1.9726 - learning_rate: 5.0000e-04\n",
      "Epoch 8/50\n",
      "\u001b[1m47/47\u001b[0m \u001b[32m━━━━━━━━━━━━━━━━━━━━\u001b[0m\u001b[37m\u001b[0m \u001b[1m0s\u001b[0m 10ms/step - accuracy: 0.7771 - loss: 0.4193 - val_accuracy: 0.4536 - val_loss: 1.9411 - learning_rate: 2.5000e-04\n",
      "Epoch 9/50\n",
      "\u001b[1m47/47\u001b[0m \u001b[32m━━━━━━━━━━━━━━━━━━━━\u001b[0m\u001b[37m\u001b[0m \u001b[1m0s\u001b[0m 9ms/step - accuracy: 0.7932 - loss: 0.4045 - val_accuracy: 0.4227 - val_loss: 2.2571 - learning_rate: 2.5000e-04\n",
      "Epoch 10/50\n",
      "\u001b[1m47/47\u001b[0m \u001b[32m━━━━━━━━━━━━━━━━━━━━\u001b[0m\u001b[37m\u001b[0m \u001b[1m0s\u001b[0m 8ms/step - accuracy: 0.8173 - loss: 0.4015 - val_accuracy: 0.3711 - val_loss: 2.4933 - learning_rate: 2.5000e-04\n",
      "Epoch 11/50\n",
      "\u001b[1m47/47\u001b[0m \u001b[32m━━━━━━━━━━━━━━━━━━━━\u001b[0m\u001b[37m\u001b[0m \u001b[1m1s\u001b[0m 10ms/step - accuracy: 0.8085 - loss: 0.3768 - val_accuracy: 0.4794 - val_loss: 2.3942 - learning_rate: 1.2500e-04\n"
     ]
    },
    {
     "name": "stderr",
     "output_type": "stream",
     "text": [
      "[I 2024-05-23 23:01:37,133] Trial 99 finished with value: 0.280927836894989 and parameters: {'learning_rate': 0.0030375677653927255, 'dropout_rate': 0.261289050286266, 'num_filters': 54, 'num_layers': 2}. Best is trial 62 with value: 0.5824742317199707.\n"
     ]
    },
    {
     "name": "stdout",
     "output_type": "stream",
     "text": [
      "Best Parameters: {'learning_rate': 0.04221730792852416, 'dropout_rate': 0.010691705335831095, 'num_filters': 85, 'num_layers': 2}\n"
     ]
    }
   ],
   "source": [
    "# Run Optuna optimization\n",
    "study = optuna.create_study(direction='maximize')\n",
    "study.optimize(objective, n_trials=100)\n",
    "\n",
    "# Retrieve best parameters\n",
    "best_params = study.best_params\n",
    "print(\"Best Parameters:\", best_params)"
   ]
  },
  {
   "cell_type": "code",
   "execution_count": 38,
   "metadata": {},
   "outputs": [
    {
     "name": "stdout",
     "output_type": "stream",
     "text": [
      "Epoch 1/50\n"
     ]
    },
    {
     "name": "stderr",
     "output_type": "stream",
     "text": [
      "c:\\Python312\\Lib\\site-packages\\keras\\src\\layers\\convolutional\\base_conv.py:107: UserWarning: Do not pass an `input_shape`/`input_dim` argument to a layer. When using Sequential models, prefer using an `Input(shape)` object as the first layer in the model instead.\n",
      "  super().__init__(activity_regularizer=activity_regularizer, **kwargs)\n"
     ]
    },
    {
     "name": "stdout",
     "output_type": "stream",
     "text": [
      "\u001b[1m47/47\u001b[0m \u001b[32m━━━━━━━━━━━━━━━━━━━━\u001b[0m\u001b[37m\u001b[0m \u001b[1m2s\u001b[0m 14ms/step - accuracy: 0.5556 - loss: 4.9355 - val_accuracy: 0.7010 - val_loss: 0.6671 - learning_rate: 0.0422\n",
      "Epoch 2/50\n",
      "\u001b[1m47/47\u001b[0m \u001b[32m━━━━━━━━━━━━━━━━━━━━\u001b[0m\u001b[37m\u001b[0m \u001b[1m0s\u001b[0m 8ms/step - accuracy: 0.6600 - loss: 0.6863 - val_accuracy: 0.6985 - val_loss: 0.6307 - learning_rate: 0.0422\n",
      "Epoch 3/50\n",
      "\u001b[1m47/47\u001b[0m \u001b[32m━━━━━━━━━━━━━━━━━━━━\u001b[0m\u001b[37m\u001b[0m \u001b[1m0s\u001b[0m 8ms/step - accuracy: 0.6742 - loss: 0.8981 - val_accuracy: 0.6778 - val_loss: 0.6948 - learning_rate: 0.0422\n",
      "Epoch 4/50\n",
      "\u001b[1m47/47\u001b[0m \u001b[32m━━━━━━━━━━━━━━━━━━━━\u001b[0m\u001b[37m\u001b[0m \u001b[1m0s\u001b[0m 8ms/step - accuracy: 0.5749 - loss: 0.6949 - val_accuracy: 0.6856 - val_loss: 0.6773 - learning_rate: 0.0422\n",
      "Epoch 5/50\n",
      "\u001b[1m47/47\u001b[0m \u001b[32m━━━━━━━━━━━━━━━━━━━━\u001b[0m\u001b[37m\u001b[0m \u001b[1m0s\u001b[0m 7ms/step - accuracy: 0.6796 - loss: 0.6756 - val_accuracy: 0.6881 - val_loss: 0.6827 - learning_rate: 0.0422\n",
      "Epoch 6/50\n",
      "\u001b[1m47/47\u001b[0m \u001b[32m━━━━━━━━━━━━━━━━━━━━\u001b[0m\u001b[37m\u001b[0m \u001b[1m0s\u001b[0m 8ms/step - accuracy: 0.6506 - loss: 0.6857 - val_accuracy: 0.6856 - val_loss: 0.6841 - learning_rate: 0.0211\n",
      "Epoch 7/50\n",
      "\u001b[1m47/47\u001b[0m \u001b[32m━━━━━━━━━━━━━━━━━━━━\u001b[0m\u001b[37m\u001b[0m \u001b[1m0s\u001b[0m 9ms/step - accuracy: 0.6405 - loss: 0.6957 - val_accuracy: 0.6856 - val_loss: 0.6877 - learning_rate: 0.0211\n",
      "Epoch 8/50\n",
      "\u001b[1m47/47\u001b[0m \u001b[32m━━━━━━━━━━━━━━━━━━━━\u001b[0m\u001b[37m\u001b[0m \u001b[1m0s\u001b[0m 9ms/step - accuracy: 0.6670 - loss: 0.6794 - val_accuracy: 0.6933 - val_loss: 0.6827 - learning_rate: 0.0211\n",
      "Epoch 9/50\n",
      "\u001b[1m47/47\u001b[0m \u001b[32m━━━━━━━━━━━━━━━━━━━━\u001b[0m\u001b[37m\u001b[0m \u001b[1m0s\u001b[0m 9ms/step - accuracy: 0.6647 - loss: 0.6798 - val_accuracy: 0.6933 - val_loss: 0.6775 - learning_rate: 0.0106\n",
      "Epoch 10/50\n",
      "\u001b[1m47/47\u001b[0m \u001b[32m━━━━━━━━━━━━━━━━━━━━\u001b[0m\u001b[37m\u001b[0m \u001b[1m0s\u001b[0m 10ms/step - accuracy: 0.6904 - loss: 0.6640 - val_accuracy: 0.6959 - val_loss: 0.6805 - learning_rate: 0.0106\n",
      "Epoch 11/50\n",
      "\u001b[1m47/47\u001b[0m \u001b[32m━━━━━━━━━━━━━━━━━━━━\u001b[0m\u001b[37m\u001b[0m \u001b[1m0s\u001b[0m 9ms/step - accuracy: 0.6639 - loss: 0.6791 - val_accuracy: 0.6959 - val_loss: 0.6788 - learning_rate: 0.0106\n",
      "Epoch 12/50\n",
      "\u001b[1m47/47\u001b[0m \u001b[32m━━━━━━━━━━━━━━━━━━━━\u001b[0m\u001b[37m\u001b[0m \u001b[1m0s\u001b[0m 8ms/step - accuracy: 0.6683 - loss: 0.6812 - val_accuracy: 0.6881 - val_loss: 0.6792 - learning_rate: 0.0053\n"
     ]
    }
   ],
   "source": [
    "# Train final model with best parameters\n",
    "best_learning_rate = best_params['learning_rate']\n",
    "best_dropout_rate = best_params['dropout_rate']\n",
    "best_num_filters = best_params['num_filters']\n",
    "best_num_layers = best_params['num_layers']\n",
    "\n",
    "final_model = Sequential()\n",
    "final_model.add(Conv1D(best_num_filters, 3, activation='relu', input_shape=(time_step_length, X_train.shape[2])))\n",
    "final_model.add(MaxPooling1D(2))\n",
    "for _ in range(best_num_layers - 1):\n",
    "    final_model.add(Conv1D(best_num_filters, 3, activation='relu'))\n",
    "    final_model.add(MaxPooling1D(2))\n",
    "final_model.add(Flatten())\n",
    "final_model.add(Dense(128, activation='relu'))\n",
    "final_model.add(Dropout(best_dropout_rate))\n",
    "final_model.add(Dense(64, activation='relu'))\n",
    "final_model.add(Dropout(best_dropout_rate))\n",
    "final_model.add(Dense(1, activation='sigmoid'))\n",
    "\n",
    "final_model.compile(optimizer=Adam(learning_rate=best_learning_rate),\n",
    "                    loss='binary_crossentropy',\n",
    "                    metrics=['accuracy'])\n",
    "\n",
    " # Callbacks for learning rate adjustment and early stopping\n",
    "lr_reduction = ReduceLROnPlateau(monitor='val_loss', factor=0.5, patience=3, min_lr=1e-6)\n",
    "early_stopping = EarlyStopping(monitor='val_loss', patience=10, restore_best_weights=True)\n",
    "\n",
    "if CLASS_WEIGHTS:\n",
    "    # Train the model with class weights\n",
    "    history = final_model.fit(X_train, y_train, epochs=50, batch_size=32, validation_data=(X_test, y_test),\n",
    "                        class_weight=class_weights_dict, callbacks=[lr_reduction, early_stopping])\n",
    "else:\n",
    "    # Train the model without class weights \n",
    "    history = final_model.fit(X_train, y_train, epochs=50, batch_size=32, validation_data=(X_test, y_test),\n",
    "                    callbacks=[lr_reduction, early_stopping])"
   ]
  },
  {
   "cell_type": "code",
   "execution_count": 39,
   "metadata": {},
   "outputs": [
    {
     "name": "stdout",
     "output_type": "stream",
     "text": [
      "\u001b[1m13/13\u001b[0m \u001b[32m━━━━━━━━━━━━━━━━━━━━\u001b[0m\u001b[37m\u001b[0m \u001b[1m0s\u001b[0m 3ms/step - accuracy: 0.4189 - loss: 0.6646     \n",
      "Validation Accuracy: 0.6984536051750183\n",
      "\u001b[1m13/13\u001b[0m \u001b[32m━━━━━━━━━━━━━━━━━━━━\u001b[0m\u001b[37m\u001b[0m \u001b[1m0s\u001b[0m 7ms/step\n"
     ]
    },
    {
     "data": {
      "image/png": "[encoded data removed]",
      "text/plain": [
       "<Figure size 1200x500 with 2 Axes>"
      ]
     },
     "metadata": {},
     "output_type": "display_data"
    }
   ],
   "source": [
    "# Evaluate final model\n",
    "loss, accuracy = final_model.evaluate(X_test, y_test)\n",
    "print(\"Validation Accuracy:\", accuracy)\n",
    "\n",
    "# Evaluate the model on test data to get test predictions\n",
    "y_test_pred = (final_model.predict(X_test) > 0.5).astype(\"int32\")\n",
    "\n",
    "# Confusion matrix for test data\n",
    "test_cm = confusion_matrix(y_test, y_test_pred)\n",
    "test_cmd = ConfusionMatrixDisplay(confusion_matrix=test_cm, display_labels=label_encoder.classes_)\n",
    "\n",
    "# Plot confusion matrices\n",
    "plt.figure(figsize=(12, 5))\n",
    "test_cmd.plot(cmap=plt.cm.Blues, ax=plt.gca())\n",
    "plt.title('Test Confusion Matrix')\n",
    "\n",
    "plt.tight_layout()\n",
    "plt.show()"
   ]
  }
 ],
 "metadata": {
  "kernelspec": {
   "display_name": "Python 3",
   "language": "python",
   "name": "python3"
  },
  "language_info": {
   "codemirror_mode": {
    "name": "ipython",
    "version": 3
   },
   "file_extension": ".py",
   "mimetype": "text/x-python",
   "name": "python",
   "nbconvert_exporter": "python",
   "pygments_lexer": "ipython3",
   "version": "3.12.0"
  }
 },
 "nbformat": 4,
 "nbformat_minor": 2
}
